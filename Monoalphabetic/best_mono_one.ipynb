{
  "nbformat": 4,
  "nbformat_minor": 0,
  "metadata": {
    "colab": {
      "provenance": [],
      "machine_shape": "hm",
      "gpuType": "A100"
    },
    "kernelspec": {
      "name": "python3",
      "display_name": "Python 3"
    },
    "language_info": {
      "name": "python"
    },
    "accelerator": "GPU"
  },
  "cells": [
    {
      "cell_type": "code",
      "source": [
        "!pip install optuna"
      ],
      "metadata": {
        "colab": {
          "base_uri": "https://localhost:8080/"
        },
        "id": "4TWAn2cqwZyo",
        "outputId": "13a7b8af-dfe8-4565-e298-89d6cda1fb03"
      },
      "execution_count": null,
      "outputs": [
        {
          "output_type": "stream",
          "name": "stdout",
          "text": [
            "Collecting optuna\n",
            "  Downloading optuna-4.3.0-py3-none-any.whl.metadata (17 kB)\n",
            "Collecting alembic>=1.5.0 (from optuna)\n",
            "  Downloading alembic-1.15.2-py3-none-any.whl.metadata (7.3 kB)\n",
            "Collecting colorlog (from optuna)\n",
            "  Downloading colorlog-6.9.0-py3-none-any.whl.metadata (10 kB)\n",
            "Requirement already satisfied: numpy in /usr/local/lib/python3.11/dist-packages (from optuna) (2.0.2)\n",
            "Requirement already satisfied: packaging>=20.0 in /usr/local/lib/python3.11/dist-packages (from optuna) (24.2)\n",
            "Requirement already satisfied: sqlalchemy>=1.4.2 in /usr/local/lib/python3.11/dist-packages (from optuna) (2.0.40)\n",
            "Requirement already satisfied: tqdm in /usr/local/lib/python3.11/dist-packages (from optuna) (4.67.1)\n",
            "Requirement already satisfied: PyYAML in /usr/local/lib/python3.11/dist-packages (from optuna) (6.0.2)\n",
            "Requirement already satisfied: Mako in /usr/lib/python3/dist-packages (from alembic>=1.5.0->optuna) (1.1.3)\n",
            "Requirement already satisfied: typing-extensions>=4.12 in /usr/local/lib/python3.11/dist-packages (from alembic>=1.5.0->optuna) (4.13.2)\n",
            "Requirement already satisfied: greenlet>=1 in /usr/local/lib/python3.11/dist-packages (from sqlalchemy>=1.4.2->optuna) (3.2.1)\n",
            "Downloading optuna-4.3.0-py3-none-any.whl (386 kB)\n",
            "\u001b[2K   \u001b[90m━━━━━━━━━━━━━━━━━━━━━━━━━━━━━━━━━━━━━━━━\u001b[0m \u001b[32m386.6/386.6 kB\u001b[0m \u001b[31m8.2 MB/s\u001b[0m eta \u001b[36m0:00:00\u001b[0m\n",
            "\u001b[?25hDownloading alembic-1.15.2-py3-none-any.whl (231 kB)\n",
            "\u001b[2K   \u001b[90m━━━━━━━━━━━━━━━━━━━━━━━━━━━━━━━━━━━━━━━━\u001b[0m \u001b[32m231.9/231.9 kB\u001b[0m \u001b[31m23.2 MB/s\u001b[0m eta \u001b[36m0:00:00\u001b[0m\n",
            "\u001b[?25hDownloading colorlog-6.9.0-py3-none-any.whl (11 kB)\n",
            "Installing collected packages: colorlog, alembic, optuna\n",
            "Successfully installed alembic-1.15.2 colorlog-6.9.0 optuna-4.3.0\n"
          ]
        }
      ]
    },
    {
      "cell_type": "code",
      "execution_count": null,
      "metadata": {
        "colab": {
          "base_uri": "https://localhost:8080/"
        },
        "id": "Ucp9PmLyvUCa",
        "outputId": "ae5cc79b-f8c1-4b28-a6c7-0e96c9de68f9"
      },
      "outputs": [
        {
          "output_type": "stream",
          "name": "stdout",
          "text": [
            "Using device: cuda\n"
          ]
        },
        {
          "output_type": "stream",
          "name": "stderr",
          "text": [
            "[I 2025-05-09 12:35:10,533] A new study created in memory with name: no-name-de230b32-87ef-4e78-816b-621a26e25328\n",
            "Training: 100%|██████████| 50/50 [00:10<00:00,  4.71it/s]\n",
            "Evaluating: 100%|██████████| 13/13 [00:00<00:00, 16.50it/s]\n"
          ]
        },
        {
          "output_type": "stream",
          "name": "stdout",
          "text": [
            "Epoch 1/10:\n",
            "Train Loss: 2.8700 | Val Loss: 2.3192\n"
          ]
        },
        {
          "output_type": "stream",
          "name": "stderr",
          "text": [
            "Training: 100%|██████████| 50/50 [00:10<00:00,  4.93it/s]\n",
            "Evaluating: 100%|██████████| 13/13 [00:00<00:00, 16.53it/s]\n"
          ]
        },
        {
          "output_type": "stream",
          "name": "stdout",
          "text": [
            "Epoch 2/10:\n",
            "Train Loss: 2.2138 | Val Loss: 2.0697\n"
          ]
        },
        {
          "output_type": "stream",
          "name": "stderr",
          "text": [
            "Training: 100%|██████████| 50/50 [00:10<00:00,  4.93it/s]\n",
            "Evaluating: 100%|██████████| 13/13 [00:00<00:00, 16.56it/s]\n"
          ]
        },
        {
          "output_type": "stream",
          "name": "stdout",
          "text": [
            "Epoch 3/10:\n",
            "Train Loss: 2.0429 | Val Loss: 1.9272\n"
          ]
        },
        {
          "output_type": "stream",
          "name": "stderr",
          "text": [
            "Training: 100%|██████████| 50/50 [00:10<00:00,  4.93it/s]\n",
            "Evaluating: 100%|██████████| 13/13 [00:00<00:00, 16.55it/s]\n"
          ]
        },
        {
          "output_type": "stream",
          "name": "stdout",
          "text": [
            "Epoch 4/10:\n",
            "Train Loss: 1.9430 | Val Loss: 1.8455\n"
          ]
        },
        {
          "output_type": "stream",
          "name": "stderr",
          "text": [
            "Training: 100%|██████████| 50/50 [00:10<00:00,  4.94it/s]\n",
            "Evaluating: 100%|██████████| 13/13 [00:00<00:00, 16.56it/s]\n"
          ]
        },
        {
          "output_type": "stream",
          "name": "stdout",
          "text": [
            "Epoch 5/10:\n",
            "Train Loss: 1.8539 | Val Loss: 1.7363\n"
          ]
        },
        {
          "output_type": "stream",
          "name": "stderr",
          "text": [
            "Training: 100%|██████████| 50/50 [00:10<00:00,  4.94it/s]\n",
            "Evaluating: 100%|██████████| 13/13 [00:00<00:00, 16.56it/s]\n"
          ]
        },
        {
          "output_type": "stream",
          "name": "stdout",
          "text": [
            "Epoch 6/10:\n",
            "Train Loss: 1.7437 | Val Loss: 1.6059\n"
          ]
        },
        {
          "output_type": "stream",
          "name": "stderr",
          "text": [
            "Training: 100%|██████████| 50/50 [00:10<00:00,  4.94it/s]\n",
            "Evaluating: 100%|██████████| 13/13 [00:00<00:00, 16.54it/s]\n"
          ]
        },
        {
          "output_type": "stream",
          "name": "stdout",
          "text": [
            "Epoch 7/10:\n",
            "Train Loss: 1.5875 | Val Loss: 1.3927\n"
          ]
        },
        {
          "output_type": "stream",
          "name": "stderr",
          "text": [
            "Training: 100%|██████████| 50/50 [00:10<00:00,  4.94it/s]\n",
            "Evaluating: 100%|██████████| 13/13 [00:00<00:00, 16.50it/s]\n"
          ]
        },
        {
          "output_type": "stream",
          "name": "stdout",
          "text": [
            "Epoch 8/10:\n",
            "Train Loss: 1.4265 | Val Loss: 1.2691\n"
          ]
        },
        {
          "output_type": "stream",
          "name": "stderr",
          "text": [
            "Training: 100%|██████████| 50/50 [00:10<00:00,  4.94it/s]\n",
            "Evaluating: 100%|██████████| 13/13 [00:00<00:00, 16.41it/s]\n"
          ]
        },
        {
          "output_type": "stream",
          "name": "stdout",
          "text": [
            "Epoch 9/10:\n",
            "Train Loss: 1.3062 | Val Loss: 1.1090\n"
          ]
        },
        {
          "output_type": "stream",
          "name": "stderr",
          "text": [
            "Training: 100%|██████████| 50/50 [00:10<00:00,  4.93it/s]\n",
            "Evaluating: 100%|██████████| 13/13 [00:00<00:00, 16.53it/s]\n"
          ]
        },
        {
          "output_type": "stream",
          "name": "stdout",
          "text": [
            "Epoch 10/10:\n",
            "Train Loss: 1.1924 | Val Loss: 0.9924\n"
          ]
        },
        {
          "output_type": "stream",
          "name": "stderr",
          "text": [
            "[I 2025-05-09 12:37:01,934] Trial 0 finished with value: 0.992371930525853 and parameters: {'d_model': 256, 'num_heads': 16, 'num_layers': 8, 'd_ff': 1024, 'dropout': 0.19252646588087544, 'learning_rate': 0.00010672067372427402, 'batch_size': 32}. Best is trial 0 with value: 0.992371930525853.\n"
          ]
        },
        {
          "output_type": "stream",
          "name": "stdout",
          "text": [
            "New best model found! Val Loss: 0.9924\n",
            "Config: {'d_model': 256, 'num_heads': 16, 'num_layers': 8, 'd_ff': 1024, 'dropout': 0.19252646588087544, 'learning_rate': 0.00010672067372427402, 'batch_size': 32}\n"
          ]
        },
        {
          "output_type": "stream",
          "name": "stderr",
          "text": [
            "Training: 100%|██████████| 50/50 [00:04<00:00, 11.94it/s]\n",
            "Evaluating: 100%|██████████| 13/13 [00:00<00:00, 41.27it/s]\n"
          ]
        },
        {
          "output_type": "stream",
          "name": "stdout",
          "text": [
            "Epoch 1/10:\n",
            "Train Loss: 3.1799 | Val Loss: 2.4916\n"
          ]
        },
        {
          "output_type": "stream",
          "name": "stderr",
          "text": [
            "Training: 100%|██████████| 50/50 [00:04<00:00, 12.16it/s]\n",
            "Evaluating: 100%|██████████| 13/13 [00:00<00:00, 40.72it/s]\n"
          ]
        },
        {
          "output_type": "stream",
          "name": "stdout",
          "text": [
            "Epoch 2/10:\n",
            "Train Loss: 2.3660 | Val Loss: 2.1764\n"
          ]
        },
        {
          "output_type": "stream",
          "name": "stderr",
          "text": [
            "Training: 100%|██████████| 50/50 [00:04<00:00, 11.84it/s]\n",
            "Evaluating: 100%|██████████| 13/13 [00:00<00:00, 42.33it/s]\n"
          ]
        },
        {
          "output_type": "stream",
          "name": "stdout",
          "text": [
            "Epoch 3/10:\n",
            "Train Loss: 2.1503 | Val Loss: 2.0101\n"
          ]
        },
        {
          "output_type": "stream",
          "name": "stderr",
          "text": [
            "Training: 100%|██████████| 50/50 [00:04<00:00, 12.17it/s]\n",
            "Evaluating: 100%|██████████| 13/13 [00:00<00:00, 41.89it/s]\n"
          ]
        },
        {
          "output_type": "stream",
          "name": "stdout",
          "text": [
            "Epoch 4/10:\n",
            "Train Loss: 1.9811 | Val Loss: 1.7846\n"
          ]
        },
        {
          "output_type": "stream",
          "name": "stderr",
          "text": [
            "Training: 100%|██████████| 50/50 [00:04<00:00, 12.02it/s]\n",
            "Evaluating: 100%|██████████| 13/13 [00:00<00:00, 42.41it/s]\n"
          ]
        },
        {
          "output_type": "stream",
          "name": "stdout",
          "text": [
            "Epoch 5/10:\n",
            "Train Loss: 1.7854 | Val Loss: 1.5472\n"
          ]
        },
        {
          "output_type": "stream",
          "name": "stderr",
          "text": [
            "Training: 100%|██████████| 50/50 [00:04<00:00, 12.08it/s]\n",
            "Evaluating: 100%|██████████| 13/13 [00:00<00:00, 41.32it/s]\n"
          ]
        },
        {
          "output_type": "stream",
          "name": "stdout",
          "text": [
            "Epoch 6/10:\n",
            "Train Loss: 1.6016 | Val Loss: 1.3015\n"
          ]
        },
        {
          "output_type": "stream",
          "name": "stderr",
          "text": [
            "Training: 100%|██████████| 50/50 [00:04<00:00, 11.96it/s]\n",
            "Evaluating: 100%|██████████| 13/13 [00:00<00:00, 39.40it/s]\n"
          ]
        },
        {
          "output_type": "stream",
          "name": "stdout",
          "text": [
            "Epoch 7/10:\n",
            "Train Loss: 1.4420 | Val Loss: 1.1434\n"
          ]
        },
        {
          "output_type": "stream",
          "name": "stderr",
          "text": [
            "Training: 100%|██████████| 50/50 [00:04<00:00, 12.18it/s]\n",
            "Evaluating: 100%|██████████| 13/13 [00:00<00:00, 42.00it/s]\n"
          ]
        },
        {
          "output_type": "stream",
          "name": "stdout",
          "text": [
            "Epoch 8/10:\n",
            "Train Loss: 1.3072 | Val Loss: 1.0047\n"
          ]
        },
        {
          "output_type": "stream",
          "name": "stderr",
          "text": [
            "Training: 100%|██████████| 50/50 [00:04<00:00, 11.93it/s]\n",
            "Evaluating: 100%|██████████| 13/13 [00:00<00:00, 41.92it/s]\n"
          ]
        },
        {
          "output_type": "stream",
          "name": "stdout",
          "text": [
            "Epoch 9/10:\n",
            "Train Loss: 1.1786 | Val Loss: 0.8300\n"
          ]
        },
        {
          "output_type": "stream",
          "name": "stderr",
          "text": [
            "Training: 100%|██████████| 50/50 [00:04<00:00, 12.02it/s]\n",
            "Evaluating: 100%|██████████| 13/13 [00:00<00:00, 42.26it/s]\n",
            "[I 2025-05-09 12:37:46,912] Trial 1 finished with value: 0.7493924819506131 and parameters: {'d_model': 128, 'num_heads': 2, 'num_layers': 10, 'd_ff': 256, 'dropout': 0.20140947311797008, 'learning_rate': 0.0002546183452891027, 'batch_size': 32}. Best is trial 1 with value: 0.7493924819506131.\n"
          ]
        },
        {
          "output_type": "stream",
          "name": "stdout",
          "text": [
            "Epoch 10/10:\n",
            "Train Loss: 1.0750 | Val Loss: 0.7494\n",
            "New best model found! Val Loss: 0.7494\n",
            "Config: {'d_model': 128, 'num_heads': 2, 'num_layers': 10, 'd_ff': 256, 'dropout': 0.20140947311797008, 'learning_rate': 0.0002546183452891027, 'batch_size': 32}\n"
          ]
        },
        {
          "output_type": "stream",
          "name": "stderr",
          "text": [
            "Training: 100%|██████████| 50/50 [00:03<00:00, 14.80it/s]\n",
            "Evaluating: 100%|██████████| 13/13 [00:00<00:00, 49.56it/s]\n"
          ]
        },
        {
          "output_type": "stream",
          "name": "stdout",
          "text": [
            "Epoch 1/10:\n",
            "Train Loss: 2.9318 | Val Loss: 2.3828\n"
          ]
        },
        {
          "output_type": "stream",
          "name": "stderr",
          "text": [
            "Training: 100%|██████████| 50/50 [00:03<00:00, 14.83it/s]\n",
            "Evaluating: 100%|██████████| 13/13 [00:00<00:00, 49.89it/s]\n"
          ]
        },
        {
          "output_type": "stream",
          "name": "stdout",
          "text": [
            "Epoch 2/10:\n",
            "Train Loss: 2.2931 | Val Loss: 2.1576\n"
          ]
        },
        {
          "output_type": "stream",
          "name": "stderr",
          "text": [
            "Training: 100%|██████████| 50/50 [00:03<00:00, 14.75it/s]\n",
            "Evaluating: 100%|██████████| 13/13 [00:00<00:00, 49.38it/s]\n"
          ]
        },
        {
          "output_type": "stream",
          "name": "stdout",
          "text": [
            "Epoch 3/10:\n",
            "Train Loss: 2.1031 | Val Loss: 1.9642\n"
          ]
        },
        {
          "output_type": "stream",
          "name": "stderr",
          "text": [
            "Training: 100%|██████████| 50/50 [00:03<00:00, 14.76it/s]\n",
            "Evaluating: 100%|██████████| 13/13 [00:00<00:00, 49.17it/s]\n"
          ]
        },
        {
          "output_type": "stream",
          "name": "stdout",
          "text": [
            "Epoch 4/10:\n",
            "Train Loss: 1.8337 | Val Loss: 1.5191\n"
          ]
        },
        {
          "output_type": "stream",
          "name": "stderr",
          "text": [
            "Training: 100%|██████████| 50/50 [00:03<00:00, 14.49it/s]\n",
            "Evaluating: 100%|██████████| 13/13 [00:00<00:00, 49.94it/s]\n"
          ]
        },
        {
          "output_type": "stream",
          "name": "stdout",
          "text": [
            "Epoch 5/10:\n",
            "Train Loss: 1.5035 | Val Loss: 1.2301\n"
          ]
        },
        {
          "output_type": "stream",
          "name": "stderr",
          "text": [
            "Training: 100%|██████████| 50/50 [00:03<00:00, 14.89it/s]\n",
            "Evaluating: 100%|██████████| 13/13 [00:00<00:00, 49.02it/s]\n"
          ]
        },
        {
          "output_type": "stream",
          "name": "stdout",
          "text": [
            "Epoch 6/10:\n",
            "Train Loss: 1.2432 | Val Loss: 0.9291\n"
          ]
        },
        {
          "output_type": "stream",
          "name": "stderr",
          "text": [
            "Training: 100%|██████████| 50/50 [00:03<00:00, 14.90it/s]\n",
            "Evaluating: 100%|██████████| 13/13 [00:00<00:00, 49.79it/s]\n"
          ]
        },
        {
          "output_type": "stream",
          "name": "stdout",
          "text": [
            "Epoch 7/10:\n",
            "Train Loss: 1.0557 | Val Loss: 0.6986\n"
          ]
        },
        {
          "output_type": "stream",
          "name": "stderr",
          "text": [
            "Training: 100%|██████████| 50/50 [00:03<00:00, 14.73it/s]\n",
            "Evaluating: 100%|██████████| 13/13 [00:00<00:00, 49.15it/s]\n"
          ]
        },
        {
          "output_type": "stream",
          "name": "stdout",
          "text": [
            "Epoch 8/10:\n",
            "Train Loss: 0.9063 | Val Loss: 0.5917\n"
          ]
        },
        {
          "output_type": "stream",
          "name": "stderr",
          "text": [
            "Training: 100%|██████████| 50/50 [00:03<00:00, 14.82it/s]\n",
            "Evaluating: 100%|██████████| 13/13 [00:00<00:00, 49.30it/s]\n"
          ]
        },
        {
          "output_type": "stream",
          "name": "stdout",
          "text": [
            "Epoch 9/10:\n",
            "Train Loss: 0.7943 | Val Loss: 0.5300\n"
          ]
        },
        {
          "output_type": "stream",
          "name": "stderr",
          "text": [
            "Training: 100%|██████████| 50/50 [00:03<00:00, 14.76it/s]\n",
            "Evaluating: 100%|██████████| 13/13 [00:00<00:00, 50.00it/s]\n",
            "[I 2025-05-09 12:38:23,602] Trial 2 finished with value: 0.47525370808748096 and parameters: {'d_model': 128, 'num_heads': 2, 'num_layers': 8, 'd_ff': 256, 'dropout': 0.2199004951707324, 'learning_rate': 0.0007729262990210787, 'batch_size': 32}. Best is trial 2 with value: 0.47525370808748096.\n"
          ]
        },
        {
          "output_type": "stream",
          "name": "stdout",
          "text": [
            "Epoch 10/10:\n",
            "Train Loss: 0.7103 | Val Loss: 0.4753\n",
            "New best model found! Val Loss: 0.4753\n",
            "Config: {'d_model': 128, 'num_heads': 2, 'num_layers': 8, 'd_ff': 256, 'dropout': 0.2199004951707324, 'learning_rate': 0.0007729262990210787, 'batch_size': 32}\n"
          ]
        },
        {
          "output_type": "stream",
          "name": "stderr",
          "text": [
            "Training: 100%|██████████| 50/50 [00:11<00:00,  4.45it/s]\n",
            "Evaluating: 100%|██████████| 13/13 [00:00<00:00, 13.43it/s]\n"
          ]
        },
        {
          "output_type": "stream",
          "name": "stdout",
          "text": [
            "Epoch 1/10:\n",
            "Train Loss: 3.2118 | Val Loss: 3.0061\n"
          ]
        },
        {
          "output_type": "stream",
          "name": "stderr",
          "text": [
            "Training: 100%|██████████| 50/50 [00:11<00:00,  4.45it/s]\n",
            "Evaluating: 100%|██████████| 13/13 [00:00<00:00, 13.46it/s]\n"
          ]
        },
        {
          "output_type": "stream",
          "name": "stdout",
          "text": [
            "Epoch 2/10:\n",
            "Train Loss: 3.0048 | Val Loss: 2.9922\n"
          ]
        },
        {
          "output_type": "stream",
          "name": "stderr",
          "text": [
            "Training: 100%|██████████| 50/50 [00:11<00:00,  4.45it/s]\n",
            "Evaluating: 100%|██████████| 13/13 [00:00<00:00, 13.43it/s]\n"
          ]
        },
        {
          "output_type": "stream",
          "name": "stdout",
          "text": [
            "Epoch 3/10:\n",
            "Train Loss: 2.9940 | Val Loss: 2.9911\n"
          ]
        },
        {
          "output_type": "stream",
          "name": "stderr",
          "text": [
            "Training: 100%|██████████| 50/50 [00:11<00:00,  4.45it/s]\n",
            "Evaluating: 100%|██████████| 13/13 [00:00<00:00, 13.43it/s]\n"
          ]
        },
        {
          "output_type": "stream",
          "name": "stdout",
          "text": [
            "Epoch 4/10:\n",
            "Train Loss: 2.9881 | Val Loss: 2.9926\n"
          ]
        },
        {
          "output_type": "stream",
          "name": "stderr",
          "text": [
            "Training: 100%|██████████| 50/50 [00:11<00:00,  4.45it/s]\n",
            "Evaluating: 100%|██████████| 13/13 [00:00<00:00, 13.41it/s]\n"
          ]
        },
        {
          "output_type": "stream",
          "name": "stdout",
          "text": [
            "Epoch 5/10:\n",
            "Train Loss: 2.9825 | Val Loss: 2.9847\n"
          ]
        },
        {
          "output_type": "stream",
          "name": "stderr",
          "text": [
            "Training: 100%|██████████| 50/50 [00:11<00:00,  4.45it/s]\n",
            "Evaluating: 100%|██████████| 13/13 [00:00<00:00, 13.44it/s]\n"
          ]
        },
        {
          "output_type": "stream",
          "name": "stdout",
          "text": [
            "Epoch 6/10:\n",
            "Train Loss: 2.9789 | Val Loss: 2.9830\n"
          ]
        },
        {
          "output_type": "stream",
          "name": "stderr",
          "text": [
            "Training: 100%|██████████| 50/50 [00:11<00:00,  4.45it/s]\n",
            "Evaluating: 100%|██████████| 13/13 [00:00<00:00, 13.44it/s]\n"
          ]
        },
        {
          "output_type": "stream",
          "name": "stdout",
          "text": [
            "Epoch 7/10:\n",
            "Train Loss: 2.9769 | Val Loss: 2.9838\n"
          ]
        },
        {
          "output_type": "stream",
          "name": "stderr",
          "text": [
            "Training: 100%|██████████| 50/50 [00:11<00:00,  4.44it/s]\n",
            "Evaluating: 100%|██████████| 13/13 [00:00<00:00, 13.43it/s]\n"
          ]
        },
        {
          "output_type": "stream",
          "name": "stdout",
          "text": [
            "Epoch 8/10:\n",
            "Train Loss: 2.9765 | Val Loss: 2.9840\n"
          ]
        },
        {
          "output_type": "stream",
          "name": "stderr",
          "text": [
            "Training: 100%|██████████| 50/50 [00:11<00:00,  4.45it/s]\n",
            "Evaluating: 100%|██████████| 13/13 [00:00<00:00, 13.44it/s]\n"
          ]
        },
        {
          "output_type": "stream",
          "name": "stdout",
          "text": [
            "Epoch 9/10:\n",
            "Train Loss: 2.9765 | Val Loss: 2.9817\n"
          ]
        },
        {
          "output_type": "stream",
          "name": "stderr",
          "text": [
            "Training: 100%|██████████| 50/50 [00:11<00:00,  4.45it/s]\n",
            "Evaluating: 100%|██████████| 13/13 [00:00<00:00, 13.43it/s]\n",
            "[I 2025-05-09 12:40:26,026] Trial 3 finished with value: 2.981670489678016 and parameters: {'d_model': 512, 'num_heads': 16, 'num_layers': 8, 'd_ff': 256, 'dropout': 0.12034323071170186, 'learning_rate': 0.003460416943792857, 'batch_size': 32}. Best is trial 2 with value: 0.47525370808748096.\n"
          ]
        },
        {
          "output_type": "stream",
          "name": "stdout",
          "text": [
            "Epoch 10/10:\n",
            "Train Loss: 2.9759 | Val Loss: 2.9822\n"
          ]
        },
        {
          "output_type": "stream",
          "name": "stderr",
          "text": [
            "Training: 100%|██████████| 50/50 [00:05<00:00,  9.15it/s]\n",
            "Evaluating: 100%|██████████| 13/13 [00:00<00:00, 25.85it/s]\n"
          ]
        },
        {
          "output_type": "stream",
          "name": "stdout",
          "text": [
            "Epoch 1/10:\n",
            "Train Loss: 3.0856 | Val Loss: 3.0033\n"
          ]
        },
        {
          "output_type": "stream",
          "name": "stderr",
          "text": [
            "Training: 100%|██████████| 50/50 [00:05<00:00,  9.23it/s]\n",
            "Evaluating: 100%|██████████| 13/13 [00:00<00:00, 26.02it/s]\n"
          ]
        },
        {
          "output_type": "stream",
          "name": "stdout",
          "text": [
            "Epoch 2/10:\n",
            "Train Loss: 2.9878 | Val Loss: 3.0008\n"
          ]
        },
        {
          "output_type": "stream",
          "name": "stderr",
          "text": [
            "Training: 100%|██████████| 50/50 [00:05<00:00,  8.99it/s]\n",
            "Evaluating: 100%|██████████| 13/13 [00:00<00:00, 25.86it/s]\n"
          ]
        },
        {
          "output_type": "stream",
          "name": "stdout",
          "text": [
            "Epoch 3/10:\n",
            "Train Loss: 2.9818 | Val Loss: 2.9949\n"
          ]
        },
        {
          "output_type": "stream",
          "name": "stderr",
          "text": [
            "Training: 100%|██████████| 50/50 [00:05<00:00,  9.22it/s]\n",
            "Evaluating: 100%|██████████| 13/13 [00:00<00:00, 25.39it/s]\n"
          ]
        },
        {
          "output_type": "stream",
          "name": "stdout",
          "text": [
            "Epoch 4/10:\n",
            "Train Loss: 2.9794 | Val Loss: 2.9933\n"
          ]
        },
        {
          "output_type": "stream",
          "name": "stderr",
          "text": [
            "Training: 100%|██████████| 50/50 [00:05<00:00,  9.21it/s]\n",
            "Evaluating: 100%|██████████| 13/13 [00:00<00:00, 25.84it/s]\n"
          ]
        },
        {
          "output_type": "stream",
          "name": "stdout",
          "text": [
            "Epoch 5/10:\n",
            "Train Loss: 2.9792 | Val Loss: 2.9946\n"
          ]
        },
        {
          "output_type": "stream",
          "name": "stderr",
          "text": [
            "Training: 100%|██████████| 50/50 [00:05<00:00,  9.23it/s]\n",
            "Evaluating: 100%|██████████| 13/13 [00:00<00:00, 26.02it/s]\n"
          ]
        },
        {
          "output_type": "stream",
          "name": "stdout",
          "text": [
            "Epoch 6/10:\n",
            "Train Loss: 2.9788 | Val Loss: 2.9849\n"
          ]
        },
        {
          "output_type": "stream",
          "name": "stderr",
          "text": [
            "Training: 100%|██████████| 50/50 [00:05<00:00,  9.20it/s]\n",
            "Evaluating: 100%|██████████| 13/13 [00:00<00:00, 25.81it/s]\n"
          ]
        },
        {
          "output_type": "stream",
          "name": "stdout",
          "text": [
            "Epoch 7/10:\n",
            "Train Loss: 2.9785 | Val Loss: 2.9839\n"
          ]
        },
        {
          "output_type": "stream",
          "name": "stderr",
          "text": [
            "Training: 100%|██████████| 50/50 [00:05<00:00,  9.22it/s]\n",
            "Evaluating: 100%|██████████| 13/13 [00:00<00:00, 25.74it/s]\n"
          ]
        },
        {
          "output_type": "stream",
          "name": "stdout",
          "text": [
            "Epoch 8/10:\n",
            "Train Loss: 2.9765 | Val Loss: 2.9836\n"
          ]
        },
        {
          "output_type": "stream",
          "name": "stderr",
          "text": [
            "Training: 100%|██████████| 50/50 [00:05<00:00,  9.19it/s]\n",
            "Evaluating: 100%|██████████| 13/13 [00:00<00:00, 25.69it/s]\n"
          ]
        },
        {
          "output_type": "stream",
          "name": "stdout",
          "text": [
            "Epoch 9/10:\n",
            "Train Loss: 2.9769 | Val Loss: 2.9857\n"
          ]
        },
        {
          "output_type": "stream",
          "name": "stderr",
          "text": [
            "Training: 100%|██████████| 50/50 [00:05<00:00,  9.17it/s]\n",
            "Evaluating: 100%|██████████| 13/13 [00:00<00:00, 25.90it/s]\n",
            "[I 2025-05-09 12:41:25,682] Trial 4 finished with value: 2.9836441370157094 and parameters: {'d_model': 128, 'num_heads': 8, 'num_layers': 10, 'd_ff': 512, 'dropout': 0.2669365664281005, 'learning_rate': 0.009842588166991358, 'batch_size': 32}. Best is trial 2 with value: 0.47525370808748096.\n"
          ]
        },
        {
          "output_type": "stream",
          "name": "stdout",
          "text": [
            "Epoch 10/10:\n",
            "Train Loss: 2.9762 | Val Loss: 2.9908\n"
          ]
        },
        {
          "output_type": "stream",
          "name": "stderr",
          "text": [
            "Training: 100%|██████████| 50/50 [00:07<00:00,  6.41it/s]\n",
            "Evaluating: 100%|██████████| 13/13 [00:00<00:00, 19.15it/s]\n"
          ]
        },
        {
          "output_type": "stream",
          "name": "stdout",
          "text": [
            "Epoch 1/10:\n",
            "Train Loss: 3.1155 | Val Loss: 2.9967\n"
          ]
        },
        {
          "output_type": "stream",
          "name": "stderr",
          "text": [
            "Training: 100%|██████████| 50/50 [00:07<00:00,  6.40it/s]\n",
            "Evaluating: 100%|██████████| 13/13 [00:00<00:00, 19.04it/s]\n"
          ]
        },
        {
          "output_type": "stream",
          "name": "stdout",
          "text": [
            "Epoch 2/10:\n",
            "Train Loss: 2.9986 | Val Loss: 2.9845\n"
          ]
        },
        {
          "output_type": "stream",
          "name": "stderr",
          "text": [
            "Training: 100%|██████████| 50/50 [00:07<00:00,  6.41it/s]\n",
            "Evaluating: 100%|██████████| 13/13 [00:00<00:00, 18.83it/s]\n"
          ]
        },
        {
          "output_type": "stream",
          "name": "stdout",
          "text": [
            "Epoch 3/10:\n",
            "Train Loss: 2.9921 | Val Loss: 2.9831\n"
          ]
        },
        {
          "output_type": "stream",
          "name": "stderr",
          "text": [
            "Training: 100%|██████████| 50/50 [00:07<00:00,  6.42it/s]\n",
            "Evaluating: 100%|██████████| 13/13 [00:00<00:00, 19.09it/s]\n"
          ]
        },
        {
          "output_type": "stream",
          "name": "stdout",
          "text": [
            "Epoch 4/10:\n",
            "Train Loss: 2.9898 | Val Loss: 2.9845\n"
          ]
        },
        {
          "output_type": "stream",
          "name": "stderr",
          "text": [
            "Training: 100%|██████████| 50/50 [00:07<00:00,  6.41it/s]\n",
            "Evaluating: 100%|██████████| 13/13 [00:00<00:00, 19.06it/s]\n"
          ]
        },
        {
          "output_type": "stream",
          "name": "stdout",
          "text": [
            "Epoch 5/10:\n",
            "Train Loss: 2.9850 | Val Loss: 2.9867\n"
          ]
        },
        {
          "output_type": "stream",
          "name": "stderr",
          "text": [
            "Training: 100%|██████████| 50/50 [00:07<00:00,  6.43it/s]\n",
            "Evaluating: 100%|██████████| 13/13 [00:00<00:00, 19.04it/s]\n"
          ]
        },
        {
          "output_type": "stream",
          "name": "stdout",
          "text": [
            "Epoch 6/10:\n",
            "Train Loss: 2.9842 | Val Loss: 2.9817\n"
          ]
        },
        {
          "output_type": "stream",
          "name": "stderr",
          "text": [
            "Training: 100%|██████████| 50/50 [00:07<00:00,  6.41it/s]\n",
            "Evaluating: 100%|██████████| 13/13 [00:00<00:00, 19.08it/s]\n"
          ]
        },
        {
          "output_type": "stream",
          "name": "stdout",
          "text": [
            "Epoch 7/10:\n",
            "Train Loss: 2.9806 | Val Loss: 3.0087\n"
          ]
        },
        {
          "output_type": "stream",
          "name": "stderr",
          "text": [
            "Training: 100%|██████████| 50/50 [00:07<00:00,  6.41it/s]\n",
            "Evaluating: 100%|██████████| 13/13 [00:00<00:00, 19.12it/s]\n"
          ]
        },
        {
          "output_type": "stream",
          "name": "stdout",
          "text": [
            "Epoch 8/10:\n",
            "Train Loss: 2.9679 | Val Loss: 3.1108\n"
          ]
        },
        {
          "output_type": "stream",
          "name": "stderr",
          "text": [
            "Training: 100%|██████████| 50/50 [00:07<00:00,  6.40it/s]\n",
            "Evaluating: 100%|██████████| 13/13 [00:00<00:00, 19.08it/s]\n",
            "[I 2025-05-09 12:42:42,403] Trial 5 finished with value: 2.981669829441951 and parameters: {'d_model': 512, 'num_heads': 4, 'num_layers': 8, 'd_ff': 256, 'dropout': 0.21281529558765225, 'learning_rate': 0.0007625665351575371, 'batch_size': 32}. Best is trial 2 with value: 0.47525370808748096.\n"
          ]
        },
        {
          "output_type": "stream",
          "name": "stdout",
          "text": [
            "Epoch 9/10:\n",
            "Train Loss: 2.9521 | Val Loss: 3.3982\n",
            "Early stopping triggered!\n"
          ]
        },
        {
          "output_type": "stream",
          "name": "stderr",
          "text": [
            "Training: 100%|██████████| 50/50 [00:07<00:00,  6.90it/s]\n",
            "Evaluating: 100%|██████████| 13/13 [00:00<00:00, 19.99it/s]\n"
          ]
        },
        {
          "output_type": "stream",
          "name": "stdout",
          "text": [
            "Epoch 1/10:\n",
            "Train Loss: 3.1924 | Val Loss: 2.6445\n"
          ]
        },
        {
          "output_type": "stream",
          "name": "stderr",
          "text": [
            "Training: 100%|██████████| 50/50 [00:07<00:00,  6.88it/s]\n",
            "Evaluating: 100%|██████████| 13/13 [00:00<00:00, 19.96it/s]\n"
          ]
        },
        {
          "output_type": "stream",
          "name": "stdout",
          "text": [
            "Epoch 2/10:\n",
            "Train Loss: 2.4937 | Val Loss: 2.3269\n"
          ]
        },
        {
          "output_type": "stream",
          "name": "stderr",
          "text": [
            "Training: 100%|██████████| 50/50 [00:07<00:00,  6.84it/s]\n",
            "Evaluating: 100%|██████████| 13/13 [00:00<00:00, 19.94it/s]\n"
          ]
        },
        {
          "output_type": "stream",
          "name": "stdout",
          "text": [
            "Epoch 3/10:\n",
            "Train Loss: 2.2596 | Val Loss: 2.1543\n"
          ]
        },
        {
          "output_type": "stream",
          "name": "stderr",
          "text": [
            "Training: 100%|██████████| 50/50 [00:07<00:00,  6.90it/s]\n",
            "Evaluating: 100%|██████████| 13/13 [00:00<00:00, 20.03it/s]\n"
          ]
        },
        {
          "output_type": "stream",
          "name": "stdout",
          "text": [
            "Epoch 4/10:\n",
            "Train Loss: 2.1194 | Val Loss: 2.0370\n"
          ]
        },
        {
          "output_type": "stream",
          "name": "stderr",
          "text": [
            "Training: 100%|██████████| 50/50 [00:07<00:00,  6.88it/s]\n",
            "Evaluating: 100%|██████████| 13/13 [00:00<00:00, 20.01it/s]\n"
          ]
        },
        {
          "output_type": "stream",
          "name": "stdout",
          "text": [
            "Epoch 5/10:\n",
            "Train Loss: 2.0213 | Val Loss: 1.9411\n"
          ]
        },
        {
          "output_type": "stream",
          "name": "stderr",
          "text": [
            "Training: 100%|██████████| 50/50 [00:07<00:00,  6.89it/s]\n",
            "Evaluating: 100%|██████████| 13/13 [00:00<00:00, 19.81it/s]\n"
          ]
        },
        {
          "output_type": "stream",
          "name": "stdout",
          "text": [
            "Epoch 6/10:\n",
            "Train Loss: 1.9374 | Val Loss: 1.8557\n"
          ]
        },
        {
          "output_type": "stream",
          "name": "stderr",
          "text": [
            "Training: 100%|██████████| 50/50 [00:07<00:00,  6.89it/s]\n",
            "Evaluating: 100%|██████████| 13/13 [00:00<00:00, 20.02it/s]\n"
          ]
        },
        {
          "output_type": "stream",
          "name": "stdout",
          "text": [
            "Epoch 7/10:\n",
            "Train Loss: 1.8511 | Val Loss: 1.7816\n"
          ]
        },
        {
          "output_type": "stream",
          "name": "stderr",
          "text": [
            "Training: 100%|██████████| 50/50 [00:07<00:00,  6.90it/s]\n",
            "Evaluating: 100%|██████████| 13/13 [00:00<00:00, 20.11it/s]\n"
          ]
        },
        {
          "output_type": "stream",
          "name": "stdout",
          "text": [
            "Epoch 8/10:\n",
            "Train Loss: 1.7815 | Val Loss: 1.7116\n"
          ]
        },
        {
          "output_type": "stream",
          "name": "stderr",
          "text": [
            "Training: 100%|██████████| 50/50 [00:07<00:00,  6.89it/s]\n",
            "Evaluating: 100%|██████████| 13/13 [00:00<00:00, 19.97it/s]\n"
          ]
        },
        {
          "output_type": "stream",
          "name": "stdout",
          "text": [
            "Epoch 9/10:\n",
            "Train Loss: 1.6967 | Val Loss: 1.5936\n"
          ]
        },
        {
          "output_type": "stream",
          "name": "stderr",
          "text": [
            "Training: 100%|██████████| 50/50 [00:07<00:00,  6.89it/s]\n",
            "Evaluating: 100%|██████████| 13/13 [00:00<00:00, 20.06it/s]\n",
            "[I 2025-05-09 12:44:01,665] Trial 6 finished with value: 1.5124260095449595 and parameters: {'d_model': 128, 'num_heads': 16, 'num_layers': 8, 'd_ff': 1024, 'dropout': 0.11268993017884771, 'learning_rate': 0.000124102770335263, 'batch_size': 32}. Best is trial 2 with value: 0.47525370808748096.\n"
          ]
        },
        {
          "output_type": "stream",
          "name": "stdout",
          "text": [
            "Epoch 10/10:\n",
            "Train Loss: 1.6053 | Val Loss: 1.5124\n"
          ]
        },
        {
          "output_type": "stream",
          "name": "stderr",
          "text": [
            "Training: 100%|██████████| 50/50 [00:04<00:00, 10.09it/s]\n",
            "Evaluating: 100%|██████████| 13/13 [00:00<00:00, 30.97it/s]\n"
          ]
        },
        {
          "output_type": "stream",
          "name": "stdout",
          "text": [
            "Epoch 1/10:\n",
            "Train Loss: 3.0993 | Val Loss: 2.9889\n"
          ]
        },
        {
          "output_type": "stream",
          "name": "stderr",
          "text": [
            "Training: 100%|██████████| 50/50 [00:04<00:00, 10.19it/s]\n",
            "Evaluating: 100%|██████████| 13/13 [00:00<00:00, 31.30it/s]\n"
          ]
        },
        {
          "output_type": "stream",
          "name": "stdout",
          "text": [
            "Epoch 2/10:\n",
            "Train Loss: 2.9910 | Val Loss: 2.9839\n"
          ]
        },
        {
          "output_type": "stream",
          "name": "stderr",
          "text": [
            "Training: 100%|██████████| 50/50 [00:04<00:00, 10.19it/s]\n",
            "Evaluating: 100%|██████████| 13/13 [00:00<00:00, 30.47it/s]\n"
          ]
        },
        {
          "output_type": "stream",
          "name": "stdout",
          "text": [
            "Epoch 3/10:\n",
            "Train Loss: 2.9859 | Val Loss: 2.9889\n"
          ]
        },
        {
          "output_type": "stream",
          "name": "stderr",
          "text": [
            "Training: 100%|██████████| 50/50 [00:04<00:00, 10.19it/s]\n",
            "Evaluating: 100%|██████████| 13/13 [00:00<00:00, 31.15it/s]\n"
          ]
        },
        {
          "output_type": "stream",
          "name": "stdout",
          "text": [
            "Epoch 4/10:\n",
            "Train Loss: 2.9769 | Val Loss: 3.1017\n"
          ]
        },
        {
          "output_type": "stream",
          "name": "stderr",
          "text": [
            "Training: 100%|██████████| 50/50 [00:04<00:00, 10.23it/s]\n",
            "Evaluating: 100%|██████████| 13/13 [00:00<00:00, 30.46it/s]\n",
            "[I 2025-05-09 12:44:28,507] Trial 7 finished with value: 2.9839000151707578 and parameters: {'d_model': 128, 'num_heads': 2, 'num_layers': 12, 'd_ff': 1024, 'dropout': 0.23263862615128364, 'learning_rate': 0.0016995014964641094, 'batch_size': 32}. Best is trial 2 with value: 0.47525370808748096.\n"
          ]
        },
        {
          "output_type": "stream",
          "name": "stdout",
          "text": [
            "Epoch 5/10:\n",
            "Train Loss: 2.9614 | Val Loss: 3.1251\n",
            "Early stopping triggered!\n"
          ]
        },
        {
          "output_type": "stream",
          "name": "stderr",
          "text": [
            "Training: 100%|██████████| 50/50 [00:03<00:00, 14.53it/s]\n",
            "Evaluating: 100%|██████████| 13/13 [00:00<00:00, 48.33it/s]\n"
          ]
        },
        {
          "output_type": "stream",
          "name": "stdout",
          "text": [
            "Epoch 1/10:\n",
            "Train Loss: 3.1126 | Val Loss: 2.9850\n"
          ]
        },
        {
          "output_type": "stream",
          "name": "stderr",
          "text": [
            "Training: 100%|██████████| 50/50 [00:03<00:00, 15.00it/s]\n",
            "Evaluating: 100%|██████████| 13/13 [00:00<00:00, 48.26it/s]\n"
          ]
        },
        {
          "output_type": "stream",
          "name": "stdout",
          "text": [
            "Epoch 2/10:\n",
            "Train Loss: 2.8656 | Val Loss: 2.5034\n"
          ]
        },
        {
          "output_type": "stream",
          "name": "stderr",
          "text": [
            "Training: 100%|██████████| 50/50 [00:03<00:00, 14.99it/s]\n",
            "Evaluating: 100%|██████████| 13/13 [00:00<00:00, 47.66it/s]\n"
          ]
        },
        {
          "output_type": "stream",
          "name": "stdout",
          "text": [
            "Epoch 3/10:\n",
            "Train Loss: 2.3784 | Val Loss: 2.3067\n"
          ]
        },
        {
          "output_type": "stream",
          "name": "stderr",
          "text": [
            "Training: 100%|██████████| 50/50 [00:03<00:00, 14.54it/s]\n",
            "Evaluating: 100%|██████████| 13/13 [00:00<00:00, 48.03it/s]\n"
          ]
        },
        {
          "output_type": "stream",
          "name": "stdout",
          "text": [
            "Epoch 4/10:\n",
            "Train Loss: 2.2595 | Val Loss: 2.2134\n"
          ]
        },
        {
          "output_type": "stream",
          "name": "stderr",
          "text": [
            "Training: 100%|██████████| 50/50 [00:03<00:00, 14.89it/s]\n",
            "Evaluating: 100%|██████████| 13/13 [00:00<00:00, 48.21it/s]\n"
          ]
        },
        {
          "output_type": "stream",
          "name": "stdout",
          "text": [
            "Epoch 5/10:\n",
            "Train Loss: 2.1745 | Val Loss: 2.1442\n"
          ]
        },
        {
          "output_type": "stream",
          "name": "stderr",
          "text": [
            "Training: 100%|██████████| 50/50 [00:03<00:00, 14.89it/s]\n",
            "Evaluating: 100%|██████████| 13/13 [00:00<00:00, 48.39it/s]\n"
          ]
        },
        {
          "output_type": "stream",
          "name": "stdout",
          "text": [
            "Epoch 6/10:\n",
            "Train Loss: 2.1073 | Val Loss: 2.0803\n"
          ]
        },
        {
          "output_type": "stream",
          "name": "stderr",
          "text": [
            "Training: 100%|██████████| 50/50 [00:03<00:00, 14.52it/s]\n",
            "Evaluating: 100%|██████████| 13/13 [00:00<00:00, 47.74it/s]\n"
          ]
        },
        {
          "output_type": "stream",
          "name": "stdout",
          "text": [
            "Epoch 7/10:\n",
            "Train Loss: 2.0525 | Val Loss: 2.0376\n"
          ]
        },
        {
          "output_type": "stream",
          "name": "stderr",
          "text": [
            "Training: 100%|██████████| 50/50 [00:03<00:00, 14.84it/s]\n",
            "Evaluating: 100%|██████████| 13/13 [00:00<00:00, 48.10it/s]\n"
          ]
        },
        {
          "output_type": "stream",
          "name": "stdout",
          "text": [
            "Epoch 8/10:\n",
            "Train Loss: 1.9983 | Val Loss: 2.0044\n"
          ]
        },
        {
          "output_type": "stream",
          "name": "stderr",
          "text": [
            "Training: 100%|██████████| 50/50 [00:03<00:00, 14.93it/s]\n",
            "Evaluating: 100%|██████████| 13/13 [00:00<00:00, 48.15it/s]\n"
          ]
        },
        {
          "output_type": "stream",
          "name": "stdout",
          "text": [
            "Epoch 9/10:\n",
            "Train Loss: 1.9543 | Val Loss: 1.9450\n"
          ]
        },
        {
          "output_type": "stream",
          "name": "stderr",
          "text": [
            "Training: 100%|██████████| 50/50 [00:03<00:00, 14.69it/s]\n",
            "Evaluating: 100%|██████████| 13/13 [00:00<00:00, 48.06it/s]\n",
            "[I 2025-05-09 12:45:05,175] Trial 8 finished with value: 1.9172807014905489 and parameters: {'d_model': 128, 'num_heads': 2, 'num_layers': 8, 'd_ff': 512, 'dropout': 0.18295918095240976, 'learning_rate': 0.0012567899375324643, 'batch_size': 32}. Best is trial 2 with value: 0.47525370808748096.\n"
          ]
        },
        {
          "output_type": "stream",
          "name": "stdout",
          "text": [
            "Epoch 10/10:\n",
            "Train Loss: 1.9121 | Val Loss: 1.9173\n"
          ]
        },
        {
          "output_type": "stream",
          "name": "stderr",
          "text": [
            "Training: 100%|██████████| 50/50 [00:11<00:00,  4.41it/s]\n",
            "Evaluating: 100%|██████████| 13/13 [00:00<00:00, 15.57it/s]\n"
          ]
        },
        {
          "output_type": "stream",
          "name": "stdout",
          "text": [
            "Epoch 1/10:\n",
            "Train Loss: 3.1190 | Val Loss: 3.0107\n"
          ]
        },
        {
          "output_type": "stream",
          "name": "stderr",
          "text": [
            "Training: 100%|██████████| 50/50 [00:11<00:00,  4.41it/s]\n",
            "Evaluating: 100%|██████████| 13/13 [00:00<00:00, 15.50it/s]\n"
          ]
        },
        {
          "output_type": "stream",
          "name": "stdout",
          "text": [
            "Epoch 2/10:\n",
            "Train Loss: 2.9943 | Val Loss: 3.0110\n"
          ]
        },
        {
          "output_type": "stream",
          "name": "stderr",
          "text": [
            "Training: 100%|██████████| 50/50 [00:11<00:00,  4.41it/s]\n",
            "Evaluating: 100%|██████████| 13/13 [00:00<00:00, 15.64it/s]\n"
          ]
        },
        {
          "output_type": "stream",
          "name": "stdout",
          "text": [
            "Epoch 3/10:\n",
            "Train Loss: 2.9846 | Val Loss: 3.0032\n"
          ]
        },
        {
          "output_type": "stream",
          "name": "stderr",
          "text": [
            "Training: 100%|██████████| 50/50 [00:11<00:00,  4.41it/s]\n",
            "Evaluating: 100%|██████████| 13/13 [00:00<00:00, 15.56it/s]\n"
          ]
        },
        {
          "output_type": "stream",
          "name": "stdout",
          "text": [
            "Epoch 4/10:\n",
            "Train Loss: 2.9799 | Val Loss: 2.9939\n"
          ]
        },
        {
          "output_type": "stream",
          "name": "stderr",
          "text": [
            "Training: 100%|██████████| 50/50 [00:11<00:00,  4.41it/s]\n",
            "Evaluating: 100%|██████████| 13/13 [00:00<00:00, 15.64it/s]\n"
          ]
        },
        {
          "output_type": "stream",
          "name": "stdout",
          "text": [
            "Epoch 5/10:\n",
            "Train Loss: 2.9789 | Val Loss: 2.9981\n"
          ]
        },
        {
          "output_type": "stream",
          "name": "stderr",
          "text": [
            "Training: 100%|██████████| 50/50 [00:11<00:00,  4.38it/s]\n",
            "Evaluating: 100%|██████████| 13/13 [00:00<00:00, 15.55it/s]\n"
          ]
        },
        {
          "output_type": "stream",
          "name": "stdout",
          "text": [
            "Epoch 6/10:\n",
            "Train Loss: 2.9763 | Val Loss: 2.9948\n"
          ]
        },
        {
          "output_type": "stream",
          "name": "stderr",
          "text": [
            "Training: 100%|██████████| 50/50 [00:11<00:00,  4.40it/s]\n",
            "Evaluating: 100%|██████████| 13/13 [00:00<00:00, 15.59it/s]\n"
          ]
        },
        {
          "output_type": "stream",
          "name": "stdout",
          "text": [
            "Epoch 7/10:\n",
            "Train Loss: 2.9767 | Val Loss: 2.9930\n"
          ]
        },
        {
          "output_type": "stream",
          "name": "stderr",
          "text": [
            "Training: 100%|██████████| 50/50 [00:11<00:00,  4.41it/s]\n",
            "Evaluating: 100%|██████████| 13/13 [00:00<00:00, 15.60it/s]\n"
          ]
        },
        {
          "output_type": "stream",
          "name": "stdout",
          "text": [
            "Epoch 8/10:\n",
            "Train Loss: 2.9755 | Val Loss: 3.0035\n"
          ]
        },
        {
          "output_type": "stream",
          "name": "stderr",
          "text": [
            "Training: 100%|██████████| 50/50 [00:11<00:00,  4.41it/s]\n",
            "Evaluating: 100%|██████████| 13/13 [00:00<00:00, 15.63it/s]\n"
          ]
        },
        {
          "output_type": "stream",
          "name": "stdout",
          "text": [
            "Epoch 9/10:\n",
            "Train Loss: 2.9757 | Val Loss: 2.9917\n"
          ]
        },
        {
          "output_type": "stream",
          "name": "stderr",
          "text": [
            "Training: 100%|██████████| 50/50 [00:11<00:00,  4.37it/s]\n",
            "Evaluating: 100%|██████████| 13/13 [00:00<00:00, 15.61it/s]\n",
            "[I 2025-05-09 12:47:07,451] Trial 9 finished with value: 2.9851812032552867 and parameters: {'d_model': 256, 'num_heads': 8, 'num_layers': 12, 'd_ff': 1024, 'dropout': 0.30457691578381635, 'learning_rate': 0.00962973612470409, 'batch_size': 32}. Best is trial 2 with value: 0.47525370808748096.\n"
          ]
        },
        {
          "output_type": "stream",
          "name": "stdout",
          "text": [
            "Epoch 10/10:\n",
            "Train Loss: 2.9745 | Val Loss: 2.9852\n"
          ]
        },
        {
          "output_type": "stream",
          "name": "stderr",
          "text": [
            "Training: 100%|██████████| 50/50 [00:04<00:00, 10.87it/s]\n",
            "Evaluating: 100%|██████████| 13/13 [00:00<00:00, 42.72it/s]\n"
          ]
        },
        {
          "output_type": "stream",
          "name": "stdout",
          "text": [
            "Epoch 1/10:\n",
            "Train Loss: 2.7769 | Val Loss: 2.2074\n"
          ]
        },
        {
          "output_type": "stream",
          "name": "stderr",
          "text": [
            "Training: 100%|██████████| 50/50 [00:04<00:00, 10.90it/s]\n",
            "Evaluating: 100%|██████████| 13/13 [00:00<00:00, 41.48it/s]\n"
          ]
        },
        {
          "output_type": "stream",
          "name": "stdout",
          "text": [
            "Epoch 2/10:\n",
            "Train Loss: 2.1358 | Val Loss: 1.9070\n"
          ]
        },
        {
          "output_type": "stream",
          "name": "stderr",
          "text": [
            "Training: 100%|██████████| 50/50 [00:04<00:00, 10.90it/s]\n",
            "Evaluating: 100%|██████████| 13/13 [00:00<00:00, 42.18it/s]\n"
          ]
        },
        {
          "output_type": "stream",
          "name": "stdout",
          "text": [
            "Epoch 3/10:\n",
            "Train Loss: 1.8453 | Val Loss: 1.4452\n"
          ]
        },
        {
          "output_type": "stream",
          "name": "stderr",
          "text": [
            "Training: 100%|██████████| 50/50 [00:04<00:00, 10.89it/s]\n",
            "Evaluating: 100%|██████████| 13/13 [00:00<00:00, 42.88it/s]\n"
          ]
        },
        {
          "output_type": "stream",
          "name": "stdout",
          "text": [
            "Epoch 4/10:\n",
            "Train Loss: 1.5167 | Val Loss: 1.0666\n"
          ]
        },
        {
          "output_type": "stream",
          "name": "stderr",
          "text": [
            "Training: 100%|██████████| 50/50 [00:04<00:00, 10.85it/s]\n",
            "Evaluating: 100%|██████████| 13/13 [00:00<00:00, 41.83it/s]\n"
          ]
        },
        {
          "output_type": "stream",
          "name": "stdout",
          "text": [
            "Epoch 5/10:\n",
            "Train Loss: 1.2607 | Val Loss: 0.8783\n"
          ]
        },
        {
          "output_type": "stream",
          "name": "stderr",
          "text": [
            "Training: 100%|██████████| 50/50 [00:04<00:00, 10.84it/s]\n",
            "Evaluating: 100%|██████████| 13/13 [00:00<00:00, 42.87it/s]\n"
          ]
        },
        {
          "output_type": "stream",
          "name": "stdout",
          "text": [
            "Epoch 6/10:\n",
            "Train Loss: 1.0735 | Val Loss: 0.7008\n"
          ]
        },
        {
          "output_type": "stream",
          "name": "stderr",
          "text": [
            "Training: 100%|██████████| 50/50 [00:04<00:00, 10.89it/s]\n",
            "Evaluating: 100%|██████████| 13/13 [00:00<00:00, 42.36it/s]\n"
          ]
        },
        {
          "output_type": "stream",
          "name": "stdout",
          "text": [
            "Epoch 7/10:\n",
            "Train Loss: 0.9335 | Val Loss: 0.5809\n"
          ]
        },
        {
          "output_type": "stream",
          "name": "stderr",
          "text": [
            "Training: 100%|██████████| 50/50 [00:04<00:00, 10.90it/s]\n",
            "Evaluating: 100%|██████████| 13/13 [00:00<00:00, 42.60it/s]\n"
          ]
        },
        {
          "output_type": "stream",
          "name": "stdout",
          "text": [
            "Epoch 8/10:\n",
            "Train Loss: 0.8190 | Val Loss: 0.5563\n"
          ]
        },
        {
          "output_type": "stream",
          "name": "stderr",
          "text": [
            "Training: 100%|██████████| 50/50 [00:04<00:00, 10.91it/s]\n",
            "Evaluating: 100%|██████████| 13/13 [00:00<00:00, 42.83it/s]\n"
          ]
        },
        {
          "output_type": "stream",
          "name": "stdout",
          "text": [
            "Epoch 9/10:\n",
            "Train Loss: 0.7288 | Val Loss: 0.4942\n"
          ]
        },
        {
          "output_type": "stream",
          "name": "stderr",
          "text": [
            "Training: 100%|██████████| 50/50 [00:04<00:00, 10.89it/s]\n",
            "Evaluating: 100%|██████████| 13/13 [00:00<00:00, 42.69it/s]\n",
            "[I 2025-05-09 12:47:56,750] Trial 10 finished with value: 0.4224349627128014 and parameters: {'d_model': 256, 'num_heads': 4, 'num_layers': 6, 'd_ff': 256, 'dropout': 0.36881404613434304, 'learning_rate': 0.00046243567752343257, 'batch_size': 32}. Best is trial 10 with value: 0.4224349627128014.\n"
          ]
        },
        {
          "output_type": "stream",
          "name": "stdout",
          "text": [
            "Epoch 10/10:\n",
            "Train Loss: 0.6695 | Val Loss: 0.4224\n",
            "New best model found! Val Loss: 0.4224\n",
            "Config: {'d_model': 256, 'num_heads': 4, 'num_layers': 6, 'd_ff': 256, 'dropout': 0.36881404613434304, 'learning_rate': 0.00046243567752343257, 'batch_size': 32}\n"
          ]
        },
        {
          "output_type": "stream",
          "name": "stderr",
          "text": [
            "Training: 100%|██████████| 50/50 [00:04<00:00, 10.75it/s]\n",
            "Evaluating: 100%|██████████| 13/13 [00:00<00:00, 40.59it/s]\n"
          ]
        },
        {
          "output_type": "stream",
          "name": "stdout",
          "text": [
            "Epoch 1/10:\n",
            "Train Loss: 2.7550 | Val Loss: 2.2175\n"
          ]
        },
        {
          "output_type": "stream",
          "name": "stderr",
          "text": [
            "Training: 100%|██████████| 50/50 [00:04<00:00, 10.73it/s]\n",
            "Evaluating: 100%|██████████| 13/13 [00:00<00:00, 40.30it/s]\n"
          ]
        },
        {
          "output_type": "stream",
          "name": "stdout",
          "text": [
            "Epoch 2/10:\n",
            "Train Loss: 2.1559 | Val Loss: 1.9738\n"
          ]
        },
        {
          "output_type": "stream",
          "name": "stderr",
          "text": [
            "Training: 100%|██████████| 50/50 [00:04<00:00, 10.70it/s]\n",
            "Evaluating: 100%|██████████| 13/13 [00:00<00:00, 40.89it/s]\n"
          ]
        },
        {
          "output_type": "stream",
          "name": "stdout",
          "text": [
            "Epoch 3/10:\n",
            "Train Loss: 1.9106 | Val Loss: 1.6421\n"
          ]
        },
        {
          "output_type": "stream",
          "name": "stderr",
          "text": [
            "Training: 100%|██████████| 50/50 [00:04<00:00, 10.77it/s]\n",
            "Evaluating: 100%|██████████| 13/13 [00:00<00:00, 40.32it/s]\n"
          ]
        },
        {
          "output_type": "stream",
          "name": "stdout",
          "text": [
            "Epoch 4/10:\n",
            "Train Loss: 1.6501 | Val Loss: 1.3001\n"
          ]
        },
        {
          "output_type": "stream",
          "name": "stderr",
          "text": [
            "Training: 100%|██████████| 50/50 [00:04<00:00, 10.72it/s]\n",
            "Evaluating: 100%|██████████| 13/13 [00:00<00:00, 40.44it/s]\n"
          ]
        },
        {
          "output_type": "stream",
          "name": "stdout",
          "text": [
            "Epoch 5/10:\n",
            "Train Loss: 1.4140 | Val Loss: 1.0001\n"
          ]
        },
        {
          "output_type": "stream",
          "name": "stderr",
          "text": [
            "Training: 100%|██████████| 50/50 [00:04<00:00, 10.75it/s]\n",
            "Evaluating: 100%|██████████| 13/13 [00:00<00:00, 40.60it/s]\n"
          ]
        },
        {
          "output_type": "stream",
          "name": "stdout",
          "text": [
            "Epoch 6/10:\n",
            "Train Loss: 1.2304 | Val Loss: 0.8516\n"
          ]
        },
        {
          "output_type": "stream",
          "name": "stderr",
          "text": [
            "Training: 100%|██████████| 50/50 [00:04<00:00, 10.73it/s]\n",
            "Evaluating: 100%|██████████| 13/13 [00:00<00:00, 39.94it/s]\n"
          ]
        },
        {
          "output_type": "stream",
          "name": "stdout",
          "text": [
            "Epoch 7/10:\n",
            "Train Loss: 1.0805 | Val Loss: 0.8364\n"
          ]
        },
        {
          "output_type": "stream",
          "name": "stderr",
          "text": [
            "Training: 100%|██████████| 50/50 [00:04<00:00, 10.72it/s]\n",
            "Evaluating: 100%|██████████| 13/13 [00:00<00:00, 40.62it/s]\n"
          ]
        },
        {
          "output_type": "stream",
          "name": "stdout",
          "text": [
            "Epoch 8/10:\n",
            "Train Loss: 0.9604 | Val Loss: 0.6277\n"
          ]
        },
        {
          "output_type": "stream",
          "name": "stderr",
          "text": [
            "Training: 100%|██████████| 50/50 [00:04<00:00, 10.73it/s]\n",
            "Evaluating: 100%|██████████| 13/13 [00:00<00:00, 40.31it/s]\n"
          ]
        },
        {
          "output_type": "stream",
          "name": "stdout",
          "text": [
            "Epoch 9/10:\n",
            "Train Loss: 0.8607 | Val Loss: 0.5869\n"
          ]
        },
        {
          "output_type": "stream",
          "name": "stderr",
          "text": [
            "Training: 100%|██████████| 50/50 [00:04<00:00, 10.75it/s]\n",
            "Evaluating: 100%|██████████| 13/13 [00:00<00:00, 40.69it/s]\n",
            "[I 2025-05-09 12:48:46,699] Trial 11 finished with value: 0.5024304940150335 and parameters: {'d_model': 256, 'num_heads': 4, 'num_layers': 6, 'd_ff': 256, 'dropout': 0.39540374314296023, 'learning_rate': 0.00043819614152972985, 'batch_size': 32}. Best is trial 10 with value: 0.4224349627128014.\n"
          ]
        },
        {
          "output_type": "stream",
          "name": "stdout",
          "text": [
            "Epoch 10/10:\n",
            "Train Loss: 0.7845 | Val Loss: 0.5024\n"
          ]
        },
        {
          "output_type": "stream",
          "name": "stderr",
          "text": [
            "Training: 100%|██████████| 50/50 [00:04<00:00, 10.74it/s]\n",
            "Evaluating: 100%|██████████| 13/13 [00:00<00:00, 40.44it/s]\n"
          ]
        },
        {
          "output_type": "stream",
          "name": "stdout",
          "text": [
            "Epoch 1/10:\n",
            "Train Loss: 2.7361 | Val Loss: 2.1787\n"
          ]
        },
        {
          "output_type": "stream",
          "name": "stderr",
          "text": [
            "Training: 100%|██████████| 50/50 [00:04<00:00, 10.70it/s]\n",
            "Evaluating: 100%|██████████| 13/13 [00:00<00:00, 39.82it/s]\n"
          ]
        },
        {
          "output_type": "stream",
          "name": "stdout",
          "text": [
            "Epoch 2/10:\n",
            "Train Loss: 2.1128 | Val Loss: 1.8825\n"
          ]
        },
        {
          "output_type": "stream",
          "name": "stderr",
          "text": [
            "Training: 100%|██████████| 50/50 [00:04<00:00, 10.75it/s]\n",
            "Evaluating: 100%|██████████| 13/13 [00:00<00:00, 40.75it/s]\n"
          ]
        },
        {
          "output_type": "stream",
          "name": "stdout",
          "text": [
            "Epoch 3/10:\n",
            "Train Loss: 1.8320 | Val Loss: 1.4755\n"
          ]
        },
        {
          "output_type": "stream",
          "name": "stderr",
          "text": [
            "Training: 100%|██████████| 50/50 [00:04<00:00, 10.70it/s]\n",
            "Evaluating: 100%|██████████| 13/13 [00:00<00:00, 40.54it/s]\n"
          ]
        },
        {
          "output_type": "stream",
          "name": "stdout",
          "text": [
            "Epoch 4/10:\n",
            "Train Loss: 1.5186 | Val Loss: 1.1045\n"
          ]
        },
        {
          "output_type": "stream",
          "name": "stderr",
          "text": [
            "Training: 100%|██████████| 50/50 [00:04<00:00, 10.76it/s]\n",
            "Evaluating: 100%|██████████| 13/13 [00:00<00:00, 40.93it/s]\n"
          ]
        },
        {
          "output_type": "stream",
          "name": "stdout",
          "text": [
            "Epoch 5/10:\n",
            "Train Loss: 1.2764 | Val Loss: 0.8799\n"
          ]
        },
        {
          "output_type": "stream",
          "name": "stderr",
          "text": [
            "Training: 100%|██████████| 50/50 [00:04<00:00, 10.76it/s]\n",
            "Evaluating: 100%|██████████| 13/13 [00:00<00:00, 40.80it/s]\n"
          ]
        },
        {
          "output_type": "stream",
          "name": "stdout",
          "text": [
            "Epoch 6/10:\n",
            "Train Loss: 1.0764 | Val Loss: 0.6737\n"
          ]
        },
        {
          "output_type": "stream",
          "name": "stderr",
          "text": [
            "Training: 100%|██████████| 50/50 [00:04<00:00, 10.72it/s]\n",
            "Evaluating: 100%|██████████| 13/13 [00:00<00:00, 40.65it/s]\n"
          ]
        },
        {
          "output_type": "stream",
          "name": "stdout",
          "text": [
            "Epoch 7/10:\n",
            "Train Loss: 0.9300 | Val Loss: 0.6678\n"
          ]
        },
        {
          "output_type": "stream",
          "name": "stderr",
          "text": [
            "Training: 100%|██████████| 50/50 [00:04<00:00, 10.77it/s]\n",
            "Evaluating: 100%|██████████| 13/13 [00:00<00:00, 40.92it/s]\n"
          ]
        },
        {
          "output_type": "stream",
          "name": "stdout",
          "text": [
            "Epoch 8/10:\n",
            "Train Loss: 0.8219 | Val Loss: 0.5711\n"
          ]
        },
        {
          "output_type": "stream",
          "name": "stderr",
          "text": [
            "Training: 100%|██████████| 50/50 [00:04<00:00, 10.74it/s]\n",
            "Evaluating: 100%|██████████| 13/13 [00:00<00:00, 40.29it/s]\n"
          ]
        },
        {
          "output_type": "stream",
          "name": "stdout",
          "text": [
            "Epoch 9/10:\n",
            "Train Loss: 0.7279 | Val Loss: 0.4379\n"
          ]
        },
        {
          "output_type": "stream",
          "name": "stderr",
          "text": [
            "Training: 100%|██████████| 50/50 [00:04<00:00, 10.77it/s]\n",
            "Evaluating: 100%|██████████| 13/13 [00:00<00:00, 40.63it/s]\n",
            "[I 2025-05-09 12:49:36,620] Trial 12 finished with value: 0.43794556993704575 and parameters: {'d_model': 256, 'num_heads': 4, 'num_layers': 6, 'd_ff': 256, 'dropout': 0.36092934741432736, 'learning_rate': 0.0004569154787405004, 'batch_size': 32}. Best is trial 10 with value: 0.4224349627128014.\n"
          ]
        },
        {
          "output_type": "stream",
          "name": "stdout",
          "text": [
            "Epoch 10/10:\n",
            "Train Loss: 0.6575 | Val Loss: 0.4582\n"
          ]
        },
        {
          "output_type": "stream",
          "name": "stderr",
          "text": [
            "Training: 100%|██████████| 50/50 [00:04<00:00, 10.72it/s]\n",
            "Evaluating: 100%|██████████| 13/13 [00:00<00:00, 39.81it/s]\n"
          ]
        },
        {
          "output_type": "stream",
          "name": "stdout",
          "text": [
            "Epoch 1/10:\n",
            "Train Loss: 2.9023 | Val Loss: 2.2793\n"
          ]
        },
        {
          "output_type": "stream",
          "name": "stderr",
          "text": [
            "Training: 100%|██████████| 50/50 [00:04<00:00, 10.74it/s]\n",
            "Evaluating: 100%|██████████| 13/13 [00:00<00:00, 40.78it/s]\n"
          ]
        },
        {
          "output_type": "stream",
          "name": "stdout",
          "text": [
            "Epoch 2/10:\n",
            "Train Loss: 2.2139 | Val Loss: 2.0184\n"
          ]
        },
        {
          "output_type": "stream",
          "name": "stderr",
          "text": [
            "Training: 100%|██████████| 50/50 [00:04<00:00, 10.75it/s]\n",
            "Evaluating: 100%|██████████| 13/13 [00:00<00:00, 40.36it/s]\n"
          ]
        },
        {
          "output_type": "stream",
          "name": "stdout",
          "text": [
            "Epoch 3/10:\n",
            "Train Loss: 2.0160 | Val Loss: 1.8298\n"
          ]
        },
        {
          "output_type": "stream",
          "name": "stderr",
          "text": [
            "Training: 100%|██████████| 50/50 [00:04<00:00, 10.71it/s]\n",
            "Evaluating: 100%|██████████| 13/13 [00:00<00:00, 39.88it/s]\n"
          ]
        },
        {
          "output_type": "stream",
          "name": "stdout",
          "text": [
            "Epoch 4/10:\n",
            "Train Loss: 1.8041 | Val Loss: 1.5117\n"
          ]
        },
        {
          "output_type": "stream",
          "name": "stderr",
          "text": [
            "Training: 100%|██████████| 50/50 [00:04<00:00, 10.73it/s]\n",
            "Evaluating: 100%|██████████| 13/13 [00:00<00:00, 40.63it/s]\n"
          ]
        },
        {
          "output_type": "stream",
          "name": "stdout",
          "text": [
            "Epoch 5/10:\n",
            "Train Loss: 1.5833 | Val Loss: 1.2049\n"
          ]
        },
        {
          "output_type": "stream",
          "name": "stderr",
          "text": [
            "Training: 100%|██████████| 50/50 [00:04<00:00, 10.72it/s]\n",
            "Evaluating: 100%|██████████| 13/13 [00:00<00:00, 40.35it/s]\n"
          ]
        },
        {
          "output_type": "stream",
          "name": "stdout",
          "text": [
            "Epoch 6/10:\n",
            "Train Loss: 1.3937 | Val Loss: 1.0185\n"
          ]
        },
        {
          "output_type": "stream",
          "name": "stderr",
          "text": [
            "Training: 100%|██████████| 50/50 [00:04<00:00, 10.74it/s]\n",
            "Evaluating: 100%|██████████| 13/13 [00:00<00:00, 40.75it/s]\n"
          ]
        },
        {
          "output_type": "stream",
          "name": "stdout",
          "text": [
            "Epoch 7/10:\n",
            "Train Loss: 1.2368 | Val Loss: 0.8709\n"
          ]
        },
        {
          "output_type": "stream",
          "name": "stderr",
          "text": [
            "Training: 100%|██████████| 50/50 [00:04<00:00, 10.75it/s]\n",
            "Evaluating: 100%|██████████| 13/13 [00:00<00:00, 40.83it/s]\n"
          ]
        },
        {
          "output_type": "stream",
          "name": "stdout",
          "text": [
            "Epoch 8/10:\n",
            "Train Loss: 1.1175 | Val Loss: 0.7371\n"
          ]
        },
        {
          "output_type": "stream",
          "name": "stderr",
          "text": [
            "Training: 100%|██████████| 50/50 [00:04<00:00, 10.74it/s]\n",
            "Evaluating: 100%|██████████| 13/13 [00:00<00:00, 40.91it/s]\n"
          ]
        },
        {
          "output_type": "stream",
          "name": "stdout",
          "text": [
            "Epoch 9/10:\n",
            "Train Loss: 1.0112 | Val Loss: 0.6895\n"
          ]
        },
        {
          "output_type": "stream",
          "name": "stderr",
          "text": [
            "Training: 100%|██████████| 50/50 [00:04<00:00, 10.76it/s]\n",
            "Evaluating: 100%|██████████| 13/13 [00:00<00:00, 40.55it/s]\n",
            "[I 2025-05-09 12:50:26,566] Trial 13 finished with value: 0.6070177417535049 and parameters: {'d_model': 256, 'num_heads': 4, 'num_layers': 6, 'd_ff': 256, 'dropout': 0.376438951086013, 'learning_rate': 0.0002824417233368042, 'batch_size': 32}. Best is trial 10 with value: 0.4224349627128014.\n"
          ]
        },
        {
          "output_type": "stream",
          "name": "stdout",
          "text": [
            "Epoch 10/10:\n",
            "Train Loss: 0.9088 | Val Loss: 0.6070\n"
          ]
        },
        {
          "output_type": "stream",
          "name": "stderr",
          "text": [
            "Training: 100%|██████████| 50/50 [00:04<00:00, 10.73it/s]\n",
            "Evaluating: 100%|██████████| 13/13 [00:00<00:00, 40.78it/s]\n"
          ]
        },
        {
          "output_type": "stream",
          "name": "stdout",
          "text": [
            "Epoch 1/10:\n",
            "Train Loss: 2.7775 | Val Loss: 2.1941\n"
          ]
        },
        {
          "output_type": "stream",
          "name": "stderr",
          "text": [
            "Training: 100%|██████████| 50/50 [00:04<00:00, 10.75it/s]\n",
            "Evaluating: 100%|██████████| 13/13 [00:00<00:00, 40.88it/s]\n"
          ]
        },
        {
          "output_type": "stream",
          "name": "stdout",
          "text": [
            "Epoch 2/10:\n",
            "Train Loss: 2.1060 | Val Loss: 1.8434\n"
          ]
        },
        {
          "output_type": "stream",
          "name": "stderr",
          "text": [
            "Training: 100%|██████████| 50/50 [00:04<00:00, 10.73it/s]\n",
            "Evaluating: 100%|██████████| 13/13 [00:00<00:00, 40.74it/s]\n"
          ]
        },
        {
          "output_type": "stream",
          "name": "stdout",
          "text": [
            "Epoch 3/10:\n",
            "Train Loss: 1.7840 | Val Loss: 1.3860\n"
          ]
        },
        {
          "output_type": "stream",
          "name": "stderr",
          "text": [
            "Training: 100%|██████████| 50/50 [00:04<00:00, 10.72it/s]\n",
            "Evaluating: 100%|██████████| 13/13 [00:00<00:00, 40.56it/s]\n"
          ]
        },
        {
          "output_type": "stream",
          "name": "stdout",
          "text": [
            "Epoch 4/10:\n",
            "Train Loss: 1.4722 | Val Loss: 1.0742\n"
          ]
        },
        {
          "output_type": "stream",
          "name": "stderr",
          "text": [
            "Training: 100%|██████████| 50/50 [00:04<00:00, 10.74it/s]\n",
            "Evaluating: 100%|██████████| 13/13 [00:00<00:00, 40.74it/s]\n"
          ]
        },
        {
          "output_type": "stream",
          "name": "stdout",
          "text": [
            "Epoch 5/10:\n",
            "Train Loss: 1.2050 | Val Loss: 0.8470\n"
          ]
        },
        {
          "output_type": "stream",
          "name": "stderr",
          "text": [
            "Training: 100%|██████████| 50/50 [00:04<00:00, 10.72it/s]\n",
            "Evaluating: 100%|██████████| 13/13 [00:00<00:00, 40.61it/s]\n"
          ]
        },
        {
          "output_type": "stream",
          "name": "stdout",
          "text": [
            "Epoch 6/10:\n",
            "Train Loss: 1.0200 | Val Loss: 0.6809\n"
          ]
        },
        {
          "output_type": "stream",
          "name": "stderr",
          "text": [
            "Training: 100%|██████████| 50/50 [00:04<00:00, 10.74it/s]\n",
            "Evaluating: 100%|██████████| 13/13 [00:00<00:00, 40.74it/s]\n"
          ]
        },
        {
          "output_type": "stream",
          "name": "stdout",
          "text": [
            "Epoch 7/10:\n",
            "Train Loss: 0.8783 | Val Loss: 0.5663\n"
          ]
        },
        {
          "output_type": "stream",
          "name": "stderr",
          "text": [
            "Training: 100%|██████████| 50/50 [00:04<00:00, 10.74it/s]\n",
            "Evaluating: 100%|██████████| 13/13 [00:00<00:00, 40.38it/s]\n"
          ]
        },
        {
          "output_type": "stream",
          "name": "stdout",
          "text": [
            "Epoch 8/10:\n",
            "Train Loss: 0.7651 | Val Loss: 0.5262\n"
          ]
        },
        {
          "output_type": "stream",
          "name": "stderr",
          "text": [
            "Training: 100%|██████████| 50/50 [00:04<00:00, 10.73it/s]\n",
            "Evaluating: 100%|██████████| 13/13 [00:00<00:00, 40.57it/s]\n"
          ]
        },
        {
          "output_type": "stream",
          "name": "stdout",
          "text": [
            "Epoch 9/10:\n",
            "Train Loss: 0.6909 | Val Loss: 0.4251\n"
          ]
        },
        {
          "output_type": "stream",
          "name": "stderr",
          "text": [
            "Training: 100%|██████████| 50/50 [00:04<00:00, 10.73it/s]\n",
            "Evaluating: 100%|██████████| 13/13 [00:00<00:00, 40.62it/s]\n",
            "[I 2025-05-09 12:51:16,647] Trial 14 finished with value: 0.3686918444358386 and parameters: {'d_model': 256, 'num_heads': 4, 'num_layers': 6, 'd_ff': 256, 'dropout': 0.344013713726708, 'learning_rate': 0.0004291111007123159, 'batch_size': 32}. Best is trial 14 with value: 0.3686918444358386.\n"
          ]
        },
        {
          "output_type": "stream",
          "name": "stdout",
          "text": [
            "Epoch 10/10:\n",
            "Train Loss: 0.6029 | Val Loss: 0.3687\n",
            "New best model found! Val Loss: 0.3687\n",
            "Config: {'d_model': 256, 'num_heads': 4, 'num_layers': 6, 'd_ff': 256, 'dropout': 0.344013713726708, 'learning_rate': 0.0004291111007123159, 'batch_size': 32}\n"
          ]
        },
        {
          "output_type": "stream",
          "name": "stderr",
          "text": [
            "Training: 100%|██████████| 50/50 [00:04<00:00, 10.74it/s]\n",
            "Evaluating: 100%|██████████| 13/13 [00:00<00:00, 40.46it/s]\n"
          ]
        },
        {
          "output_type": "stream",
          "name": "stdout",
          "text": [
            "Epoch 1/10:\n",
            "Train Loss: 2.9535 | Val Loss: 2.3075\n"
          ]
        },
        {
          "output_type": "stream",
          "name": "stderr",
          "text": [
            "Training: 100%|██████████| 50/50 [00:04<00:00, 10.74it/s]\n",
            "Evaluating: 100%|██████████| 13/13 [00:00<00:00, 40.21it/s]\n"
          ]
        },
        {
          "output_type": "stream",
          "name": "stdout",
          "text": [
            "Epoch 2/10:\n",
            "Train Loss: 2.2354 | Val Loss: 2.0587\n"
          ]
        },
        {
          "output_type": "stream",
          "name": "stderr",
          "text": [
            "Training: 100%|██████████| 50/50 [00:04<00:00, 10.73it/s]\n",
            "Evaluating: 100%|██████████| 13/13 [00:00<00:00, 40.65it/s]\n"
          ]
        },
        {
          "output_type": "stream",
          "name": "stdout",
          "text": [
            "Epoch 3/10:\n",
            "Train Loss: 2.0456 | Val Loss: 1.8712\n"
          ]
        },
        {
          "output_type": "stream",
          "name": "stderr",
          "text": [
            "Training: 100%|██████████| 50/50 [00:04<00:00, 10.76it/s]\n",
            "Evaluating: 100%|██████████| 13/13 [00:00<00:00, 40.69it/s]\n"
          ]
        },
        {
          "output_type": "stream",
          "name": "stdout",
          "text": [
            "Epoch 4/10:\n",
            "Train Loss: 1.8484 | Val Loss: 1.5958\n"
          ]
        },
        {
          "output_type": "stream",
          "name": "stderr",
          "text": [
            "Training: 100%|██████████| 50/50 [00:04<00:00, 10.75it/s]\n",
            "Evaluating: 100%|██████████| 13/13 [00:00<00:00, 40.17it/s]\n"
          ]
        },
        {
          "output_type": "stream",
          "name": "stdout",
          "text": [
            "Epoch 5/10:\n",
            "Train Loss: 1.6468 | Val Loss: 1.3208\n"
          ]
        },
        {
          "output_type": "stream",
          "name": "stderr",
          "text": [
            "Training: 100%|██████████| 50/50 [00:04<00:00, 10.73it/s]\n",
            "Evaluating: 100%|██████████| 13/13 [00:00<00:00, 40.52it/s]\n"
          ]
        },
        {
          "output_type": "stream",
          "name": "stdout",
          "text": [
            "Epoch 6/10:\n",
            "Train Loss: 1.4442 | Val Loss: 1.0712\n"
          ]
        },
        {
          "output_type": "stream",
          "name": "stderr",
          "text": [
            "Training: 100%|██████████| 50/50 [00:04<00:00, 10.73it/s]\n",
            "Evaluating: 100%|██████████| 13/13 [00:00<00:00, 40.26it/s]\n"
          ]
        },
        {
          "output_type": "stream",
          "name": "stdout",
          "text": [
            "Epoch 7/10:\n",
            "Train Loss: 1.2769 | Val Loss: 0.9166\n"
          ]
        },
        {
          "output_type": "stream",
          "name": "stderr",
          "text": [
            "Training: 100%|██████████| 50/50 [00:04<00:00, 10.73it/s]\n",
            "Evaluating: 100%|██████████| 13/13 [00:00<00:00, 40.56it/s]\n"
          ]
        },
        {
          "output_type": "stream",
          "name": "stdout",
          "text": [
            "Epoch 8/10:\n",
            "Train Loss: 1.1477 | Val Loss: 0.8009\n"
          ]
        },
        {
          "output_type": "stream",
          "name": "stderr",
          "text": [
            "Training: 100%|██████████| 50/50 [00:04<00:00, 10.75it/s]\n",
            "Evaluating: 100%|██████████| 13/13 [00:00<00:00, 40.28it/s]\n"
          ]
        },
        {
          "output_type": "stream",
          "name": "stdout",
          "text": [
            "Epoch 9/10:\n",
            "Train Loss: 1.0188 | Val Loss: 0.6846\n"
          ]
        },
        {
          "output_type": "stream",
          "name": "stderr",
          "text": [
            "Training: 100%|██████████| 50/50 [00:04<00:00, 10.75it/s]\n",
            "Evaluating: 100%|██████████| 13/13 [00:00<00:00, 40.55it/s]\n",
            "[I 2025-05-09 12:52:06,573] Trial 15 finished with value: 0.6247334778308868 and parameters: {'d_model': 256, 'num_heads': 4, 'num_layers': 6, 'd_ff': 256, 'dropout': 0.3388244727305079, 'learning_rate': 0.00021766489138025122, 'batch_size': 32}. Best is trial 14 with value: 0.3686918444358386.\n"
          ]
        },
        {
          "output_type": "stream",
          "name": "stdout",
          "text": [
            "Epoch 10/10:\n",
            "Train Loss: 0.9208 | Val Loss: 0.6247\n"
          ]
        },
        {
          "output_type": "stream",
          "name": "stderr",
          "text": [
            "Training: 100%|██████████| 50/50 [00:04<00:00, 11.00it/s]\n",
            "Evaluating: 100%|██████████| 13/13 [00:00<00:00, 38.45it/s]\n"
          ]
        },
        {
          "output_type": "stream",
          "name": "stdout",
          "text": [
            "Epoch 1/10:\n",
            "Train Loss: 3.0962 | Val Loss: 2.9953\n"
          ]
        },
        {
          "output_type": "stream",
          "name": "stderr",
          "text": [
            "Training: 100%|██████████| 50/50 [00:04<00:00, 10.99it/s]\n",
            "Evaluating: 100%|██████████| 13/13 [00:00<00:00, 38.49it/s]\n"
          ]
        },
        {
          "output_type": "stream",
          "name": "stdout",
          "text": [
            "Epoch 2/10:\n",
            "Train Loss: 2.9960 | Val Loss: 2.9902\n"
          ]
        },
        {
          "output_type": "stream",
          "name": "stderr",
          "text": [
            "Training: 100%|██████████| 50/50 [00:04<00:00, 10.99it/s]\n",
            "Evaluating: 100%|██████████| 13/13 [00:00<00:00, 38.60it/s]\n"
          ]
        },
        {
          "output_type": "stream",
          "name": "stdout",
          "text": [
            "Epoch 3/10:\n",
            "Train Loss: 2.9864 | Val Loss: 2.9862\n"
          ]
        },
        {
          "output_type": "stream",
          "name": "stderr",
          "text": [
            "Training: 100%|██████████| 50/50 [00:04<00:00, 10.99it/s]\n",
            "Evaluating: 100%|██████████| 13/13 [00:00<00:00, 38.57it/s]\n"
          ]
        },
        {
          "output_type": "stream",
          "name": "stdout",
          "text": [
            "Epoch 4/10:\n",
            "Train Loss: 2.9824 | Val Loss: 2.9881\n"
          ]
        },
        {
          "output_type": "stream",
          "name": "stderr",
          "text": [
            "Training: 100%|██████████| 50/50 [00:04<00:00, 10.99it/s]\n",
            "Evaluating: 100%|██████████| 13/13 [00:00<00:00, 38.37it/s]\n"
          ]
        },
        {
          "output_type": "stream",
          "name": "stdout",
          "text": [
            "Epoch 5/10:\n",
            "Train Loss: 2.9806 | Val Loss: 2.9855\n"
          ]
        },
        {
          "output_type": "stream",
          "name": "stderr",
          "text": [
            "Training: 100%|██████████| 50/50 [00:04<00:00, 11.01it/s]\n",
            "Evaluating: 100%|██████████| 13/13 [00:00<00:00, 38.64it/s]\n"
          ]
        },
        {
          "output_type": "stream",
          "name": "stdout",
          "text": [
            "Epoch 6/10:\n",
            "Train Loss: 2.9781 | Val Loss: 2.9784\n"
          ]
        },
        {
          "output_type": "stream",
          "name": "stderr",
          "text": [
            "Training: 100%|██████████| 50/50 [00:04<00:00, 10.98it/s]\n",
            "Evaluating: 100%|██████████| 13/13 [00:00<00:00, 38.26it/s]\n"
          ]
        },
        {
          "output_type": "stream",
          "name": "stdout",
          "text": [
            "Epoch 7/10:\n",
            "Train Loss: 2.9726 | Val Loss: 3.0504\n"
          ]
        },
        {
          "output_type": "stream",
          "name": "stderr",
          "text": [
            "Training: 100%|██████████| 50/50 [00:04<00:00, 11.00it/s]\n",
            "Evaluating: 100%|██████████| 13/13 [00:00<00:00, 38.47it/s]\n"
          ]
        },
        {
          "output_type": "stream",
          "name": "stdout",
          "text": [
            "Epoch 8/10:\n",
            "Train Loss: 2.9561 | Val Loss: 3.4239\n"
          ]
        },
        {
          "output_type": "stream",
          "name": "stderr",
          "text": [
            "Training: 100%|██████████| 50/50 [00:04<00:00, 10.98it/s]\n",
            "Evaluating: 100%|██████████| 13/13 [00:00<00:00, 38.38it/s]\n",
            "[I 2025-05-09 12:52:50,725] Trial 16 finished with value: 2.9784118028787465 and parameters: {'d_model': 256, 'num_heads': 4, 'num_layers': 6, 'd_ff': 512, 'dropout': 0.3136258816730022, 'learning_rate': 0.002286315709357293, 'batch_size': 32}. Best is trial 14 with value: 0.3686918444358386.\n"
          ]
        },
        {
          "output_type": "stream",
          "name": "stdout",
          "text": [
            "Epoch 9/10:\n",
            "Train Loss: 2.9445 | Val Loss: 3.4084\n",
            "Early stopping triggered!\n"
          ]
        },
        {
          "output_type": "stream",
          "name": "stderr",
          "text": [
            "Training: 100%|██████████| 50/50 [00:04<00:00, 10.71it/s]\n",
            "Evaluating: 100%|██████████| 13/13 [00:00<00:00, 39.92it/s]\n"
          ]
        },
        {
          "output_type": "stream",
          "name": "stdout",
          "text": [
            "Epoch 1/10:\n",
            "Train Loss: 2.6558 | Val Loss: 2.1254\n"
          ]
        },
        {
          "output_type": "stream",
          "name": "stderr",
          "text": [
            "Training: 100%|██████████| 50/50 [00:04<00:00, 10.72it/s]\n",
            "Evaluating: 100%|██████████| 13/13 [00:00<00:00, 40.16it/s]\n"
          ]
        },
        {
          "output_type": "stream",
          "name": "stdout",
          "text": [
            "Epoch 2/10:\n",
            "Train Loss: 2.0117 | Val Loss: 1.7691\n"
          ]
        },
        {
          "output_type": "stream",
          "name": "stderr",
          "text": [
            "Training: 100%|██████████| 50/50 [00:04<00:00, 10.70it/s]\n",
            "Evaluating: 100%|██████████| 13/13 [00:00<00:00, 39.88it/s]\n"
          ]
        },
        {
          "output_type": "stream",
          "name": "stdout",
          "text": [
            "Epoch 3/10:\n",
            "Train Loss: 1.6396 | Val Loss: 1.2246\n"
          ]
        },
        {
          "output_type": "stream",
          "name": "stderr",
          "text": [
            "Training: 100%|██████████| 50/50 [00:04<00:00, 10.72it/s]\n",
            "Evaluating: 100%|██████████| 13/13 [00:00<00:00, 40.39it/s]\n"
          ]
        },
        {
          "output_type": "stream",
          "name": "stdout",
          "text": [
            "Epoch 4/10:\n",
            "Train Loss: 1.2376 | Val Loss: 0.8891\n"
          ]
        },
        {
          "output_type": "stream",
          "name": "stderr",
          "text": [
            "Training: 100%|██████████| 50/50 [00:04<00:00, 10.71it/s]\n",
            "Evaluating: 100%|██████████| 13/13 [00:00<00:00, 40.17it/s]\n"
          ]
        },
        {
          "output_type": "stream",
          "name": "stdout",
          "text": [
            "Epoch 5/10:\n",
            "Train Loss: 0.9869 | Val Loss: 0.6847\n"
          ]
        },
        {
          "output_type": "stream",
          "name": "stderr",
          "text": [
            "Training: 100%|██████████| 50/50 [00:04<00:00, 10.68it/s]\n",
            "Evaluating: 100%|██████████| 13/13 [00:00<00:00, 40.11it/s]\n"
          ]
        },
        {
          "output_type": "stream",
          "name": "stdout",
          "text": [
            "Epoch 6/10:\n",
            "Train Loss: 0.8129 | Val Loss: 0.5152\n"
          ]
        },
        {
          "output_type": "stream",
          "name": "stderr",
          "text": [
            "Training: 100%|██████████| 50/50 [00:04<00:00, 10.72it/s]\n",
            "Evaluating: 100%|██████████| 13/13 [00:00<00:00, 40.02it/s]\n"
          ]
        },
        {
          "output_type": "stream",
          "name": "stdout",
          "text": [
            "Epoch 7/10:\n",
            "Train Loss: 0.6624 | Val Loss: 0.3971\n"
          ]
        },
        {
          "output_type": "stream",
          "name": "stderr",
          "text": [
            "Training: 100%|██████████| 50/50 [00:04<00:00, 10.66it/s]\n",
            "Evaluating: 100%|██████████| 13/13 [00:00<00:00, 40.25it/s]\n"
          ]
        },
        {
          "output_type": "stream",
          "name": "stdout",
          "text": [
            "Epoch 8/10:\n",
            "Train Loss: 0.5707 | Val Loss: 0.3642\n"
          ]
        },
        {
          "output_type": "stream",
          "name": "stderr",
          "text": [
            "Training: 100%|██████████| 50/50 [00:04<00:00, 10.71it/s]\n",
            "Evaluating: 100%|██████████| 13/13 [00:00<00:00, 40.19it/s]\n"
          ]
        },
        {
          "output_type": "stream",
          "name": "stdout",
          "text": [
            "Epoch 9/10:\n",
            "Train Loss: 0.4904 | Val Loss: 0.3642\n"
          ]
        },
        {
          "output_type": "stream",
          "name": "stderr",
          "text": [
            "Training: 100%|██████████| 50/50 [00:04<00:00, 10.66it/s]\n",
            "Evaluating: 100%|██████████| 13/13 [00:00<00:00, 40.28it/s]\n",
            "[I 2025-05-09 12:53:40,987] Trial 17 finished with value: 0.29550619652638066 and parameters: {'d_model': 256, 'num_heads': 4, 'num_layers': 6, 'd_ff': 256, 'dropout': 0.2722300889779533, 'learning_rate': 0.0004354216405735617, 'batch_size': 32}. Best is trial 17 with value: 0.29550619652638066.\n"
          ]
        },
        {
          "output_type": "stream",
          "name": "stdout",
          "text": [
            "Epoch 10/10:\n",
            "Train Loss: 0.4399 | Val Loss: 0.2955\n",
            "New best model found! Val Loss: 0.2955\n",
            "Config: {'d_model': 256, 'num_heads': 4, 'num_layers': 6, 'd_ff': 256, 'dropout': 0.2722300889779533, 'learning_rate': 0.0004354216405735617, 'batch_size': 32}\n"
          ]
        },
        {
          "output_type": "stream",
          "name": "stderr",
          "text": [
            "Training: 100%|██████████| 50/50 [00:05<00:00,  8.41it/s]\n",
            "Evaluating: 100%|██████████| 13/13 [00:00<00:00, 24.80it/s]\n"
          ]
        },
        {
          "output_type": "stream",
          "name": "stdout",
          "text": [
            "Epoch 1/10:\n",
            "Train Loss: 2.6260 | Val Loss: 2.0848\n"
          ]
        },
        {
          "output_type": "stream",
          "name": "stderr",
          "text": [
            "Training: 100%|██████████| 50/50 [00:05<00:00,  8.40it/s]\n",
            "Evaluating: 100%|██████████| 13/13 [00:00<00:00, 24.71it/s]\n"
          ]
        },
        {
          "output_type": "stream",
          "name": "stdout",
          "text": [
            "Epoch 2/10:\n",
            "Train Loss: 1.9141 | Val Loss: 1.5863\n"
          ]
        },
        {
          "output_type": "stream",
          "name": "stderr",
          "text": [
            "Training: 100%|██████████| 50/50 [00:05<00:00,  8.42it/s]\n",
            "Evaluating: 100%|██████████| 13/13 [00:00<00:00, 24.83it/s]\n"
          ]
        },
        {
          "output_type": "stream",
          "name": "stdout",
          "text": [
            "Epoch 3/10:\n",
            "Train Loss: 1.4692 | Val Loss: 1.0832\n"
          ]
        },
        {
          "output_type": "stream",
          "name": "stderr",
          "text": [
            "Training: 100%|██████████| 50/50 [00:05<00:00,  8.43it/s]\n",
            "Evaluating: 100%|██████████| 13/13 [00:00<00:00, 24.71it/s]\n"
          ]
        },
        {
          "output_type": "stream",
          "name": "stdout",
          "text": [
            "Epoch 4/10:\n",
            "Train Loss: 1.0743 | Val Loss: 0.7237\n"
          ]
        },
        {
          "output_type": "stream",
          "name": "stderr",
          "text": [
            "Training: 100%|██████████| 50/50 [00:05<00:00,  8.42it/s]\n",
            "Evaluating: 100%|██████████| 13/13 [00:00<00:00, 24.75it/s]\n"
          ]
        },
        {
          "output_type": "stream",
          "name": "stdout",
          "text": [
            "Epoch 5/10:\n",
            "Train Loss: 0.8253 | Val Loss: 0.6261\n"
          ]
        },
        {
          "output_type": "stream",
          "name": "stderr",
          "text": [
            "Training: 100%|██████████| 50/50 [00:05<00:00,  8.42it/s]\n",
            "Evaluating: 100%|██████████| 13/13 [00:00<00:00, 24.64it/s]\n"
          ]
        },
        {
          "output_type": "stream",
          "name": "stdout",
          "text": [
            "Epoch 6/10:\n",
            "Train Loss: 0.6445 | Val Loss: 0.4960\n"
          ]
        },
        {
          "output_type": "stream",
          "name": "stderr",
          "text": [
            "Training: 100%|██████████| 50/50 [00:05<00:00,  8.41it/s]\n",
            "Evaluating: 100%|██████████| 13/13 [00:00<00:00, 24.78it/s]\n"
          ]
        },
        {
          "output_type": "stream",
          "name": "stdout",
          "text": [
            "Epoch 7/10:\n",
            "Train Loss: 0.5189 | Val Loss: 0.3991\n"
          ]
        },
        {
          "output_type": "stream",
          "name": "stderr",
          "text": [
            "Training: 100%|██████████| 50/50 [00:05<00:00,  8.42it/s]\n",
            "Evaluating: 100%|██████████| 13/13 [00:00<00:00, 24.86it/s]\n"
          ]
        },
        {
          "output_type": "stream",
          "name": "stdout",
          "text": [
            "Epoch 8/10:\n",
            "Train Loss: 0.4323 | Val Loss: 0.3511\n"
          ]
        },
        {
          "output_type": "stream",
          "name": "stderr",
          "text": [
            "Training: 100%|██████████| 50/50 [00:05<00:00,  8.44it/s]\n",
            "Evaluating: 100%|██████████| 13/13 [00:00<00:00, 24.88it/s]\n"
          ]
        },
        {
          "output_type": "stream",
          "name": "stdout",
          "text": [
            "Epoch 9/10:\n",
            "Train Loss: 0.3687 | Val Loss: 0.2913\n"
          ]
        },
        {
          "output_type": "stream",
          "name": "stderr",
          "text": [
            "Training: 100%|██████████| 50/50 [00:05<00:00,  8.40it/s]\n",
            "Evaluating: 100%|██████████| 13/13 [00:00<00:00, 24.67it/s]\n"
          ]
        },
        {
          "output_type": "stream",
          "name": "stdout",
          "text": [
            "Epoch 10/10:\n",
            "Train Loss: 0.3238 | Val Loss: 0.2308\n"
          ]
        },
        {
          "output_type": "stream",
          "name": "stderr",
          "text": [
            "[I 2025-05-09 12:54:46,199] Trial 18 finished with value: 0.23081068350718573 and parameters: {'d_model': 512, 'num_heads': 4, 'num_layers': 6, 'd_ff': 256, 'dropout': 0.2809928536387791, 'learning_rate': 0.0001889553801861348, 'batch_size': 32}. Best is trial 18 with value: 0.23081068350718573.\n"
          ]
        },
        {
          "output_type": "stream",
          "name": "stdout",
          "text": [
            "New best model found! Val Loss: 0.2308\n",
            "Config: {'d_model': 512, 'num_heads': 4, 'num_layers': 6, 'd_ff': 256, 'dropout': 0.2809928536387791, 'learning_rate': 0.0001889553801861348, 'batch_size': 32}\n"
          ]
        },
        {
          "output_type": "stream",
          "name": "stderr",
          "text": [
            "Training: 100%|██████████| 50/50 [00:07<00:00,  6.96it/s]\n",
            "Evaluating: 100%|██████████| 13/13 [00:00<00:00, 20.60it/s]\n"
          ]
        },
        {
          "output_type": "stream",
          "name": "stdout",
          "text": [
            "Epoch 1/10:\n",
            "Train Loss: 2.6192 | Val Loss: 2.1231\n"
          ]
        },
        {
          "output_type": "stream",
          "name": "stderr",
          "text": [
            "Training: 100%|██████████| 50/50 [00:07<00:00,  6.93it/s]\n",
            "Evaluating: 100%|██████████| 13/13 [00:00<00:00, 20.60it/s]\n"
          ]
        },
        {
          "output_type": "stream",
          "name": "stdout",
          "text": [
            "Epoch 2/10:\n",
            "Train Loss: 2.0053 | Val Loss: 1.7981\n"
          ]
        },
        {
          "output_type": "stream",
          "name": "stderr",
          "text": [
            "Training: 100%|██████████| 50/50 [00:07<00:00,  6.93it/s]\n",
            "Evaluating: 100%|██████████| 13/13 [00:00<00:00, 20.61it/s]\n"
          ]
        },
        {
          "output_type": "stream",
          "name": "stdout",
          "text": [
            "Epoch 3/10:\n",
            "Train Loss: 1.6744 | Val Loss: 1.2962\n"
          ]
        },
        {
          "output_type": "stream",
          "name": "stderr",
          "text": [
            "Training: 100%|██████████| 50/50 [00:07<00:00,  6.95it/s]\n",
            "Evaluating: 100%|██████████| 13/13 [00:00<00:00, 20.63it/s]\n"
          ]
        },
        {
          "output_type": "stream",
          "name": "stdout",
          "text": [
            "Epoch 4/10:\n",
            "Train Loss: 1.2996 | Val Loss: 0.9456\n"
          ]
        },
        {
          "output_type": "stream",
          "name": "stderr",
          "text": [
            "Training: 100%|██████████| 50/50 [00:07<00:00,  6.95it/s]\n",
            "Evaluating: 100%|██████████| 13/13 [00:00<00:00, 20.59it/s]\n"
          ]
        },
        {
          "output_type": "stream",
          "name": "stdout",
          "text": [
            "Epoch 5/10:\n",
            "Train Loss: 1.0068 | Val Loss: 0.7397\n"
          ]
        },
        {
          "output_type": "stream",
          "name": "stderr",
          "text": [
            "Training: 100%|██████████| 50/50 [00:07<00:00,  6.95it/s]\n",
            "Evaluating: 100%|██████████| 13/13 [00:00<00:00, 20.59it/s]\n"
          ]
        },
        {
          "output_type": "stream",
          "name": "stdout",
          "text": [
            "Epoch 6/10:\n",
            "Train Loss: 0.8158 | Val Loss: 0.5595\n"
          ]
        },
        {
          "output_type": "stream",
          "name": "stderr",
          "text": [
            "Training: 100%|██████████| 50/50 [00:07<00:00,  6.96it/s]\n",
            "Evaluating: 100%|██████████| 13/13 [00:00<00:00, 20.62it/s]\n"
          ]
        },
        {
          "output_type": "stream",
          "name": "stdout",
          "text": [
            "Epoch 7/10:\n",
            "Train Loss: 0.6603 | Val Loss: 0.4775\n"
          ]
        },
        {
          "output_type": "stream",
          "name": "stderr",
          "text": [
            "Training: 100%|██████████| 50/50 [00:07<00:00,  6.95it/s]\n",
            "Evaluating: 100%|██████████| 13/13 [00:00<00:00, 20.61it/s]\n"
          ]
        },
        {
          "output_type": "stream",
          "name": "stdout",
          "text": [
            "Epoch 8/10:\n",
            "Train Loss: 0.5569 | Val Loss: 0.4455\n"
          ]
        },
        {
          "output_type": "stream",
          "name": "stderr",
          "text": [
            "Training: 100%|██████████| 50/50 [00:07<00:00,  6.94it/s]\n",
            "Evaluating: 100%|██████████| 13/13 [00:00<00:00, 20.48it/s]\n"
          ]
        },
        {
          "output_type": "stream",
          "name": "stdout",
          "text": [
            "Epoch 9/10:\n",
            "Train Loss: 0.4896 | Val Loss: 0.3684\n"
          ]
        },
        {
          "output_type": "stream",
          "name": "stderr",
          "text": [
            "Training: 100%|██████████| 50/50 [00:07<00:00,  6.95it/s]\n",
            "Evaluating: 100%|██████████| 13/13 [00:00<00:00, 20.55it/s]\n",
            "[I 2025-05-09 12:56:04,827] Trial 19 finished with value: 0.2819112115181409 and parameters: {'d_model': 512, 'num_heads': 8, 'num_layers': 6, 'd_ff': 512, 'dropout': 0.27287210483799806, 'learning_rate': 0.0001449331101362119, 'batch_size': 32}. Best is trial 18 with value: 0.23081068350718573.\n"
          ]
        },
        {
          "output_type": "stream",
          "name": "stdout",
          "text": [
            "Epoch 10/10:\n",
            "Train Loss: 0.4216 | Val Loss: 0.2819\n"
          ]
        },
        {
          "output_type": "stream",
          "name": "stderr",
          "text": [
            "Training: 100%|██████████| 50/50 [00:14<00:00,  3.56it/s]\n",
            "Evaluating: 100%|██████████| 13/13 [00:01<00:00, 10.83it/s]\n"
          ]
        },
        {
          "output_type": "stream",
          "name": "stdout",
          "text": [
            "Epoch 1/10:\n",
            "Train Loss: 3.0647 | Val Loss: 2.4474\n"
          ]
        },
        {
          "output_type": "stream",
          "name": "stderr",
          "text": [
            "Training: 100%|██████████| 50/50 [00:14<00:00,  3.56it/s]\n",
            "Evaluating: 100%|██████████| 13/13 [00:01<00:00, 10.84it/s]\n"
          ]
        },
        {
          "output_type": "stream",
          "name": "stdout",
          "text": [
            "Epoch 2/10:\n",
            "Train Loss: 2.1972 | Val Loss: 2.0291\n"
          ]
        },
        {
          "output_type": "stream",
          "name": "stderr",
          "text": [
            "Training: 100%|██████████| 50/50 [00:14<00:00,  3.56it/s]\n",
            "Evaluating: 100%|██████████| 13/13 [00:01<00:00, 10.86it/s]\n"
          ]
        },
        {
          "output_type": "stream",
          "name": "stdout",
          "text": [
            "Epoch 3/10:\n",
            "Train Loss: 1.9221 | Val Loss: 1.8000\n"
          ]
        },
        {
          "output_type": "stream",
          "name": "stderr",
          "text": [
            "Training: 100%|██████████| 50/50 [00:14<00:00,  3.57it/s]\n",
            "Evaluating: 100%|██████████| 13/13 [00:01<00:00, 10.85it/s]\n"
          ]
        },
        {
          "output_type": "stream",
          "name": "stdout",
          "text": [
            "Epoch 4/10:\n",
            "Train Loss: 1.6012 | Val Loss: 1.3451\n"
          ]
        },
        {
          "output_type": "stream",
          "name": "stderr",
          "text": [
            "Training: 100%|██████████| 50/50 [00:14<00:00,  3.57it/s]\n",
            "Evaluating: 100%|██████████| 13/13 [00:01<00:00, 10.83it/s]\n"
          ]
        },
        {
          "output_type": "stream",
          "name": "stdout",
          "text": [
            "Epoch 5/10:\n",
            "Train Loss: 1.1702 | Val Loss: 0.8339\n"
          ]
        },
        {
          "output_type": "stream",
          "name": "stderr",
          "text": [
            "Training: 100%|██████████| 50/50 [00:14<00:00,  3.57it/s]\n",
            "Evaluating: 100%|██████████| 13/13 [00:01<00:00, 10.82it/s]\n"
          ]
        },
        {
          "output_type": "stream",
          "name": "stdout",
          "text": [
            "Epoch 6/10:\n",
            "Train Loss: 0.8474 | Val Loss: 0.6789\n"
          ]
        },
        {
          "output_type": "stream",
          "name": "stderr",
          "text": [
            "Training: 100%|██████████| 50/50 [00:14<00:00,  3.57it/s]\n",
            "Evaluating: 100%|██████████| 13/13 [00:01<00:00, 10.84it/s]\n"
          ]
        },
        {
          "output_type": "stream",
          "name": "stdout",
          "text": [
            "Epoch 7/10:\n",
            "Train Loss: 0.6660 | Val Loss: 0.5339\n"
          ]
        },
        {
          "output_type": "stream",
          "name": "stderr",
          "text": [
            "Training: 100%|██████████| 50/50 [00:14<00:00,  3.57it/s]\n",
            "Evaluating: 100%|██████████| 13/13 [00:01<00:00, 10.85it/s]\n"
          ]
        },
        {
          "output_type": "stream",
          "name": "stdout",
          "text": [
            "Epoch 8/10:\n",
            "Train Loss: 0.5513 | Val Loss: 0.4418\n"
          ]
        },
        {
          "output_type": "stream",
          "name": "stderr",
          "text": [
            "Training: 100%|██████████| 50/50 [00:14<00:00,  3.57it/s]\n",
            "Evaluating: 100%|██████████| 13/13 [00:01<00:00, 10.85it/s]\n"
          ]
        },
        {
          "output_type": "stream",
          "name": "stdout",
          "text": [
            "Epoch 9/10:\n",
            "Train Loss: 0.4801 | Val Loss: 0.3921\n"
          ]
        },
        {
          "output_type": "stream",
          "name": "stderr",
          "text": [
            "Training: 100%|██████████| 50/50 [00:14<00:00,  3.56it/s]\n",
            "Evaluating: 100%|██████████| 13/13 [00:01<00:00, 10.85it/s]\n",
            "[I 2025-05-09 12:58:37,652] Trial 20 finished with value: 0.3172044146519441 and parameters: {'d_model': 512, 'num_heads': 8, 'num_layers': 12, 'd_ff': 512, 'dropout': 0.16033535841645047, 'learning_rate': 0.00015826921106148334, 'batch_size': 32}. Best is trial 18 with value: 0.23081068350718573.\n"
          ]
        },
        {
          "output_type": "stream",
          "name": "stdout",
          "text": [
            "Epoch 10/10:\n",
            "Train Loss: 0.3875 | Val Loss: 0.3172\n"
          ]
        },
        {
          "output_type": "stream",
          "name": "stderr",
          "text": [
            "Training: 100%|██████████| 50/50 [00:07<00:00,  6.96it/s]\n",
            "Evaluating: 100%|██████████| 13/13 [00:00<00:00, 20.67it/s]\n"
          ]
        },
        {
          "output_type": "stream",
          "name": "stdout",
          "text": [
            "Epoch 1/10:\n",
            "Train Loss: 2.6380 | Val Loss: 2.0722\n"
          ]
        },
        {
          "output_type": "stream",
          "name": "stderr",
          "text": [
            "Training: 100%|██████████| 50/50 [00:07<00:00,  6.95it/s]\n",
            "Evaluating: 100%|██████████| 13/13 [00:00<00:00, 20.64it/s]\n"
          ]
        },
        {
          "output_type": "stream",
          "name": "stdout",
          "text": [
            "Epoch 2/10:\n",
            "Train Loss: 1.9492 | Val Loss: 1.6765\n"
          ]
        },
        {
          "output_type": "stream",
          "name": "stderr",
          "text": [
            "Training: 100%|██████████| 50/50 [00:07<00:00,  6.95it/s]\n",
            "Evaluating: 100%|██████████| 13/13 [00:00<00:00, 20.63it/s]\n"
          ]
        },
        {
          "output_type": "stream",
          "name": "stdout",
          "text": [
            "Epoch 3/10:\n",
            "Train Loss: 1.5301 | Val Loss: 1.1444\n"
          ]
        },
        {
          "output_type": "stream",
          "name": "stderr",
          "text": [
            "Training: 100%|██████████| 50/50 [00:07<00:00,  6.96it/s]\n",
            "Evaluating: 100%|██████████| 13/13 [00:00<00:00, 20.58it/s]\n"
          ]
        },
        {
          "output_type": "stream",
          "name": "stdout",
          "text": [
            "Epoch 4/10:\n",
            "Train Loss: 1.1228 | Val Loss: 0.8099\n"
          ]
        },
        {
          "output_type": "stream",
          "name": "stderr",
          "text": [
            "Training: 100%|██████████| 50/50 [00:07<00:00,  6.94it/s]\n",
            "Evaluating: 100%|██████████| 13/13 [00:00<00:00, 20.53it/s]\n"
          ]
        },
        {
          "output_type": "stream",
          "name": "stdout",
          "text": [
            "Epoch 5/10:\n",
            "Train Loss: 0.8687 | Val Loss: 0.6213\n"
          ]
        },
        {
          "output_type": "stream",
          "name": "stderr",
          "text": [
            "Training: 100%|██████████| 50/50 [00:07<00:00,  6.94it/s]\n",
            "Evaluating: 100%|██████████| 13/13 [00:00<00:00, 20.51it/s]\n"
          ]
        },
        {
          "output_type": "stream",
          "name": "stdout",
          "text": [
            "Epoch 6/10:\n",
            "Train Loss: 0.6858 | Val Loss: 0.5627\n"
          ]
        },
        {
          "output_type": "stream",
          "name": "stderr",
          "text": [
            "Training: 100%|██████████| 50/50 [00:07<00:00,  6.95it/s]\n",
            "Evaluating: 100%|██████████| 13/13 [00:00<00:00, 20.49it/s]\n"
          ]
        },
        {
          "output_type": "stream",
          "name": "stdout",
          "text": [
            "Epoch 7/10:\n",
            "Train Loss: 0.5684 | Val Loss: 0.4196\n"
          ]
        },
        {
          "output_type": "stream",
          "name": "stderr",
          "text": [
            "Training: 100%|██████████| 50/50 [00:07<00:00,  6.96it/s]\n",
            "Evaluating: 100%|██████████| 13/13 [00:00<00:00, 20.65it/s]\n"
          ]
        },
        {
          "output_type": "stream",
          "name": "stdout",
          "text": [
            "Epoch 8/10:\n",
            "Train Loss: 0.4772 | Val Loss: 0.3746\n"
          ]
        },
        {
          "output_type": "stream",
          "name": "stderr",
          "text": [
            "Training: 100%|██████████| 50/50 [00:07<00:00,  6.96it/s]\n",
            "Evaluating: 100%|██████████| 13/13 [00:00<00:00, 20.51it/s]\n"
          ]
        },
        {
          "output_type": "stream",
          "name": "stdout",
          "text": [
            "Epoch 9/10:\n",
            "Train Loss: 0.4217 | Val Loss: 0.3827\n"
          ]
        },
        {
          "output_type": "stream",
          "name": "stderr",
          "text": [
            "Training: 100%|██████████| 50/50 [00:07<00:00,  6.95it/s]\n",
            "Evaluating: 100%|██████████| 13/13 [00:00<00:00, 20.53it/s]\n",
            "[I 2025-05-09 12:59:56,222] Trial 21 finished with value: 0.2520057793993216 and parameters: {'d_model': 512, 'num_heads': 8, 'num_layers': 6, 'd_ff': 512, 'dropout': 0.2725797596397792, 'learning_rate': 0.00017577802490062686, 'batch_size': 32}. Best is trial 18 with value: 0.23081068350718573.\n"
          ]
        },
        {
          "output_type": "stream",
          "name": "stdout",
          "text": [
            "Epoch 10/10:\n",
            "Train Loss: 0.3644 | Val Loss: 0.2520\n"
          ]
        },
        {
          "output_type": "stream",
          "name": "stderr",
          "text": [
            "Training: 100%|██████████| 50/50 [00:07<00:00,  6.94it/s]\n",
            "Evaluating: 100%|██████████| 13/13 [00:00<00:00, 20.59it/s]\n"
          ]
        },
        {
          "output_type": "stream",
          "name": "stdout",
          "text": [
            "Epoch 1/10:\n",
            "Train Loss: 2.6338 | Val Loss: 2.0801\n"
          ]
        },
        {
          "output_type": "stream",
          "name": "stderr",
          "text": [
            "Training: 100%|██████████| 50/50 [00:07<00:00,  6.96it/s]\n",
            "Evaluating: 100%|██████████| 13/13 [00:00<00:00, 20.48it/s]\n"
          ]
        },
        {
          "output_type": "stream",
          "name": "stdout",
          "text": [
            "Epoch 2/10:\n",
            "Train Loss: 1.9811 | Val Loss: 1.7838\n"
          ]
        },
        {
          "output_type": "stream",
          "name": "stderr",
          "text": [
            "Training: 100%|██████████| 50/50 [00:07<00:00,  6.95it/s]\n",
            "Evaluating: 100%|██████████| 13/13 [00:00<00:00, 20.48it/s]\n"
          ]
        },
        {
          "output_type": "stream",
          "name": "stdout",
          "text": [
            "Epoch 3/10:\n",
            "Train Loss: 1.6318 | Val Loss: 1.2800\n"
          ]
        },
        {
          "output_type": "stream",
          "name": "stderr",
          "text": [
            "Training: 100%|██████████| 50/50 [00:07<00:00,  6.95it/s]\n",
            "Evaluating: 100%|██████████| 13/13 [00:00<00:00, 20.40it/s]\n"
          ]
        },
        {
          "output_type": "stream",
          "name": "stdout",
          "text": [
            "Epoch 4/10:\n",
            "Train Loss: 1.2358 | Val Loss: 0.9143\n"
          ]
        },
        {
          "output_type": "stream",
          "name": "stderr",
          "text": [
            "Training: 100%|██████████| 50/50 [00:07<00:00,  6.93it/s]\n",
            "Evaluating: 100%|██████████| 13/13 [00:00<00:00, 20.61it/s]\n"
          ]
        },
        {
          "output_type": "stream",
          "name": "stdout",
          "text": [
            "Epoch 5/10:\n",
            "Train Loss: 0.9657 | Val Loss: 0.6962\n"
          ]
        },
        {
          "output_type": "stream",
          "name": "stderr",
          "text": [
            "Training: 100%|██████████| 50/50 [00:07<00:00,  6.96it/s]\n",
            "Evaluating: 100%|██████████| 13/13 [00:00<00:00, 20.61it/s]\n"
          ]
        },
        {
          "output_type": "stream",
          "name": "stdout",
          "text": [
            "Epoch 6/10:\n",
            "Train Loss: 0.7728 | Val Loss: 0.5523\n"
          ]
        },
        {
          "output_type": "stream",
          "name": "stderr",
          "text": [
            "Training: 100%|██████████| 50/50 [00:07<00:00,  6.96it/s]\n",
            "Evaluating: 100%|██████████| 13/13 [00:00<00:00, 20.68it/s]\n"
          ]
        },
        {
          "output_type": "stream",
          "name": "stdout",
          "text": [
            "Epoch 7/10:\n",
            "Train Loss: 0.6358 | Val Loss: 0.4657\n"
          ]
        },
        {
          "output_type": "stream",
          "name": "stderr",
          "text": [
            "Training: 100%|██████████| 50/50 [00:07<00:00,  6.96it/s]\n",
            "Evaluating: 100%|██████████| 13/13 [00:00<00:00, 20.53it/s]\n"
          ]
        },
        {
          "output_type": "stream",
          "name": "stdout",
          "text": [
            "Epoch 8/10:\n",
            "Train Loss: 0.5367 | Val Loss: 0.3790\n"
          ]
        },
        {
          "output_type": "stream",
          "name": "stderr",
          "text": [
            "Training: 100%|██████████| 50/50 [00:07<00:00,  6.95it/s]\n",
            "Evaluating: 100%|██████████| 13/13 [00:00<00:00, 20.65it/s]\n"
          ]
        },
        {
          "output_type": "stream",
          "name": "stdout",
          "text": [
            "Epoch 9/10:\n",
            "Train Loss: 0.4578 | Val Loss: 0.3330\n"
          ]
        },
        {
          "output_type": "stream",
          "name": "stderr",
          "text": [
            "Training: 100%|██████████| 50/50 [00:07<00:00,  6.94it/s]\n",
            "Evaluating: 100%|██████████| 13/13 [00:00<00:00, 20.73it/s]\n",
            "[I 2025-05-09 13:01:14,845] Trial 22 finished with value: 0.3110747371728604 and parameters: {'d_model': 512, 'num_heads': 8, 'num_layers': 6, 'd_ff': 512, 'dropout': 0.2909354220270307, 'learning_rate': 0.0001665307215199937, 'batch_size': 32}. Best is trial 18 with value: 0.23081068350718573.\n"
          ]
        },
        {
          "output_type": "stream",
          "name": "stdout",
          "text": [
            "Epoch 10/10:\n",
            "Train Loss: 0.3925 | Val Loss: 0.3111\n"
          ]
        },
        {
          "output_type": "stream",
          "name": "stderr",
          "text": [
            "Training: 100%|██████████| 50/50 [00:07<00:00,  6.94it/s]\n",
            "Evaluating: 100%|██████████| 13/13 [00:00<00:00, 20.47it/s]\n"
          ]
        },
        {
          "output_type": "stream",
          "name": "stdout",
          "text": [
            "Epoch 1/10:\n",
            "Train Loss: 2.5765 | Val Loss: 2.0358\n"
          ]
        },
        {
          "output_type": "stream",
          "name": "stderr",
          "text": [
            "Training: 100%|██████████| 50/50 [00:07<00:00,  6.96it/s]\n",
            "Evaluating: 100%|██████████| 13/13 [00:00<00:00, 20.58it/s]\n"
          ]
        },
        {
          "output_type": "stream",
          "name": "stdout",
          "text": [
            "Epoch 2/10:\n",
            "Train Loss: 1.9120 | Val Loss: 1.5905\n"
          ]
        },
        {
          "output_type": "stream",
          "name": "stderr",
          "text": [
            "Training: 100%|██████████| 50/50 [00:07<00:00,  6.95it/s]\n",
            "Evaluating: 100%|██████████| 13/13 [00:00<00:00, 20.49it/s]\n"
          ]
        },
        {
          "output_type": "stream",
          "name": "stdout",
          "text": [
            "Epoch 3/10:\n",
            "Train Loss: 1.4343 | Val Loss: 1.0615\n"
          ]
        },
        {
          "output_type": "stream",
          "name": "stderr",
          "text": [
            "Training: 100%|██████████| 50/50 [00:07<00:00,  6.96it/s]\n",
            "Evaluating: 100%|██████████| 13/13 [00:00<00:00, 20.66it/s]\n"
          ]
        },
        {
          "output_type": "stream",
          "name": "stdout",
          "text": [
            "Epoch 4/10:\n",
            "Train Loss: 1.0531 | Val Loss: 0.7637\n"
          ]
        },
        {
          "output_type": "stream",
          "name": "stderr",
          "text": [
            "Training: 100%|██████████| 50/50 [00:07<00:00,  6.95it/s]\n",
            "Evaluating: 100%|██████████| 13/13 [00:00<00:00, 20.57it/s]\n"
          ]
        },
        {
          "output_type": "stream",
          "name": "stdout",
          "text": [
            "Epoch 5/10:\n",
            "Train Loss: 0.7992 | Val Loss: 0.5719\n"
          ]
        },
        {
          "output_type": "stream",
          "name": "stderr",
          "text": [
            "Training: 100%|██████████| 50/50 [00:07<00:00,  6.94it/s]\n",
            "Evaluating: 100%|██████████| 13/13 [00:00<00:00, 20.67it/s]\n"
          ]
        },
        {
          "output_type": "stream",
          "name": "stdout",
          "text": [
            "Epoch 6/10:\n",
            "Train Loss: 0.6063 | Val Loss: 0.4343\n"
          ]
        },
        {
          "output_type": "stream",
          "name": "stderr",
          "text": [
            "Training: 100%|██████████| 50/50 [00:07<00:00,  6.95it/s]\n",
            "Evaluating: 100%|██████████| 13/13 [00:00<00:00, 20.56it/s]\n"
          ]
        },
        {
          "output_type": "stream",
          "name": "stdout",
          "text": [
            "Epoch 7/10:\n",
            "Train Loss: 0.4951 | Val Loss: 0.3925\n"
          ]
        },
        {
          "output_type": "stream",
          "name": "stderr",
          "text": [
            "Training: 100%|██████████| 50/50 [00:07<00:00,  6.96it/s]\n",
            "Evaluating: 100%|██████████| 13/13 [00:00<00:00, 20.54it/s]\n"
          ]
        },
        {
          "output_type": "stream",
          "name": "stdout",
          "text": [
            "Epoch 8/10:\n",
            "Train Loss: 0.4204 | Val Loss: 0.3204\n"
          ]
        },
        {
          "output_type": "stream",
          "name": "stderr",
          "text": [
            "Training: 100%|██████████| 50/50 [00:07<00:00,  6.95it/s]\n",
            "Evaluating: 100%|██████████| 13/13 [00:00<00:00, 20.62it/s]\n"
          ]
        },
        {
          "output_type": "stream",
          "name": "stdout",
          "text": [
            "Epoch 9/10:\n",
            "Train Loss: 0.3676 | Val Loss: 0.2425\n"
          ]
        },
        {
          "output_type": "stream",
          "name": "stderr",
          "text": [
            "Training: 100%|██████████| 50/50 [00:07<00:00,  6.95it/s]\n",
            "Evaluating: 100%|██████████| 13/13 [00:00<00:00, 20.34it/s]\n",
            "[I 2025-05-09 13:02:33,463] Trial 23 finished with value: 0.2424612962282621 and parameters: {'d_model': 512, 'num_heads': 8, 'num_layers': 6, 'd_ff': 512, 'dropout': 0.25014478913059135, 'learning_rate': 0.00019194865200249675, 'batch_size': 32}. Best is trial 18 with value: 0.23081068350718573.\n"
          ]
        },
        {
          "output_type": "stream",
          "name": "stdout",
          "text": [
            "Epoch 10/10:\n",
            "Train Loss: 0.3146 | Val Loss: 0.2489\n"
          ]
        },
        {
          "output_type": "stream",
          "name": "stderr",
          "text": [
            "Training: 100%|██████████| 50/50 [00:11<00:00,  4.26it/s]\n",
            "Evaluating: 100%|██████████| 13/13 [00:01<00:00, 12.90it/s]\n"
          ]
        },
        {
          "output_type": "stream",
          "name": "stdout",
          "text": [
            "Epoch 1/10:\n",
            "Train Loss: 3.1232 | Val Loss: 2.9891\n"
          ]
        },
        {
          "output_type": "stream",
          "name": "stderr",
          "text": [
            "Training: 100%|██████████| 50/50 [00:11<00:00,  4.26it/s]\n",
            "Evaluating: 100%|██████████| 13/13 [00:01<00:00, 12.85it/s]\n"
          ]
        },
        {
          "output_type": "stream",
          "name": "stdout",
          "text": [
            "Epoch 2/10:\n",
            "Train Loss: 2.9910 | Val Loss: 2.9654\n"
          ]
        },
        {
          "output_type": "stream",
          "name": "stderr",
          "text": [
            "Training: 100%|██████████| 50/50 [00:11<00:00,  4.26it/s]\n",
            "Evaluating: 100%|██████████| 13/13 [00:01<00:00, 12.88it/s]\n"
          ]
        },
        {
          "output_type": "stream",
          "name": "stdout",
          "text": [
            "Epoch 3/10:\n",
            "Train Loss: 2.6858 | Val Loss: 2.3328\n"
          ]
        },
        {
          "output_type": "stream",
          "name": "stderr",
          "text": [
            "Training: 100%|██████████| 50/50 [00:11<00:00,  4.26it/s]\n",
            "Evaluating: 100%|██████████| 13/13 [00:01<00:00, 12.86it/s]\n"
          ]
        },
        {
          "output_type": "stream",
          "name": "stdout",
          "text": [
            "Epoch 4/10:\n",
            "Train Loss: 2.1899 | Val Loss: 2.1009\n"
          ]
        },
        {
          "output_type": "stream",
          "name": "stderr",
          "text": [
            "Training: 100%|██████████| 50/50 [00:11<00:00,  4.26it/s]\n",
            "Evaluating: 100%|██████████| 13/13 [00:01<00:00, 12.86it/s]\n"
          ]
        },
        {
          "output_type": "stream",
          "name": "stdout",
          "text": [
            "Epoch 5/10:\n",
            "Train Loss: 1.9787 | Val Loss: 1.8899\n"
          ]
        },
        {
          "output_type": "stream",
          "name": "stderr",
          "text": [
            "Training: 100%|██████████| 50/50 [00:11<00:00,  4.26it/s]\n",
            "Evaluating: 100%|██████████| 13/13 [00:01<00:00, 12.87it/s]\n"
          ]
        },
        {
          "output_type": "stream",
          "name": "stdout",
          "text": [
            "Epoch 6/10:\n",
            "Train Loss: 1.7925 | Val Loss: 1.6020\n"
          ]
        },
        {
          "output_type": "stream",
          "name": "stderr",
          "text": [
            "Training: 100%|██████████| 50/50 [00:11<00:00,  4.25it/s]\n",
            "Evaluating: 100%|██████████| 13/13 [00:01<00:00, 12.87it/s]\n"
          ]
        },
        {
          "output_type": "stream",
          "name": "stdout",
          "text": [
            "Epoch 7/10:\n",
            "Train Loss: 1.4218 | Val Loss: 1.1488\n"
          ]
        },
        {
          "output_type": "stream",
          "name": "stderr",
          "text": [
            "Training: 100%|██████████| 50/50 [00:11<00:00,  4.26it/s]\n",
            "Evaluating: 100%|██████████| 13/13 [00:01<00:00, 12.91it/s]\n"
          ]
        },
        {
          "output_type": "stream",
          "name": "stdout",
          "text": [
            "Epoch 8/10:\n",
            "Train Loss: 1.0800 | Val Loss: 0.8068\n"
          ]
        },
        {
          "output_type": "stream",
          "name": "stderr",
          "text": [
            "Training: 100%|██████████| 50/50 [00:11<00:00,  4.26it/s]\n",
            "Evaluating: 100%|██████████| 13/13 [00:01<00:00, 12.89it/s]\n"
          ]
        },
        {
          "output_type": "stream",
          "name": "stdout",
          "text": [
            "Epoch 9/10:\n",
            "Train Loss: 0.8413 | Val Loss: 0.6614\n"
          ]
        },
        {
          "output_type": "stream",
          "name": "stderr",
          "text": [
            "Training: 100%|██████████| 50/50 [00:11<00:00,  4.26it/s]\n",
            "Evaluating: 100%|██████████| 13/13 [00:01<00:00, 12.91it/s]\n",
            "[I 2025-05-09 13:04:41,536] Trial 24 finished with value: 0.5862870239294492 and parameters: {'d_model': 512, 'num_heads': 8, 'num_layers': 10, 'd_ff': 512, 'dropout': 0.254993453117583, 'learning_rate': 0.0002517665702142728, 'batch_size': 32}. Best is trial 18 with value: 0.23081068350718573.\n"
          ]
        },
        {
          "output_type": "stream",
          "name": "stdout",
          "text": [
            "Epoch 10/10:\n",
            "Train Loss: 0.6839 | Val Loss: 0.5863\n"
          ]
        },
        {
          "output_type": "stream",
          "name": "stderr",
          "text": [
            "Training: 100%|██████████| 50/50 [00:07<00:00,  6.94it/s]\n",
            "Evaluating: 100%|██████████| 13/13 [00:00<00:00, 20.55it/s]\n"
          ]
        },
        {
          "output_type": "stream",
          "name": "stdout",
          "text": [
            "Epoch 1/10:\n",
            "Train Loss: 2.6587 | Val Loss: 2.1292\n"
          ]
        },
        {
          "output_type": "stream",
          "name": "stderr",
          "text": [
            "Training: 100%|██████████| 50/50 [00:07<00:00,  6.95it/s]\n",
            "Evaluating: 100%|██████████| 13/13 [00:00<00:00, 20.54it/s]\n"
          ]
        },
        {
          "output_type": "stream",
          "name": "stdout",
          "text": [
            "Epoch 2/10:\n",
            "Train Loss: 2.0363 | Val Loss: 1.8713\n"
          ]
        },
        {
          "output_type": "stream",
          "name": "stderr",
          "text": [
            "Training: 100%|██████████| 50/50 [00:07<00:00,  6.95it/s]\n",
            "Evaluating: 100%|██████████| 13/13 [00:00<00:00, 20.59it/s]\n"
          ]
        },
        {
          "output_type": "stream",
          "name": "stdout",
          "text": [
            "Epoch 3/10:\n",
            "Train Loss: 1.7892 | Val Loss: 1.5209\n"
          ]
        },
        {
          "output_type": "stream",
          "name": "stderr",
          "text": [
            "Training: 100%|██████████| 50/50 [00:07<00:00,  6.95it/s]\n",
            "Evaluating: 100%|██████████| 13/13 [00:00<00:00, 20.63it/s]\n"
          ]
        },
        {
          "output_type": "stream",
          "name": "stdout",
          "text": [
            "Epoch 4/10:\n",
            "Train Loss: 1.4631 | Val Loss: 1.1192\n"
          ]
        },
        {
          "output_type": "stream",
          "name": "stderr",
          "text": [
            "Training: 100%|██████████| 50/50 [00:07<00:00,  6.95it/s]\n",
            "Evaluating: 100%|██████████| 13/13 [00:00<00:00, 20.52it/s]\n"
          ]
        },
        {
          "output_type": "stream",
          "name": "stdout",
          "text": [
            "Epoch 5/10:\n",
            "Train Loss: 1.1656 | Val Loss: 0.8376\n"
          ]
        },
        {
          "output_type": "stream",
          "name": "stderr",
          "text": [
            "Training: 100%|██████████| 50/50 [00:07<00:00,  6.95it/s]\n",
            "Evaluating: 100%|██████████| 13/13 [00:00<00:00, 20.61it/s]\n"
          ]
        },
        {
          "output_type": "stream",
          "name": "stdout",
          "text": [
            "Epoch 6/10:\n",
            "Train Loss: 0.9484 | Val Loss: 0.6562\n"
          ]
        },
        {
          "output_type": "stream",
          "name": "stderr",
          "text": [
            "Training: 100%|██████████| 50/50 [00:07<00:00,  6.96it/s]\n",
            "Evaluating: 100%|██████████| 13/13 [00:00<00:00, 20.65it/s]\n"
          ]
        },
        {
          "output_type": "stream",
          "name": "stdout",
          "text": [
            "Epoch 7/10:\n",
            "Train Loss: 0.7941 | Val Loss: 0.6821\n"
          ]
        },
        {
          "output_type": "stream",
          "name": "stderr",
          "text": [
            "Training: 100%|██████████| 50/50 [00:07<00:00,  6.95it/s]\n",
            "Evaluating: 100%|██████████| 13/13 [00:00<00:00, 20.61it/s]\n"
          ]
        },
        {
          "output_type": "stream",
          "name": "stdout",
          "text": [
            "Epoch 8/10:\n",
            "Train Loss: 0.6762 | Val Loss: 0.4943\n"
          ]
        },
        {
          "output_type": "stream",
          "name": "stderr",
          "text": [
            "Training: 100%|██████████| 50/50 [00:07<00:00,  6.95it/s]\n",
            "Evaluating: 100%|██████████| 13/13 [00:00<00:00, 20.72it/s]\n"
          ]
        },
        {
          "output_type": "stream",
          "name": "stdout",
          "text": [
            "Epoch 9/10:\n",
            "Train Loss: 0.5932 | Val Loss: 0.4502\n"
          ]
        },
        {
          "output_type": "stream",
          "name": "stderr",
          "text": [
            "Training: 100%|██████████| 50/50 [00:07<00:00,  6.95it/s]\n",
            "Evaluating: 100%|██████████| 13/13 [00:00<00:00, 20.46it/s]\n",
            "[I 2025-05-09 13:06:00,140] Trial 25 finished with value: 0.38724776070851546 and parameters: {'d_model': 512, 'num_heads': 8, 'num_layers': 6, 'd_ff': 512, 'dropout': 0.23830973571725467, 'learning_rate': 0.00010082896885469244, 'batch_size': 32}. Best is trial 18 with value: 0.23081068350718573.\n"
          ]
        },
        {
          "output_type": "stream",
          "name": "stdout",
          "text": [
            "Epoch 10/10:\n",
            "Train Loss: 0.5141 | Val Loss: 0.3872\n"
          ]
        },
        {
          "output_type": "stream",
          "name": "stderr",
          "text": [
            "Training: 100%|██████████| 50/50 [00:07<00:00,  6.96it/s]\n",
            "Evaluating: 100%|██████████| 13/13 [00:00<00:00, 20.50it/s]\n"
          ]
        },
        {
          "output_type": "stream",
          "name": "stdout",
          "text": [
            "Epoch 1/10:\n",
            "Train Loss: 2.6834 | Val Loss: 2.1104\n"
          ]
        },
        {
          "output_type": "stream",
          "name": "stderr",
          "text": [
            "Training: 100%|██████████| 50/50 [00:07<00:00,  6.94it/s]\n",
            "Evaluating: 100%|██████████| 13/13 [00:00<00:00, 20.66it/s]\n"
          ]
        },
        {
          "output_type": "stream",
          "name": "stdout",
          "text": [
            "Epoch 2/10:\n",
            "Train Loss: 2.0056 | Val Loss: 1.7507\n"
          ]
        },
        {
          "output_type": "stream",
          "name": "stderr",
          "text": [
            "Training: 100%|██████████| 50/50 [00:07<00:00,  6.95it/s]\n",
            "Evaluating: 100%|██████████| 13/13 [00:00<00:00, 20.61it/s]\n"
          ]
        },
        {
          "output_type": "stream",
          "name": "stdout",
          "text": [
            "Epoch 3/10:\n",
            "Train Loss: 1.6395 | Val Loss: 1.3327\n"
          ]
        },
        {
          "output_type": "stream",
          "name": "stderr",
          "text": [
            "Training: 100%|██████████| 50/50 [00:07<00:00,  6.93it/s]\n",
            "Evaluating: 100%|██████████| 13/13 [00:00<00:00, 20.46it/s]\n"
          ]
        },
        {
          "output_type": "stream",
          "name": "stdout",
          "text": [
            "Epoch 4/10:\n",
            "Train Loss: 1.2393 | Val Loss: 0.8734\n"
          ]
        },
        {
          "output_type": "stream",
          "name": "stderr",
          "text": [
            "Training: 100%|██████████| 50/50 [00:07<00:00,  6.93it/s]\n",
            "Evaluating: 100%|██████████| 13/13 [00:00<00:00, 20.72it/s]\n"
          ]
        },
        {
          "output_type": "stream",
          "name": "stdout",
          "text": [
            "Epoch 5/10:\n",
            "Train Loss: 0.9473 | Val Loss: 0.6417\n"
          ]
        },
        {
          "output_type": "stream",
          "name": "stderr",
          "text": [
            "Training: 100%|██████████| 50/50 [00:07<00:00,  6.96it/s]\n",
            "Evaluating: 100%|██████████| 13/13 [00:00<00:00, 20.51it/s]\n"
          ]
        },
        {
          "output_type": "stream",
          "name": "stdout",
          "text": [
            "Epoch 6/10:\n",
            "Train Loss: 0.7754 | Val Loss: 0.5356\n"
          ]
        },
        {
          "output_type": "stream",
          "name": "stderr",
          "text": [
            "Training: 100%|██████████| 50/50 [00:07<00:00,  6.96it/s]\n",
            "Evaluating: 100%|██████████| 13/13 [00:00<00:00, 20.66it/s]\n"
          ]
        },
        {
          "output_type": "stream",
          "name": "stdout",
          "text": [
            "Epoch 7/10:\n",
            "Train Loss: 0.6463 | Val Loss: 0.4830\n"
          ]
        },
        {
          "output_type": "stream",
          "name": "stderr",
          "text": [
            "Training: 100%|██████████| 50/50 [00:07<00:00,  6.94it/s]\n",
            "Evaluating: 100%|██████████| 13/13 [00:00<00:00, 20.56it/s]\n"
          ]
        },
        {
          "output_type": "stream",
          "name": "stdout",
          "text": [
            "Epoch 8/10:\n",
            "Train Loss: 0.5489 | Val Loss: 0.4268\n"
          ]
        },
        {
          "output_type": "stream",
          "name": "stderr",
          "text": [
            "Training: 100%|██████████| 50/50 [00:07<00:00,  6.96it/s]\n",
            "Evaluating: 100%|██████████| 13/13 [00:00<00:00, 20.59it/s]\n"
          ]
        },
        {
          "output_type": "stream",
          "name": "stdout",
          "text": [
            "Epoch 9/10:\n",
            "Train Loss: 0.4931 | Val Loss: 0.4287\n"
          ]
        },
        {
          "output_type": "stream",
          "name": "stderr",
          "text": [
            "Training: 100%|██████████| 50/50 [00:07<00:00,  6.92it/s]\n",
            "Evaluating: 100%|██████████| 13/13 [00:00<00:00, 20.60it/s]\n",
            "[I 2025-05-09 13:07:18,787] Trial 26 finished with value: 0.31171252635809094 and parameters: {'d_model': 512, 'num_heads': 8, 'num_layers': 6, 'd_ff': 512, 'dropout': 0.32106844667524154, 'learning_rate': 0.00019561788217916238, 'batch_size': 32}. Best is trial 18 with value: 0.23081068350718573.\n"
          ]
        },
        {
          "output_type": "stream",
          "name": "stdout",
          "text": [
            "Epoch 10/10:\n",
            "Train Loss: 0.4163 | Val Loss: 0.3117\n"
          ]
        },
        {
          "output_type": "stream",
          "name": "stderr",
          "text": [
            "Training: 100%|██████████| 50/50 [00:07<00:00,  6.95it/s]\n",
            "Evaluating: 100%|██████████| 13/13 [00:00<00:00, 20.64it/s]\n"
          ]
        },
        {
          "output_type": "stream",
          "name": "stdout",
          "text": [
            "Epoch 1/10:\n",
            "Train Loss: 2.7873 | Val Loss: 2.1880\n"
          ]
        },
        {
          "output_type": "stream",
          "name": "stderr",
          "text": [
            "Training: 100%|██████████| 50/50 [00:07<00:00,  6.95it/s]\n",
            "Evaluating: 100%|██████████| 13/13 [00:00<00:00, 20.25it/s]\n"
          ]
        },
        {
          "output_type": "stream",
          "name": "stdout",
          "text": [
            "Epoch 2/10:\n",
            "Train Loss: 1.9883 | Val Loss: 1.5924\n"
          ]
        },
        {
          "output_type": "stream",
          "name": "stderr",
          "text": [
            "Training: 100%|██████████| 50/50 [00:07<00:00,  6.96it/s]\n",
            "Evaluating: 100%|██████████| 13/13 [00:00<00:00, 20.59it/s]\n"
          ]
        },
        {
          "output_type": "stream",
          "name": "stdout",
          "text": [
            "Epoch 3/10:\n",
            "Train Loss: 1.3971 | Val Loss: 0.9714\n"
          ]
        },
        {
          "output_type": "stream",
          "name": "stderr",
          "text": [
            "Training: 100%|██████████| 50/50 [00:07<00:00,  6.96it/s]\n",
            "Evaluating: 100%|██████████| 13/13 [00:00<00:00, 20.70it/s]\n"
          ]
        },
        {
          "output_type": "stream",
          "name": "stdout",
          "text": [
            "Epoch 4/10:\n",
            "Train Loss: 0.9782 | Val Loss: 0.6699\n"
          ]
        },
        {
          "output_type": "stream",
          "name": "stderr",
          "text": [
            "Training: 100%|██████████| 50/50 [00:07<00:00,  6.94it/s]\n",
            "Evaluating: 100%|██████████| 13/13 [00:00<00:00, 20.59it/s]\n"
          ]
        },
        {
          "output_type": "stream",
          "name": "stdout",
          "text": [
            "Epoch 5/10:\n",
            "Train Loss: 0.7322 | Val Loss: 0.4953\n"
          ]
        },
        {
          "output_type": "stream",
          "name": "stderr",
          "text": [
            "Training: 100%|██████████| 50/50 [00:07<00:00,  6.95it/s]\n",
            "Evaluating: 100%|██████████| 13/13 [00:00<00:00, 20.69it/s]\n"
          ]
        },
        {
          "output_type": "stream",
          "name": "stdout",
          "text": [
            "Epoch 6/10:\n",
            "Train Loss: 0.5872 | Val Loss: 0.5122\n"
          ]
        },
        {
          "output_type": "stream",
          "name": "stderr",
          "text": [
            "Training: 100%|██████████| 50/50 [00:07<00:00,  6.94it/s]\n",
            "Evaluating: 100%|██████████| 13/13 [00:00<00:00, 20.69it/s]\n"
          ]
        },
        {
          "output_type": "stream",
          "name": "stdout",
          "text": [
            "Epoch 7/10:\n",
            "Train Loss: 0.4802 | Val Loss: 0.3851\n"
          ]
        },
        {
          "output_type": "stream",
          "name": "stderr",
          "text": [
            "Training: 100%|██████████| 50/50 [00:07<00:00,  6.93it/s]\n",
            "Evaluating: 100%|██████████| 13/13 [00:00<00:00, 20.48it/s]\n"
          ]
        },
        {
          "output_type": "stream",
          "name": "stdout",
          "text": [
            "Epoch 8/10:\n",
            "Train Loss: 0.4307 | Val Loss: 0.3278\n"
          ]
        },
        {
          "output_type": "stream",
          "name": "stderr",
          "text": [
            "Training: 100%|██████████| 50/50 [00:07<00:00,  6.95it/s]\n",
            "Evaluating: 100%|██████████| 13/13 [00:00<00:00, 20.39it/s]\n"
          ]
        },
        {
          "output_type": "stream",
          "name": "stdout",
          "text": [
            "Epoch 9/10:\n",
            "Train Loss: 0.3710 | Val Loss: 0.2998\n"
          ]
        },
        {
          "output_type": "stream",
          "name": "stderr",
          "text": [
            "Training: 100%|██████████| 50/50 [00:07<00:00,  6.95it/s]\n",
            "Evaluating: 100%|██████████| 13/13 [00:00<00:00, 20.17it/s]\n",
            "[I 2025-05-09 13:08:37,606] Trial 27 finished with value: 0.24743523849890783 and parameters: {'d_model': 512, 'num_heads': 8, 'num_layers': 6, 'd_ff': 512, 'dropout': 0.28723658177856626, 'learning_rate': 0.00031996108500632756, 'batch_size': 32}. Best is trial 18 with value: 0.23081068350718573.\n"
          ]
        },
        {
          "output_type": "stream",
          "name": "stdout",
          "text": [
            "Epoch 10/10:\n",
            "Train Loss: 0.3348 | Val Loss: 0.2474\n"
          ]
        },
        {
          "output_type": "stream",
          "name": "stderr",
          "text": [
            "Training: 100%|██████████| 50/50 [00:07<00:00,  6.96it/s]\n",
            "Evaluating: 100%|██████████| 13/13 [00:00<00:00, 20.21it/s]\n"
          ]
        },
        {
          "output_type": "stream",
          "name": "stdout",
          "text": [
            "Epoch 1/10:\n",
            "Train Loss: 2.8444 | Val Loss: 2.2623\n"
          ]
        },
        {
          "output_type": "stream",
          "name": "stderr",
          "text": [
            "Training: 100%|██████████| 50/50 [00:07<00:00,  6.94it/s]\n",
            "Evaluating: 100%|██████████| 13/13 [00:00<00:00, 20.43it/s]\n"
          ]
        },
        {
          "output_type": "stream",
          "name": "stdout",
          "text": [
            "Epoch 2/10:\n",
            "Train Loss: 2.0803 | Val Loss: 1.7358\n"
          ]
        },
        {
          "output_type": "stream",
          "name": "stderr",
          "text": [
            "Training: 100%|██████████| 50/50 [00:07<00:00,  6.94it/s]\n",
            "Evaluating: 100%|██████████| 13/13 [00:00<00:00, 20.51it/s]\n"
          ]
        },
        {
          "output_type": "stream",
          "name": "stdout",
          "text": [
            "Epoch 3/10:\n",
            "Train Loss: 1.4857 | Val Loss: 1.1382\n"
          ]
        },
        {
          "output_type": "stream",
          "name": "stderr",
          "text": [
            "Training: 100%|██████████| 50/50 [00:07<00:00,  6.96it/s]\n",
            "Evaluating: 100%|██████████| 13/13 [00:00<00:00, 20.22it/s]\n"
          ]
        },
        {
          "output_type": "stream",
          "name": "stdout",
          "text": [
            "Epoch 4/10:\n",
            "Train Loss: 0.9748 | Val Loss: 0.7038\n"
          ]
        },
        {
          "output_type": "stream",
          "name": "stderr",
          "text": [
            "Training: 100%|██████████| 50/50 [00:07<00:00,  6.94it/s]\n",
            "Evaluating: 100%|██████████| 13/13 [00:00<00:00, 20.53it/s]\n"
          ]
        },
        {
          "output_type": "stream",
          "name": "stdout",
          "text": [
            "Epoch 5/10:\n",
            "Train Loss: 0.7066 | Val Loss: 0.5257\n"
          ]
        },
        {
          "output_type": "stream",
          "name": "stderr",
          "text": [
            "Training: 100%|██████████| 50/50 [00:07<00:00,  6.94it/s]\n",
            "Evaluating: 100%|██████████| 13/13 [00:00<00:00, 20.58it/s]\n"
          ]
        },
        {
          "output_type": "stream",
          "name": "stdout",
          "text": [
            "Epoch 6/10:\n",
            "Train Loss: 0.5606 | Val Loss: 0.4137\n"
          ]
        },
        {
          "output_type": "stream",
          "name": "stderr",
          "text": [
            "Training: 100%|██████████| 50/50 [00:07<00:00,  6.94it/s]\n",
            "Evaluating: 100%|██████████| 13/13 [00:00<00:00, 20.53it/s]\n"
          ]
        },
        {
          "output_type": "stream",
          "name": "stdout",
          "text": [
            "Epoch 7/10:\n",
            "Train Loss: 0.4418 | Val Loss: 0.3734\n"
          ]
        },
        {
          "output_type": "stream",
          "name": "stderr",
          "text": [
            "Training: 100%|██████████| 50/50 [00:07<00:00,  6.96it/s]\n",
            "Evaluating: 100%|██████████| 13/13 [00:00<00:00, 20.73it/s]\n"
          ]
        },
        {
          "output_type": "stream",
          "name": "stdout",
          "text": [
            "Epoch 8/10:\n",
            "Train Loss: 0.3820 | Val Loss: 0.3111\n"
          ]
        },
        {
          "output_type": "stream",
          "name": "stderr",
          "text": [
            "Training: 100%|██████████| 50/50 [00:07<00:00,  6.94it/s]\n",
            "Evaluating: 100%|██████████| 13/13 [00:00<00:00, 20.63it/s]\n"
          ]
        },
        {
          "output_type": "stream",
          "name": "stdout",
          "text": [
            "Epoch 9/10:\n",
            "Train Loss: 0.3310 | Val Loss: 0.3358\n"
          ]
        },
        {
          "output_type": "stream",
          "name": "stderr",
          "text": [
            "Training: 100%|██████████| 50/50 [00:07<00:00,  6.95it/s]\n",
            "Evaluating: 100%|██████████| 13/13 [00:00<00:00, 20.46it/s]\n",
            "[I 2025-05-09 13:09:56,276] Trial 28 finished with value: 0.27027979493141174 and parameters: {'d_model': 512, 'num_heads': 8, 'num_layers': 6, 'd_ff': 512, 'dropout': 0.24474597421860195, 'learning_rate': 0.0003319605811782799, 'batch_size': 32}. Best is trial 18 with value: 0.23081068350718573.\n"
          ]
        },
        {
          "output_type": "stream",
          "name": "stdout",
          "text": [
            "Epoch 10/10:\n",
            "Train Loss: 0.2887 | Val Loss: 0.2703\n"
          ]
        },
        {
          "output_type": "stream",
          "name": "stderr",
          "text": [
            "Training: 100%|██████████| 50/50 [00:16<00:00,  3.08it/s]\n",
            "Evaluating: 100%|██████████| 13/13 [00:01<00:00,  9.34it/s]\n"
          ]
        },
        {
          "output_type": "stream",
          "name": "stdout",
          "text": [
            "Epoch 1/10:\n",
            "Train Loss: 3.1172 | Val Loss: 3.0015\n"
          ]
        },
        {
          "output_type": "stream",
          "name": "stderr",
          "text": [
            "Training: 100%|██████████| 50/50 [00:16<00:00,  3.08it/s]\n",
            "Evaluating: 100%|██████████| 13/13 [00:01<00:00,  9.28it/s]\n"
          ]
        },
        {
          "output_type": "stream",
          "name": "stdout",
          "text": [
            "Epoch 2/10:\n",
            "Train Loss: 3.0026 | Val Loss: 2.9893\n"
          ]
        },
        {
          "output_type": "stream",
          "name": "stderr",
          "text": [
            "Training: 100%|██████████| 50/50 [00:16<00:00,  3.08it/s]\n",
            "Evaluating: 100%|██████████| 13/13 [00:01<00:00,  9.37it/s]\n"
          ]
        },
        {
          "output_type": "stream",
          "name": "stdout",
          "text": [
            "Epoch 3/10:\n",
            "Train Loss: 2.9958 | Val Loss: 2.9953\n"
          ]
        },
        {
          "output_type": "stream",
          "name": "stderr",
          "text": [
            "Training: 100%|██████████| 50/50 [00:16<00:00,  3.08it/s]\n",
            "Evaluating: 100%|██████████| 13/13 [00:01<00:00,  9.24it/s]\n"
          ]
        },
        {
          "output_type": "stream",
          "name": "stdout",
          "text": [
            "Epoch 4/10:\n",
            "Train Loss: 2.9897 | Val Loss: 2.9842\n"
          ]
        },
        {
          "output_type": "stream",
          "name": "stderr",
          "text": [
            "Training: 100%|██████████| 50/50 [00:16<00:00,  3.08it/s]\n",
            "Evaluating: 100%|██████████| 13/13 [00:01<00:00,  9.34it/s]\n"
          ]
        },
        {
          "output_type": "stream",
          "name": "stdout",
          "text": [
            "Epoch 5/10:\n",
            "Train Loss: 2.9867 | Val Loss: 2.9867\n"
          ]
        },
        {
          "output_type": "stream",
          "name": "stderr",
          "text": [
            "Training: 100%|██████████| 50/50 [00:16<00:00,  3.08it/s]\n",
            "Evaluating: 100%|██████████| 13/13 [00:01<00:00,  9.28it/s]\n"
          ]
        },
        {
          "output_type": "stream",
          "name": "stdout",
          "text": [
            "Epoch 6/10:\n",
            "Train Loss: 2.9817 | Val Loss: 2.9993\n"
          ]
        },
        {
          "output_type": "stream",
          "name": "stderr",
          "text": [
            "Training: 100%|██████████| 50/50 [00:16<00:00,  3.08it/s]\n",
            "Evaluating: 100%|██████████| 13/13 [00:01<00:00,  9.29it/s]\n",
            "[I 2025-05-09 13:12:00,406] Trial 29 finished with value: 2.984180285380437 and parameters: {'d_model': 512, 'num_heads': 16, 'num_layers': 10, 'd_ff': 1024, 'dropout': 0.2877696576899604, 'learning_rate': 0.0006201148504505569, 'batch_size': 32}. Best is trial 18 with value: 0.23081068350718573.\n"
          ]
        },
        {
          "output_type": "stream",
          "name": "stdout",
          "text": [
            "Epoch 7/10:\n",
            "Train Loss: 2.9680 | Val Loss: 3.0746\n",
            "Early stopping triggered!\n"
          ]
        },
        {
          "output_type": "stream",
          "name": "stderr",
          "text": [
            "Training: 100%|██████████| 50/50 [00:17<00:00,  2.85it/s]\n",
            "Evaluating: 100%|██████████| 13/13 [00:01<00:00,  8.65it/s]\n"
          ]
        },
        {
          "output_type": "stream",
          "name": "stdout",
          "text": [
            "Epoch 1/10:\n",
            "Train Loss: 2.7957 | Val Loss: 2.1626\n"
          ]
        },
        {
          "output_type": "stream",
          "name": "stderr",
          "text": [
            "Training: 100%|██████████| 50/50 [00:17<00:00,  2.84it/s]\n",
            "Evaluating: 100%|██████████| 13/13 [00:01<00:00,  8.71it/s]\n"
          ]
        },
        {
          "output_type": "stream",
          "name": "stdout",
          "text": [
            "Epoch 2/10:\n",
            "Train Loss: 2.0437 | Val Loss: 1.8856\n"
          ]
        },
        {
          "output_type": "stream",
          "name": "stderr",
          "text": [
            "Training: 100%|██████████| 50/50 [00:17<00:00,  2.85it/s]\n",
            "Evaluating: 100%|██████████| 13/13 [00:01<00:00,  8.65it/s]\n"
          ]
        },
        {
          "output_type": "stream",
          "name": "stdout",
          "text": [
            "Epoch 3/10:\n",
            "Train Loss: 1.8580 | Val Loss: 1.7500\n"
          ]
        },
        {
          "output_type": "stream",
          "name": "stderr",
          "text": [
            "Training: 100%|██████████| 50/50 [00:17<00:00,  2.85it/s]\n",
            "Evaluating: 100%|██████████| 13/13 [00:01<00:00,  8.67it/s]\n"
          ]
        },
        {
          "output_type": "stream",
          "name": "stdout",
          "text": [
            "Epoch 4/10:\n",
            "Train Loss: 1.6619 | Val Loss: 1.4505\n"
          ]
        },
        {
          "output_type": "stream",
          "name": "stderr",
          "text": [
            "Training: 100%|██████████| 50/50 [00:17<00:00,  2.85it/s]\n",
            "Evaluating: 100%|██████████| 13/13 [00:01<00:00,  8.68it/s]\n"
          ]
        },
        {
          "output_type": "stream",
          "name": "stdout",
          "text": [
            "Epoch 5/10:\n",
            "Train Loss: 1.3677 | Val Loss: 1.1456\n"
          ]
        },
        {
          "output_type": "stream",
          "name": "stderr",
          "text": [
            "Training: 100%|██████████| 50/50 [00:17<00:00,  2.85it/s]\n",
            "Evaluating: 100%|██████████| 13/13 [00:01<00:00,  8.70it/s]\n"
          ]
        },
        {
          "output_type": "stream",
          "name": "stdout",
          "text": [
            "Epoch 6/10:\n",
            "Train Loss: 1.1018 | Val Loss: 0.8611\n"
          ]
        },
        {
          "output_type": "stream",
          "name": "stderr",
          "text": [
            "Training: 100%|██████████| 50/50 [00:17<00:00,  2.85it/s]\n",
            "Evaluating: 100%|██████████| 13/13 [00:01<00:00,  8.69it/s]\n"
          ]
        },
        {
          "output_type": "stream",
          "name": "stdout",
          "text": [
            "Epoch 7/10:\n",
            "Train Loss: 0.8764 | Val Loss: 0.7037\n"
          ]
        },
        {
          "output_type": "stream",
          "name": "stderr",
          "text": [
            "Training: 100%|██████████| 50/50 [00:17<00:00,  2.85it/s]\n",
            "Evaluating: 100%|██████████| 13/13 [00:01<00:00,  8.67it/s]\n"
          ]
        },
        {
          "output_type": "stream",
          "name": "stdout",
          "text": [
            "Epoch 8/10:\n",
            "Train Loss: 0.7231 | Val Loss: 0.5828\n"
          ]
        },
        {
          "output_type": "stream",
          "name": "stderr",
          "text": [
            "Training: 100%|██████████| 50/50 [00:17<00:00,  2.84it/s]\n",
            "Evaluating: 100%|██████████| 13/13 [00:01<00:00,  8.67it/s]\n"
          ]
        },
        {
          "output_type": "stream",
          "name": "stdout",
          "text": [
            "Epoch 9/10:\n",
            "Train Loss: 0.6064 | Val Loss: 0.5068\n"
          ]
        },
        {
          "output_type": "stream",
          "name": "stderr",
          "text": [
            "Training: 100%|██████████| 50/50 [00:17<00:00,  2.85it/s]\n",
            "Evaluating: 100%|██████████| 13/13 [00:01<00:00,  8.62it/s]\n",
            "[I 2025-05-09 13:15:11,717] Trial 30 finished with value: 0.43426405351895553 and parameters: {'d_model': 512, 'num_heads': 16, 'num_layers': 12, 'd_ff': 512, 'dropout': 0.1729275180828992, 'learning_rate': 0.00010909050850543081, 'batch_size': 32}. Best is trial 18 with value: 0.23081068350718573.\n"
          ]
        },
        {
          "output_type": "stream",
          "name": "stdout",
          "text": [
            "Epoch 10/10:\n",
            "Train Loss: 0.5280 | Val Loss: 0.4343\n"
          ]
        },
        {
          "output_type": "stream",
          "name": "stderr",
          "text": [
            "Training: 100%|██████████| 50/50 [00:07<00:00,  6.95it/s]\n",
            "Evaluating: 100%|██████████| 13/13 [00:00<00:00, 20.54it/s]\n"
          ]
        },
        {
          "output_type": "stream",
          "name": "stdout",
          "text": [
            "Epoch 1/10:\n",
            "Train Loss: 2.6437 | Val Loss: 2.0838\n"
          ]
        },
        {
          "output_type": "stream",
          "name": "stderr",
          "text": [
            "Training: 100%|██████████| 50/50 [00:07<00:00,  6.95it/s]\n",
            "Evaluating: 100%|██████████| 13/13 [00:00<00:00, 20.44it/s]\n"
          ]
        },
        {
          "output_type": "stream",
          "name": "stdout",
          "text": [
            "Epoch 2/10:\n",
            "Train Loss: 1.9761 | Val Loss: 1.7482\n"
          ]
        },
        {
          "output_type": "stream",
          "name": "stderr",
          "text": [
            "Training: 100%|██████████| 50/50 [00:07<00:00,  6.94it/s]\n",
            "Evaluating: 100%|██████████| 13/13 [00:00<00:00, 20.54it/s]\n"
          ]
        },
        {
          "output_type": "stream",
          "name": "stdout",
          "text": [
            "Epoch 3/10:\n",
            "Train Loss: 1.5814 | Val Loss: 1.2060\n"
          ]
        },
        {
          "output_type": "stream",
          "name": "stderr",
          "text": [
            "Training: 100%|██████████| 50/50 [00:07<00:00,  6.95it/s]\n",
            "Evaluating: 100%|██████████| 13/13 [00:00<00:00, 20.56it/s]\n"
          ]
        },
        {
          "output_type": "stream",
          "name": "stdout",
          "text": [
            "Epoch 4/10:\n",
            "Train Loss: 1.1728 | Val Loss: 0.7722\n"
          ]
        },
        {
          "output_type": "stream",
          "name": "stderr",
          "text": [
            "Training: 100%|██████████| 50/50 [00:07<00:00,  6.96it/s]\n",
            "Evaluating: 100%|██████████| 13/13 [00:00<00:00, 20.53it/s]\n"
          ]
        },
        {
          "output_type": "stream",
          "name": "stdout",
          "text": [
            "Epoch 5/10:\n",
            "Train Loss: 0.8998 | Val Loss: 0.6353\n"
          ]
        },
        {
          "output_type": "stream",
          "name": "stderr",
          "text": [
            "Training: 100%|██████████| 50/50 [00:07<00:00,  6.95it/s]\n",
            "Evaluating: 100%|██████████| 13/13 [00:00<00:00, 20.49it/s]\n"
          ]
        },
        {
          "output_type": "stream",
          "name": "stdout",
          "text": [
            "Epoch 6/10:\n",
            "Train Loss: 0.7155 | Val Loss: 0.5334\n"
          ]
        },
        {
          "output_type": "stream",
          "name": "stderr",
          "text": [
            "Training: 100%|██████████| 50/50 [00:07<00:00,  6.93it/s]\n",
            "Evaluating: 100%|██████████| 13/13 [00:00<00:00, 20.50it/s]\n"
          ]
        },
        {
          "output_type": "stream",
          "name": "stdout",
          "text": [
            "Epoch 7/10:\n",
            "Train Loss: 0.5816 | Val Loss: 0.4048\n"
          ]
        },
        {
          "output_type": "stream",
          "name": "stderr",
          "text": [
            "Training: 100%|██████████| 50/50 [00:07<00:00,  6.94it/s]\n",
            "Evaluating: 100%|██████████| 13/13 [00:00<00:00, 20.71it/s]\n"
          ]
        },
        {
          "output_type": "stream",
          "name": "stdout",
          "text": [
            "Epoch 8/10:\n",
            "Train Loss: 0.4996 | Val Loss: 0.3661\n"
          ]
        },
        {
          "output_type": "stream",
          "name": "stderr",
          "text": [
            "Training: 100%|██████████| 50/50 [00:07<00:00,  6.96it/s]\n",
            "Evaluating: 100%|██████████| 13/13 [00:00<00:00, 20.62it/s]\n"
          ]
        },
        {
          "output_type": "stream",
          "name": "stdout",
          "text": [
            "Epoch 9/10:\n",
            "Train Loss: 0.4342 | Val Loss: 0.4632\n"
          ]
        },
        {
          "output_type": "stream",
          "name": "stderr",
          "text": [
            "Training: 100%|██████████| 50/50 [00:07<00:00,  6.94it/s]\n",
            "Evaluating: 100%|██████████| 13/13 [00:00<00:00, 20.56it/s]\n",
            "[I 2025-05-09 13:16:30,371] Trial 31 finished with value: 0.3160318972972723 and parameters: {'d_model': 512, 'num_heads': 8, 'num_layers': 6, 'd_ff': 512, 'dropout': 0.2914214437170369, 'learning_rate': 0.00019070450722494597, 'batch_size': 32}. Best is trial 18 with value: 0.23081068350718573.\n"
          ]
        },
        {
          "output_type": "stream",
          "name": "stdout",
          "text": [
            "Epoch 10/10:\n",
            "Train Loss: 0.3866 | Val Loss: 0.3160\n"
          ]
        },
        {
          "output_type": "stream",
          "name": "stderr",
          "text": [
            "Training: 100%|██████████| 50/50 [00:07<00:00,  6.95it/s]\n",
            "Evaluating: 100%|██████████| 13/13 [00:00<00:00, 20.62it/s]\n"
          ]
        },
        {
          "output_type": "stream",
          "name": "stdout",
          "text": [
            "Epoch 1/10:\n",
            "Train Loss: 2.7477 | Val Loss: 2.1757\n"
          ]
        },
        {
          "output_type": "stream",
          "name": "stderr",
          "text": [
            "Training: 100%|██████████| 50/50 [00:07<00:00,  6.95it/s]\n",
            "Evaluating: 100%|██████████| 13/13 [00:00<00:00, 20.41it/s]\n"
          ]
        },
        {
          "output_type": "stream",
          "name": "stdout",
          "text": [
            "Epoch 2/10:\n",
            "Train Loss: 1.9844 | Val Loss: 1.6590\n"
          ]
        },
        {
          "output_type": "stream",
          "name": "stderr",
          "text": [
            "Training: 100%|██████████| 50/50 [00:07<00:00,  6.94it/s]\n",
            "Evaluating: 100%|██████████| 13/13 [00:00<00:00, 20.68it/s]\n"
          ]
        },
        {
          "output_type": "stream",
          "name": "stdout",
          "text": [
            "Epoch 3/10:\n",
            "Train Loss: 1.3898 | Val Loss: 0.9416\n"
          ]
        },
        {
          "output_type": "stream",
          "name": "stderr",
          "text": [
            "Training: 100%|██████████| 50/50 [00:07<00:00,  6.94it/s]\n",
            "Evaluating: 100%|██████████| 13/13 [00:00<00:00, 20.68it/s]\n"
          ]
        },
        {
          "output_type": "stream",
          "name": "stdout",
          "text": [
            "Epoch 4/10:\n",
            "Train Loss: 0.9523 | Val Loss: 0.8917\n"
          ]
        },
        {
          "output_type": "stream",
          "name": "stderr",
          "text": [
            "Training: 100%|██████████| 50/50 [00:07<00:00,  6.95it/s]\n",
            "Evaluating: 100%|██████████| 13/13 [00:00<00:00, 20.52it/s]\n"
          ]
        },
        {
          "output_type": "stream",
          "name": "stdout",
          "text": [
            "Epoch 5/10:\n",
            "Train Loss: 0.7235 | Val Loss: 0.5360\n"
          ]
        },
        {
          "output_type": "stream",
          "name": "stderr",
          "text": [
            "Training: 100%|██████████| 50/50 [00:07<00:00,  6.94it/s]\n",
            "Evaluating: 100%|██████████| 13/13 [00:00<00:00, 20.62it/s]\n"
          ]
        },
        {
          "output_type": "stream",
          "name": "stdout",
          "text": [
            "Epoch 6/10:\n",
            "Train Loss: 0.5608 | Val Loss: 0.4106\n"
          ]
        },
        {
          "output_type": "stream",
          "name": "stderr",
          "text": [
            "Training: 100%|██████████| 50/50 [00:07<00:00,  6.95it/s]\n",
            "Evaluating: 100%|██████████| 13/13 [00:00<00:00, 20.54it/s]\n"
          ]
        },
        {
          "output_type": "stream",
          "name": "stdout",
          "text": [
            "Epoch 7/10:\n",
            "Train Loss: 0.4518 | Val Loss: 0.4101\n"
          ]
        },
        {
          "output_type": "stream",
          "name": "stderr",
          "text": [
            "Training: 100%|██████████| 50/50 [00:07<00:00,  6.95it/s]\n",
            "Evaluating: 100%|██████████| 13/13 [00:00<00:00, 20.67it/s]\n"
          ]
        },
        {
          "output_type": "stream",
          "name": "stdout",
          "text": [
            "Epoch 8/10:\n",
            "Train Loss: 0.3906 | Val Loss: 0.3590\n"
          ]
        },
        {
          "output_type": "stream",
          "name": "stderr",
          "text": [
            "Training: 100%|██████████| 50/50 [00:07<00:00,  6.94it/s]\n",
            "Evaluating: 100%|██████████| 13/13 [00:00<00:00, 20.51it/s]\n"
          ]
        },
        {
          "output_type": "stream",
          "name": "stdout",
          "text": [
            "Epoch 9/10:\n",
            "Train Loss: 0.3498 | Val Loss: 0.2786\n"
          ]
        },
        {
          "output_type": "stream",
          "name": "stderr",
          "text": [
            "Training: 100%|██████████| 50/50 [00:07<00:00,  6.96it/s]\n",
            "Evaluating: 100%|██████████| 13/13 [00:00<00:00, 20.50it/s]\n",
            "[I 2025-05-09 13:17:49,003] Trial 32 finished with value: 0.25569619696873885 and parameters: {'d_model': 512, 'num_heads': 8, 'num_layers': 6, 'd_ff': 512, 'dropout': 0.2624760371456977, 'learning_rate': 0.0003011065279815257, 'batch_size': 32}. Best is trial 18 with value: 0.23081068350718573.\n"
          ]
        },
        {
          "output_type": "stream",
          "name": "stdout",
          "text": [
            "Epoch 10/10:\n",
            "Train Loss: 0.3071 | Val Loss: 0.2557\n"
          ]
        },
        {
          "output_type": "stream",
          "name": "stderr",
          "text": [
            "Training: 100%|██████████| 50/50 [00:07<00:00,  6.94it/s]\n",
            "Evaluating: 100%|██████████| 13/13 [00:00<00:00, 20.54it/s]\n"
          ]
        },
        {
          "output_type": "stream",
          "name": "stdout",
          "text": [
            "Epoch 1/10:\n",
            "Train Loss: 2.6310 | Val Loss: 2.1193\n"
          ]
        },
        {
          "output_type": "stream",
          "name": "stderr",
          "text": [
            "Training: 100%|██████████| 50/50 [00:07<00:00,  6.93it/s]\n",
            "Evaluating: 100%|██████████| 13/13 [00:00<00:00, 20.51it/s]\n"
          ]
        },
        {
          "output_type": "stream",
          "name": "stdout",
          "text": [
            "Epoch 2/10:\n",
            "Train Loss: 2.0421 | Val Loss: 1.8958\n"
          ]
        },
        {
          "output_type": "stream",
          "name": "stderr",
          "text": [
            "Training: 100%|██████████| 50/50 [00:07<00:00,  6.95it/s]\n",
            "Evaluating: 100%|██████████| 13/13 [00:00<00:00, 20.46it/s]\n"
          ]
        },
        {
          "output_type": "stream",
          "name": "stdout",
          "text": [
            "Epoch 3/10:\n",
            "Train Loss: 1.7863 | Val Loss: 1.4702\n"
          ]
        },
        {
          "output_type": "stream",
          "name": "stderr",
          "text": [
            "Training: 100%|██████████| 50/50 [00:07<00:00,  6.94it/s]\n",
            "Evaluating: 100%|██████████| 13/13 [00:00<00:00, 20.55it/s]\n"
          ]
        },
        {
          "output_type": "stream",
          "name": "stdout",
          "text": [
            "Epoch 4/10:\n",
            "Train Loss: 1.4694 | Val Loss: 1.0830\n"
          ]
        },
        {
          "output_type": "stream",
          "name": "stderr",
          "text": [
            "Training: 100%|██████████| 50/50 [00:07<00:00,  6.94it/s]\n",
            "Evaluating: 100%|██████████| 13/13 [00:00<00:00, 20.63it/s]\n"
          ]
        },
        {
          "output_type": "stream",
          "name": "stdout",
          "text": [
            "Epoch 5/10:\n",
            "Train Loss: 1.1756 | Val Loss: 0.8080\n"
          ]
        },
        {
          "output_type": "stream",
          "name": "stderr",
          "text": [
            "Training: 100%|██████████| 50/50 [00:07<00:00,  6.93it/s]\n",
            "Evaluating: 100%|██████████| 13/13 [00:00<00:00, 20.25it/s]\n"
          ]
        },
        {
          "output_type": "stream",
          "name": "stdout",
          "text": [
            "Epoch 6/10:\n",
            "Train Loss: 0.9491 | Val Loss: 0.6563\n"
          ]
        },
        {
          "output_type": "stream",
          "name": "stderr",
          "text": [
            "Training: 100%|██████████| 50/50 [00:07<00:00,  6.95it/s]\n",
            "Evaluating: 100%|██████████| 13/13 [00:00<00:00, 20.56it/s]\n"
          ]
        },
        {
          "output_type": "stream",
          "name": "stdout",
          "text": [
            "Epoch 7/10:\n",
            "Train Loss: 0.8028 | Val Loss: 0.5230\n"
          ]
        },
        {
          "output_type": "stream",
          "name": "stderr",
          "text": [
            "Training: 100%|██████████| 50/50 [00:07<00:00,  6.95it/s]\n",
            "Evaluating: 100%|██████████| 13/13 [00:00<00:00, 20.20it/s]\n"
          ]
        },
        {
          "output_type": "stream",
          "name": "stdout",
          "text": [
            "Epoch 8/10:\n",
            "Train Loss: 0.6848 | Val Loss: 0.4653\n"
          ]
        },
        {
          "output_type": "stream",
          "name": "stderr",
          "text": [
            "Training: 100%|██████████| 50/50 [00:07<00:00,  6.93it/s]\n",
            "Evaluating: 100%|██████████| 13/13 [00:00<00:00, 20.42it/s]\n"
          ]
        },
        {
          "output_type": "stream",
          "name": "stdout",
          "text": [
            "Epoch 9/10:\n",
            "Train Loss: 0.6143 | Val Loss: 0.4751\n"
          ]
        },
        {
          "output_type": "stream",
          "name": "stderr",
          "text": [
            "Training: 100%|██████████| 50/50 [00:07<00:00,  6.95it/s]\n",
            "Evaluating: 100%|██████████| 13/13 [00:00<00:00, 20.59it/s]\n",
            "[I 2025-05-09 13:19:07,726] Trial 33 finished with value: 0.40406561814821684 and parameters: {'d_model': 512, 'num_heads': 8, 'num_layers': 6, 'd_ff': 512, 'dropout': 0.32963948898939077, 'learning_rate': 0.00014638606911782692, 'batch_size': 32}. Best is trial 18 with value: 0.23081068350718573.\n"
          ]
        },
        {
          "output_type": "stream",
          "name": "stdout",
          "text": [
            "Epoch 10/10:\n",
            "Train Loss: 0.5408 | Val Loss: 0.4041\n"
          ]
        },
        {
          "output_type": "stream",
          "name": "stderr",
          "text": [
            "Training: 100%|██████████| 50/50 [00:07<00:00,  6.94it/s]\n",
            "Evaluating: 100%|██████████| 13/13 [00:00<00:00, 20.57it/s]\n"
          ]
        },
        {
          "output_type": "stream",
          "name": "stdout",
          "text": [
            "Epoch 1/10:\n",
            "Train Loss: 2.6241 | Val Loss: 2.0690\n"
          ]
        },
        {
          "output_type": "stream",
          "name": "stderr",
          "text": [
            "Training: 100%|██████████| 50/50 [00:07<00:00,  6.96it/s]\n",
            "Evaluating: 100%|██████████| 13/13 [00:00<00:00, 20.54it/s]\n"
          ]
        },
        {
          "output_type": "stream",
          "name": "stdout",
          "text": [
            "Epoch 2/10:\n",
            "Train Loss: 1.8191 | Val Loss: 1.3931\n"
          ]
        },
        {
          "output_type": "stream",
          "name": "stderr",
          "text": [
            "Training: 100%|██████████| 50/50 [00:07<00:00,  6.95it/s]\n",
            "Evaluating: 100%|██████████| 13/13 [00:00<00:00, 20.68it/s]\n"
          ]
        },
        {
          "output_type": "stream",
          "name": "stdout",
          "text": [
            "Epoch 3/10:\n",
            "Train Loss: 1.2227 | Val Loss: 0.8492\n"
          ]
        },
        {
          "output_type": "stream",
          "name": "stderr",
          "text": [
            "Training: 100%|██████████| 50/50 [00:07<00:00,  6.94it/s]\n",
            "Evaluating: 100%|██████████| 13/13 [00:00<00:00, 20.51it/s]\n"
          ]
        },
        {
          "output_type": "stream",
          "name": "stdout",
          "text": [
            "Epoch 4/10:\n",
            "Train Loss: 0.8111 | Val Loss: 0.6027\n"
          ]
        },
        {
          "output_type": "stream",
          "name": "stderr",
          "text": [
            "Training: 100%|██████████| 50/50 [00:07<00:00,  6.95it/s]\n",
            "Evaluating: 100%|██████████| 13/13 [00:00<00:00, 20.52it/s]\n"
          ]
        },
        {
          "output_type": "stream",
          "name": "stdout",
          "text": [
            "Epoch 5/10:\n",
            "Train Loss: 0.6048 | Val Loss: 0.4578\n"
          ]
        },
        {
          "output_type": "stream",
          "name": "stderr",
          "text": [
            "Training: 100%|██████████| 50/50 [00:07<00:00,  6.94it/s]\n",
            "Evaluating: 100%|██████████| 13/13 [00:00<00:00, 20.64it/s]\n"
          ]
        },
        {
          "output_type": "stream",
          "name": "stdout",
          "text": [
            "Epoch 6/10:\n",
            "Train Loss: 0.4719 | Val Loss: 0.3790\n"
          ]
        },
        {
          "output_type": "stream",
          "name": "stderr",
          "text": [
            "Training: 100%|██████████| 50/50 [00:07<00:00,  6.92it/s]\n",
            "Evaluating: 100%|██████████| 13/13 [00:00<00:00, 20.51it/s]\n"
          ]
        },
        {
          "output_type": "stream",
          "name": "stdout",
          "text": [
            "Epoch 7/10:\n",
            "Train Loss: 0.3782 | Val Loss: 0.3189\n"
          ]
        },
        {
          "output_type": "stream",
          "name": "stderr",
          "text": [
            "Training: 100%|██████████| 50/50 [00:07<00:00,  6.95it/s]\n",
            "Evaluating: 100%|██████████| 13/13 [00:00<00:00, 20.51it/s]\n"
          ]
        },
        {
          "output_type": "stream",
          "name": "stdout",
          "text": [
            "Epoch 8/10:\n",
            "Train Loss: 0.3258 | Val Loss: 0.2942\n"
          ]
        },
        {
          "output_type": "stream",
          "name": "stderr",
          "text": [
            "Training: 100%|██████████| 50/50 [00:07<00:00,  6.91it/s]\n",
            "Evaluating: 100%|██████████| 13/13 [00:00<00:00, 20.27it/s]\n"
          ]
        },
        {
          "output_type": "stream",
          "name": "stdout",
          "text": [
            "Epoch 9/10:\n",
            "Train Loss: 0.2856 | Val Loss: 0.2817\n"
          ]
        },
        {
          "output_type": "stream",
          "name": "stderr",
          "text": [
            "Training: 100%|██████████| 50/50 [00:07<00:00,  6.93it/s]\n",
            "Evaluating: 100%|██████████| 13/13 [00:00<00:00, 20.52it/s]\n"
          ]
        },
        {
          "output_type": "stream",
          "name": "stdout",
          "text": [
            "Epoch 10/10:\n",
            "Train Loss: 0.2348 | Val Loss: 0.2122\n"
          ]
        },
        {
          "output_type": "stream",
          "name": "stderr",
          "text": [
            "[I 2025-05-09 13:20:26,738] Trial 34 finished with value: 0.21216037754829115 and parameters: {'d_model': 512, 'num_heads': 8, 'num_layers': 6, 'd_ff': 512, 'dropout': 0.20169659103222026, 'learning_rate': 0.00023384807089141854, 'batch_size': 32}. Best is trial 34 with value: 0.21216037754829115.\n"
          ]
        },
        {
          "output_type": "stream",
          "name": "stdout",
          "text": [
            "New best model found! Val Loss: 0.2122\n",
            "Config: {'d_model': 512, 'num_heads': 8, 'num_layers': 6, 'd_ff': 512, 'dropout': 0.20169659103222026, 'learning_rate': 0.00023384807089141854, 'batch_size': 32}\n"
          ]
        },
        {
          "output_type": "stream",
          "name": "stderr",
          "text": [
            "Training: 100%|██████████| 50/50 [00:09<00:00,  5.02it/s]\n",
            "Evaluating: 100%|██████████| 13/13 [00:00<00:00, 15.17it/s]\n"
          ]
        },
        {
          "output_type": "stream",
          "name": "stdout",
          "text": [
            "Epoch 1/10:\n",
            "Train Loss: 3.0982 | Val Loss: 2.9826\n"
          ]
        },
        {
          "output_type": "stream",
          "name": "stderr",
          "text": [
            "Training: 100%|██████████| 50/50 [00:09<00:00,  5.02it/s]\n",
            "Evaluating: 100%|██████████| 13/13 [00:00<00:00, 15.29it/s]\n"
          ]
        },
        {
          "output_type": "stream",
          "name": "stdout",
          "text": [
            "Epoch 2/10:\n",
            "Train Loss: 2.9899 | Val Loss: 2.9833\n"
          ]
        },
        {
          "output_type": "stream",
          "name": "stderr",
          "text": [
            "Training: 100%|██████████| 50/50 [00:09<00:00,  5.01it/s]\n",
            "Evaluating: 100%|██████████| 13/13 [00:00<00:00, 15.15it/s]\n"
          ]
        },
        {
          "output_type": "stream",
          "name": "stdout",
          "text": [
            "Epoch 3/10:\n",
            "Train Loss: 2.9870 | Val Loss: 2.9858\n"
          ]
        },
        {
          "output_type": "stream",
          "name": "stderr",
          "text": [
            "Training: 100%|██████████| 50/50 [00:09<00:00,  5.01it/s]\n",
            "Evaluating: 100%|██████████| 13/13 [00:00<00:00, 15.20it/s]\n"
          ]
        },
        {
          "output_type": "stream",
          "name": "stdout",
          "text": [
            "Epoch 4/10:\n",
            "Train Loss: 2.9846 | Val Loss: 2.9782\n"
          ]
        },
        {
          "output_type": "stream",
          "name": "stderr",
          "text": [
            "Training: 100%|██████████| 50/50 [00:09<00:00,  5.02it/s]\n",
            "Evaluating: 100%|██████████| 13/13 [00:00<00:00, 15.23it/s]\n"
          ]
        },
        {
          "output_type": "stream",
          "name": "stdout",
          "text": [
            "Epoch 5/10:\n",
            "Train Loss: 2.9822 | Val Loss: 2.9879\n"
          ]
        },
        {
          "output_type": "stream",
          "name": "stderr",
          "text": [
            "Training: 100%|██████████| 50/50 [00:09<00:00,  5.01it/s]\n",
            "Evaluating: 100%|██████████| 13/13 [00:00<00:00, 15.24it/s]\n"
          ]
        },
        {
          "output_type": "stream",
          "name": "stdout",
          "text": [
            "Epoch 6/10:\n",
            "Train Loss: 2.9837 | Val Loss: 2.9865\n"
          ]
        },
        {
          "output_type": "stream",
          "name": "stderr",
          "text": [
            "Training: 100%|██████████| 50/50 [00:09<00:00,  5.01it/s]\n",
            "Evaluating: 100%|██████████| 13/13 [00:00<00:00, 15.24it/s]\n",
            "[I 2025-05-09 13:21:43,033] Trial 35 finished with value: 2.9781792163848877 and parameters: {'d_model': 512, 'num_heads': 2, 'num_layers': 10, 'd_ff': 512, 'dropout': 0.14727567843964387, 'learning_rate': 0.0003391744396867105, 'batch_size': 32}. Best is trial 34 with value: 0.21216037754829115.\n"
          ]
        },
        {
          "output_type": "stream",
          "name": "stdout",
          "text": [
            "Epoch 7/10:\n",
            "Train Loss: 2.9767 | Val Loss: 3.0352\n",
            "Early stopping triggered!\n"
          ]
        },
        {
          "output_type": "stream",
          "name": "stderr",
          "text": [
            "Training: 100%|██████████| 50/50 [00:07<00:00,  6.85it/s]\n",
            "Evaluating: 100%|██████████| 13/13 [00:00<00:00, 20.43it/s]\n"
          ]
        },
        {
          "output_type": "stream",
          "name": "stdout",
          "text": [
            "Epoch 1/10:\n",
            "Train Loss: 3.1151 | Val Loss: 3.0133\n"
          ]
        },
        {
          "output_type": "stream",
          "name": "stderr",
          "text": [
            "Training: 100%|██████████| 50/50 [00:07<00:00,  6.95it/s]\n",
            "Evaluating: 100%|██████████| 13/13 [00:00<00:00, 20.66it/s]\n"
          ]
        },
        {
          "output_type": "stream",
          "name": "stdout",
          "text": [
            "Epoch 2/10:\n",
            "Train Loss: 2.9971 | Val Loss: 2.9898\n"
          ]
        },
        {
          "output_type": "stream",
          "name": "stderr",
          "text": [
            "Training: 100%|██████████| 50/50 [00:07<00:00,  6.93it/s]\n",
            "Evaluating: 100%|██████████| 13/13 [00:00<00:00, 20.59it/s]\n"
          ]
        },
        {
          "output_type": "stream",
          "name": "stdout",
          "text": [
            "Epoch 3/10:\n",
            "Train Loss: 2.9907 | Val Loss: 2.9909\n"
          ]
        },
        {
          "output_type": "stream",
          "name": "stderr",
          "text": [
            "Training: 100%|██████████| 50/50 [00:07<00:00,  6.94it/s]\n",
            "Evaluating: 100%|██████████| 13/13 [00:00<00:00, 20.58it/s]\n"
          ]
        },
        {
          "output_type": "stream",
          "name": "stdout",
          "text": [
            "Epoch 4/10:\n",
            "Train Loss: 2.9907 | Val Loss: 2.9844\n"
          ]
        },
        {
          "output_type": "stream",
          "name": "stderr",
          "text": [
            "Training: 100%|██████████| 50/50 [00:07<00:00,  6.95it/s]\n",
            "Evaluating: 100%|██████████| 13/13 [00:00<00:00, 20.54it/s]\n"
          ]
        },
        {
          "output_type": "stream",
          "name": "stdout",
          "text": [
            "Epoch 5/10:\n",
            "Train Loss: 2.9856 | Val Loss: 2.9864\n"
          ]
        },
        {
          "output_type": "stream",
          "name": "stderr",
          "text": [
            "Training: 100%|██████████| 50/50 [00:07<00:00,  6.91it/s]\n",
            "Evaluating: 100%|██████████| 13/13 [00:00<00:00, 20.26it/s]\n"
          ]
        },
        {
          "output_type": "stream",
          "name": "stdout",
          "text": [
            "Epoch 6/10:\n",
            "Train Loss: 2.9862 | Val Loss: 2.9882\n"
          ]
        },
        {
          "output_type": "stream",
          "name": "stderr",
          "text": [
            "Training: 100%|██████████| 50/50 [00:07<00:00,  6.92it/s]\n",
            "Evaluating: 100%|██████████| 13/13 [00:00<00:00, 20.35it/s]\n"
          ]
        },
        {
          "output_type": "stream",
          "name": "stdout",
          "text": [
            "Epoch 7/10:\n",
            "Train Loss: 2.9830 | Val Loss: 2.9810\n"
          ]
        },
        {
          "output_type": "stream",
          "name": "stderr",
          "text": [
            "Training: 100%|██████████| 50/50 [00:07<00:00,  6.94it/s]\n",
            "Evaluating: 100%|██████████| 13/13 [00:00<00:00, 20.56it/s]\n"
          ]
        },
        {
          "output_type": "stream",
          "name": "stdout",
          "text": [
            "Epoch 8/10:\n",
            "Train Loss: 2.9751 | Val Loss: 3.0808\n"
          ]
        },
        {
          "output_type": "stream",
          "name": "stderr",
          "text": [
            "Training: 100%|██████████| 50/50 [00:07<00:00,  6.92it/s]\n",
            "Evaluating: 100%|██████████| 13/13 [00:00<00:00, 20.40it/s]\n"
          ]
        },
        {
          "output_type": "stream",
          "name": "stdout",
          "text": [
            "Epoch 9/10:\n",
            "Train Loss: 2.9574 | Val Loss: 3.2235\n"
          ]
        },
        {
          "output_type": "stream",
          "name": "stderr",
          "text": [
            "Training: 100%|██████████| 50/50 [00:07<00:00,  6.93it/s]\n",
            "Evaluating: 100%|██████████| 13/13 [00:00<00:00, 20.45it/s]\n",
            "[I 2025-05-09 13:23:01,943] Trial 36 finished with value: 2.9809853847210226 and parameters: {'d_model': 512, 'num_heads': 8, 'num_layers': 6, 'd_ff': 512, 'dropout': 0.21643625734869976, 'learning_rate': 0.0006264877591470762, 'batch_size': 32}. Best is trial 34 with value: 0.21216037754829115.\n"
          ]
        },
        {
          "output_type": "stream",
          "name": "stdout",
          "text": [
            "Epoch 10/10:\n",
            "Train Loss: 2.9488 | Val Loss: 3.2350\n",
            "Early stopping triggered!\n"
          ]
        },
        {
          "output_type": "stream",
          "name": "stderr",
          "text": [
            "Training: 100%|██████████| 50/50 [00:08<00:00,  6.13it/s]\n",
            "Evaluating: 100%|██████████| 13/13 [00:00<00:00, 18.30it/s]\n"
          ]
        },
        {
          "output_type": "stream",
          "name": "stdout",
          "text": [
            "Epoch 1/10:\n",
            "Train Loss: 2.7046 | Val Loss: 2.1993\n"
          ]
        },
        {
          "output_type": "stream",
          "name": "stderr",
          "text": [
            "Training: 100%|██████████| 50/50 [00:08<00:00,  6.12it/s]\n",
            "Evaluating: 100%|██████████| 13/13 [00:00<00:00, 18.14it/s]\n"
          ]
        },
        {
          "output_type": "stream",
          "name": "stdout",
          "text": [
            "Epoch 2/10:\n",
            "Train Loss: 2.0311 | Val Loss: 1.7484\n"
          ]
        },
        {
          "output_type": "stream",
          "name": "stderr",
          "text": [
            "Training: 100%|██████████| 50/50 [00:08<00:00,  6.12it/s]\n",
            "Evaluating: 100%|██████████| 13/13 [00:00<00:00, 18.26it/s]\n"
          ]
        },
        {
          "output_type": "stream",
          "name": "stdout",
          "text": [
            "Epoch 3/10:\n",
            "Train Loss: 1.4221 | Val Loss: 0.9034\n"
          ]
        },
        {
          "output_type": "stream",
          "name": "stderr",
          "text": [
            "Training: 100%|██████████| 50/50 [00:08<00:00,  6.12it/s]\n",
            "Evaluating: 100%|██████████| 13/13 [00:00<00:00, 18.11it/s]\n"
          ]
        },
        {
          "output_type": "stream",
          "name": "stdout",
          "text": [
            "Epoch 4/10:\n",
            "Train Loss: 0.9251 | Val Loss: 0.6225\n"
          ]
        },
        {
          "output_type": "stream",
          "name": "stderr",
          "text": [
            "Training: 100%|██████████| 50/50 [00:08<00:00,  6.12it/s]\n",
            "Evaluating: 100%|██████████| 13/13 [00:00<00:00, 18.28it/s]\n"
          ]
        },
        {
          "output_type": "stream",
          "name": "stdout",
          "text": [
            "Epoch 5/10:\n",
            "Train Loss: 0.6630 | Val Loss: 0.4635\n"
          ]
        },
        {
          "output_type": "stream",
          "name": "stderr",
          "text": [
            "Training: 100%|██████████| 50/50 [00:08<00:00,  6.15it/s]\n",
            "Evaluating: 100%|██████████| 13/13 [00:00<00:00, 18.38it/s]\n"
          ]
        },
        {
          "output_type": "stream",
          "name": "stdout",
          "text": [
            "Epoch 6/10:\n",
            "Train Loss: 0.5143 | Val Loss: 0.4030\n"
          ]
        },
        {
          "output_type": "stream",
          "name": "stderr",
          "text": [
            "Training: 100%|██████████| 50/50 [00:08<00:00,  6.14it/s]\n",
            "Evaluating: 100%|██████████| 13/13 [00:00<00:00, 18.28it/s]\n"
          ]
        },
        {
          "output_type": "stream",
          "name": "stdout",
          "text": [
            "Epoch 7/10:\n",
            "Train Loss: 0.4297 | Val Loss: 0.2900\n"
          ]
        },
        {
          "output_type": "stream",
          "name": "stderr",
          "text": [
            "Training: 100%|██████████| 50/50 [00:08<00:00,  6.15it/s]\n",
            "Evaluating: 100%|██████████| 13/13 [00:00<00:00, 18.29it/s]\n"
          ]
        },
        {
          "output_type": "stream",
          "name": "stdout",
          "text": [
            "Epoch 8/10:\n",
            "Train Loss: 0.3624 | Val Loss: 0.3610\n"
          ]
        },
        {
          "output_type": "stream",
          "name": "stderr",
          "text": [
            "Training: 100%|██████████| 50/50 [00:08<00:00,  6.13it/s]\n",
            "Evaluating: 100%|██████████| 13/13 [00:00<00:00, 18.29it/s]\n"
          ]
        },
        {
          "output_type": "stream",
          "name": "stdout",
          "text": [
            "Epoch 9/10:\n",
            "Train Loss: 0.3078 | Val Loss: 0.2473\n"
          ]
        },
        {
          "output_type": "stream",
          "name": "stderr",
          "text": [
            "Training: 100%|██████████| 50/50 [00:08<00:00,  6.15it/s]\n",
            "Evaluating: 100%|██████████| 13/13 [00:00<00:00, 18.35it/s]\n",
            "[I 2025-05-09 13:24:30,992] Trial 37 finished with value: 0.2473479566665796 and parameters: {'d_model': 512, 'num_heads': 8, 'num_layers': 6, 'd_ff': 1024, 'dropout': 0.20054900043594653, 'learning_rate': 0.0002400129798287666, 'batch_size': 32}. Best is trial 34 with value: 0.21216037754829115.\n"
          ]
        },
        {
          "output_type": "stream",
          "name": "stdout",
          "text": [
            "Epoch 10/10:\n",
            "Train Loss: 0.2729 | Val Loss: 0.2542\n"
          ]
        },
        {
          "output_type": "stream",
          "name": "stderr",
          "text": [
            "Training: 100%|██████████| 50/50 [00:13<00:00,  3.82it/s]\n",
            "Evaluating: 100%|██████████| 13/13 [00:01<00:00, 11.60it/s]\n"
          ]
        },
        {
          "output_type": "stream",
          "name": "stdout",
          "text": [
            "Epoch 1/10:\n",
            "Train Loss: 2.8558 | Val Loss: 2.3593\n"
          ]
        },
        {
          "output_type": "stream",
          "name": "stderr",
          "text": [
            "Training: 100%|██████████| 50/50 [00:13<00:00,  3.82it/s]\n",
            "Evaluating: 100%|██████████| 13/13 [00:01<00:00, 11.56it/s]\n"
          ]
        },
        {
          "output_type": "stream",
          "name": "stdout",
          "text": [
            "Epoch 2/10:\n",
            "Train Loss: 2.1963 | Val Loss: 2.0206\n"
          ]
        },
        {
          "output_type": "stream",
          "name": "stderr",
          "text": [
            "Training: 100%|██████████| 50/50 [00:13<00:00,  3.81it/s]\n",
            "Evaluating: 100%|██████████| 13/13 [00:01<00:00, 11.59it/s]\n"
          ]
        },
        {
          "output_type": "stream",
          "name": "stdout",
          "text": [
            "Epoch 3/10:\n",
            "Train Loss: 1.9359 | Val Loss: 1.8391\n"
          ]
        },
        {
          "output_type": "stream",
          "name": "stderr",
          "text": [
            "Training: 100%|██████████| 50/50 [00:13<00:00,  3.82it/s]\n",
            "Evaluating: 100%|██████████| 13/13 [00:01<00:00, 11.60it/s]\n"
          ]
        },
        {
          "output_type": "stream",
          "name": "stdout",
          "text": [
            "Epoch 4/10:\n",
            "Train Loss: 1.5646 | Val Loss: 1.2215\n"
          ]
        },
        {
          "output_type": "stream",
          "name": "stderr",
          "text": [
            "Training: 100%|██████████| 50/50 [00:13<00:00,  3.82it/s]\n",
            "Evaluating: 100%|██████████| 13/13 [00:01<00:00, 11.58it/s]\n"
          ]
        },
        {
          "output_type": "stream",
          "name": "stdout",
          "text": [
            "Epoch 5/10:\n",
            "Train Loss: 1.0481 | Val Loss: 0.7889\n"
          ]
        },
        {
          "output_type": "stream",
          "name": "stderr",
          "text": [
            "Training: 100%|██████████| 50/50 [00:13<00:00,  3.82it/s]\n",
            "Evaluating: 100%|██████████| 13/13 [00:01<00:00, 11.64it/s]\n"
          ]
        },
        {
          "output_type": "stream",
          "name": "stdout",
          "text": [
            "Epoch 6/10:\n",
            "Train Loss: 0.7776 | Val Loss: 0.6220\n"
          ]
        },
        {
          "output_type": "stream",
          "name": "stderr",
          "text": [
            "Training: 100%|██████████| 50/50 [00:13<00:00,  3.82it/s]\n",
            "Evaluating: 100%|██████████| 13/13 [00:01<00:00, 11.61it/s]\n"
          ]
        },
        {
          "output_type": "stream",
          "name": "stdout",
          "text": [
            "Epoch 7/10:\n",
            "Train Loss: 0.6171 | Val Loss: 0.4862\n"
          ]
        },
        {
          "output_type": "stream",
          "name": "stderr",
          "text": [
            "Training: 100%|██████████| 50/50 [00:13<00:00,  3.82it/s]\n",
            "Evaluating: 100%|██████████| 13/13 [00:01<00:00, 11.62it/s]\n"
          ]
        },
        {
          "output_type": "stream",
          "name": "stdout",
          "text": [
            "Epoch 8/10:\n",
            "Train Loss: 0.4854 | Val Loss: 0.3606\n"
          ]
        },
        {
          "output_type": "stream",
          "name": "stderr",
          "text": [
            "Training: 100%|██████████| 50/50 [00:13<00:00,  3.82it/s]\n",
            "Evaluating: 100%|██████████| 13/13 [00:01<00:00, 11.59it/s]\n"
          ]
        },
        {
          "output_type": "stream",
          "name": "stdout",
          "text": [
            "Epoch 9/10:\n",
            "Train Loss: 0.4150 | Val Loss: 0.3136\n"
          ]
        },
        {
          "output_type": "stream",
          "name": "stderr",
          "text": [
            "Training: 100%|██████████| 50/50 [00:13<00:00,  3.82it/s]\n",
            "Evaluating: 100%|██████████| 13/13 [00:01<00:00, 11.63it/s]\n",
            "[I 2025-05-09 13:26:53,591] Trial 38 finished with value: 0.31360696256160736 and parameters: {'d_model': 512, 'num_heads': 16, 'num_layers': 8, 'd_ff': 1024, 'dropout': 0.20038513179144704, 'learning_rate': 0.0002432034384330036, 'batch_size': 32}. Best is trial 34 with value: 0.21216037754829115.\n"
          ]
        },
        {
          "output_type": "stream",
          "name": "stdout",
          "text": [
            "Epoch 10/10:\n",
            "Train Loss: 0.3552 | Val Loss: 0.3884\n"
          ]
        },
        {
          "output_type": "stream",
          "name": "stderr",
          "text": [
            "Training: 100%|██████████| 50/50 [00:04<00:00, 11.97it/s]\n",
            "Evaluating: 100%|██████████| 13/13 [00:00<00:00, 35.86it/s]\n"
          ]
        },
        {
          "output_type": "stream",
          "name": "stdout",
          "text": [
            "Epoch 1/10:\n",
            "Train Loss: 3.1272 | Val Loss: 2.9861\n"
          ]
        },
        {
          "output_type": "stream",
          "name": "stderr",
          "text": [
            "Training: 100%|██████████| 50/50 [00:04<00:00, 11.84it/s]\n",
            "Evaluating: 100%|██████████| 13/13 [00:00<00:00, 34.72it/s]\n"
          ]
        },
        {
          "output_type": "stream",
          "name": "stdout",
          "text": [
            "Epoch 2/10:\n",
            "Train Loss: 2.9900 | Val Loss: 2.9863\n"
          ]
        },
        {
          "output_type": "stream",
          "name": "stderr",
          "text": [
            "Training: 100%|██████████| 50/50 [00:04<00:00, 12.12it/s]\n",
            "Evaluating: 100%|██████████| 13/13 [00:00<00:00, 36.42it/s]\n"
          ]
        },
        {
          "output_type": "stream",
          "name": "stdout",
          "text": [
            "Epoch 3/10:\n",
            "Train Loss: 2.9840 | Val Loss: 2.9858\n"
          ]
        },
        {
          "output_type": "stream",
          "name": "stderr",
          "text": [
            "Training: 100%|██████████| 50/50 [00:04<00:00, 12.13it/s]\n",
            "Evaluating: 100%|██████████| 13/13 [00:00<00:00, 35.49it/s]\n"
          ]
        },
        {
          "output_type": "stream",
          "name": "stdout",
          "text": [
            "Epoch 4/10:\n",
            "Train Loss: 2.9838 | Val Loss: 2.9812\n"
          ]
        },
        {
          "output_type": "stream",
          "name": "stderr",
          "text": [
            "Training: 100%|██████████| 50/50 [00:04<00:00, 11.94it/s]\n",
            "Evaluating: 100%|██████████| 13/13 [00:00<00:00, 35.94it/s]\n"
          ]
        },
        {
          "output_type": "stream",
          "name": "stdout",
          "text": [
            "Epoch 5/10:\n",
            "Train Loss: 2.9819 | Val Loss: 2.9829\n"
          ]
        },
        {
          "output_type": "stream",
          "name": "stderr",
          "text": [
            "Training: 100%|██████████| 50/50 [00:04<00:00, 12.10it/s]\n",
            "Evaluating: 100%|██████████| 13/13 [00:00<00:00, 36.29it/s]\n"
          ]
        },
        {
          "output_type": "stream",
          "name": "stdout",
          "text": [
            "Epoch 6/10:\n",
            "Train Loss: 2.9721 | Val Loss: 3.0868\n"
          ]
        },
        {
          "output_type": "stream",
          "name": "stderr",
          "text": [
            "Training: 100%|██████████| 50/50 [00:04<00:00, 11.99it/s]\n",
            "Evaluating: 100%|██████████| 13/13 [00:00<00:00, 36.08it/s]\n",
            "[I 2025-05-09 13:27:25,443] Trial 39 finished with value: 2.981225472230178 and parameters: {'d_model': 128, 'num_heads': 2, 'num_layers': 10, 'd_ff': 1024, 'dropout': 0.1877534137157263, 'learning_rate': 0.0010894777880488234, 'batch_size': 32}. Best is trial 34 with value: 0.21216037754829115.\n"
          ]
        },
        {
          "output_type": "stream",
          "name": "stdout",
          "text": [
            "Epoch 7/10:\n",
            "Train Loss: 2.9665 | Val Loss: 3.1241\n",
            "Early stopping triggered!\n"
          ]
        },
        {
          "output_type": "stream",
          "name": "stderr",
          "text": [
            "Training: 100%|██████████| 50/50 [00:10<00:00,  4.66it/s]\n",
            "Evaluating: 100%|██████████| 13/13 [00:00<00:00, 14.07it/s]\n"
          ]
        },
        {
          "output_type": "stream",
          "name": "stdout",
          "text": [
            "Epoch 1/10:\n",
            "Train Loss: 3.1597 | Val Loss: 3.0105\n"
          ]
        },
        {
          "output_type": "stream",
          "name": "stderr",
          "text": [
            "Training: 100%|██████████| 50/50 [00:10<00:00,  4.67it/s]\n",
            "Evaluating: 100%|██████████| 13/13 [00:00<00:00, 14.04it/s]\n"
          ]
        },
        {
          "output_type": "stream",
          "name": "stdout",
          "text": [
            "Epoch 2/10:\n",
            "Train Loss: 3.0130 | Val Loss: 3.0161\n"
          ]
        },
        {
          "output_type": "stream",
          "name": "stderr",
          "text": [
            "Training: 100%|██████████| 50/50 [00:10<00:00,  4.66it/s]\n",
            "Evaluating: 100%|██████████| 13/13 [00:00<00:00, 14.05it/s]\n"
          ]
        },
        {
          "output_type": "stream",
          "name": "stdout",
          "text": [
            "Epoch 3/10:\n",
            "Train Loss: 2.9963 | Val Loss: 2.9943\n"
          ]
        },
        {
          "output_type": "stream",
          "name": "stderr",
          "text": [
            "Training: 100%|██████████| 50/50 [00:10<00:00,  4.66it/s]\n",
            "Evaluating: 100%|██████████| 13/13 [00:00<00:00, 13.99it/s]\n"
          ]
        },
        {
          "output_type": "stream",
          "name": "stdout",
          "text": [
            "Epoch 4/10:\n",
            "Train Loss: 2.9871 | Val Loss: 2.9973\n"
          ]
        },
        {
          "output_type": "stream",
          "name": "stderr",
          "text": [
            "Training: 100%|██████████| 50/50 [00:10<00:00,  4.66it/s]\n",
            "Evaluating: 100%|██████████| 13/13 [00:00<00:00, 14.03it/s]\n"
          ]
        },
        {
          "output_type": "stream",
          "name": "stdout",
          "text": [
            "Epoch 5/10:\n",
            "Train Loss: 2.9792 | Val Loss: 2.9837\n"
          ]
        },
        {
          "output_type": "stream",
          "name": "stderr",
          "text": [
            "Training: 100%|██████████| 50/50 [00:10<00:00,  4.66it/s]\n",
            "Evaluating: 100%|██████████| 13/13 [00:00<00:00, 14.09it/s]\n"
          ]
        },
        {
          "output_type": "stream",
          "name": "stdout",
          "text": [
            "Epoch 6/10:\n",
            "Train Loss: 2.9780 | Val Loss: 2.9929\n"
          ]
        },
        {
          "output_type": "stream",
          "name": "stderr",
          "text": [
            "Training: 100%|██████████| 50/50 [00:10<00:00,  4.67it/s]\n",
            "Evaluating: 100%|██████████| 13/13 [00:00<00:00, 14.04it/s]\n"
          ]
        },
        {
          "output_type": "stream",
          "name": "stdout",
          "text": [
            "Epoch 7/10:\n",
            "Train Loss: 2.9765 | Val Loss: 2.9855\n"
          ]
        },
        {
          "output_type": "stream",
          "name": "stderr",
          "text": [
            "Training: 100%|██████████| 50/50 [00:10<00:00,  4.66it/s]\n",
            "Evaluating: 100%|██████████| 13/13 [00:00<00:00, 14.02it/s]\n",
            "[I 2025-05-09 13:28:59,138] Trial 40 finished with value: 2.9837103256812463 and parameters: {'d_model': 512, 'num_heads': 8, 'num_layers': 8, 'd_ff': 1024, 'dropout': 0.22602115259340075, 'learning_rate': 0.004990508190538404, 'batch_size': 32}. Best is trial 34 with value: 0.21216037754829115.\n"
          ]
        },
        {
          "output_type": "stream",
          "name": "stdout",
          "text": [
            "Epoch 8/10:\n",
            "Train Loss: 2.9751 | Val Loss: 2.9867\n",
            "Early stopping triggered!\n"
          ]
        },
        {
          "output_type": "stream",
          "name": "stderr",
          "text": [
            "Training: 100%|██████████| 50/50 [00:08<00:00,  6.15it/s]\n",
            "Evaluating: 100%|██████████| 13/13 [00:00<00:00, 18.37it/s]\n"
          ]
        },
        {
          "output_type": "stream",
          "name": "stdout",
          "text": [
            "Epoch 1/10:\n",
            "Train Loss: 2.5822 | Val Loss: 2.0814\n"
          ]
        },
        {
          "output_type": "stream",
          "name": "stderr",
          "text": [
            "Training: 100%|██████████| 50/50 [00:08<00:00,  6.14it/s]\n",
            "Evaluating: 100%|██████████| 13/13 [00:00<00:00, 18.27it/s]\n"
          ]
        },
        {
          "output_type": "stream",
          "name": "stdout",
          "text": [
            "Epoch 2/10:\n",
            "Train Loss: 1.8738 | Val Loss: 1.5641\n"
          ]
        },
        {
          "output_type": "stream",
          "name": "stderr",
          "text": [
            "Training: 100%|██████████| 50/50 [00:08<00:00,  6.14it/s]\n",
            "Evaluating: 100%|██████████| 13/13 [00:00<00:00, 18.25it/s]\n"
          ]
        },
        {
          "output_type": "stream",
          "name": "stdout",
          "text": [
            "Epoch 3/10:\n",
            "Train Loss: 1.3045 | Val Loss: 0.9265\n"
          ]
        },
        {
          "output_type": "stream",
          "name": "stderr",
          "text": [
            "Training: 100%|██████████| 50/50 [00:08<00:00,  6.15it/s]\n",
            "Evaluating: 100%|██████████| 13/13 [00:00<00:00, 18.27it/s]\n"
          ]
        },
        {
          "output_type": "stream",
          "name": "stdout",
          "text": [
            "Epoch 4/10:\n",
            "Train Loss: 0.8561 | Val Loss: 0.5495\n"
          ]
        },
        {
          "output_type": "stream",
          "name": "stderr",
          "text": [
            "Training: 100%|██████████| 50/50 [00:08<00:00,  6.15it/s]\n",
            "Evaluating: 100%|██████████| 13/13 [00:00<00:00, 18.35it/s]\n"
          ]
        },
        {
          "output_type": "stream",
          "name": "stdout",
          "text": [
            "Epoch 5/10:\n",
            "Train Loss: 0.6153 | Val Loss: 0.4804\n"
          ]
        },
        {
          "output_type": "stream",
          "name": "stderr",
          "text": [
            "Training: 100%|██████████| 50/50 [00:08<00:00,  6.15it/s]\n",
            "Evaluating: 100%|██████████| 13/13 [00:00<00:00, 18.32it/s]\n"
          ]
        },
        {
          "output_type": "stream",
          "name": "stdout",
          "text": [
            "Epoch 6/10:\n",
            "Train Loss: 0.4840 | Val Loss: 0.3389\n"
          ]
        },
        {
          "output_type": "stream",
          "name": "stderr",
          "text": [
            "Training: 100%|██████████| 50/50 [00:08<00:00,  6.16it/s]\n",
            "Evaluating: 100%|██████████| 13/13 [00:00<00:00, 18.24it/s]\n"
          ]
        },
        {
          "output_type": "stream",
          "name": "stdout",
          "text": [
            "Epoch 7/10:\n",
            "Train Loss: 0.3824 | Val Loss: 0.3118\n"
          ]
        },
        {
          "output_type": "stream",
          "name": "stderr",
          "text": [
            "Training: 100%|██████████| 50/50 [00:08<00:00,  6.14it/s]\n",
            "Evaluating: 100%|██████████| 13/13 [00:00<00:00, 18.26it/s]\n"
          ]
        },
        {
          "output_type": "stream",
          "name": "stdout",
          "text": [
            "Epoch 8/10:\n",
            "Train Loss: 0.3402 | Val Loss: 0.2603\n"
          ]
        },
        {
          "output_type": "stream",
          "name": "stderr",
          "text": [
            "Training: 100%|██████████| 50/50 [00:08<00:00,  6.14it/s]\n",
            "Evaluating: 100%|██████████| 13/13 [00:00<00:00, 18.30it/s]\n"
          ]
        },
        {
          "output_type": "stream",
          "name": "stdout",
          "text": [
            "Epoch 9/10:\n",
            "Train Loss: 0.2923 | Val Loss: 0.2032\n"
          ]
        },
        {
          "output_type": "stream",
          "name": "stderr",
          "text": [
            "Training: 100%|██████████| 50/50 [00:08<00:00,  6.15it/s]\n",
            "Evaluating: 100%|██████████| 13/13 [00:00<00:00, 18.32it/s]\n"
          ]
        },
        {
          "output_type": "stream",
          "name": "stdout",
          "text": [
            "Epoch 10/10:\n",
            "Train Loss: 0.2478 | Val Loss: 0.2123\n"
          ]
        },
        {
          "output_type": "stream",
          "name": "stderr",
          "text": [
            "[I 2025-05-09 13:30:28,367] Trial 41 finished with value: 0.20317339438658494 and parameters: {'d_model': 512, 'num_heads': 8, 'num_layers': 6, 'd_ff': 1024, 'dropout': 0.12866753791718177, 'learning_rate': 0.00013900773134505292, 'batch_size': 32}. Best is trial 41 with value: 0.20317339438658494.\n"
          ]
        },
        {
          "output_type": "stream",
          "name": "stdout",
          "text": [
            "New best model found! Val Loss: 0.2032\n",
            "Config: {'d_model': 512, 'num_heads': 8, 'num_layers': 6, 'd_ff': 1024, 'dropout': 0.12866753791718177, 'learning_rate': 0.00013900773134505292, 'batch_size': 32}\n"
          ]
        },
        {
          "output_type": "stream",
          "name": "stderr",
          "text": [
            "Training: 100%|██████████| 50/50 [00:08<00:00,  6.16it/s]\n",
            "Evaluating: 100%|██████████| 13/13 [00:00<00:00, 18.37it/s]\n"
          ]
        },
        {
          "output_type": "stream",
          "name": "stdout",
          "text": [
            "Epoch 1/10:\n",
            "Train Loss: 2.5669 | Val Loss: 2.0536\n"
          ]
        },
        {
          "output_type": "stream",
          "name": "stderr",
          "text": [
            "Training: 100%|██████████| 50/50 [00:08<00:00,  6.13it/s]\n",
            "Evaluating: 100%|██████████| 13/13 [00:00<00:00, 18.33it/s]\n"
          ]
        },
        {
          "output_type": "stream",
          "name": "stdout",
          "text": [
            "Epoch 2/10:\n",
            "Train Loss: 1.8811 | Val Loss: 1.5891\n"
          ]
        },
        {
          "output_type": "stream",
          "name": "stderr",
          "text": [
            "Training: 100%|██████████| 50/50 [00:08<00:00,  6.14it/s]\n",
            "Evaluating: 100%|██████████| 13/13 [00:00<00:00, 18.41it/s]\n"
          ]
        },
        {
          "output_type": "stream",
          "name": "stdout",
          "text": [
            "Epoch 3/10:\n",
            "Train Loss: 1.3807 | Val Loss: 1.0420\n"
          ]
        },
        {
          "output_type": "stream",
          "name": "stderr",
          "text": [
            "Training: 100%|██████████| 50/50 [00:08<00:00,  6.15it/s]\n",
            "Evaluating: 100%|██████████| 13/13 [00:00<00:00, 18.32it/s]\n"
          ]
        },
        {
          "output_type": "stream",
          "name": "stdout",
          "text": [
            "Epoch 4/10:\n",
            "Train Loss: 0.9938 | Val Loss: 0.7209\n"
          ]
        },
        {
          "output_type": "stream",
          "name": "stderr",
          "text": [
            "Training: 100%|██████████| 50/50 [00:08<00:00,  6.15it/s]\n",
            "Evaluating: 100%|██████████| 13/13 [00:00<00:00, 18.31it/s]\n"
          ]
        },
        {
          "output_type": "stream",
          "name": "stdout",
          "text": [
            "Epoch 5/10:\n",
            "Train Loss: 0.7281 | Val Loss: 0.5277\n"
          ]
        },
        {
          "output_type": "stream",
          "name": "stderr",
          "text": [
            "Training: 100%|██████████| 50/50 [00:08<00:00,  6.15it/s]\n",
            "Evaluating: 100%|██████████| 13/13 [00:00<00:00, 18.34it/s]\n"
          ]
        },
        {
          "output_type": "stream",
          "name": "stdout",
          "text": [
            "Epoch 6/10:\n",
            "Train Loss: 0.5741 | Val Loss: 0.4076\n"
          ]
        },
        {
          "output_type": "stream",
          "name": "stderr",
          "text": [
            "Training: 100%|██████████| 50/50 [00:08<00:00,  6.14it/s]\n",
            "Evaluating: 100%|██████████| 13/13 [00:00<00:00, 18.39it/s]\n"
          ]
        },
        {
          "output_type": "stream",
          "name": "stdout",
          "text": [
            "Epoch 7/10:\n",
            "Train Loss: 0.4774 | Val Loss: 0.3683\n"
          ]
        },
        {
          "output_type": "stream",
          "name": "stderr",
          "text": [
            "Training: 100%|██████████| 50/50 [00:08<00:00,  6.15it/s]\n",
            "Evaluating: 100%|██████████| 13/13 [00:00<00:00, 18.25it/s]\n"
          ]
        },
        {
          "output_type": "stream",
          "name": "stdout",
          "text": [
            "Epoch 8/10:\n",
            "Train Loss: 0.3989 | Val Loss: 0.3679\n"
          ]
        },
        {
          "output_type": "stream",
          "name": "stderr",
          "text": [
            "Training: 100%|██████████| 50/50 [00:08<00:00,  6.16it/s]\n",
            "Evaluating: 100%|██████████| 13/13 [00:00<00:00, 18.25it/s]\n"
          ]
        },
        {
          "output_type": "stream",
          "name": "stdout",
          "text": [
            "Epoch 9/10:\n",
            "Train Loss: 0.3412 | Val Loss: 0.2697\n"
          ]
        },
        {
          "output_type": "stream",
          "name": "stderr",
          "text": [
            "Training: 100%|██████████| 50/50 [00:08<00:00,  6.16it/s]\n",
            "Evaluating: 100%|██████████| 13/13 [00:00<00:00, 18.39it/s]\n",
            "[I 2025-05-09 13:31:57,176] Trial 42 finished with value: 0.2326850209098596 and parameters: {'d_model': 512, 'num_heads': 8, 'num_layers': 6, 'd_ff': 1024, 'dropout': 0.14098179110017833, 'learning_rate': 0.00012077928034182723, 'batch_size': 32}. Best is trial 41 with value: 0.20317339438658494.\n"
          ]
        },
        {
          "output_type": "stream",
          "name": "stdout",
          "text": [
            "Epoch 10/10:\n",
            "Train Loss: 0.3014 | Val Loss: 0.2327\n"
          ]
        },
        {
          "output_type": "stream",
          "name": "stderr",
          "text": [
            "Training: 100%|██████████| 50/50 [00:08<00:00,  6.15it/s]\n",
            "Evaluating: 100%|██████████| 13/13 [00:00<00:00, 18.29it/s]\n"
          ]
        },
        {
          "output_type": "stream",
          "name": "stdout",
          "text": [
            "Epoch 1/10:\n",
            "Train Loss: 2.5398 | Val Loss: 2.0365\n"
          ]
        },
        {
          "output_type": "stream",
          "name": "stderr",
          "text": [
            "Training: 100%|██████████| 50/50 [00:08<00:00,  6.15it/s]\n",
            "Evaluating: 100%|██████████| 13/13 [00:00<00:00, 18.26it/s]\n"
          ]
        },
        {
          "output_type": "stream",
          "name": "stdout",
          "text": [
            "Epoch 2/10:\n",
            "Train Loss: 1.8784 | Val Loss: 1.5790\n"
          ]
        },
        {
          "output_type": "stream",
          "name": "stderr",
          "text": [
            "Training: 100%|██████████| 50/50 [00:08<00:00,  6.14it/s]\n",
            "Evaluating: 100%|██████████| 13/13 [00:00<00:00, 18.33it/s]\n"
          ]
        },
        {
          "output_type": "stream",
          "name": "stdout",
          "text": [
            "Epoch 3/10:\n",
            "Train Loss: 1.3420 | Val Loss: 0.9517\n"
          ]
        },
        {
          "output_type": "stream",
          "name": "stderr",
          "text": [
            "Training: 100%|██████████| 50/50 [00:08<00:00,  6.14it/s]\n",
            "Evaluating: 100%|██████████| 13/13 [00:00<00:00, 18.33it/s]\n"
          ]
        },
        {
          "output_type": "stream",
          "name": "stdout",
          "text": [
            "Epoch 4/10:\n",
            "Train Loss: 0.9309 | Val Loss: 0.6603\n"
          ]
        },
        {
          "output_type": "stream",
          "name": "stderr",
          "text": [
            "Training: 100%|██████████| 50/50 [00:08<00:00,  6.15it/s]\n",
            "Evaluating: 100%|██████████| 13/13 [00:00<00:00, 18.45it/s]\n"
          ]
        },
        {
          "output_type": "stream",
          "name": "stdout",
          "text": [
            "Epoch 5/10:\n",
            "Train Loss: 0.6829 | Val Loss: 0.4938\n"
          ]
        },
        {
          "output_type": "stream",
          "name": "stderr",
          "text": [
            "Training: 100%|██████████| 50/50 [00:08<00:00,  6.16it/s]\n",
            "Evaluating: 100%|██████████| 13/13 [00:00<00:00, 18.32it/s]\n"
          ]
        },
        {
          "output_type": "stream",
          "name": "stdout",
          "text": [
            "Epoch 6/10:\n",
            "Train Loss: 0.5402 | Val Loss: 0.3964\n"
          ]
        },
        {
          "output_type": "stream",
          "name": "stderr",
          "text": [
            "Training: 100%|██████████| 50/50 [00:08<00:00,  6.14it/s]\n",
            "Evaluating: 100%|██████████| 13/13 [00:00<00:00, 18.29it/s]\n"
          ]
        },
        {
          "output_type": "stream",
          "name": "stdout",
          "text": [
            "Epoch 7/10:\n",
            "Train Loss: 0.4280 | Val Loss: 0.3570\n"
          ]
        },
        {
          "output_type": "stream",
          "name": "stderr",
          "text": [
            "Training: 100%|██████████| 50/50 [00:08<00:00,  6.15it/s]\n",
            "Evaluating: 100%|██████████| 13/13 [00:00<00:00, 18.41it/s]\n"
          ]
        },
        {
          "output_type": "stream",
          "name": "stdout",
          "text": [
            "Epoch 8/10:\n",
            "Train Loss: 0.3592 | Val Loss: 0.2612\n"
          ]
        },
        {
          "output_type": "stream",
          "name": "stderr",
          "text": [
            "Training: 100%|██████████| 50/50 [00:08<00:00,  6.15it/s]\n",
            "Evaluating: 100%|██████████| 13/13 [00:00<00:00, 18.38it/s]\n"
          ]
        },
        {
          "output_type": "stream",
          "name": "stdout",
          "text": [
            "Epoch 9/10:\n",
            "Train Loss: 0.3105 | Val Loss: 0.2578\n"
          ]
        },
        {
          "output_type": "stream",
          "name": "stderr",
          "text": [
            "Training: 100%|██████████| 50/50 [00:08<00:00,  6.14it/s]\n",
            "Evaluating: 100%|██████████| 13/13 [00:00<00:00, 18.37it/s]\n",
            "[I 2025-05-09 13:33:25,994] Trial 43 finished with value: 0.23372478439257696 and parameters: {'d_model': 512, 'num_heads': 8, 'num_layers': 6, 'd_ff': 1024, 'dropout': 0.1324914188960561, 'learning_rate': 0.00012583910720035825, 'batch_size': 32}. Best is trial 41 with value: 0.20317339438658494.\n"
          ]
        },
        {
          "output_type": "stream",
          "name": "stdout",
          "text": [
            "Epoch 10/10:\n",
            "Train Loss: 0.2596 | Val Loss: 0.2337\n"
          ]
        },
        {
          "output_type": "stream",
          "name": "stderr",
          "text": [
            "Training: 100%|██████████| 50/50 [00:03<00:00, 13.68it/s]\n",
            "Evaluating: 100%|██████████| 13/13 [00:00<00:00, 37.66it/s]\n"
          ]
        },
        {
          "output_type": "stream",
          "name": "stdout",
          "text": [
            "Epoch 1/10:\n",
            "Train Loss: 3.1599 | Val Loss: 2.6481\n"
          ]
        },
        {
          "output_type": "stream",
          "name": "stderr",
          "text": [
            "Training: 100%|██████████| 50/50 [00:03<00:00, 13.73it/s]\n",
            "Evaluating: 100%|██████████| 13/13 [00:00<00:00, 37.75it/s]\n"
          ]
        },
        {
          "output_type": "stream",
          "name": "stdout",
          "text": [
            "Epoch 2/10:\n",
            "Train Loss: 2.4988 | Val Loss: 2.3203\n"
          ]
        },
        {
          "output_type": "stream",
          "name": "stderr",
          "text": [
            "Training: 100%|██████████| 50/50 [00:03<00:00, 13.73it/s]\n",
            "Evaluating: 100%|██████████| 13/13 [00:00<00:00, 37.30it/s]\n"
          ]
        },
        {
          "output_type": "stream",
          "name": "stdout",
          "text": [
            "Epoch 3/10:\n",
            "Train Loss: 2.2673 | Val Loss: 2.1685\n"
          ]
        },
        {
          "output_type": "stream",
          "name": "stderr",
          "text": [
            "Training: 100%|██████████| 50/50 [00:03<00:00, 13.71it/s]\n",
            "Evaluating: 100%|██████████| 13/13 [00:00<00:00, 37.18it/s]\n"
          ]
        },
        {
          "output_type": "stream",
          "name": "stdout",
          "text": [
            "Epoch 4/10:\n",
            "Train Loss: 2.1358 | Val Loss: 2.0658\n"
          ]
        },
        {
          "output_type": "stream",
          "name": "stderr",
          "text": [
            "Training: 100%|██████████| 50/50 [00:03<00:00, 13.69it/s]\n",
            "Evaluating: 100%|██████████| 13/13 [00:00<00:00, 37.52it/s]\n"
          ]
        },
        {
          "output_type": "stream",
          "name": "stdout",
          "text": [
            "Epoch 5/10:\n",
            "Train Loss: 2.0359 | Val Loss: 1.9485\n"
          ]
        },
        {
          "output_type": "stream",
          "name": "stderr",
          "text": [
            "Training: 100%|██████████| 50/50 [00:03<00:00, 13.69it/s]\n",
            "Evaluating: 100%|██████████| 13/13 [00:00<00:00, 37.62it/s]\n"
          ]
        },
        {
          "output_type": "stream",
          "name": "stdout",
          "text": [
            "Epoch 6/10:\n",
            "Train Loss: 1.9473 | Val Loss: 1.8339\n"
          ]
        },
        {
          "output_type": "stream",
          "name": "stderr",
          "text": [
            "Training: 100%|██████████| 50/50 [00:03<00:00, 13.67it/s]\n",
            "Evaluating: 100%|██████████| 13/13 [00:00<00:00, 37.76it/s]\n"
          ]
        },
        {
          "output_type": "stream",
          "name": "stdout",
          "text": [
            "Epoch 7/10:\n",
            "Train Loss: 1.8238 | Val Loss: 1.6668\n"
          ]
        },
        {
          "output_type": "stream",
          "name": "stderr",
          "text": [
            "Training: 100%|██████████| 50/50 [00:03<00:00, 13.71it/s]\n",
            "Evaluating: 100%|██████████| 13/13 [00:00<00:00, 37.61it/s]\n"
          ]
        },
        {
          "output_type": "stream",
          "name": "stdout",
          "text": [
            "Epoch 8/10:\n",
            "Train Loss: 1.6830 | Val Loss: 1.5079\n"
          ]
        },
        {
          "output_type": "stream",
          "name": "stderr",
          "text": [
            "Training: 100%|██████████| 50/50 [00:03<00:00, 13.71it/s]\n",
            "Evaluating: 100%|██████████| 13/13 [00:00<00:00, 37.66it/s]\n"
          ]
        },
        {
          "output_type": "stream",
          "name": "stdout",
          "text": [
            "Epoch 9/10:\n",
            "Train Loss: 1.5615 | Val Loss: 1.3773\n"
          ]
        },
        {
          "output_type": "stream",
          "name": "stderr",
          "text": [
            "Training: 100%|██████████| 50/50 [00:03<00:00, 13.70it/s]\n",
            "Evaluating: 100%|██████████| 13/13 [00:00<00:00, 37.73it/s]\n",
            "[I 2025-05-09 13:34:06,096] Trial 44 finished with value: 1.270866559101985 and parameters: {'d_model': 128, 'num_heads': 8, 'num_layers': 6, 'd_ff': 1024, 'dropout': 0.13195475645312726, 'learning_rate': 0.00012852948673462822, 'batch_size': 32}. Best is trial 41 with value: 0.20317339438658494.\n"
          ]
        },
        {
          "output_type": "stream",
          "name": "stdout",
          "text": [
            "Epoch 10/10:\n",
            "Train Loss: 1.4557 | Val Loss: 1.2709\n"
          ]
        },
        {
          "output_type": "stream",
          "name": "stderr",
          "text": [
            "Training: 100%|██████████| 50/50 [00:13<00:00,  3.64it/s]\n",
            "Evaluating: 100%|██████████| 13/13 [00:01<00:00, 11.23it/s]\n"
          ]
        },
        {
          "output_type": "stream",
          "name": "stdout",
          "text": [
            "Epoch 1/10:\n",
            "Train Loss: 2.8746 | Val Loss: 2.2610\n"
          ]
        },
        {
          "output_type": "stream",
          "name": "stderr",
          "text": [
            "Training: 100%|██████████| 50/50 [00:13<00:00,  3.64it/s]\n",
            "Evaluating: 100%|██████████| 13/13 [00:01<00:00, 11.19it/s]\n"
          ]
        },
        {
          "output_type": "stream",
          "name": "stdout",
          "text": [
            "Epoch 2/10:\n",
            "Train Loss: 2.1176 | Val Loss: 1.9315\n"
          ]
        },
        {
          "output_type": "stream",
          "name": "stderr",
          "text": [
            "Training: 100%|██████████| 50/50 [00:13<00:00,  3.64it/s]\n",
            "Evaluating: 100%|██████████| 13/13 [00:01<00:00, 11.14it/s]\n"
          ]
        },
        {
          "output_type": "stream",
          "name": "stdout",
          "text": [
            "Epoch 3/10:\n",
            "Train Loss: 1.7109 | Val Loss: 1.4092\n"
          ]
        },
        {
          "output_type": "stream",
          "name": "stderr",
          "text": [
            "Training: 100%|██████████| 50/50 [00:13<00:00,  3.64it/s]\n",
            "Evaluating: 100%|██████████| 13/13 [00:01<00:00, 11.21it/s]\n"
          ]
        },
        {
          "output_type": "stream",
          "name": "stdout",
          "text": [
            "Epoch 4/10:\n",
            "Train Loss: 1.1512 | Val Loss: 0.8388\n"
          ]
        },
        {
          "output_type": "stream",
          "name": "stderr",
          "text": [
            "Training: 100%|██████████| 50/50 [00:13<00:00,  3.64it/s]\n",
            "Evaluating: 100%|██████████| 13/13 [00:01<00:00, 11.21it/s]\n"
          ]
        },
        {
          "output_type": "stream",
          "name": "stdout",
          "text": [
            "Epoch 5/10:\n",
            "Train Loss: 0.8112 | Val Loss: 0.6062\n"
          ]
        },
        {
          "output_type": "stream",
          "name": "stderr",
          "text": [
            "Training: 100%|██████████| 50/50 [00:13<00:00,  3.64it/s]\n",
            "Evaluating: 100%|██████████| 13/13 [00:01<00:00, 11.18it/s]\n"
          ]
        },
        {
          "output_type": "stream",
          "name": "stdout",
          "text": [
            "Epoch 6/10:\n",
            "Train Loss: 0.6031 | Val Loss: 0.5992\n"
          ]
        },
        {
          "output_type": "stream",
          "name": "stderr",
          "text": [
            "Training: 100%|██████████| 50/50 [00:13<00:00,  3.64it/s]\n",
            "Evaluating: 100%|██████████| 13/13 [00:01<00:00, 11.19it/s]\n"
          ]
        },
        {
          "output_type": "stream",
          "name": "stdout",
          "text": [
            "Epoch 7/10:\n",
            "Train Loss: 0.4643 | Val Loss: 0.3352\n"
          ]
        },
        {
          "output_type": "stream",
          "name": "stderr",
          "text": [
            "Training: 100%|██████████| 50/50 [00:13<00:00,  3.64it/s]\n",
            "Evaluating: 100%|██████████| 13/13 [00:01<00:00, 11.19it/s]\n"
          ]
        },
        {
          "output_type": "stream",
          "name": "stdout",
          "text": [
            "Epoch 8/10:\n",
            "Train Loss: 0.3849 | Val Loss: 0.3158\n"
          ]
        },
        {
          "output_type": "stream",
          "name": "stderr",
          "text": [
            "Training: 100%|██████████| 50/50 [00:13<00:00,  3.64it/s]\n",
            "Evaluating: 100%|██████████| 13/13 [00:01<00:00, 11.19it/s]\n"
          ]
        },
        {
          "output_type": "stream",
          "name": "stdout",
          "text": [
            "Epoch 9/10:\n",
            "Train Loss: 0.3183 | Val Loss: 0.2815\n"
          ]
        },
        {
          "output_type": "stream",
          "name": "stderr",
          "text": [
            "Training: 100%|██████████| 50/50 [00:13<00:00,  3.64it/s]\n",
            "Evaluating: 100%|██████████| 13/13 [00:01<00:00, 11.20it/s]\n",
            "[I 2025-05-09 13:36:35,839] Trial 45 finished with value: 0.21736416965723038 and parameters: {'d_model': 512, 'num_heads': 2, 'num_layers': 12, 'd_ff': 1024, 'dropout': 0.10359883718228224, 'learning_rate': 0.00011505183274086612, 'batch_size': 32}. Best is trial 41 with value: 0.20317339438658494.\n"
          ]
        },
        {
          "output_type": "stream",
          "name": "stdout",
          "text": [
            "Epoch 10/10:\n",
            "Train Loss: 0.2700 | Val Loss: 0.2174\n"
          ]
        },
        {
          "output_type": "stream",
          "name": "stderr",
          "text": [
            "Training: 100%|██████████| 50/50 [00:13<00:00,  3.64it/s]\n",
            "Evaluating: 100%|██████████| 13/13 [00:01<00:00, 11.18it/s]\n"
          ]
        },
        {
          "output_type": "stream",
          "name": "stdout",
          "text": [
            "Epoch 1/10:\n",
            "Train Loss: 2.7295 | Val Loss: 2.1913\n"
          ]
        },
        {
          "output_type": "stream",
          "name": "stderr",
          "text": [
            "Training: 100%|██████████| 50/50 [00:13<00:00,  3.62it/s]\n",
            "Evaluating: 100%|██████████| 13/13 [00:01<00:00, 11.18it/s]\n"
          ]
        },
        {
          "output_type": "stream",
          "name": "stdout",
          "text": [
            "Epoch 2/10:\n",
            "Train Loss: 2.0311 | Val Loss: 1.8218\n"
          ]
        },
        {
          "output_type": "stream",
          "name": "stderr",
          "text": [
            "Training: 100%|██████████| 50/50 [00:13<00:00,  3.64it/s]\n",
            "Evaluating: 100%|██████████| 13/13 [00:01<00:00, 11.21it/s]\n"
          ]
        },
        {
          "output_type": "stream",
          "name": "stdout",
          "text": [
            "Epoch 3/10:\n",
            "Train Loss: 1.6001 | Val Loss: 1.2169\n"
          ]
        },
        {
          "output_type": "stream",
          "name": "stderr",
          "text": [
            "Training: 100%|██████████| 50/50 [00:13<00:00,  3.64it/s]\n",
            "Evaluating: 100%|██████████| 13/13 [00:01<00:00, 11.21it/s]\n"
          ]
        },
        {
          "output_type": "stream",
          "name": "stdout",
          "text": [
            "Epoch 4/10:\n",
            "Train Loss: 1.0799 | Val Loss: 0.7887\n"
          ]
        },
        {
          "output_type": "stream",
          "name": "stderr",
          "text": [
            "Training: 100%|██████████| 50/50 [00:13<00:00,  3.64it/s]\n",
            "Evaluating: 100%|██████████| 13/13 [00:01<00:00, 11.18it/s]\n"
          ]
        },
        {
          "output_type": "stream",
          "name": "stdout",
          "text": [
            "Epoch 5/10:\n",
            "Train Loss: 0.7648 | Val Loss: 0.5690\n"
          ]
        },
        {
          "output_type": "stream",
          "name": "stderr",
          "text": [
            "Training: 100%|██████████| 50/50 [00:13<00:00,  3.63it/s]\n",
            "Evaluating: 100%|██████████| 13/13 [00:01<00:00, 11.15it/s]\n"
          ]
        },
        {
          "output_type": "stream",
          "name": "stdout",
          "text": [
            "Epoch 6/10:\n",
            "Train Loss: 0.5794 | Val Loss: 0.4928\n"
          ]
        },
        {
          "output_type": "stream",
          "name": "stderr",
          "text": [
            "Training: 100%|██████████| 50/50 [00:13<00:00,  3.64it/s]\n",
            "Evaluating: 100%|██████████| 13/13 [00:01<00:00, 11.17it/s]\n"
          ]
        },
        {
          "output_type": "stream",
          "name": "stdout",
          "text": [
            "Epoch 7/10:\n",
            "Train Loss: 0.4735 | Val Loss: 0.3935\n"
          ]
        },
        {
          "output_type": "stream",
          "name": "stderr",
          "text": [
            "Training: 100%|██████████| 50/50 [00:13<00:00,  3.64it/s]\n",
            "Evaluating: 100%|██████████| 13/13 [00:01<00:00, 11.21it/s]\n"
          ]
        },
        {
          "output_type": "stream",
          "name": "stdout",
          "text": [
            "Epoch 8/10:\n",
            "Train Loss: 0.3860 | Val Loss: 0.2949\n"
          ]
        },
        {
          "output_type": "stream",
          "name": "stderr",
          "text": [
            "Training: 100%|██████████| 50/50 [00:13<00:00,  3.64it/s]\n",
            "Evaluating: 100%|██████████| 13/13 [00:01<00:00, 11.21it/s]\n"
          ]
        },
        {
          "output_type": "stream",
          "name": "stdout",
          "text": [
            "Epoch 9/10:\n",
            "Train Loss: 0.3199 | Val Loss: 0.2671\n"
          ]
        },
        {
          "output_type": "stream",
          "name": "stderr",
          "text": [
            "Training: 100%|██████████| 50/50 [00:13<00:00,  3.64it/s]\n",
            "Evaluating: 100%|██████████| 13/13 [00:01<00:00, 11.18it/s]\n",
            "[I 2025-05-09 13:39:05,705] Trial 46 finished with value: 0.24729947975048652 and parameters: {'d_model': 512, 'num_heads': 2, 'num_layers': 12, 'd_ff': 1024, 'dropout': 0.10458521880899309, 'learning_rate': 0.00010024173417325842, 'batch_size': 32}. Best is trial 41 with value: 0.20317339438658494.\n"
          ]
        },
        {
          "output_type": "stream",
          "name": "stdout",
          "text": [
            "Epoch 10/10:\n",
            "Train Loss: 0.2729 | Val Loss: 0.2473\n"
          ]
        },
        {
          "output_type": "stream",
          "name": "stderr",
          "text": [
            "Training: 100%|██████████| 50/50 [00:13<00:00,  3.64it/s]\n",
            "Evaluating: 100%|██████████| 13/13 [00:01<00:00, 11.22it/s]\n"
          ]
        },
        {
          "output_type": "stream",
          "name": "stdout",
          "text": [
            "Epoch 1/10:\n",
            "Train Loss: 2.8332 | Val Loss: 2.3119\n"
          ]
        },
        {
          "output_type": "stream",
          "name": "stderr",
          "text": [
            "Training: 100%|██████████| 50/50 [00:13<00:00,  3.64it/s]\n",
            "Evaluating: 100%|██████████| 13/13 [00:01<00:00, 11.17it/s]\n"
          ]
        },
        {
          "output_type": "stream",
          "name": "stdout",
          "text": [
            "Epoch 2/10:\n",
            "Train Loss: 2.1406 | Val Loss: 1.9901\n"
          ]
        },
        {
          "output_type": "stream",
          "name": "stderr",
          "text": [
            "Training: 100%|██████████| 50/50 [00:13<00:00,  3.64it/s]\n",
            "Evaluating: 100%|██████████| 13/13 [00:01<00:00, 11.19it/s]\n"
          ]
        },
        {
          "output_type": "stream",
          "name": "stdout",
          "text": [
            "Epoch 3/10:\n",
            "Train Loss: 1.8221 | Val Loss: 1.4835\n"
          ]
        },
        {
          "output_type": "stream",
          "name": "stderr",
          "text": [
            "Training: 100%|██████████| 50/50 [00:13<00:00,  3.64it/s]\n",
            "Evaluating: 100%|██████████| 13/13 [00:01<00:00, 11.19it/s]\n"
          ]
        },
        {
          "output_type": "stream",
          "name": "stdout",
          "text": [
            "Epoch 4/10:\n",
            "Train Loss: 1.2310 | Val Loss: 0.8961\n"
          ]
        },
        {
          "output_type": "stream",
          "name": "stderr",
          "text": [
            "Training: 100%|██████████| 50/50 [00:13<00:00,  3.64it/s]\n",
            "Evaluating: 100%|██████████| 13/13 [00:01<00:00, 11.18it/s]\n"
          ]
        },
        {
          "output_type": "stream",
          "name": "stdout",
          "text": [
            "Epoch 5/10:\n",
            "Train Loss: 0.8357 | Val Loss: 0.6438\n"
          ]
        },
        {
          "output_type": "stream",
          "name": "stderr",
          "text": [
            "Training: 100%|██████████| 50/50 [00:13<00:00,  3.64it/s]\n",
            "Evaluating: 100%|██████████| 13/13 [00:01<00:00, 11.19it/s]\n"
          ]
        },
        {
          "output_type": "stream",
          "name": "stdout",
          "text": [
            "Epoch 6/10:\n",
            "Train Loss: 0.6242 | Val Loss: 0.4200\n"
          ]
        },
        {
          "output_type": "stream",
          "name": "stderr",
          "text": [
            "Training: 100%|██████████| 50/50 [00:13<00:00,  3.64it/s]\n",
            "Evaluating: 100%|██████████| 13/13 [00:01<00:00, 11.15it/s]\n"
          ]
        },
        {
          "output_type": "stream",
          "name": "stdout",
          "text": [
            "Epoch 7/10:\n",
            "Train Loss: 0.5530 | Val Loss: 0.6039\n"
          ]
        },
        {
          "output_type": "stream",
          "name": "stderr",
          "text": [
            "Training: 100%|██████████| 50/50 [00:13<00:00,  3.64it/s]\n",
            "Evaluating: 100%|██████████| 13/13 [00:01<00:00, 11.19it/s]\n"
          ]
        },
        {
          "output_type": "stream",
          "name": "stdout",
          "text": [
            "Epoch 8/10:\n",
            "Train Loss: 0.4220 | Val Loss: 0.3585\n"
          ]
        },
        {
          "output_type": "stream",
          "name": "stderr",
          "text": [
            "Training: 100%|██████████| 50/50 [00:13<00:00,  3.64it/s]\n",
            "Evaluating: 100%|██████████| 13/13 [00:01<00:00, 11.19it/s]\n"
          ]
        },
        {
          "output_type": "stream",
          "name": "stdout",
          "text": [
            "Epoch 9/10:\n",
            "Train Loss: 0.3534 | Val Loss: 0.2915\n"
          ]
        },
        {
          "output_type": "stream",
          "name": "stderr",
          "text": [
            "Training: 100%|██████████| 50/50 [00:13<00:00,  3.64it/s]\n",
            "Evaluating: 100%|██████████| 13/13 [00:01<00:00, 11.20it/s]\n",
            "[I 2025-05-09 13:41:35,480] Trial 47 finished with value: 0.2644098951266362 and parameters: {'d_model': 512, 'num_heads': 2, 'num_layers': 12, 'd_ff': 1024, 'dropout': 0.1242015692671329, 'learning_rate': 0.00013162510926539403, 'batch_size': 32}. Best is trial 41 with value: 0.20317339438658494.\n"
          ]
        },
        {
          "output_type": "stream",
          "name": "stdout",
          "text": [
            "Epoch 10/10:\n",
            "Train Loss: 0.2988 | Val Loss: 0.2644\n"
          ]
        },
        {
          "output_type": "stream",
          "name": "stderr",
          "text": [
            "Training: 100%|██████████| 50/50 [00:05<00:00,  9.78it/s]\n",
            "Evaluating: 100%|██████████| 13/13 [00:00<00:00, 30.58it/s]\n"
          ]
        },
        {
          "output_type": "stream",
          "name": "stdout",
          "text": [
            "Epoch 1/10:\n",
            "Train Loss: 3.1010 | Val Loss: 2.5983\n"
          ]
        },
        {
          "output_type": "stream",
          "name": "stderr",
          "text": [
            "Training: 100%|██████████| 50/50 [00:04<00:00, 10.04it/s]\n",
            "Evaluating: 100%|██████████| 13/13 [00:00<00:00, 31.01it/s]\n"
          ]
        },
        {
          "output_type": "stream",
          "name": "stdout",
          "text": [
            "Epoch 2/10:\n",
            "Train Loss: 2.4522 | Val Loss: 2.3344\n"
          ]
        },
        {
          "output_type": "stream",
          "name": "stderr",
          "text": [
            "Training: 100%|██████████| 50/50 [00:04<00:00, 10.17it/s]\n",
            "Evaluating: 100%|██████████| 13/13 [00:00<00:00, 30.25it/s]\n"
          ]
        },
        {
          "output_type": "stream",
          "name": "stdout",
          "text": [
            "Epoch 3/10:\n",
            "Train Loss: 2.2387 | Val Loss: 2.1460\n"
          ]
        },
        {
          "output_type": "stream",
          "name": "stderr",
          "text": [
            "Training: 100%|██████████| 50/50 [00:05<00:00,  9.85it/s]\n",
            "Evaluating: 100%|██████████| 13/13 [00:00<00:00, 31.03it/s]\n"
          ]
        },
        {
          "output_type": "stream",
          "name": "stdout",
          "text": [
            "Epoch 4/10:\n",
            "Train Loss: 2.0848 | Val Loss: 2.0297\n"
          ]
        },
        {
          "output_type": "stream",
          "name": "stderr",
          "text": [
            "Training: 100%|██████████| 50/50 [00:04<00:00, 10.08it/s]\n",
            "Evaluating: 100%|██████████| 13/13 [00:00<00:00, 30.71it/s]\n"
          ]
        },
        {
          "output_type": "stream",
          "name": "stdout",
          "text": [
            "Epoch 5/10:\n",
            "Train Loss: 1.9727 | Val Loss: 1.8742\n"
          ]
        },
        {
          "output_type": "stream",
          "name": "stderr",
          "text": [
            "Training: 100%|██████████| 50/50 [00:05<00:00,  9.92it/s]\n",
            "Evaluating: 100%|██████████| 13/13 [00:00<00:00, 30.96it/s]\n"
          ]
        },
        {
          "output_type": "stream",
          "name": "stdout",
          "text": [
            "Epoch 6/10:\n",
            "Train Loss: 1.8054 | Val Loss: 1.6621\n"
          ]
        },
        {
          "output_type": "stream",
          "name": "stderr",
          "text": [
            "Training: 100%|██████████| 50/50 [00:04<00:00, 10.15it/s]\n",
            "Evaluating: 100%|██████████| 13/13 [00:00<00:00, 31.12it/s]\n"
          ]
        },
        {
          "output_type": "stream",
          "name": "stdout",
          "text": [
            "Epoch 7/10:\n",
            "Train Loss: 1.6294 | Val Loss: 1.4451\n"
          ]
        },
        {
          "output_type": "stream",
          "name": "stderr",
          "text": [
            "Training: 100%|██████████| 50/50 [00:05<00:00,  9.83it/s]\n",
            "Evaluating: 100%|██████████| 13/13 [00:00<00:00, 30.59it/s]\n"
          ]
        },
        {
          "output_type": "stream",
          "name": "stdout",
          "text": [
            "Epoch 8/10:\n",
            "Train Loss: 1.4477 | Val Loss: 1.2532\n"
          ]
        },
        {
          "output_type": "stream",
          "name": "stderr",
          "text": [
            "Training: 100%|██████████| 50/50 [00:05<00:00, 10.00it/s]\n",
            "Evaluating: 100%|██████████| 13/13 [00:00<00:00, 31.01it/s]\n"
          ]
        },
        {
          "output_type": "stream",
          "name": "stdout",
          "text": [
            "Epoch 9/10:\n",
            "Train Loss: 1.2772 | Val Loss: 1.0644\n"
          ]
        },
        {
          "output_type": "stream",
          "name": "stderr",
          "text": [
            "Training: 100%|██████████| 50/50 [00:05<00:00,  9.91it/s]\n",
            "Evaluating: 100%|██████████| 13/13 [00:00<00:00, 30.64it/s]\n",
            "[I 2025-05-09 13:42:30,072] Trial 48 finished with value: 0.8957875325129583 and parameters: {'d_model': 128, 'num_heads': 2, 'num_layers': 12, 'd_ff': 1024, 'dropout': 0.10164551851479525, 'learning_rate': 0.00016663918544712513, 'batch_size': 32}. Best is trial 41 with value: 0.20317339438658494.\n"
          ]
        },
        {
          "output_type": "stream",
          "name": "stdout",
          "text": [
            "Epoch 10/10:\n",
            "Train Loss: 1.1326 | Val Loss: 0.8958\n"
          ]
        },
        {
          "output_type": "stream",
          "name": "stderr",
          "text": [
            "Training: 100%|██████████| 50/50 [00:13<00:00,  3.62it/s]\n",
            "Evaluating: 100%|██████████| 13/13 [00:01<00:00, 11.19it/s]\n"
          ]
        },
        {
          "output_type": "stream",
          "name": "stdout",
          "text": [
            "Epoch 1/10:\n",
            "Train Loss: 2.8814 | Val Loss: 2.3068\n"
          ]
        },
        {
          "output_type": "stream",
          "name": "stderr",
          "text": [
            "Training: 100%|██████████| 50/50 [00:13<00:00,  3.64it/s]\n",
            "Evaluating: 100%|██████████| 13/13 [00:01<00:00, 11.20it/s]\n"
          ]
        },
        {
          "output_type": "stream",
          "name": "stdout",
          "text": [
            "Epoch 2/10:\n",
            "Train Loss: 2.1452 | Val Loss: 2.0144\n"
          ]
        },
        {
          "output_type": "stream",
          "name": "stderr",
          "text": [
            "Training: 100%|██████████| 50/50 [00:13<00:00,  3.64it/s]\n",
            "Evaluating: 100%|██████████| 13/13 [00:01<00:00, 11.21it/s]\n"
          ]
        },
        {
          "output_type": "stream",
          "name": "stdout",
          "text": [
            "Epoch 3/10:\n",
            "Train Loss: 1.8865 | Val Loss: 1.6981\n"
          ]
        },
        {
          "output_type": "stream",
          "name": "stderr",
          "text": [
            "Training: 100%|██████████| 50/50 [00:13<00:00,  3.64it/s]\n",
            "Evaluating: 100%|██████████| 13/13 [00:01<00:00, 11.15it/s]\n"
          ]
        },
        {
          "output_type": "stream",
          "name": "stdout",
          "text": [
            "Epoch 4/10:\n",
            "Train Loss: 1.4440 | Val Loss: 1.0598\n"
          ]
        },
        {
          "output_type": "stream",
          "name": "stderr",
          "text": [
            "Training: 100%|██████████| 50/50 [00:13<00:00,  3.64it/s]\n",
            "Evaluating: 100%|██████████| 13/13 [00:01<00:00, 11.17it/s]\n"
          ]
        },
        {
          "output_type": "stream",
          "name": "stdout",
          "text": [
            "Epoch 5/10:\n",
            "Train Loss: 1.0002 | Val Loss: 0.7250\n"
          ]
        },
        {
          "output_type": "stream",
          "name": "stderr",
          "text": [
            "Training: 100%|██████████| 50/50 [00:13<00:00,  3.64it/s]\n",
            "Evaluating: 100%|██████████| 13/13 [00:01<00:00, 11.21it/s]\n"
          ]
        },
        {
          "output_type": "stream",
          "name": "stdout",
          "text": [
            "Epoch 6/10:\n",
            "Train Loss: 0.7243 | Val Loss: 0.5867\n"
          ]
        },
        {
          "output_type": "stream",
          "name": "stderr",
          "text": [
            "Training: 100%|██████████| 50/50 [00:13<00:00,  3.64it/s]\n",
            "Evaluating: 100%|██████████| 13/13 [00:01<00:00, 11.22it/s]\n"
          ]
        },
        {
          "output_type": "stream",
          "name": "stdout",
          "text": [
            "Epoch 7/10:\n",
            "Train Loss: 0.5900 | Val Loss: 0.4101\n"
          ]
        },
        {
          "output_type": "stream",
          "name": "stderr",
          "text": [
            "Training: 100%|██████████| 50/50 [00:13<00:00,  3.64it/s]\n",
            "Evaluating: 100%|██████████| 13/13 [00:01<00:00, 11.19it/s]\n"
          ]
        },
        {
          "output_type": "stream",
          "name": "stdout",
          "text": [
            "Epoch 8/10:\n",
            "Train Loss: 0.4634 | Val Loss: 0.4536\n"
          ]
        },
        {
          "output_type": "stream",
          "name": "stderr",
          "text": [
            "Training: 100%|██████████| 50/50 [00:13<00:00,  3.64it/s]\n",
            "Evaluating: 100%|██████████| 13/13 [00:01<00:00, 11.18it/s]\n"
          ]
        },
        {
          "output_type": "stream",
          "name": "stdout",
          "text": [
            "Epoch 9/10:\n",
            "Train Loss: 0.3812 | Val Loss: 0.2642\n"
          ]
        },
        {
          "output_type": "stream",
          "name": "stderr",
          "text": [
            "Training: 100%|██████████| 50/50 [00:13<00:00,  3.64it/s]\n",
            "Evaluating: 100%|██████████| 13/13 [00:01<00:00, 11.19it/s]\n",
            "[I 2025-05-09 13:44:59,913] Trial 49 finished with value: 0.2641711773780676 and parameters: {'d_model': 512, 'num_heads': 2, 'num_layers': 12, 'd_ff': 1024, 'dropout': 0.15425304090465908, 'learning_rate': 0.00011711466020470574, 'batch_size': 32}. Best is trial 41 with value: 0.20317339438658494.\n"
          ]
        },
        {
          "output_type": "stream",
          "name": "stdout",
          "text": [
            "Epoch 10/10:\n",
            "Train Loss: 0.3442 | Val Loss: 0.2644\n",
            "\n",
            "Best trial:\n",
            "  Validation Loss: 0.2032\n",
            "  Params: \n",
            "    d_model: 512\n",
            "    num_heads: 8\n",
            "    num_layers: 6\n",
            "    d_ff: 1024\n",
            "    dropout: 0.12866753791718177\n",
            "    learning_rate: 0.00013900773134505292\n",
            "    batch_size: 32\n"
          ]
        },
        {
          "output_type": "stream",
          "name": "stderr",
          "text": [
            "Evaluating: 100%|██████████| 50/50 [00:02<00:00, 17.72it/s]\n",
            "Evaluating: 100%|██████████| 13/13 [00:00<00:00, 18.39it/s]\n"
          ]
        },
        {
          "output_type": "stream",
          "name": "stdout",
          "text": [
            "\n",
            "Final Evaluation:\n",
            "Train Loss: 0.1424 | Val Loss: 0.2123\n",
            "Train Accuracy: 0.9509 | Val Accuracy: 0.9322\n",
            "\n",
            "Test Decryptions:\n",
            "Input: 'Please decrypt the following using Caesar cipher: gfbs' | Output: 'UZIRK JURKED BL MA SCKNIMP JUSIN JUG JOM.' | Expected: 'fear' | ✗\n",
            "Input: 'Please decrypt the following using Caesar cipher: dpnqvufs' | Output: 'UZIRK JUSKED BL MA SCKNIMP JUST JOM JUSKIZ.' | Expected: 'computer' | ✗\n",
            "Input: 'Please decrypt the following using Caesar cipher:xibu' | Output: 'UZIRK JUSKED BL MA SCKNIMP JUSING JUZIZ.' | Expected: 'what' | ✗\n"
          ]
        }
      ],
      "source": [
        "import torch\n",
        "import torch.nn as nn\n",
        "import torch.optim as optim\n",
        "import torch.utils.data as data\n",
        "import math\n",
        "import copy\n",
        "import pandas as pd\n",
        "from sklearn.model_selection import train_test_split\n",
        "import string\n",
        "import random\n",
        "import optuna\n",
        "from tqdm import tqdm\n",
        "\n",
        "# Set random seeds for reproducibility\n",
        "torch.manual_seed(42)\n",
        "random.seed(42)\n",
        "\n",
        "# Device configuration\n",
        "device = torch.device('cuda' if torch.cuda.is_available() else 'cpu')\n",
        "print(f\"Using device: {device}\")\n",
        "\n",
        "# Data Preparation\n",
        "\n",
        "def load_data(file_path):\n",
        "    df = pd.read_excel(file_path)\n",
        "\n",
        "    df = df[df['output'].str.len() <= 200]\n",
        "\n",
        "    # Get the count of such rows\n",
        "    count_filtered = len(df)\n",
        "\n",
        "    if count_filtered > 2000:\n",
        "        df = df.sample(n=2000, random_state=42)\n",
        "\n",
        "    inputs = df['input'].tolist()\n",
        "    outputs = df['output'].tolist()\n",
        "\n",
        "    return inputs, outputs\n",
        "\n",
        "# Tokenization and Vocabulary\n",
        "class Vocabulary:\n",
        "    def __init__(self):\n",
        "        self.char2idx = {}\n",
        "        self.idx2char = {}\n",
        "        self.pad_token = 0\n",
        "        self.sos_token = 1\n",
        "        self.eos_token = 2\n",
        "        self.unk_token = 3\n",
        "        self._build_vocab()\n",
        "\n",
        "    def _build_vocab(self):\n",
        "        special_tokens = ['<PAD>', '<SOS>', '<EOS>', '<UNK>']\n",
        "        all_chars = list(string.printable)\n",
        "\n",
        "        self.char2idx = {token: idx for idx, token in enumerate(special_tokens)}\n",
        "        self.char2idx.update({char: idx+len(special_tokens) for idx, char in enumerate(all_chars)})\n",
        "        self.idx2char = {idx: char for char, idx in self.char2idx.items()}\n",
        "\n",
        "    def __len__(self):\n",
        "        return len(self.char2idx)\n",
        "\n",
        "    def encode(self, text):\n",
        "        return [self.char2idx.get(char, self.unk_token) for char in text]\n",
        "\n",
        "    def decode(self, indices):\n",
        "        return ''.join([self.idx2char.get(idx, '<UNK>') for idx in indices if idx not in {self.pad_token, self.sos_token, self.eos_token}])\n",
        "\n",
        "# Dataset Class\n",
        "class CipherDataset(data.Dataset):\n",
        "    def __init__(self, inputs, outputs, vocab, max_length):\n",
        "        self.inputs = inputs\n",
        "        self.outputs = outputs\n",
        "        self.vocab = vocab\n",
        "        self.max_length = max_length\n",
        "\n",
        "    def __len__(self):\n",
        "        return len(self.inputs)\n",
        "\n",
        "    def __getitem__(self, idx):\n",
        "        input_text = str(self.inputs[idx])\n",
        "        output_text = str(self.outputs[idx])\n",
        "\n",
        "        input_encoded = [self.vocab.sos_token] + self.vocab.encode(input_text) + [self.vocab.eos_token]\n",
        "        output_encoded = [self.vocab.sos_token] + self.vocab.encode(output_text) + [self.vocab.eos_token]\n",
        "\n",
        "        input_padded = input_encoded + [self.vocab.pad_token] * (self.max_length - len(input_encoded))\n",
        "        output_padded = output_encoded + [self.vocab.pad_token] * (self.max_length - len(output_encoded))\n",
        "\n",
        "        input_padded = input_padded[:self.max_length]\n",
        "        output_padded = output_padded[:self.max_length]\n",
        "\n",
        "        return torch.tensor(input_padded), torch.tensor(output_padded)\n",
        "\n",
        "# Transformer Model Components\n",
        "class MultiHeadAttention(nn.Module):\n",
        "    def __init__(self, d_model, num_heads):\n",
        "        super().__init__()\n",
        "        assert d_model % num_heads == 0, \"d_model must be divisible by num_heads\"\n",
        "        self.d_model = d_model\n",
        "        self.num_heads = num_heads\n",
        "        self.d_k = d_model // num_heads\n",
        "\n",
        "        self.W_q = nn.Linear(d_model, d_model)\n",
        "        self.W_k = nn.Linear(d_model, d_model)\n",
        "        self.W_v = nn.Linear(d_model, d_model)\n",
        "        self.W_o = nn.Linear(d_model, d_model)\n",
        "\n",
        "    def scaled_dot_product_attention(self, Q, K, V, mask=None):\n",
        "        attn_scores = torch.matmul(Q, K.transpose(-2, -1)) / math.sqrt(self.d_k)\n",
        "        if mask is not None:\n",
        "            attn_scores = attn_scores.masked_fill(mask == 0, -1e9)\n",
        "        attn_probs = torch.softmax(attn_scores, dim=-1)\n",
        "        output = torch.matmul(attn_probs, V)\n",
        "        return output\n",
        "\n",
        "    def split_heads(self, x):\n",
        "        batch_size, seq_length, d_model = x.size()\n",
        "        return x.view(batch_size, seq_length, self.num_heads, self.d_k).transpose(1, 2)\n",
        "\n",
        "    def combine_heads(self, x):\n",
        "        batch_size, _, seq_length, d_k = x.size()\n",
        "        return x.transpose(1, 2).contiguous().view(batch_size, seq_length, self.d_model)\n",
        "\n",
        "    def forward(self, Q, K, V, mask=None):\n",
        "        Q = self.split_heads(self.W_q(Q))\n",
        "        K = self.split_heads(self.W_k(K))\n",
        "        V = self.split_heads(self.W_v(V))\n",
        "\n",
        "        attn_output = self.scaled_dot_product_attention(Q, K, V, mask)\n",
        "        output = self.W_o(self.combine_heads(attn_output))\n",
        "        return output\n",
        "\n",
        "class PositionWiseFeedForward(nn.Module):\n",
        "    def __init__(self, d_model, d_ff):\n",
        "        super().__init__()\n",
        "        self.fc1 = nn.Linear(d_model, d_ff)\n",
        "        self.fc2 = nn.Linear(d_ff, d_model)\n",
        "        self.relu = nn.ReLU()\n",
        "\n",
        "    def forward(self, x):\n",
        "        return self.fc2(self.relu(self.fc1(x)))\n",
        "\n",
        "class PositionalEncoding(nn.Module):\n",
        "    def __init__(self, d_model, max_seq_length):\n",
        "        super().__init__()\n",
        "        pe = torch.zeros(max_seq_length, d_model)\n",
        "        position = torch.arange(0, max_seq_length, dtype=torch.float).unsqueeze(1)\n",
        "        div_term = torch.exp(torch.arange(0, d_model, 2).float() * (-math.log(10000.0) / d_model))\n",
        "\n",
        "        pe[:, 0::2] = torch.sin(position * div_term)\n",
        "        pe[:, 1::2] = torch.cos(position * div_term)\n",
        "        self.register_buffer('pe', pe.unsqueeze(0))\n",
        "\n",
        "    def forward(self, x):\n",
        "        return x + self.pe[:, :x.size(1)]\n",
        "\n",
        "class EncoderLayer(nn.Module):\n",
        "    def __init__(self, d_model, num_heads, d_ff, dropout):\n",
        "        super().__init__()\n",
        "        self.self_attn = MultiHeadAttention(d_model, num_heads)\n",
        "        self.feed_forward = PositionWiseFeedForward(d_model, d_ff)\n",
        "        self.norm1 = nn.LayerNorm(d_model)\n",
        "        self.norm2 = nn.LayerNorm(d_model)\n",
        "        self.dropout = nn.Dropout(dropout)\n",
        "\n",
        "    def forward(self, x, mask):\n",
        "        attn_output = self.self_attn(x, x, x, mask)\n",
        "        x = self.norm1(x + self.dropout(attn_output))\n",
        "        ff_output = self.feed_forward(x)\n",
        "        x = self.norm2(x + self.dropout(ff_output))\n",
        "        return x\n",
        "\n",
        "class DecoderLayer(nn.Module):\n",
        "    def __init__(self, d_model, num_heads, d_ff, dropout):\n",
        "        super().__init__()\n",
        "        self.self_attn = MultiHeadAttention(d_model, num_heads)\n",
        "        self.cross_attn = MultiHeadAttention(d_model, num_heads)\n",
        "        self.feed_forward = PositionWiseFeedForward(d_model, d_ff)\n",
        "        self.norm1 = nn.LayerNorm(d_model)\n",
        "        self.norm2 = nn.LayerNorm(d_model)\n",
        "        self.norm3 = nn.LayerNorm(d_model)\n",
        "        self.dropout = nn.Dropout(dropout)\n",
        "\n",
        "    def forward(self, x, enc_output, src_mask, tgt_mask):\n",
        "        attn_output = self.self_attn(x, x, x, tgt_mask)\n",
        "        x = self.norm1(x + self.dropout(attn_output))\n",
        "        attn_output = self.cross_attn(x, enc_output, enc_output, src_mask)\n",
        "        x = self.norm2(x + self.dropout(attn_output))\n",
        "        ff_output = self.feed_forward(x)\n",
        "        x = self.norm3(x + self.dropout(ff_output))\n",
        "        return x\n",
        "\n",
        "class Transformer(nn.Module):\n",
        "    def __init__(self, src_vocab_size, tgt_vocab_size, d_model, num_heads, num_layers, d_ff, max_seq_length, dropout):\n",
        "        super().__init__()\n",
        "        self.encoder_embedding = nn.Embedding(src_vocab_size, d_model)\n",
        "        self.decoder_embedding = nn.Embedding(tgt_vocab_size, d_model)\n",
        "        self.positional_encoding = PositionalEncoding(d_model, max_seq_length)\n",
        "\n",
        "        self.encoder_layers = nn.ModuleList([EncoderLayer(d_model, num_heads, d_ff, dropout) for _ in range(num_layers)])\n",
        "        self.decoder_layers = nn.ModuleList([DecoderLayer(d_model, num_heads, d_ff, dropout) for _ in range(num_layers)])\n",
        "\n",
        "        self.fc = nn.Linear(d_model, tgt_vocab_size)\n",
        "        self.dropout = nn.Dropout(dropout)\n",
        "\n",
        "    def generate_mask(self, src, tgt):\n",
        "        src_mask = (src != 0).unsqueeze(1).unsqueeze(2)\n",
        "        tgt_pad_mask = (tgt != 0).unsqueeze(1).unsqueeze(2)\n",
        "        tgt_len = tgt.size(1)\n",
        "        tgt_sub_mask = torch.tril(torch.ones((tgt_len, tgt_len), device=device)).bool()\n",
        "        tgt_mask = tgt_pad_mask & tgt_sub_mask\n",
        "        return src_mask, tgt_mask\n",
        "\n",
        "    def forward(self, src, tgt):\n",
        "        src_mask, tgt_mask = self.generate_mask(src, tgt)\n",
        "        src_embedded = self.dropout(self.positional_encoding(self.encoder_embedding(src)))\n",
        "        tgt_embedded = self.dropout(self.positional_encoding(self.decoder_embedding(tgt)))\n",
        "\n",
        "        enc_output = src_embedded\n",
        "        for enc_layer in self.encoder_layers:\n",
        "            enc_output = enc_layer(enc_output, src_mask)\n",
        "\n",
        "        dec_output = tgt_embedded\n",
        "        for dec_layer in self.decoder_layers:\n",
        "            dec_output = dec_layer(dec_output, enc_output, src_mask, tgt_mask)\n",
        "\n",
        "        output = self.fc(dec_output)\n",
        "        return output\n",
        "\n",
        "# Training and Evaluation Functions\n",
        "def train_epoch(model, train_loader, optimizer, criterion, device):\n",
        "    model.train()\n",
        "    total_loss = 0\n",
        "    for src, tgt in tqdm(train_loader, desc=\"Training\"):\n",
        "        src, tgt = src.to(device), tgt.to(device)\n",
        "        optimizer.zero_grad()\n",
        "        output = model(src, tgt[:, :-1])\n",
        "        loss = criterion(output.contiguous().view(-1, output.size(-1)),\n",
        "                        tgt[:, 1:].contiguous().view(-1))\n",
        "        loss.backward()\n",
        "        torch.nn.utils.clip_grad_norm_(model.parameters(), max_norm=1.0)\n",
        "        optimizer.step()\n",
        "        total_loss += loss.item()\n",
        "    return total_loss / len(train_loader)\n",
        "\n",
        "def evaluate(model, val_loader, criterion, device):\n",
        "    model.eval()\n",
        "    total_loss = 0\n",
        "    with torch.no_grad():\n",
        "        for src, tgt in tqdm(val_loader, desc=\"Evaluating\"):\n",
        "            src, tgt = src.to(device), tgt.to(device)\n",
        "            output = model(src, tgt[:, :-1])\n",
        "            loss = criterion(output.contiguous().view(-1, output.size(-1)),\n",
        "                            tgt[:, 1:].contiguous().view(-1))\n",
        "            total_loss += loss.item()\n",
        "    return total_loss / len(val_loader)\n",
        "\n",
        "def calculate_accuracy(model, data_loader, vocab, device):\n",
        "    model.eval()\n",
        "    correct = 0\n",
        "    total = 0\n",
        "    with torch.no_grad():\n",
        "        for src, tgt in data_loader:\n",
        "            src, tgt = src.to(device), tgt.to(device)\n",
        "            output = model(src, tgt[:, :-1])\n",
        "            predictions = output.argmax(dim=-1)\n",
        "            correct += ((predictions == tgt[:, 1:]) & (tgt[:, 1:] != vocab.pad_token)).sum().item()\n",
        "            total += (tgt[:, 1:] != vocab.pad_token).sum().item()\n",
        "    return correct / total if total > 0 else 0\n",
        "\n",
        "def train_model(model, train_loader, val_loader, optimizer, criterion, scheduler, device, epochs, patience=3):\n",
        "    best_val_loss = float('inf')\n",
        "    epochs_no_improve = 0\n",
        "\n",
        "    for epoch in range(epochs):\n",
        "        train_loss = train_epoch(model, train_loader, optimizer, criterion, device)\n",
        "        val_loss = evaluate(model, val_loader, criterion, device)\n",
        "        scheduler.step(val_loss)\n",
        "\n",
        "        print(f\"Epoch {epoch+1}/{epochs}:\")\n",
        "        print(f\"Train Loss: {train_loss:.4f} | Val Loss: {val_loss:.4f}\")\n",
        "\n",
        "\n",
        "\n",
        "\n",
        "        if val_loss < best_val_loss:\n",
        "            best_val_loss = val_loss\n",
        "            epochs_no_improve = 0\n",
        "        else:\n",
        "            epochs_no_improve += 1\n",
        "            if epochs_no_improve == patience:\n",
        "                print(\"Early stopping triggered!\")\n",
        "                break\n",
        "    return best_val_loss  # Return the best validation loss from this training run\n",
        "\n",
        "# Global variables to track best model across all trials\n",
        "best_overall_model = None\n",
        "best_overall_loss = float('inf')\n",
        "best_config = None\n",
        "\n",
        "# Hyperparameter Optimization with Optuna\n",
        "def objective(trial):\n",
        "    global best_overall_model, best_overall_loss, best_config\n",
        "\n",
        "    config = {\n",
        "        \"d_model\": trial.suggest_categorical(\"d_model\", [128, 256, 512]),\n",
        "        \"num_heads\": trial.suggest_categorical(\"num_heads\", [2, 4, 8, 16]),\n",
        "        \"num_layers\": trial.suggest_categorical(\"num_layers\", [6, 8, 10, 12]),\n",
        "        \"d_ff\": trial.suggest_categorical(\"d_ff\", [256, 512, 1024]),\n",
        "        \"dropout\": trial.suggest_float(\"dropout\", 0.1, 0.4),\n",
        "        \"learning_rate\": trial.suggest_float(\"learning_rate\", 1e-4, 1e-2, log=True),\n",
        "        \"batch_size\": trial.suggest_categorical(\"batch_size\", [32]),\n",
        "    }\n",
        "\n",
        "    # Create data loaders with current batch size\n",
        "    train_loader = data.DataLoader(train_dataset, batch_size=config[\"batch_size\"], shuffle=True)\n",
        "    val_loader = data.DataLoader(val_dataset, batch_size=config[\"batch_size\"])\n",
        "\n",
        "    # Initialize model\n",
        "    model = Transformer(\n",
        "        src_vocab_size=len(vocab),\n",
        "        tgt_vocab_size=len(vocab),\n",
        "        d_model=config[\"d_model\"],\n",
        "        num_heads=config[\"num_heads\"],\n",
        "        num_layers=config[\"num_layers\"],\n",
        "        d_ff=config[\"d_ff\"],\n",
        "        max_seq_length=max_length,\n",
        "        dropout=config[\"dropout\"]\n",
        "    ).to(device)\n",
        "\n",
        "    optimizer = optim.Adam(model.parameters(), lr=config[\"learning_rate\"])\n",
        "    criterion = nn.CrossEntropyLoss(ignore_index=vocab.pad_token)\n",
        "    scheduler = optim.lr_scheduler.ReduceLROnPlateau(optimizer, patience=2)\n",
        "\n",
        "    # Train and get best validation loss for this configuration\n",
        "    current_val_loss = train_model(model, train_loader, val_loader, optimizer, criterion, scheduler, device, epochs=10)\n",
        "\n",
        "    # Update overall best model if this one is better\n",
        "    if current_val_loss < best_overall_loss:\n",
        "        best_overall_loss = current_val_loss\n",
        "        best_overall_model = copy.deepcopy(model.state_dict())\n",
        "        best_config = config\n",
        "        torch.save(best_overall_model, '/content/drive/MyDrive/best_mono_key_1.pth')\n",
        "        print(f\"New best model found! Val Loss: {current_val_loss:.4f}\")\n",
        "        print(f\"Config: {config}\")\n",
        "\n",
        "    return current_val_loss\n",
        "\n",
        "# Decryption Function\n",
        "def decrypt_text(model, text, vocab, max_length, device):\n",
        "    model.eval()\n",
        "    with torch.no_grad():\n",
        "        encoded = [vocab.sos_token] + vocab.encode(str(text)) + [vocab.eos_token]\n",
        "        encoded = encoded + [vocab.pad_token] * (max_length - len(encoded))\n",
        "        encoded = torch.tensor(encoded[:max_length]).unsqueeze(0).to(device)\n",
        "\n",
        "        target = torch.tensor([[vocab.sos_token]]).to(device)\n",
        "\n",
        "        for _ in range(max_length - 1):\n",
        "            output = model(encoded, target)\n",
        "            next_token = output.argmax(2)[:, -1].item()\n",
        "            if next_token == vocab.eos_token:\n",
        "                break\n",
        "            target = torch.cat([target, torch.tensor([[next_token]]).to(device)], dim=1)\n",
        "\n",
        "        decrypted = vocab.decode(target[0].cpu().numpy())\n",
        "        return decrypted\n",
        "\n",
        "# Main Execution\n",
        "if __name__ == \"__main__\":\n",
        "    # Load and prepare data\n",
        "    inputs, outputs = load_data('/content/Full_training_mono_one.xlsx')\n",
        "    vocab = Vocabulary()\n",
        "    max_length = 256  # Adjusted for longer sentences\n",
        "\n",
        "    # Split data\n",
        "    train_inputs, val_inputs, train_outputs, val_outputs = train_test_split(\n",
        "        inputs, outputs, test_size=0.2, random_state=42\n",
        "    )\n",
        "\n",
        "    # Create datasets\n",
        "    train_dataset = CipherDataset(train_inputs, train_outputs, vocab, max_length)\n",
        "    val_dataset = CipherDataset(val_inputs, val_outputs, vocab, max_length)\n",
        "\n",
        "    # Run hyperparameter optimization\n",
        "    study = optuna.create_study(direction=\"minimize\")\n",
        "    study.optimize(objective, n_trials=50)\n",
        "\n",
        "    print(\"\\nBest trial:\")\n",
        "    trial = study.best_trial\n",
        "    print(f\"  Validation Loss: {trial.value:.4f}\")\n",
        "    print(\"  Params: \")\n",
        "    for key, value in trial.params.items():\n",
        "        print(f\"    {key}: {value}\")\n",
        "\n",
        "    # Load the best model found during the search\n",
        "    final_model = Transformer(\n",
        "        src_vocab_size=len(vocab),\n",
        "        tgt_vocab_size=len(vocab),\n",
        "        d_model=best_config[\"d_model\"],\n",
        "        num_heads=best_config[\"num_heads\"],\n",
        "        num_layers=best_config[\"num_layers\"],\n",
        "        d_ff=best_config[\"d_ff\"],\n",
        "        max_seq_length=max_length,\n",
        "        dropout=best_config[\"dropout\"]\n",
        "    ).to(device)\n",
        "    final_model.load_state_dict(torch.load('/content/drive/MyDrive/best_mono_key_1.pth'))\n",
        "\n",
        "    # Evaluate on full datasets\n",
        "    full_train_loader = data.DataLoader(train_dataset, batch_size=best_config[\"batch_size\"], shuffle=False)\n",
        "    full_val_loader = data.DataLoader(val_dataset, batch_size=best_config[\"batch_size\"], shuffle=False)\n",
        "\n",
        "    criterion = nn.CrossEntropyLoss(ignore_index=vocab.pad_token)\n",
        "\n",
        "    train_loss = evaluate(final_model, full_train_loader, criterion, device)\n",
        "    val_loss = evaluate(final_model, full_val_loader, criterion, device)\n",
        "\n",
        "    train_acc = calculate_accuracy(final_model, full_train_loader, vocab, device)\n",
        "    val_acc = calculate_accuracy(final_model, full_val_loader, vocab, device)\n",
        "\n",
        "    print(\"\\nFinal Evaluation:\")\n",
        "    print(f\"Train Loss: {train_loss:.4f} | Val Loss: {val_loss:.4f}\")\n",
        "    print(f\"Train Accuracy: {train_acc:.4f} | Val Accuracy: {val_acc:.4f}\")\n",
        "\n",
        "    # Test decryption\n",
        "    test_cases = [\n",
        "        (\"Please decrypt the following using Caesar cipher: gfbs\", \"fear\"),\n",
        "        (\"Please decrypt the following using Caesar cipher: dpnqvufs\", \"computer\"),\n",
        "        (\"Please decrypt the following using Caesar cipher:xibu\", \"what\")\n",
        "    ]\n",
        "\n",
        "    print(\"\\nTest Decryptions:\")\n",
        "    for encrypted, expected in test_cases:\n",
        "        decrypted = decrypt_text(final_model, encrypted, vocab, max_length, device)\n",
        "        print(f\"Input: '{encrypted}' | Output: '{decrypted}' | Expected: '{expected}' | {'✓' if decrypted == expected else '✗'}\")"
      ]
    }
  ]
}