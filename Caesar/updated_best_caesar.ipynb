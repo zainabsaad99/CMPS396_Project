{
  "nbformat": 4,
  "nbformat_minor": 0,
  "metadata": {
    "colab": {
      "provenance": [],
      "machine_shape": "hm"
    },
    "kernelspec": {
      "name": "python3",
      "display_name": "Python 3"
    },
    "language_info": {
      "name": "python"
    }
  },
  "cells": [
    {
      "cell_type": "code",
      "source": [
        "!pip install optuna"
      ],
      "metadata": {
        "colab": {
          "base_uri": "https://localhost:8080/"
        },
        "id": "lPcsaWa0rp9w",
        "outputId": "90a6fafb-ebf1-49c0-e9fd-9a26ed948cc5"
      },
      "execution_count": null,
      "outputs": [
        {
          "output_type": "stream",
          "name": "stdout",
          "text": [
            "Collecting optuna\n",
            "  Downloading optuna-4.3.0-py3-none-any.whl.metadata (17 kB)\n",
            "Collecting alembic>=1.5.0 (from optuna)\n",
            "  Downloading alembic-1.15.2-py3-none-any.whl.metadata (7.3 kB)\n",
            "Collecting colorlog (from optuna)\n",
            "  Downloading colorlog-6.9.0-py3-none-any.whl.metadata (10 kB)\n",
            "Requirement already satisfied: numpy in /usr/local/lib/python3.11/dist-packages (from optuna) (2.0.2)\n",
            "Requirement already satisfied: packaging>=20.0 in /usr/local/lib/python3.11/dist-packages (from optuna) (24.2)\n",
            "Requirement already satisfied: sqlalchemy>=1.4.2 in /usr/local/lib/python3.11/dist-packages (from optuna) (2.0.40)\n",
            "Requirement already satisfied: tqdm in /usr/local/lib/python3.11/dist-packages (from optuna) (4.67.1)\n",
            "Requirement already satisfied: PyYAML in /usr/local/lib/python3.11/dist-packages (from optuna) (6.0.2)\n",
            "Requirement already satisfied: Mako in /usr/lib/python3/dist-packages (from alembic>=1.5.0->optuna) (1.1.3)\n",
            "Requirement already satisfied: typing-extensions>=4.12 in /usr/local/lib/python3.11/dist-packages (from alembic>=1.5.0->optuna) (4.13.2)\n",
            "Requirement already satisfied: greenlet>=1 in /usr/local/lib/python3.11/dist-packages (from sqlalchemy>=1.4.2->optuna) (3.2.1)\n",
            "Downloading optuna-4.3.0-py3-none-any.whl (386 kB)\n",
            "\u001b[2K   \u001b[90m━━━━━━━━━━━━━━━━━━━━━━━━━━━━━━━━━━━━━━━━\u001b[0m \u001b[32m386.6/386.6 kB\u001b[0m \u001b[31m17.1 MB/s\u001b[0m eta \u001b[36m0:00:00\u001b[0m\n",
            "\u001b[?25hDownloading alembic-1.15.2-py3-none-any.whl (231 kB)\n",
            "\u001b[2K   \u001b[90m━━━━━━━━━━━━━━━━━━━━━━━━━━━━━━━━━━━━━━━━\u001b[0m \u001b[32m231.9/231.9 kB\u001b[0m \u001b[31m18.1 MB/s\u001b[0m eta \u001b[36m0:00:00\u001b[0m\n",
            "\u001b[?25hDownloading colorlog-6.9.0-py3-none-any.whl (11 kB)\n",
            "Installing collected packages: colorlog, alembic, optuna\n",
            "Successfully installed alembic-1.15.2 colorlog-6.9.0 optuna-4.3.0\n"
          ]
        }
      ]
    },
    {
      "cell_type": "code",
      "execution_count": null,
      "metadata": {
        "colab": {
          "base_uri": "https://localhost:8080/"
        },
        "id": "MHdljGYErlQJ",
        "outputId": "298f486f-6d94-4051-e3dc-7ec1dce4192c"
      },
      "outputs": [
        {
          "metadata": {
            "tags": null
          },
          "name": "stdout",
          "output_type": "stream",
          "text": [
            "Using device: cpu\n"
          ]
        },
        {
          "metadata": {
            "tags": null
          },
          "name": "stderr",
          "output_type": "stream",
          "text": [
            "[I 2025-05-06 17:58:04,179] A new study created in memory with name: no-name-8b3dc0b9-ada0-47d7-aa11-860d46536572\n",
            "Training: 100%|██████████| 13/13 [01:25<00:00,  6.54s/it]\n",
            "Evaluating: 100%|██████████| 4/4 [00:03<00:00,  1.02it/s]\n"
          ]
        },
        {
          "metadata": {
            "tags": null
          },
          "name": "stdout",
          "output_type": "stream",
          "text": [
            "Epoch 1/10:\n",
            "Train Loss: 4.0666 | Val Loss: 3.7088\n"
          ]
        },
        {
          "metadata": {
            "tags": null
          },
          "name": "stderr",
          "output_type": "stream",
          "text": [
            "Training: 100%|██████████| 13/13 [01:23<00:00,  6.41s/it]\n",
            "Evaluating: 100%|██████████| 4/4 [00:04<00:00,  1.00s/it]\n"
          ]
        },
        {
          "metadata": {
            "tags": null
          },
          "name": "stdout",
          "output_type": "stream",
          "text": [
            "Epoch 2/10:\n",
            "Train Loss: 3.6629 | Val Loss: 3.5250\n"
          ]
        },
        {
          "metadata": {
            "tags": null
          },
          "name": "stderr",
          "output_type": "stream",
          "text": [
            "Training: 100%|██████████| 13/13 [01:22<00:00,  6.31s/it]\n",
            "Evaluating: 100%|██████████| 4/4 [00:03<00:00,  1.12it/s]\n"
          ]
        },
        {
          "metadata": {
            "tags": null
          },
          "name": "stdout",
          "output_type": "stream",
          "text": [
            "Epoch 3/10:\n",
            "Train Loss: 3.4948 | Val Loss: 3.3822\n"
          ]
        },
        {
          "metadata": {
            "tags": null
          },
          "name": "stderr",
          "output_type": "stream",
          "text": [
            "Training: 100%|██████████| 13/13 [01:22<00:00,  6.34s/it]\n",
            "Evaluating: 100%|██████████| 4/4 [00:03<00:00,  1.11it/s]\n"
          ]
        },
        {
          "metadata": {
            "tags": null
          },
          "name": "stdout",
          "output_type": "stream",
          "text": [
            "Epoch 4/10:\n",
            "Train Loss: 3.3620 | Val Loss: 3.2595\n"
          ]
        },
        {
          "metadata": {
            "tags": null
          },
          "name": "stderr",
          "output_type": "stream",
          "text": [
            "Training: 100%|██████████| 13/13 [01:23<00:00,  6.41s/it]\n",
            "Evaluating: 100%|██████████| 4/4 [00:04<00:00,  1.01s/it]\n"
          ]
        },
        {
          "metadata": {
            "tags": null
          },
          "name": "stdout",
          "output_type": "stream",
          "text": [
            "Epoch 5/10:\n",
            "Train Loss: 3.2398 | Val Loss: 3.1162\n"
          ]
        },
        {
          "metadata": {
            "tags": null
          },
          "name": "stderr",
          "output_type": "stream",
          "text": [
            "Training: 100%|██████████| 13/13 [01:22<00:00,  6.36s/it]\n",
            "Evaluating: 100%|██████████| 4/4 [00:04<00:00,  1.08s/it]\n"
          ]
        },
        {
          "metadata": {
            "tags": null
          },
          "name": "stdout",
          "output_type": "stream",
          "text": [
            "Epoch 6/10:\n",
            "Train Loss: 3.1152 | Val Loss: 2.9750\n"
          ]
        },
        {
          "metadata": {
            "tags": null
          },
          "name": "stderr",
          "output_type": "stream",
          "text": [
            "Training: 100%|██████████| 13/13 [01:22<00:00,  6.37s/it]\n",
            "Evaluating: 100%|██████████| 4/4 [00:03<00:00,  1.14it/s]\n"
          ]
        },
        {
          "metadata": {
            "tags": null
          },
          "name": "stdout",
          "output_type": "stream",
          "text": [
            "Epoch 7/10:\n",
            "Train Loss: 2.9843 | Val Loss: 2.8526\n"
          ]
        },
        {
          "output_type": "stream",
          "name": "stderr",
          "text": [
            "Training: 100%|██████████| 13/13 [01:22<00:00,  6.36s/it]\n",
            "Evaluating: 100%|██████████| 4/4 [00:03<00:00,  1.12it/s]\n"
          ]
        },
        {
          "output_type": "stream",
          "name": "stdout",
          "text": [
            "Epoch 8/10:\n",
            "Train Loss: 2.8787 | Val Loss: 2.7515\n"
          ]
        },
        {
          "output_type": "stream",
          "name": "stderr",
          "text": [
            "Training: 100%|██████████| 13/13 [01:21<00:00,  6.30s/it]\n",
            "Evaluating: 100%|██████████| 4/4 [00:04<00:00,  1.00s/it]\n"
          ]
        },
        {
          "output_type": "stream",
          "name": "stdout",
          "text": [
            "Epoch 9/10:\n",
            "Train Loss: 2.7898 | Val Loss: 2.6693\n"
          ]
        },
        {
          "output_type": "stream",
          "name": "stderr",
          "text": [
            "Training: 100%|██████████| 13/13 [01:22<00:00,  6.31s/it]\n",
            "Evaluating: 100%|██████████| 4/4 [00:04<00:00,  1.05s/it]\n",
            "[I 2025-05-06 18:12:36,398] Trial 0 finished with value: 2.610978841781616 and parameters: {'d_model': 64, 'num_heads': 8, 'num_layers': 6, 'd_ff': 128, 'dropout': 0.1806497578025868, 'learning_rate': 0.00028782326078834576, 'batch_size': 64}. Best is trial 0 with value: 2.610978841781616.\n"
          ]
        },
        {
          "output_type": "stream",
          "name": "stdout",
          "text": [
            "Epoch 10/10:\n",
            "Train Loss: 2.7172 | Val Loss: 2.6110\n",
            "New best model found! Val Loss: 2.6110\n",
            "Config: {'d_model': 64, 'num_heads': 8, 'num_layers': 6, 'd_ff': 128, 'dropout': 0.1806497578025868, 'learning_rate': 0.00028782326078834576, 'batch_size': 64}\n"
          ]
        },
        {
          "output_type": "stream",
          "name": "stderr",
          "text": [
            "Training: 100%|██████████| 13/13 [01:18<00:00,  6.00s/it]\n",
            "Evaluating: 100%|██████████| 4/4 [00:04<00:00,  1.15s/it]\n"
          ]
        },
        {
          "output_type": "stream",
          "name": "stdout",
          "text": [
            "Epoch 1/10:\n",
            "Train Loss: 3.3778 | Val Loss: 2.8527\n"
          ]
        },
        {
          "output_type": "stream",
          "name": "stderr",
          "text": [
            "Training: 100%|██████████| 13/13 [01:16<00:00,  5.85s/it]\n",
            "Evaluating: 100%|██████████| 4/4 [00:04<00:00,  1.13s/it]\n"
          ]
        },
        {
          "output_type": "stream",
          "name": "stdout",
          "text": [
            "Epoch 2/10:\n",
            "Train Loss: 2.6641 | Val Loss: 2.4772\n"
          ]
        },
        {
          "output_type": "stream",
          "name": "stderr",
          "text": [
            "Training: 100%|██████████| 13/13 [01:12<00:00,  5.57s/it]\n",
            "Evaluating: 100%|██████████| 4/4 [00:04<00:00,  1.15s/it]\n"
          ]
        },
        {
          "output_type": "stream",
          "name": "stdout",
          "text": [
            "Epoch 3/10:\n",
            "Train Loss: 2.4185 | Val Loss: 2.3955\n"
          ]
        },
        {
          "output_type": "stream",
          "name": "stderr",
          "text": [
            "Training: 100%|██████████| 13/13 [01:13<00:00,  5.67s/it]\n",
            "Evaluating: 100%|██████████| 4/4 [00:04<00:00,  1.13s/it]\n"
          ]
        },
        {
          "output_type": "stream",
          "name": "stdout",
          "text": [
            "Epoch 4/10:\n",
            "Train Loss: 2.3199 | Val Loss: 2.3017\n"
          ]
        },
        {
          "output_type": "stream",
          "name": "stderr",
          "text": [
            "Training: 100%|██████████| 13/13 [01:14<00:00,  5.73s/it]\n",
            "Evaluating: 100%|██████████| 4/4 [00:04<00:00,  1.16s/it]\n"
          ]
        },
        {
          "output_type": "stream",
          "name": "stdout",
          "text": [
            "Epoch 5/10:\n",
            "Train Loss: 2.2534 | Val Loss: 2.2649\n"
          ]
        },
        {
          "output_type": "stream",
          "name": "stderr",
          "text": [
            "Training: 100%|██████████| 13/13 [01:13<00:00,  5.68s/it]\n",
            "Evaluating: 100%|██████████| 4/4 [00:04<00:00,  1.19s/it]\n"
          ]
        },
        {
          "output_type": "stream",
          "name": "stdout",
          "text": [
            "Epoch 6/10:\n",
            "Train Loss: 2.1826 | Val Loss: 2.2248\n"
          ]
        },
        {
          "output_type": "stream",
          "name": "stderr",
          "text": [
            "Training: 100%|██████████| 13/13 [01:14<00:00,  5.75s/it]\n",
            "Evaluating: 100%|██████████| 4/4 [00:04<00:00,  1.18s/it]\n"
          ]
        },
        {
          "output_type": "stream",
          "name": "stdout",
          "text": [
            "Epoch 7/10:\n",
            "Train Loss: 2.1642 | Val Loss: 2.2127\n"
          ]
        },
        {
          "output_type": "stream",
          "name": "stderr",
          "text": [
            "Training: 100%|██████████| 13/13 [01:14<00:00,  5.71s/it]\n",
            "Evaluating: 100%|██████████| 4/4 [00:04<00:00,  1.13s/it]\n"
          ]
        },
        {
          "output_type": "stream",
          "name": "stdout",
          "text": [
            "Epoch 8/10:\n",
            "Train Loss: 2.1006 | Val Loss: 2.1800\n"
          ]
        },
        {
          "output_type": "stream",
          "name": "stderr",
          "text": [
            "Training: 100%|██████████| 13/13 [01:12<00:00,  5.58s/it]\n",
            "Evaluating: 100%|██████████| 4/4 [00:04<00:00,  1.15s/it]\n"
          ]
        },
        {
          "output_type": "stream",
          "name": "stdout",
          "text": [
            "Epoch 9/10:\n",
            "Train Loss: 2.0433 | Val Loss: 2.2589\n"
          ]
        },
        {
          "output_type": "stream",
          "name": "stderr",
          "text": [
            "Training: 100%|██████████| 13/13 [01:13<00:00,  5.63s/it]\n",
            "Evaluating: 100%|██████████| 4/4 [00:04<00:00,  1.13s/it]\n",
            "[I 2025-05-06 18:25:46,031] Trial 1 finished with value: 2.1572062373161316 and parameters: {'d_model': 256, 'num_heads': 8, 'num_layers': 4, 'd_ff': 512, 'dropout': 0.18760098545752418, 'learning_rate': 0.0008626906207424592, 'batch_size': 64}. Best is trial 1 with value: 2.1572062373161316.\n"
          ]
        },
        {
          "output_type": "stream",
          "name": "stdout",
          "text": [
            "Epoch 10/10:\n",
            "Train Loss: 2.0275 | Val Loss: 2.1572\n",
            "New best model found! Val Loss: 2.1572\n",
            "Config: {'d_model': 256, 'num_heads': 8, 'num_layers': 4, 'd_ff': 512, 'dropout': 0.18760098545752418, 'learning_rate': 0.0008626906207424592, 'batch_size': 64}\n"
          ]
        },
        {
          "output_type": "stream",
          "name": "stderr",
          "text": [
            "Training: 100%|██████████| 13/13 [01:13<00:00,  5.69s/it]\n",
            "Evaluating: 100%|██████████| 4/4 [00:04<00:00,  1.25s/it]\n"
          ]
        },
        {
          "output_type": "stream",
          "name": "stdout",
          "text": [
            "Epoch 1/10:\n",
            "Train Loss: 3.5182 | Val Loss: 3.1300\n"
          ]
        },
        {
          "output_type": "stream",
          "name": "stderr",
          "text": [
            "Training: 100%|██████████| 13/13 [01:12<00:00,  5.57s/it]\n",
            "Evaluating: 100%|██████████| 4/4 [00:04<00:00,  1.23s/it]\n"
          ]
        },
        {
          "output_type": "stream",
          "name": "stdout",
          "text": [
            "Epoch 2/10:\n",
            "Train Loss: 3.0051 | Val Loss: 2.7336\n"
          ]
        },
        {
          "output_type": "stream",
          "name": "stderr",
          "text": [
            "Training: 100%|██████████| 13/13 [01:12<00:00,  5.56s/it]\n",
            "Evaluating: 100%|██████████| 4/4 [00:04<00:00,  1.24s/it]\n"
          ]
        },
        {
          "output_type": "stream",
          "name": "stdout",
          "text": [
            "Epoch 3/10:\n",
            "Train Loss: 2.6574 | Val Loss: 2.5339\n"
          ]
        },
        {
          "output_type": "stream",
          "name": "stderr",
          "text": [
            "Training: 100%|██████████| 13/13 [01:12<00:00,  5.55s/it]\n",
            "Evaluating: 100%|██████████| 4/4 [00:04<00:00,  1.24s/it]\n"
          ]
        },
        {
          "output_type": "stream",
          "name": "stdout",
          "text": [
            "Epoch 4/10:\n",
            "Train Loss: 2.4741 | Val Loss: 2.4180\n"
          ]
        },
        {
          "output_type": "stream",
          "name": "stderr",
          "text": [
            "Training: 100%|██████████| 13/13 [01:12<00:00,  5.55s/it]\n",
            "Evaluating: 100%|██████████| 4/4 [00:04<00:00,  1.25s/it]\n"
          ]
        },
        {
          "output_type": "stream",
          "name": "stdout",
          "text": [
            "Epoch 5/10:\n",
            "Train Loss: 2.3886 | Val Loss: 2.3752\n"
          ]
        },
        {
          "output_type": "stream",
          "name": "stderr",
          "text": [
            "Training: 100%|██████████| 13/13 [01:12<00:00,  5.56s/it]\n",
            "Evaluating: 100%|██████████| 4/4 [00:04<00:00,  1.23s/it]\n"
          ]
        },
        {
          "output_type": "stream",
          "name": "stdout",
          "text": [
            "Epoch 6/10:\n",
            "Train Loss: 2.3191 | Val Loss: 2.3206\n"
          ]
        },
        {
          "output_type": "stream",
          "name": "stderr",
          "text": [
            "Training: 100%|██████████| 13/13 [01:11<00:00,  5.53s/it]\n",
            "Evaluating: 100%|██████████| 4/4 [00:05<00:00,  1.25s/it]\n"
          ]
        },
        {
          "output_type": "stream",
          "name": "stdout",
          "text": [
            "Epoch 7/10:\n",
            "Train Loss: 2.2722 | Val Loss: 2.2745\n"
          ]
        },
        {
          "output_type": "stream",
          "name": "stderr",
          "text": [
            "Training: 100%|██████████| 13/13 [01:12<00:00,  5.60s/it]\n",
            "Evaluating: 100%|██████████| 4/4 [00:04<00:00,  1.25s/it]\n"
          ]
        },
        {
          "output_type": "stream",
          "name": "stdout",
          "text": [
            "Epoch 8/10:\n",
            "Train Loss: 2.2292 | Val Loss: 2.2600\n"
          ]
        },
        {
          "output_type": "stream",
          "name": "stderr",
          "text": [
            "Training: 100%|██████████| 13/13 [01:13<00:00,  5.66s/it]\n",
            "Evaluating: 100%|██████████| 4/4 [00:04<00:00,  1.23s/it]\n"
          ]
        },
        {
          "output_type": "stream",
          "name": "stdout",
          "text": [
            "Epoch 9/10:\n",
            "Train Loss: 2.2010 | Val Loss: 2.2771\n"
          ]
        },
        {
          "output_type": "stream",
          "name": "stderr",
          "text": [
            "Training: 100%|██████████| 13/13 [01:12<00:00,  5.59s/it]\n",
            "Evaluating: 100%|██████████| 4/4 [00:04<00:00,  1.20s/it]\n",
            "[I 2025-05-06 18:38:41,876] Trial 2 finished with value: 2.21791672706604 and parameters: {'d_model': 256, 'num_heads': 4, 'num_layers': 6, 'd_ff': 128, 'dropout': 0.21344136549506787, 'learning_rate': 0.0003625225035613965, 'batch_size': 64}. Best is trial 1 with value: 2.1572062373161316.\n"
          ]
        },
        {
          "output_type": "stream",
          "name": "stdout",
          "text": [
            "Epoch 10/10:\n",
            "Train Loss: 2.1599 | Val Loss: 2.2179\n"
          ]
        },
        {
          "output_type": "stream",
          "name": "stderr",
          "text": [
            "Training: 100%|██████████| 13/13 [00:58<00:00,  4.49s/it]\n",
            "Evaluating: 100%|██████████| 4/4 [00:03<00:00,  1.02it/s]\n"
          ]
        },
        {
          "output_type": "stream",
          "name": "stdout",
          "text": [
            "Epoch 1/10:\n",
            "Train Loss: 3.5754 | Val Loss: 3.1491\n"
          ]
        },
        {
          "output_type": "stream",
          "name": "stderr",
          "text": [
            "Training: 100%|██████████| 13/13 [01:02<00:00,  4.84s/it]\n",
            "Evaluating: 100%|██████████| 4/4 [00:03<00:00,  1.07it/s]\n"
          ]
        },
        {
          "output_type": "stream",
          "name": "stdout",
          "text": [
            "Epoch 2/10:\n",
            "Train Loss: 3.1161 | Val Loss: 2.8570\n"
          ]
        },
        {
          "output_type": "stream",
          "name": "stderr",
          "text": [
            "Training: 100%|██████████| 13/13 [01:03<00:00,  4.89s/it]\n",
            "Evaluating: 100%|██████████| 4/4 [00:03<00:00,  1.08it/s]\n"
          ]
        },
        {
          "output_type": "stream",
          "name": "stdout",
          "text": [
            "Epoch 3/10:\n",
            "Train Loss: 2.8482 | Val Loss: 2.6066\n"
          ]
        },
        {
          "output_type": "stream",
          "name": "stderr",
          "text": [
            "Training: 100%|██████████| 13/13 [01:05<00:00,  5.03s/it]\n",
            "Evaluating: 100%|██████████| 4/4 [00:03<00:00,  1.09it/s]\n"
          ]
        },
        {
          "output_type": "stream",
          "name": "stdout",
          "text": [
            "Epoch 4/10:\n",
            "Train Loss: 2.6254 | Val Loss: 2.4757\n"
          ]
        },
        {
          "output_type": "stream",
          "name": "stderr",
          "text": [
            "Training: 100%|██████████| 13/13 [01:04<00:00,  4.96s/it]\n",
            "Evaluating: 100%|██████████| 4/4 [00:03<00:00,  1.09it/s]\n"
          ]
        },
        {
          "output_type": "stream",
          "name": "stdout",
          "text": [
            "Epoch 5/10:\n",
            "Train Loss: 2.4976 | Val Loss: 2.4131\n"
          ]
        },
        {
          "output_type": "stream",
          "name": "stderr",
          "text": [
            "Training: 100%|██████████| 13/13 [01:05<00:00,  5.04s/it]\n",
            "Evaluating: 100%|██████████| 4/4 [00:03<00:00,  1.02it/s]\n"
          ]
        },
        {
          "output_type": "stream",
          "name": "stdout",
          "text": [
            "Epoch 6/10:\n",
            "Train Loss: 2.4347 | Val Loss: 2.3917\n"
          ]
        },
        {
          "output_type": "stream",
          "name": "stderr",
          "text": [
            "Training: 100%|██████████| 13/13 [01:04<00:00,  4.95s/it]\n",
            "Evaluating: 100%|██████████| 4/4 [00:03<00:00,  1.04it/s]\n"
          ]
        },
        {
          "output_type": "stream",
          "name": "stdout",
          "text": [
            "Epoch 7/10:\n",
            "Train Loss: 2.3923 | Val Loss: 2.3431\n"
          ]
        },
        {
          "output_type": "stream",
          "name": "stderr",
          "text": [
            "Training: 100%|██████████| 13/13 [01:04<00:00,  4.96s/it]\n",
            "Evaluating: 100%|██████████| 4/4 [00:03<00:00,  1.07it/s]\n"
          ]
        },
        {
          "output_type": "stream",
          "name": "stdout",
          "text": [
            "Epoch 8/10:\n",
            "Train Loss: 2.3527 | Val Loss: 2.3344\n"
          ]
        },
        {
          "output_type": "stream",
          "name": "stderr",
          "text": [
            "Training: 100%|██████████| 13/13 [01:04<00:00,  4.97s/it]\n",
            "Evaluating: 100%|██████████| 4/4 [00:03<00:00,  1.08it/s]\n"
          ]
        },
        {
          "output_type": "stream",
          "name": "stdout",
          "text": [
            "Epoch 9/10:\n",
            "Train Loss: 2.3174 | Val Loss: 2.3277\n"
          ]
        },
        {
          "output_type": "stream",
          "name": "stderr",
          "text": [
            "Training: 100%|██████████| 13/13 [01:05<00:00,  5.01s/it]\n",
            "Evaluating: 100%|██████████| 4/4 [00:03<00:00,  1.09it/s]\n",
            "[I 2025-05-06 18:49:58,545] Trial 3 finished with value: 2.2958542704582214 and parameters: {'d_model': 256, 'num_heads': 8, 'num_layers': 4, 'd_ff': 128, 'dropout': 0.29708054022979347, 'learning_rate': 0.00030321158775512035, 'batch_size': 64}. Best is trial 1 with value: 2.1572062373161316.\n"
          ]
        },
        {
          "output_type": "stream",
          "name": "stdout",
          "text": [
            "Epoch 10/10:\n",
            "Train Loss: 2.2954 | Val Loss: 2.2959\n"
          ]
        },
        {
          "output_type": "stream",
          "name": "stderr",
          "text": [
            "Training: 100%|██████████| 13/13 [01:13<00:00,  5.65s/it]\n",
            "Evaluating: 100%|██████████| 4/4 [00:04<00:00,  1.11s/it]\n"
          ]
        },
        {
          "output_type": "stream",
          "name": "stdout",
          "text": [
            "Epoch 1/10:\n",
            "Train Loss: 3.6990 | Val Loss: 3.2109\n"
          ]
        },
        {
          "output_type": "stream",
          "name": "stderr",
          "text": [
            "Training: 100%|██████████| 13/13 [01:12<00:00,  5.56s/it]\n",
            "Evaluating: 100%|██████████| 4/4 [00:04<00:00,  1.12s/it]\n"
          ]
        },
        {
          "output_type": "stream",
          "name": "stdout",
          "text": [
            "Epoch 2/10:\n",
            "Train Loss: 3.1839 | Val Loss: 3.0339\n"
          ]
        },
        {
          "output_type": "stream",
          "name": "stderr",
          "text": [
            "Training: 100%|██████████| 13/13 [01:10<00:00,  5.46s/it]\n",
            "Evaluating: 100%|██████████| 4/4 [00:04<00:00,  1.11s/it]\n"
          ]
        },
        {
          "output_type": "stream",
          "name": "stdout",
          "text": [
            "Epoch 3/10:\n",
            "Train Loss: 2.9740 | Val Loss: 2.7579\n"
          ]
        },
        {
          "output_type": "stream",
          "name": "stderr",
          "text": [
            "Training: 100%|██████████| 13/13 [01:12<00:00,  5.58s/it]\n",
            "Evaluating: 100%|██████████| 4/4 [00:04<00:00,  1.14s/it]\n"
          ]
        },
        {
          "output_type": "stream",
          "name": "stdout",
          "text": [
            "Epoch 4/10:\n",
            "Train Loss: 2.7457 | Val Loss: 2.5862\n"
          ]
        },
        {
          "output_type": "stream",
          "name": "stderr",
          "text": [
            "Training: 100%|██████████| 13/13 [01:12<00:00,  5.59s/it]\n",
            "Evaluating: 100%|██████████| 4/4 [00:04<00:00,  1.11s/it]\n"
          ]
        },
        {
          "output_type": "stream",
          "name": "stdout",
          "text": [
            "Epoch 5/10:\n",
            "Train Loss: 2.5852 | Val Loss: 2.4980\n"
          ]
        },
        {
          "output_type": "stream",
          "name": "stderr",
          "text": [
            "Training: 100%|██████████| 13/13 [01:13<00:00,  5.66s/it]\n",
            "Evaluating: 100%|██████████| 4/4 [00:04<00:00,  1.13s/it]\n"
          ]
        },
        {
          "output_type": "stream",
          "name": "stdout",
          "text": [
            "Epoch 6/10:\n",
            "Train Loss: 2.4977 | Val Loss: 2.4474\n"
          ]
        },
        {
          "output_type": "stream",
          "name": "stderr",
          "text": [
            "Training: 100%|██████████| 13/13 [01:13<00:00,  5.64s/it]\n",
            "Evaluating: 100%|██████████| 4/4 [00:04<00:00,  1.13s/it]\n"
          ]
        },
        {
          "output_type": "stream",
          "name": "stdout",
          "text": [
            "Epoch 7/10:\n",
            "Train Loss: 2.4402 | Val Loss: 2.3931\n"
          ]
        },
        {
          "output_type": "stream",
          "name": "stderr",
          "text": [
            "Training: 100%|██████████| 13/13 [01:12<00:00,  5.54s/it]\n",
            "Evaluating: 100%|██████████| 4/4 [00:04<00:00,  1.12s/it]\n"
          ]
        },
        {
          "output_type": "stream",
          "name": "stdout",
          "text": [
            "Epoch 8/10:\n",
            "Train Loss: 2.3935 | Val Loss: 2.3597\n"
          ]
        },
        {
          "output_type": "stream",
          "name": "stderr",
          "text": [
            "Training: 100%|██████████| 13/13 [01:14<00:00,  5.71s/it]\n",
            "Evaluating: 100%|██████████| 4/4 [00:04<00:00,  1.13s/it]\n"
          ]
        },
        {
          "output_type": "stream",
          "name": "stdout",
          "text": [
            "Epoch 9/10:\n",
            "Train Loss: 2.3543 | Val Loss: 2.3441\n"
          ]
        },
        {
          "output_type": "stream",
          "name": "stderr",
          "text": [
            "Training: 100%|██████████| 13/13 [01:13<00:00,  5.64s/it]\n",
            "Evaluating: 100%|██████████| 4/4 [00:04<00:00,  1.14s/it]\n",
            "[I 2025-05-06 19:02:52,011] Trial 4 finished with value: 2.321357250213623 and parameters: {'d_model': 256, 'num_heads': 8, 'num_layers': 4, 'd_ff': 512, 'dropout': 0.15980520658068967, 'learning_rate': 0.00011240521884227886, 'batch_size': 64}. Best is trial 1 with value: 2.1572062373161316.\n"
          ]
        },
        {
          "output_type": "stream",
          "name": "stdout",
          "text": [
            "Epoch 10/10:\n",
            "Train Loss: 2.3219 | Val Loss: 2.3214\n"
          ]
        },
        {
          "output_type": "stream",
          "name": "stderr",
          "text": [
            "Training: 100%|██████████| 25/25 [00:15<00:00,  1.59it/s]\n",
            "Evaluating: 100%|██████████| 7/7 [00:01<00:00,  6.44it/s]\n"
          ]
        },
        {
          "output_type": "stream",
          "name": "stdout",
          "text": [
            "Epoch 1/10:\n",
            "Train Loss: 4.1090 | Val Loss: 3.5357\n"
          ]
        },
        {
          "output_type": "stream",
          "name": "stderr",
          "text": [
            "Training: 100%|██████████| 25/25 [00:15<00:00,  1.61it/s]\n",
            "Evaluating: 100%|██████████| 7/7 [00:01<00:00,  6.52it/s]\n"
          ]
        },
        {
          "output_type": "stream",
          "name": "stdout",
          "text": [
            "Epoch 2/10:\n",
            "Train Loss: 3.4337 | Val Loss: 3.2259\n"
          ]
        },
        {
          "output_type": "stream",
          "name": "stderr",
          "text": [
            "Training: 100%|██████████| 25/25 [00:15<00:00,  1.59it/s]\n",
            "Evaluating: 100%|██████████| 7/7 [00:01<00:00,  6.58it/s]\n"
          ]
        },
        {
          "output_type": "stream",
          "name": "stdout",
          "text": [
            "Epoch 3/10:\n",
            "Train Loss: 3.2003 | Val Loss: 3.0216\n"
          ]
        },
        {
          "output_type": "stream",
          "name": "stderr",
          "text": [
            "Training: 100%|██████████| 25/25 [00:15<00:00,  1.59it/s]\n",
            "Evaluating: 100%|██████████| 7/7 [00:01<00:00,  6.63it/s]\n"
          ]
        },
        {
          "output_type": "stream",
          "name": "stdout",
          "text": [
            "Epoch 4/10:\n",
            "Train Loss: 3.0121 | Val Loss: 2.8260\n"
          ]
        },
        {
          "output_type": "stream",
          "name": "stderr",
          "text": [
            "Training: 100%|██████████| 25/25 [00:15<00:00,  1.60it/s]\n",
            "Evaluating: 100%|██████████| 7/7 [00:01<00:00,  6.79it/s]\n"
          ]
        },
        {
          "output_type": "stream",
          "name": "stdout",
          "text": [
            "Epoch 5/10:\n",
            "Train Loss: 2.8379 | Val Loss: 2.6820\n"
          ]
        },
        {
          "output_type": "stream",
          "name": "stderr",
          "text": [
            "Training: 100%|██████████| 25/25 [00:15<00:00,  1.63it/s]\n",
            "Evaluating: 100%|██████████| 7/7 [00:01<00:00,  6.48it/s]\n"
          ]
        },
        {
          "output_type": "stream",
          "name": "stdout",
          "text": [
            "Epoch 6/10:\n",
            "Train Loss: 2.7205 | Val Loss: 2.5812\n"
          ]
        },
        {
          "output_type": "stream",
          "name": "stderr",
          "text": [
            "Training: 100%|██████████| 25/25 [00:15<00:00,  1.62it/s]\n",
            "Evaluating: 100%|██████████| 7/7 [00:01<00:00,  6.76it/s]\n"
          ]
        },
        {
          "output_type": "stream",
          "name": "stdout",
          "text": [
            "Epoch 7/10:\n",
            "Train Loss: 2.6327 | Val Loss: 2.5162\n"
          ]
        },
        {
          "output_type": "stream",
          "name": "stderr",
          "text": [
            "Training: 100%|██████████| 25/25 [00:15<00:00,  1.61it/s]\n",
            "Evaluating: 100%|██████████| 7/7 [00:01<00:00,  6.48it/s]\n"
          ]
        },
        {
          "output_type": "stream",
          "name": "stdout",
          "text": [
            "Epoch 8/10:\n",
            "Train Loss: 2.5755 | Val Loss: 2.4737\n"
          ]
        },
        {
          "output_type": "stream",
          "name": "stderr",
          "text": [
            "Training: 100%|██████████| 25/25 [00:15<00:00,  1.59it/s]\n",
            "Evaluating: 100%|██████████| 7/7 [00:01<00:00,  6.69it/s]\n"
          ]
        },
        {
          "output_type": "stream",
          "name": "stdout",
          "text": [
            "Epoch 9/10:\n",
            "Train Loss: 2.5333 | Val Loss: 2.4355\n"
          ]
        },
        {
          "output_type": "stream",
          "name": "stderr",
          "text": [
            "Training: 100%|██████████| 25/25 [00:15<00:00,  1.62it/s]\n",
            "Evaluating: 100%|██████████| 7/7 [00:01<00:00,  6.53it/s]\n",
            "[I 2025-05-06 19:05:38,507] Trial 5 finished with value: 2.4178689547947476 and parameters: {'d_model': 128, 'num_heads': 4, 'num_layers': 2, 'd_ff': 512, 'dropout': 0.2356549572334513, 'learning_rate': 0.00014066199960109234, 'batch_size': 32}. Best is trial 1 with value: 2.1572062373161316.\n"
          ]
        },
        {
          "output_type": "stream",
          "name": "stdout",
          "text": [
            "Epoch 10/10:\n",
            "Train Loss: 2.4980 | Val Loss: 2.4179\n"
          ]
        },
        {
          "output_type": "stream",
          "name": "stderr",
          "text": [
            "Training: 100%|██████████| 13/13 [00:16<00:00,  1.30s/it]\n",
            "Evaluating: 100%|██████████| 4/4 [00:01<00:00,  3.99it/s]\n"
          ]
        },
        {
          "output_type": "stream",
          "name": "stdout",
          "text": [
            "Epoch 1/10:\n",
            "Train Loss: 4.4247 | Val Loss: 4.0177\n"
          ]
        },
        {
          "output_type": "stream",
          "name": "stderr",
          "text": [
            "Training: 100%|██████████| 13/13 [00:16<00:00,  1.27s/it]\n",
            "Evaluating: 100%|██████████| 4/4 [00:00<00:00,  4.07it/s]\n"
          ]
        },
        {
          "output_type": "stream",
          "name": "stdout",
          "text": [
            "Epoch 2/10:\n",
            "Train Loss: 3.8385 | Val Loss: 3.5487\n"
          ]
        },
        {
          "output_type": "stream",
          "name": "stderr",
          "text": [
            "Training: 100%|██████████| 13/13 [00:16<00:00,  1.28s/it]\n",
            "Evaluating: 100%|██████████| 4/4 [00:00<00:00,  4.03it/s]\n"
          ]
        },
        {
          "output_type": "stream",
          "name": "stdout",
          "text": [
            "Epoch 3/10:\n",
            "Train Loss: 3.4997 | Val Loss: 3.3253\n"
          ]
        },
        {
          "output_type": "stream",
          "name": "stderr",
          "text": [
            "Training: 100%|██████████| 13/13 [00:16<00:00,  1.27s/it]\n",
            "Evaluating: 100%|██████████| 4/4 [00:01<00:00,  3.35it/s]\n"
          ]
        },
        {
          "output_type": "stream",
          "name": "stdout",
          "text": [
            "Epoch 4/10:\n",
            "Train Loss: 3.3326 | Val Loss: 3.2204\n"
          ]
        },
        {
          "output_type": "stream",
          "name": "stderr",
          "text": [
            "Training: 100%|██████████| 13/13 [00:16<00:00,  1.28s/it]\n",
            "Evaluating: 100%|██████████| 4/4 [00:00<00:00,  4.02it/s]\n"
          ]
        },
        {
          "output_type": "stream",
          "name": "stdout",
          "text": [
            "Epoch 5/10:\n",
            "Train Loss: 3.2422 | Val Loss: 3.1519\n"
          ]
        },
        {
          "output_type": "stream",
          "name": "stderr",
          "text": [
            "Training: 100%|██████████| 13/13 [00:16<00:00,  1.27s/it]\n",
            "Evaluating: 100%|██████████| 4/4 [00:01<00:00,  3.97it/s]\n"
          ]
        },
        {
          "output_type": "stream",
          "name": "stdout",
          "text": [
            "Epoch 6/10:\n",
            "Train Loss: 3.1781 | Val Loss: 3.0945\n"
          ]
        },
        {
          "output_type": "stream",
          "name": "stderr",
          "text": [
            "Training: 100%|██████████| 13/13 [00:16<00:00,  1.29s/it]\n",
            "Evaluating: 100%|██████████| 4/4 [00:00<00:00,  4.01it/s]\n"
          ]
        },
        {
          "output_type": "stream",
          "name": "stdout",
          "text": [
            "Epoch 7/10:\n",
            "Train Loss: 3.1200 | Val Loss: 3.0311\n"
          ]
        },
        {
          "output_type": "stream",
          "name": "stderr",
          "text": [
            "Training: 100%|██████████| 13/13 [00:16<00:00,  1.26s/it]\n",
            "Evaluating: 100%|██████████| 4/4 [00:01<00:00,  3.91it/s]\n"
          ]
        },
        {
          "output_type": "stream",
          "name": "stdout",
          "text": [
            "Epoch 8/10:\n",
            "Train Loss: 3.0557 | Val Loss: 2.9557\n"
          ]
        },
        {
          "output_type": "stream",
          "name": "stderr",
          "text": [
            "Training: 100%|██████████| 13/13 [00:16<00:00,  1.28s/it]\n",
            "Evaluating: 100%|██████████| 4/4 [00:01<00:00,  3.28it/s]\n"
          ]
        },
        {
          "output_type": "stream",
          "name": "stdout",
          "text": [
            "Epoch 9/10:\n",
            "Train Loss: 2.9894 | Val Loss: 2.8765\n"
          ]
        },
        {
          "output_type": "stream",
          "name": "stderr",
          "text": [
            "Training: 100%|██████████| 13/13 [00:16<00:00,  1.27s/it]\n",
            "Evaluating: 100%|██████████| 4/4 [00:01<00:00,  3.95it/s]\n",
            "[I 2025-05-06 19:08:35,116] Trial 6 finished with value: 2.8025622367858887 and parameters: {'d_model': 128, 'num_heads': 8, 'num_layers': 2, 'd_ff': 128, 'dropout': 0.19812697203852775, 'learning_rate': 0.00012462631450262343, 'batch_size': 64}. Best is trial 1 with value: 2.1572062373161316.\n"
          ]
        },
        {
          "output_type": "stream",
          "name": "stdout",
          "text": [
            "Epoch 10/10:\n",
            "Train Loss: 2.9152 | Val Loss: 2.8026\n"
          ]
        },
        {
          "output_type": "stream",
          "name": "stderr",
          "text": [
            "Training: 100%|██████████| 25/25 [01:02<00:00,  2.48s/it]\n",
            "Evaluating: 100%|██████████| 7/7 [00:03<00:00,  1.93it/s]\n"
          ]
        },
        {
          "output_type": "stream",
          "name": "stdout",
          "text": [
            "Epoch 1/10:\n",
            "Train Loss: 3.7169 | Val Loss: 3.3825\n"
          ]
        },
        {
          "output_type": "stream",
          "name": "stderr",
          "text": [
            "Training: 100%|██████████| 25/25 [01:01<00:00,  2.47s/it]\n",
            "Evaluating: 100%|██████████| 7/7 [00:03<00:00,  1.94it/s]\n"
          ]
        },
        {
          "output_type": "stream",
          "name": "stdout",
          "text": [
            "Epoch 2/10:\n",
            "Train Loss: 3.3153 | Val Loss: 3.0800\n"
          ]
        },
        {
          "output_type": "stream",
          "name": "stderr",
          "text": [
            "Training: 100%|██████████| 25/25 [01:01<00:00,  2.46s/it]\n",
            "Evaluating: 100%|██████████| 7/7 [00:03<00:00,  1.78it/s]\n"
          ]
        },
        {
          "output_type": "stream",
          "name": "stdout",
          "text": [
            "Epoch 3/10:\n",
            "Train Loss: 3.0187 | Val Loss: 2.7873\n"
          ]
        },
        {
          "output_type": "stream",
          "name": "stderr",
          "text": [
            "Training: 100%|██████████| 25/25 [01:01<00:00,  2.47s/it]\n",
            "Evaluating: 100%|██████████| 7/7 [00:03<00:00,  1.84it/s]\n"
          ]
        },
        {
          "output_type": "stream",
          "name": "stdout",
          "text": [
            "Epoch 4/10:\n",
            "Train Loss: 2.7853 | Val Loss: 2.6342\n"
          ]
        },
        {
          "output_type": "stream",
          "name": "stderr",
          "text": [
            "Training: 100%|██████████| 25/25 [01:01<00:00,  2.47s/it]\n",
            "Evaluating: 100%|██████████| 7/7 [00:03<00:00,  1.86it/s]\n"
          ]
        },
        {
          "output_type": "stream",
          "name": "stdout",
          "text": [
            "Epoch 5/10:\n",
            "Train Loss: 2.6542 | Val Loss: 2.5426\n"
          ]
        },
        {
          "output_type": "stream",
          "name": "stderr",
          "text": [
            "Training: 100%|██████████| 25/25 [01:01<00:00,  2.45s/it]\n",
            "Evaluating: 100%|██████████| 7/7 [00:03<00:00,  1.92it/s]\n"
          ]
        },
        {
          "output_type": "stream",
          "name": "stdout",
          "text": [
            "Epoch 6/10:\n",
            "Train Loss: 2.5696 | Val Loss: 2.4890\n"
          ]
        },
        {
          "output_type": "stream",
          "name": "stderr",
          "text": [
            "Training: 100%|██████████| 25/25 [01:01<00:00,  2.46s/it]\n",
            "Evaluating: 100%|██████████| 7/7 [00:03<00:00,  1.90it/s]\n"
          ]
        },
        {
          "output_type": "stream",
          "name": "stdout",
          "text": [
            "Epoch 7/10:\n",
            "Train Loss: 2.5046 | Val Loss: 2.4419\n"
          ]
        },
        {
          "output_type": "stream",
          "name": "stderr",
          "text": [
            "Training: 100%|██████████| 25/25 [01:02<00:00,  2.49s/it]\n",
            "Evaluating: 100%|██████████| 7/7 [00:03<00:00,  1.93it/s]\n"
          ]
        },
        {
          "output_type": "stream",
          "name": "stdout",
          "text": [
            "Epoch 8/10:\n",
            "Train Loss: 2.4586 | Val Loss: 2.4065\n"
          ]
        },
        {
          "output_type": "stream",
          "name": "stderr",
          "text": [
            "Training: 100%|██████████| 25/25 [01:01<00:00,  2.46s/it]\n",
            "Evaluating: 100%|██████████| 7/7 [00:03<00:00,  1.92it/s]\n"
          ]
        },
        {
          "output_type": "stream",
          "name": "stdout",
          "text": [
            "Epoch 9/10:\n",
            "Train Loss: 2.4208 | Val Loss: 2.3941\n"
          ]
        },
        {
          "output_type": "stream",
          "name": "stderr",
          "text": [
            "Training: 100%|██████████| 25/25 [01:02<00:00,  2.50s/it]\n",
            "Evaluating: 100%|██████████| 7/7 [00:03<00:00,  1.90it/s]\n",
            "[I 2025-05-06 19:19:30,063] Trial 7 finished with value: 2.3475963388170515 and parameters: {'d_model': 128, 'num_heads': 8, 'num_layers': 6, 'd_ff': 512, 'dropout': 0.1757424483450994, 'learning_rate': 0.00012190292804054613, 'batch_size': 32}. Best is trial 1 with value: 2.1572062373161316.\n"
          ]
        },
        {
          "output_type": "stream",
          "name": "stdout",
          "text": [
            "Epoch 10/10:\n",
            "Train Loss: 2.3887 | Val Loss: 2.3476\n"
          ]
        },
        {
          "output_type": "stream",
          "name": "stderr",
          "text": [
            "Training: 100%|██████████| 25/25 [00:57<00:00,  2.31s/it]\n",
            "Evaluating: 100%|██████████| 7/7 [00:04<00:00,  1.68it/s]\n"
          ]
        },
        {
          "output_type": "stream",
          "name": "stdout",
          "text": [
            "Epoch 1/10:\n",
            "Train Loss: 3.2617 | Val Loss: 2.7030\n"
          ]
        },
        {
          "output_type": "stream",
          "name": "stderr",
          "text": [
            "Training: 100%|██████████| 25/25 [00:58<00:00,  2.32s/it]\n",
            "Evaluating: 100%|██████████| 7/7 [00:04<00:00,  1.71it/s]\n"
          ]
        },
        {
          "output_type": "stream",
          "name": "stdout",
          "text": [
            "Epoch 2/10:\n",
            "Train Loss: 2.5864 | Val Loss: 2.4244\n"
          ]
        },
        {
          "output_type": "stream",
          "name": "stderr",
          "text": [
            "Training: 100%|██████████| 25/25 [00:57<00:00,  2.29s/it]\n",
            "Evaluating: 100%|██████████| 7/7 [00:04<00:00,  1.66it/s]\n"
          ]
        },
        {
          "output_type": "stream",
          "name": "stdout",
          "text": [
            "Epoch 3/10:\n",
            "Train Loss: 2.4004 | Val Loss: 2.3202\n"
          ]
        },
        {
          "output_type": "stream",
          "name": "stderr",
          "text": [
            "Training: 100%|██████████| 25/25 [00:57<00:00,  2.30s/it]\n",
            "Evaluating: 100%|██████████| 7/7 [00:04<00:00,  1.70it/s]\n"
          ]
        },
        {
          "output_type": "stream",
          "name": "stdout",
          "text": [
            "Epoch 4/10:\n",
            "Train Loss: 2.3135 | Val Loss: 2.3292\n"
          ]
        },
        {
          "output_type": "stream",
          "name": "stderr",
          "text": [
            "Training: 100%|██████████| 25/25 [00:57<00:00,  2.29s/it]\n",
            "Evaluating: 100%|██████████| 7/7 [00:04<00:00,  1.70it/s]\n"
          ]
        },
        {
          "output_type": "stream",
          "name": "stdout",
          "text": [
            "Epoch 5/10:\n",
            "Train Loss: 2.2460 | Val Loss: 2.2701\n"
          ]
        },
        {
          "output_type": "stream",
          "name": "stderr",
          "text": [
            "Training: 100%|██████████| 25/25 [00:56<00:00,  2.28s/it]\n",
            "Evaluating: 100%|██████████| 7/7 [00:04<00:00,  1.73it/s]\n"
          ]
        },
        {
          "output_type": "stream",
          "name": "stdout",
          "text": [
            "Epoch 6/10:\n",
            "Train Loss: 2.1865 | Val Loss: 2.1938\n"
          ]
        },
        {
          "output_type": "stream",
          "name": "stderr",
          "text": [
            "Training: 100%|██████████| 25/25 [00:57<00:00,  2.30s/it]\n",
            "Evaluating: 100%|██████████| 7/7 [00:04<00:00,  1.73it/s]\n"
          ]
        },
        {
          "output_type": "stream",
          "name": "stdout",
          "text": [
            "Epoch 7/10:\n",
            "Train Loss: 2.1100 | Val Loss: 2.1121\n"
          ]
        },
        {
          "output_type": "stream",
          "name": "stderr",
          "text": [
            "Training: 100%|██████████| 25/25 [00:56<00:00,  2.28s/it]\n",
            "Evaluating: 100%|██████████| 7/7 [00:04<00:00,  1.69it/s]\n"
          ]
        },
        {
          "output_type": "stream",
          "name": "stdout",
          "text": [
            "Epoch 8/10:\n",
            "Train Loss: 2.0171 | Val Loss: 1.9939\n"
          ]
        },
        {
          "output_type": "stream",
          "name": "stderr",
          "text": [
            "Training: 100%|██████████| 25/25 [00:56<00:00,  2.28s/it]\n",
            "Evaluating: 100%|██████████| 7/7 [00:04<00:00,  1.72it/s]\n"
          ]
        },
        {
          "output_type": "stream",
          "name": "stdout",
          "text": [
            "Epoch 9/10:\n",
            "Train Loss: 1.9351 | Val Loss: 1.9637\n"
          ]
        },
        {
          "output_type": "stream",
          "name": "stderr",
          "text": [
            "Training: 100%|██████████| 25/25 [00:56<00:00,  2.28s/it]\n",
            "Evaluating: 100%|██████████| 7/7 [00:04<00:00,  1.64it/s]\n",
            "[I 2025-05-06 19:29:44,922] Trial 8 finished with value: 1.9082178899220057 and parameters: {'d_model': 256, 'num_heads': 4, 'num_layers': 4, 'd_ff': 512, 'dropout': 0.22436399000666726, 'learning_rate': 0.0003465846228006628, 'batch_size': 32}. Best is trial 8 with value: 1.9082178899220057.\n"
          ]
        },
        {
          "output_type": "stream",
          "name": "stdout",
          "text": [
            "Epoch 10/10:\n",
            "Train Loss: 1.8681 | Val Loss: 1.9082\n",
            "New best model found! Val Loss: 1.9082\n",
            "Config: {'d_model': 256, 'num_heads': 4, 'num_layers': 4, 'd_ff': 512, 'dropout': 0.22436399000666726, 'learning_rate': 0.0003465846228006628, 'batch_size': 32}\n"
          ]
        },
        {
          "output_type": "stream",
          "name": "stderr",
          "text": [
            "Training: 100%|██████████| 13/13 [00:15<00:00,  1.20s/it]\n",
            "Evaluating: 100%|██████████| 4/4 [00:01<00:00,  3.82it/s]\n"
          ]
        },
        {
          "output_type": "stream",
          "name": "stdout",
          "text": [
            "Epoch 1/10:\n",
            "Train Loss: 4.0016 | Val Loss: 3.4443\n"
          ]
        },
        {
          "output_type": "stream",
          "name": "stderr",
          "text": [
            "Training: 100%|██████████| 13/13 [00:16<00:00,  1.24s/it]\n",
            "Evaluating: 100%|██████████| 4/4 [00:01<00:00,  3.70it/s]\n"
          ]
        },
        {
          "output_type": "stream",
          "name": "stdout",
          "text": [
            "Epoch 2/10:\n",
            "Train Loss: 3.3790 | Val Loss: 3.1780\n"
          ]
        },
        {
          "output_type": "stream",
          "name": "stderr",
          "text": [
            "Training: 100%|██████████| 13/13 [00:15<00:00,  1.20s/it]\n",
            "Evaluating: 100%|██████████| 4/4 [00:01<00:00,  3.72it/s]\n"
          ]
        },
        {
          "output_type": "stream",
          "name": "stdout",
          "text": [
            "Epoch 3/10:\n",
            "Train Loss: 3.1455 | Val Loss: 2.9383\n"
          ]
        },
        {
          "output_type": "stream",
          "name": "stderr",
          "text": [
            "Training: 100%|██████████| 13/13 [00:15<00:00,  1.21s/it]\n",
            "Evaluating: 100%|██████████| 4/4 [00:01<00:00,  3.77it/s]\n"
          ]
        },
        {
          "output_type": "stream",
          "name": "stdout",
          "text": [
            "Epoch 4/10:\n",
            "Train Loss: 2.9340 | Val Loss: 2.7492\n"
          ]
        },
        {
          "output_type": "stream",
          "name": "stderr",
          "text": [
            "Training: 100%|██████████| 13/13 [00:15<00:00,  1.20s/it]\n",
            "Evaluating: 100%|██████████| 4/4 [00:01<00:00,  3.72it/s]\n"
          ]
        },
        {
          "output_type": "stream",
          "name": "stdout",
          "text": [
            "Epoch 5/10:\n",
            "Train Loss: 2.7785 | Val Loss: 2.6201\n"
          ]
        },
        {
          "output_type": "stream",
          "name": "stderr",
          "text": [
            "Training: 100%|██████████| 13/13 [00:15<00:00,  1.22s/it]\n",
            "Evaluating: 100%|██████████| 4/4 [00:01<00:00,  3.81it/s]\n"
          ]
        },
        {
          "output_type": "stream",
          "name": "stdout",
          "text": [
            "Epoch 6/10:\n",
            "Train Loss: 2.6656 | Val Loss: 2.5300\n"
          ]
        },
        {
          "output_type": "stream",
          "name": "stderr",
          "text": [
            "Training: 100%|██████████| 13/13 [00:15<00:00,  1.21s/it]\n",
            "Evaluating: 100%|██████████| 4/4 [00:01<00:00,  3.84it/s]\n"
          ]
        },
        {
          "output_type": "stream",
          "name": "stdout",
          "text": [
            "Epoch 7/10:\n",
            "Train Loss: 2.5976 | Val Loss: 2.4834\n"
          ]
        },
        {
          "output_type": "stream",
          "name": "stderr",
          "text": [
            "Training: 100%|██████████| 13/13 [00:16<00:00,  1.24s/it]\n",
            "Evaluating: 100%|██████████| 4/4 [00:01<00:00,  3.79it/s]\n"
          ]
        },
        {
          "output_type": "stream",
          "name": "stdout",
          "text": [
            "Epoch 8/10:\n",
            "Train Loss: 2.5429 | Val Loss: 2.4403\n"
          ]
        },
        {
          "output_type": "stream",
          "name": "stderr",
          "text": [
            "Training: 100%|██████████| 13/13 [00:15<00:00,  1.20s/it]\n",
            "Evaluating: 100%|██████████| 4/4 [00:01<00:00,  3.93it/s]\n"
          ]
        },
        {
          "output_type": "stream",
          "name": "stdout",
          "text": [
            "Epoch 9/10:\n",
            "Train Loss: 2.4980 | Val Loss: 2.4164\n"
          ]
        },
        {
          "output_type": "stream",
          "name": "stderr",
          "text": [
            "Training: 100%|██████████| 13/13 [00:15<00:00,  1.21s/it]\n",
            "Evaluating: 100%|██████████| 4/4 [00:01<00:00,  3.78it/s]\n",
            "[I 2025-05-06 19:32:33,048] Trial 9 finished with value: 2.3862498998641968 and parameters: {'d_model': 128, 'num_heads': 4, 'num_layers': 2, 'd_ff': 512, 'dropout': 0.2774962021202698, 'learning_rate': 0.00032985226791552294, 'batch_size': 64}. Best is trial 8 with value: 1.9082178899220057.\n"
          ]
        },
        {
          "output_type": "stream",
          "name": "stdout",
          "text": [
            "Epoch 10/10:\n",
            "Train Loss: 2.4717 | Val Loss: 2.3862\n"
          ]
        },
        {
          "output_type": "stream",
          "name": "stderr",
          "text": [
            "Training: 100%|██████████| 25/25 [00:18<00:00,  1.35it/s]\n",
            "Evaluating: 100%|██████████| 7/7 [00:01<00:00,  5.45it/s]\n"
          ]
        },
        {
          "output_type": "stream",
          "name": "stdout",
          "text": [
            "Epoch 1/10:\n",
            "Train Loss: 3.7044 | Val Loss: 3.2937\n"
          ]
        },
        {
          "output_type": "stream",
          "name": "stderr",
          "text": [
            "Training: 100%|██████████| 25/25 [00:18<00:00,  1.35it/s]\n",
            "Evaluating: 100%|██████████| 7/7 [00:01<00:00,  6.44it/s]\n"
          ]
        },
        {
          "output_type": "stream",
          "name": "stdout",
          "text": [
            "Epoch 2/10:\n",
            "Train Loss: 3.0922 | Val Loss: 2.8002\n"
          ]
        },
        {
          "output_type": "stream",
          "name": "stderr",
          "text": [
            "Training: 100%|██████████| 25/25 [00:18<00:00,  1.34it/s]\n",
            "Evaluating: 100%|██████████| 7/7 [00:01<00:00,  6.29it/s]\n"
          ]
        },
        {
          "output_type": "stream",
          "name": "stdout",
          "text": [
            "Epoch 3/10:\n",
            "Train Loss: 2.6983 | Val Loss: 2.5563\n"
          ]
        },
        {
          "output_type": "stream",
          "name": "stderr",
          "text": [
            "Training: 100%|██████████| 25/25 [00:19<00:00,  1.31it/s]\n",
            "Evaluating: 100%|██████████| 7/7 [00:01<00:00,  6.24it/s]\n"
          ]
        },
        {
          "output_type": "stream",
          "name": "stdout",
          "text": [
            "Epoch 4/10:\n",
            "Train Loss: 2.5279 | Val Loss: 2.4455\n"
          ]
        },
        {
          "output_type": "stream",
          "name": "stderr",
          "text": [
            "Training: 100%|██████████| 25/25 [00:18<00:00,  1.35it/s]\n",
            "Evaluating: 100%|██████████| 7/7 [00:01<00:00,  6.11it/s]\n"
          ]
        },
        {
          "output_type": "stream",
          "name": "stdout",
          "text": [
            "Epoch 5/10:\n",
            "Train Loss: 2.4325 | Val Loss: 2.3911\n"
          ]
        },
        {
          "output_type": "stream",
          "name": "stderr",
          "text": [
            "Training: 100%|██████████| 25/25 [00:18<00:00,  1.35it/s]\n",
            "Evaluating: 100%|██████████| 7/7 [00:01<00:00,  6.35it/s]\n"
          ]
        },
        {
          "output_type": "stream",
          "name": "stdout",
          "text": [
            "Epoch 6/10:\n",
            "Train Loss: 2.3769 | Val Loss: 2.3468\n"
          ]
        },
        {
          "output_type": "stream",
          "name": "stderr",
          "text": [
            "Training: 100%|██████████| 25/25 [00:18<00:00,  1.34it/s]\n",
            "Evaluating: 100%|██████████| 7/7 [00:01<00:00,  6.22it/s]\n"
          ]
        },
        {
          "output_type": "stream",
          "name": "stdout",
          "text": [
            "Epoch 7/10:\n",
            "Train Loss: 2.3364 | Val Loss: 2.3208\n"
          ]
        },
        {
          "output_type": "stream",
          "name": "stderr",
          "text": [
            "Training: 100%|██████████| 25/25 [00:18<00:00,  1.33it/s]\n",
            "Evaluating: 100%|██████████| 7/7 [00:01<00:00,  6.20it/s]\n"
          ]
        },
        {
          "output_type": "stream",
          "name": "stdout",
          "text": [
            "Epoch 8/10:\n",
            "Train Loss: 2.2964 | Val Loss: 2.2859\n"
          ]
        },
        {
          "output_type": "stream",
          "name": "stderr",
          "text": [
            "Training: 100%|██████████| 25/25 [00:18<00:00,  1.33it/s]\n",
            "Evaluating: 100%|██████████| 7/7 [00:01<00:00,  6.33it/s]\n"
          ]
        },
        {
          "output_type": "stream",
          "name": "stdout",
          "text": [
            "Epoch 9/10:\n",
            "Train Loss: 2.2590 | Val Loss: 2.2645\n"
          ]
        },
        {
          "output_type": "stream",
          "name": "stderr",
          "text": [
            "Training: 100%|██████████| 25/25 [00:18<00:00,  1.36it/s]\n",
            "Evaluating: 100%|██████████| 7/7 [00:01<00:00,  6.22it/s]\n",
            "[I 2025-05-06 19:35:51,004] Trial 10 finished with value: 2.2499005453927174 and parameters: {'d_model': 64, 'num_heads': 4, 'num_layers': 4, 'd_ff': 256, 'dropout': 0.11190072239609894, 'learning_rate': 0.0006867120310921098, 'batch_size': 32}. Best is trial 8 with value: 1.9082178899220057.\n"
          ]
        },
        {
          "output_type": "stream",
          "name": "stdout",
          "text": [
            "Epoch 10/10:\n",
            "Train Loss: 2.2313 | Val Loss: 2.2499\n"
          ]
        },
        {
          "output_type": "stream",
          "name": "stderr",
          "text": [
            "Training: 100%|██████████| 25/25 [00:57<00:00,  2.29s/it]\n",
            "Evaluating: 100%|██████████| 7/7 [00:04<00:00,  1.72it/s]\n"
          ]
        },
        {
          "output_type": "stream",
          "name": "stdout",
          "text": [
            "Epoch 1/10:\n",
            "Train Loss: 3.2662 | Val Loss: 2.7433\n"
          ]
        },
        {
          "output_type": "stream",
          "name": "stderr",
          "text": [
            "Training: 100%|██████████| 25/25 [00:56<00:00,  2.26s/it]\n",
            "Evaluating: 100%|██████████| 7/7 [00:04<00:00,  1.59it/s]\n"
          ]
        },
        {
          "output_type": "stream",
          "name": "stdout",
          "text": [
            "Epoch 2/10:\n",
            "Train Loss: 2.6080 | Val Loss: 2.4127\n"
          ]
        },
        {
          "output_type": "stream",
          "name": "stderr",
          "text": [
            "Training: 100%|██████████| 25/25 [00:57<00:00,  2.30s/it]\n",
            "Evaluating: 100%|██████████| 7/7 [00:04<00:00,  1.70it/s]\n"
          ]
        },
        {
          "output_type": "stream",
          "name": "stdout",
          "text": [
            "Epoch 3/10:\n",
            "Train Loss: 2.3922 | Val Loss: 2.3223\n"
          ]
        },
        {
          "output_type": "stream",
          "name": "stderr",
          "text": [
            "Training: 100%|██████████| 25/25 [00:57<00:00,  2.29s/it]\n",
            "Evaluating: 100%|██████████| 7/7 [00:04<00:00,  1.62it/s]\n"
          ]
        },
        {
          "output_type": "stream",
          "name": "stdout",
          "text": [
            "Epoch 4/10:\n",
            "Train Loss: 2.3130 | Val Loss: 2.2940\n"
          ]
        },
        {
          "output_type": "stream",
          "name": "stderr",
          "text": [
            "Training: 100%|██████████| 25/25 [00:57<00:00,  2.29s/it]\n",
            "Evaluating: 100%|██████████| 7/7 [00:04<00:00,  1.65it/s]\n"
          ]
        },
        {
          "output_type": "stream",
          "name": "stdout",
          "text": [
            "Epoch 5/10:\n",
            "Train Loss: 2.2495 | Val Loss: 2.2431\n"
          ]
        },
        {
          "output_type": "stream",
          "name": "stderr",
          "text": [
            "Training: 100%|██████████| 25/25 [00:58<00:00,  2.36s/it]\n",
            "Evaluating: 100%|██████████| 7/7 [00:04<00:00,  1.57it/s]\n"
          ]
        },
        {
          "output_type": "stream",
          "name": "stdout",
          "text": [
            "Epoch 6/10:\n",
            "Train Loss: 2.2086 | Val Loss: 2.2184\n"
          ]
        },
        {
          "output_type": "stream",
          "name": "stderr",
          "text": [
            "Training: 100%|██████████| 25/25 [00:58<00:00,  2.34s/it]\n",
            "Evaluating: 100%|██████████| 7/7 [00:04<00:00,  1.62it/s]\n"
          ]
        },
        {
          "output_type": "stream",
          "name": "stdout",
          "text": [
            "Epoch 7/10:\n",
            "Train Loss: 2.1522 | Val Loss: 2.2228\n"
          ]
        },
        {
          "output_type": "stream",
          "name": "stderr",
          "text": [
            "Training: 100%|██████████| 25/25 [00:58<00:00,  2.34s/it]\n",
            "Evaluating: 100%|██████████| 7/7 [00:04<00:00,  1.68it/s]\n"
          ]
        },
        {
          "output_type": "stream",
          "name": "stdout",
          "text": [
            "Epoch 8/10:\n",
            "Train Loss: 2.1109 | Val Loss: 2.1761\n"
          ]
        },
        {
          "output_type": "stream",
          "name": "stderr",
          "text": [
            "Training: 100%|██████████| 25/25 [00:58<00:00,  2.33s/it]\n",
            "Evaluating: 100%|██████████| 7/7 [00:04<00:00,  1.67it/s]\n"
          ]
        },
        {
          "output_type": "stream",
          "name": "stdout",
          "text": [
            "Epoch 9/10:\n",
            "Train Loss: 2.0780 | Val Loss: 2.1339\n"
          ]
        },
        {
          "output_type": "stream",
          "name": "stderr",
          "text": [
            "Training: 100%|██████████| 25/25 [00:59<00:00,  2.37s/it]\n",
            "Evaluating: 100%|██████████| 7/7 [00:04<00:00,  1.50it/s]\n",
            "[I 2025-05-06 19:46:13,565] Trial 11 finished with value: 2.11050740310124 and parameters: {'d_model': 256, 'num_heads': 4, 'num_layers': 4, 'd_ff': 512, 'dropout': 0.2508413240308535, 'learning_rate': 0.0009656945229595863, 'batch_size': 32}. Best is trial 8 with value: 1.9082178899220057.\n"
          ]
        },
        {
          "output_type": "stream",
          "name": "stdout",
          "text": [
            "Epoch 10/10:\n",
            "Train Loss: 2.0549 | Val Loss: 2.1105\n"
          ]
        },
        {
          "output_type": "stream",
          "name": "stderr",
          "text": [
            "Training: 100%|██████████| 25/25 [00:53<00:00,  2.15s/it]\n",
            "Evaluating: 100%|██████████| 7/7 [00:03<00:00,  1.78it/s]\n"
          ]
        },
        {
          "output_type": "stream",
          "name": "stdout",
          "text": [
            "Epoch 1/10:\n",
            "Train Loss: 3.1998 | Val Loss: 2.6334\n"
          ]
        },
        {
          "output_type": "stream",
          "name": "stderr",
          "text": [
            "Training: 100%|██████████| 25/25 [00:54<00:00,  2.19s/it]\n",
            "Evaluating: 100%|██████████| 7/7 [00:03<00:00,  1.92it/s]\n"
          ]
        },
        {
          "output_type": "stream",
          "name": "stdout",
          "text": [
            "Epoch 2/10:\n",
            "Train Loss: 2.5569 | Val Loss: 2.4046\n"
          ]
        },
        {
          "output_type": "stream",
          "name": "stderr",
          "text": [
            "Training: 100%|██████████| 25/25 [00:55<00:00,  2.21s/it]\n",
            "Evaluating: 100%|██████████| 7/7 [00:03<00:00,  1.76it/s]\n"
          ]
        },
        {
          "output_type": "stream",
          "name": "stdout",
          "text": [
            "Epoch 3/10:\n",
            "Train Loss: 2.3832 | Val Loss: 2.3046\n"
          ]
        },
        {
          "output_type": "stream",
          "name": "stderr",
          "text": [
            "Training: 100%|██████████| 25/25 [00:54<00:00,  2.17s/it]\n",
            "Evaluating: 100%|██████████| 7/7 [00:04<00:00,  1.68it/s]\n"
          ]
        },
        {
          "output_type": "stream",
          "name": "stdout",
          "text": [
            "Epoch 4/10:\n",
            "Train Loss: 2.3041 | Val Loss: 2.2468\n"
          ]
        },
        {
          "output_type": "stream",
          "name": "stderr",
          "text": [
            "Training: 100%|██████████| 25/25 [00:55<00:00,  2.21s/it]\n",
            "Evaluating: 100%|██████████| 7/7 [00:03<00:00,  1.87it/s]\n"
          ]
        },
        {
          "output_type": "stream",
          "name": "stdout",
          "text": [
            "Epoch 5/10:\n",
            "Train Loss: 2.2436 | Val Loss: 2.2095\n"
          ]
        },
        {
          "output_type": "stream",
          "name": "stderr",
          "text": [
            "Training: 100%|██████████| 25/25 [00:53<00:00,  2.14s/it]\n",
            "Evaluating: 100%|██████████| 7/7 [00:03<00:00,  1.91it/s]\n"
          ]
        },
        {
          "output_type": "stream",
          "name": "stdout",
          "text": [
            "Epoch 6/10:\n",
            "Train Loss: 2.1848 | Val Loss: 2.1513\n"
          ]
        },
        {
          "output_type": "stream",
          "name": "stderr",
          "text": [
            "Training: 100%|██████████| 25/25 [00:54<00:00,  2.17s/it]\n",
            "Evaluating: 100%|██████████| 7/7 [00:03<00:00,  1.84it/s]\n"
          ]
        },
        {
          "output_type": "stream",
          "name": "stdout",
          "text": [
            "Epoch 7/10:\n",
            "Train Loss: 2.1071 | Val Loss: 2.0772\n"
          ]
        },
        {
          "output_type": "stream",
          "name": "stderr",
          "text": [
            "Training: 100%|██████████| 25/25 [00:51<00:00,  2.06s/it]\n",
            "Evaluating: 100%|██████████| 7/7 [00:04<00:00,  1.69it/s]\n"
          ]
        },
        {
          "output_type": "stream",
          "name": "stdout",
          "text": [
            "Epoch 8/10:\n",
            "Train Loss: 2.0190 | Val Loss: 2.0023\n"
          ]
        },
        {
          "output_type": "stream",
          "name": "stderr",
          "text": [
            "Training: 100%|██████████| 25/25 [00:49<00:00,  1.98s/it]\n",
            "Evaluating: 100%|██████████| 7/7 [00:03<00:00,  2.00it/s]\n"
          ]
        },
        {
          "output_type": "stream",
          "name": "stdout",
          "text": [
            "Epoch 9/10:\n",
            "Train Loss: 1.9533 | Val Loss: 1.9927\n"
          ]
        },
        {
          "output_type": "stream",
          "name": "stderr",
          "text": [
            "Training: 100%|██████████| 25/25 [00:50<00:00,  2.02s/it]\n",
            "Evaluating: 100%|██████████| 7/7 [00:03<00:00,  1.92it/s]\n",
            "[I 2025-05-06 19:55:44,656] Trial 12 finished with value: 1.9332362072808402 and parameters: {'d_model': 256, 'num_heads': 4, 'num_layers': 4, 'd_ff': 256, 'dropout': 0.24782982950217544, 'learning_rate': 0.0005465133856200783, 'batch_size': 32}. Best is trial 8 with value: 1.9082178899220057.\n"
          ]
        },
        {
          "output_type": "stream",
          "name": "stdout",
          "text": [
            "Epoch 10/10:\n",
            "Train Loss: 1.8803 | Val Loss: 1.9332\n"
          ]
        },
        {
          "output_type": "stream",
          "name": "stderr",
          "text": [
            "Training: 100%|██████████| 25/25 [00:50<00:00,  2.03s/it]\n",
            "Evaluating: 100%|██████████| 7/7 [00:03<00:00,  1.94it/s]\n"
          ]
        },
        {
          "output_type": "stream",
          "name": "stdout",
          "text": [
            "Epoch 1/10:\n",
            "Train Loss: 3.2301 | Val Loss: 2.6521\n"
          ]
        },
        {
          "output_type": "stream",
          "name": "stderr",
          "text": [
            "Training: 100%|██████████| 25/25 [00:50<00:00,  2.00s/it]\n",
            "Evaluating: 100%|██████████| 7/7 [00:03<00:00,  1.98it/s]\n"
          ]
        },
        {
          "output_type": "stream",
          "name": "stdout",
          "text": [
            "Epoch 2/10:\n",
            "Train Loss: 2.5532 | Val Loss: 2.4501\n"
          ]
        },
        {
          "output_type": "stream",
          "name": "stderr",
          "text": [
            "Training: 100%|██████████| 25/25 [00:50<00:00,  2.00s/it]\n",
            "Evaluating: 100%|██████████| 7/7 [00:03<00:00,  1.93it/s]\n"
          ]
        },
        {
          "output_type": "stream",
          "name": "stdout",
          "text": [
            "Epoch 3/10:\n",
            "Train Loss: 2.3877 | Val Loss: 2.3489\n"
          ]
        },
        {
          "output_type": "stream",
          "name": "stderr",
          "text": [
            "Training: 100%|██████████| 25/25 [00:49<00:00,  1.99s/it]\n",
            "Evaluating: 100%|██████████| 7/7 [00:03<00:00,  1.86it/s]\n"
          ]
        },
        {
          "output_type": "stream",
          "name": "stdout",
          "text": [
            "Epoch 4/10:\n",
            "Train Loss: 2.3033 | Val Loss: 2.2774\n"
          ]
        },
        {
          "output_type": "stream",
          "name": "stderr",
          "text": [
            "Training: 100%|██████████| 25/25 [00:50<00:00,  2.00s/it]\n",
            "Evaluating: 100%|██████████| 7/7 [00:03<00:00,  1.84it/s]\n"
          ]
        },
        {
          "output_type": "stream",
          "name": "stdout",
          "text": [
            "Epoch 5/10:\n",
            "Train Loss: 2.2307 | Val Loss: 2.2547\n"
          ]
        },
        {
          "output_type": "stream",
          "name": "stderr",
          "text": [
            "Training: 100%|██████████| 25/25 [00:49<00:00,  1.99s/it]\n",
            "Evaluating: 100%|██████████| 7/7 [00:03<00:00,  1.97it/s]\n"
          ]
        },
        {
          "output_type": "stream",
          "name": "stdout",
          "text": [
            "Epoch 6/10:\n",
            "Train Loss: 2.1841 | Val Loss: 2.2293\n"
          ]
        },
        {
          "output_type": "stream",
          "name": "stderr",
          "text": [
            "Training: 100%|██████████| 25/25 [00:49<00:00,  1.98s/it]\n",
            "Evaluating: 100%|██████████| 7/7 [00:03<00:00,  1.97it/s]\n"
          ]
        },
        {
          "output_type": "stream",
          "name": "stdout",
          "text": [
            "Epoch 7/10:\n",
            "Train Loss: 2.1304 | Val Loss: 2.1438\n"
          ]
        },
        {
          "output_type": "stream",
          "name": "stderr",
          "text": [
            "Training: 100%|██████████| 25/25 [00:50<00:00,  2.00s/it]\n",
            "Evaluating: 100%|██████████| 7/7 [00:03<00:00,  1.97it/s]\n"
          ]
        },
        {
          "output_type": "stream",
          "name": "stdout",
          "text": [
            "Epoch 8/10:\n",
            "Train Loss: 2.0501 | Val Loss: 2.0701\n"
          ]
        },
        {
          "output_type": "stream",
          "name": "stderr",
          "text": [
            "Training: 100%|██████████| 25/25 [00:49<00:00,  1.99s/it]\n",
            "Evaluating: 100%|██████████| 7/7 [00:03<00:00,  1.95it/s]\n"
          ]
        },
        {
          "output_type": "stream",
          "name": "stdout",
          "text": [
            "Epoch 9/10:\n",
            "Train Loss: 1.9516 | Val Loss: 2.0085\n"
          ]
        },
        {
          "output_type": "stream",
          "name": "stderr",
          "text": [
            "Training: 100%|██████████| 25/25 [00:49<00:00,  1.99s/it]\n",
            "Evaluating: 100%|██████████| 7/7 [00:03<00:00,  1.92it/s]\n",
            "[I 2025-05-06 20:04:40,193] Trial 13 finished with value: 1.9657188653945923 and parameters: {'d_model': 256, 'num_heads': 4, 'num_layers': 4, 'd_ff': 256, 'dropout': 0.23644088178894326, 'learning_rate': 0.00048772112826803203, 'batch_size': 32}. Best is trial 8 with value: 1.9082178899220057.\n"
          ]
        },
        {
          "output_type": "stream",
          "name": "stdout",
          "text": [
            "Epoch 10/10:\n",
            "Train Loss: 1.8688 | Val Loss: 1.9657\n"
          ]
        },
        {
          "output_type": "stream",
          "name": "stderr",
          "text": [
            "Training: 100%|██████████| 25/25 [00:49<00:00,  1.98s/it]\n",
            "Evaluating: 100%|██████████| 7/7 [00:03<00:00,  1.90it/s]\n"
          ]
        },
        {
          "output_type": "stream",
          "name": "stdout",
          "text": [
            "Epoch 1/10:\n",
            "Train Loss: 3.4442 | Val Loss: 3.0729\n"
          ]
        },
        {
          "output_type": "stream",
          "name": "stderr",
          "text": [
            "Training: 100%|██████████| 25/25 [00:49<00:00,  1.99s/it]\n",
            "Evaluating: 100%|██████████| 7/7 [00:03<00:00,  1.86it/s]\n"
          ]
        },
        {
          "output_type": "stream",
          "name": "stdout",
          "text": [
            "Epoch 2/10:\n",
            "Train Loss: 2.9304 | Val Loss: 2.6351\n"
          ]
        },
        {
          "output_type": "stream",
          "name": "stderr",
          "text": [
            "Training: 100%|██████████| 25/25 [00:49<00:00,  1.98s/it]\n",
            "Evaluating: 100%|██████████| 7/7 [00:03<00:00,  1.97it/s]\n"
          ]
        },
        {
          "output_type": "stream",
          "name": "stdout",
          "text": [
            "Epoch 3/10:\n",
            "Train Loss: 2.6082 | Val Loss: 2.4654\n"
          ]
        },
        {
          "output_type": "stream",
          "name": "stderr",
          "text": [
            "Training: 100%|██████████| 25/25 [00:49<00:00,  1.98s/it]\n",
            "Evaluating: 100%|██████████| 7/7 [00:03<00:00,  1.99it/s]\n"
          ]
        },
        {
          "output_type": "stream",
          "name": "stdout",
          "text": [
            "Epoch 4/10:\n",
            "Train Loss: 2.4736 | Val Loss: 2.3803\n"
          ]
        },
        {
          "output_type": "stream",
          "name": "stderr",
          "text": [
            "Training: 100%|██████████| 25/25 [00:49<00:00,  1.96s/it]\n",
            "Evaluating: 100%|██████████| 7/7 [00:03<00:00,  1.93it/s]\n"
          ]
        },
        {
          "output_type": "stream",
          "name": "stdout",
          "text": [
            "Epoch 5/10:\n",
            "Train Loss: 2.4006 | Val Loss: 2.3665\n"
          ]
        },
        {
          "output_type": "stream",
          "name": "stderr",
          "text": [
            "Training: 100%|██████████| 25/25 [00:49<00:00,  1.98s/it]\n",
            "Evaluating: 100%|██████████| 7/7 [00:03<00:00,  1.87it/s]\n"
          ]
        },
        {
          "output_type": "stream",
          "name": "stdout",
          "text": [
            "Epoch 6/10:\n",
            "Train Loss: 2.3469 | Val Loss: 2.3201\n"
          ]
        },
        {
          "output_type": "stream",
          "name": "stderr",
          "text": [
            "Training: 100%|██████████| 25/25 [00:49<00:00,  1.97s/it]\n",
            "Evaluating: 100%|██████████| 7/7 [00:03<00:00,  2.00it/s]\n"
          ]
        },
        {
          "output_type": "stream",
          "name": "stdout",
          "text": [
            "Epoch 7/10:\n",
            "Train Loss: 2.3122 | Val Loss: 2.3082\n"
          ]
        },
        {
          "output_type": "stream",
          "name": "stderr",
          "text": [
            "Training: 100%|██████████| 25/25 [00:49<00:00,  1.99s/it]\n",
            "Evaluating: 100%|██████████| 7/7 [00:03<00:00,  1.98it/s]\n"
          ]
        },
        {
          "output_type": "stream",
          "name": "stdout",
          "text": [
            "Epoch 8/10:\n",
            "Train Loss: 2.2865 | Val Loss: 2.2860\n"
          ]
        },
        {
          "output_type": "stream",
          "name": "stderr",
          "text": [
            "Training: 100%|██████████| 25/25 [00:49<00:00,  1.99s/it]\n",
            "Evaluating: 100%|██████████| 7/7 [00:03<00:00,  1.99it/s]\n"
          ]
        },
        {
          "output_type": "stream",
          "name": "stdout",
          "text": [
            "Epoch 9/10:\n",
            "Train Loss: 2.2486 | Val Loss: 2.2754\n"
          ]
        },
        {
          "output_type": "stream",
          "name": "stderr",
          "text": [
            "Training: 100%|██████████| 25/25 [00:49<00:00,  1.98s/it]\n",
            "Evaluating: 100%|██████████| 7/7 [00:03<00:00,  1.95it/s]\n",
            "[I 2025-05-06 20:13:31,618] Trial 14 finished with value: 2.2207350049700056 and parameters: {'d_model': 256, 'num_heads': 4, 'num_layers': 4, 'd_ff': 256, 'dropout': 0.26373853401974967, 'learning_rate': 0.00020246306351207473, 'batch_size': 32}. Best is trial 8 with value: 1.9082178899220057.\n"
          ]
        },
        {
          "output_type": "stream",
          "name": "stdout",
          "text": [
            "Epoch 10/10:\n",
            "Train Loss: 2.2240 | Val Loss: 2.2207\n"
          ]
        },
        {
          "output_type": "stream",
          "name": "stderr",
          "text": [
            "Training: 100%|██████████| 25/25 [00:49<00:00,  1.97s/it]\n",
            "Evaluating: 100%|██████████| 7/7 [00:03<00:00,  1.89it/s]\n"
          ]
        },
        {
          "output_type": "stream",
          "name": "stdout",
          "text": [
            "Epoch 1/10:\n",
            "Train Loss: 3.1559 | Val Loss: 2.6349\n"
          ]
        },
        {
          "output_type": "stream",
          "name": "stderr",
          "text": [
            "Training: 100%|██████████| 25/25 [00:49<00:00,  1.97s/it]\n",
            "Evaluating: 100%|██████████| 7/7 [00:03<00:00,  1.96it/s]\n"
          ]
        },
        {
          "output_type": "stream",
          "name": "stdout",
          "text": [
            "Epoch 2/10:\n",
            "Train Loss: 2.5186 | Val Loss: 2.4048\n"
          ]
        },
        {
          "output_type": "stream",
          "name": "stderr",
          "text": [
            "Training: 100%|██████████| 25/25 [00:49<00:00,  1.98s/it]\n",
            "Evaluating: 100%|██████████| 7/7 [00:03<00:00,  1.94it/s]\n"
          ]
        },
        {
          "output_type": "stream",
          "name": "stdout",
          "text": [
            "Epoch 3/10:\n",
            "Train Loss: 2.3596 | Val Loss: 2.3058\n"
          ]
        },
        {
          "output_type": "stream",
          "name": "stderr",
          "text": [
            "Training: 100%|██████████| 25/25 [00:50<00:00,  2.00s/it]\n",
            "Evaluating: 100%|██████████| 7/7 [00:03<00:00,  1.90it/s]\n"
          ]
        },
        {
          "output_type": "stream",
          "name": "stdout",
          "text": [
            "Epoch 4/10:\n",
            "Train Loss: 2.2739 | Val Loss: 2.2449\n"
          ]
        },
        {
          "output_type": "stream",
          "name": "stderr",
          "text": [
            "Training: 100%|██████████| 25/25 [00:50<00:00,  2.00s/it]\n",
            "Evaluating: 100%|██████████| 7/7 [00:03<00:00,  1.93it/s]\n"
          ]
        },
        {
          "output_type": "stream",
          "name": "stdout",
          "text": [
            "Epoch 5/10:\n",
            "Train Loss: 2.2097 | Val Loss: 2.2328\n"
          ]
        },
        {
          "output_type": "stream",
          "name": "stderr",
          "text": [
            "Training: 100%|██████████| 25/25 [00:49<00:00,  2.00s/it]\n",
            "Evaluating: 100%|██████████| 7/7 [00:03<00:00,  1.88it/s]\n"
          ]
        },
        {
          "output_type": "stream",
          "name": "stdout",
          "text": [
            "Epoch 6/10:\n",
            "Train Loss: 2.1211 | Val Loss: 2.2113\n"
          ]
        },
        {
          "output_type": "stream",
          "name": "stderr",
          "text": [
            "Training: 100%|██████████| 25/25 [00:49<00:00,  1.99s/it]\n",
            "Evaluating: 100%|██████████| 7/7 [00:03<00:00,  1.86it/s]\n"
          ]
        },
        {
          "output_type": "stream",
          "name": "stdout",
          "text": [
            "Epoch 7/10:\n",
            "Train Loss: 2.0240 | Val Loss: 2.0196\n"
          ]
        },
        {
          "output_type": "stream",
          "name": "stderr",
          "text": [
            "Training: 100%|██████████| 25/25 [00:50<00:00,  2.01s/it]\n",
            "Evaluating: 100%|██████████| 7/7 [00:03<00:00,  1.96it/s]\n"
          ]
        },
        {
          "output_type": "stream",
          "name": "stdout",
          "text": [
            "Epoch 8/10:\n",
            "Train Loss: 1.9321 | Val Loss: 1.9266\n"
          ]
        },
        {
          "output_type": "stream",
          "name": "stderr",
          "text": [
            "Training: 100%|██████████| 25/25 [00:50<00:00,  2.03s/it]\n",
            "Evaluating: 100%|██████████| 7/7 [00:03<00:00,  1.94it/s]\n"
          ]
        },
        {
          "output_type": "stream",
          "name": "stdout",
          "text": [
            "Epoch 9/10:\n",
            "Train Loss: 1.8481 | Val Loss: 1.9102\n"
          ]
        },
        {
          "output_type": "stream",
          "name": "stderr",
          "text": [
            "Training: 100%|██████████| 25/25 [00:49<00:00,  1.99s/it]\n",
            "Evaluating: 100%|██████████| 7/7 [00:03<00:00,  1.96it/s]\n",
            "[I 2025-05-06 20:22:26,910] Trial 15 finished with value: 1.8922669717243739 and parameters: {'d_model': 256, 'num_heads': 4, 'num_layers': 4, 'd_ff': 256, 'dropout': 0.2207862787473907, 'learning_rate': 0.0004987914424108684, 'batch_size': 32}. Best is trial 15 with value: 1.8922669717243739.\n"
          ]
        },
        {
          "output_type": "stream",
          "name": "stdout",
          "text": [
            "Epoch 10/10:\n",
            "Train Loss: 1.7858 | Val Loss: 1.8923\n",
            "New best model found! Val Loss: 1.8923\n",
            "Config: {'d_model': 256, 'num_heads': 4, 'num_layers': 4, 'd_ff': 256, 'dropout': 0.2207862787473907, 'learning_rate': 0.0004987914424108684, 'batch_size': 32}\n"
          ]
        },
        {
          "output_type": "stream",
          "name": "stderr",
          "text": [
            "Training: 100%|██████████| 25/25 [00:18<00:00,  1.37it/s]\n",
            "Evaluating: 100%|██████████| 7/7 [00:01<00:00,  6.43it/s]\n"
          ]
        },
        {
          "output_type": "stream",
          "name": "stdout",
          "text": [
            "Epoch 1/10:\n",
            "Train Loss: 3.8567 | Val Loss: 3.4380\n"
          ]
        },
        {
          "output_type": "stream",
          "name": "stderr",
          "text": [
            "Training: 100%|██████████| 25/25 [00:18<00:00,  1.36it/s]\n",
            "Evaluating: 100%|██████████| 7/7 [00:01<00:00,  5.97it/s]\n"
          ]
        },
        {
          "output_type": "stream",
          "name": "stdout",
          "text": [
            "Epoch 2/10:\n",
            "Train Loss: 3.2917 | Val Loss: 3.0335\n"
          ]
        },
        {
          "output_type": "stream",
          "name": "stderr",
          "text": [
            "Training: 100%|██████████| 25/25 [00:18<00:00,  1.38it/s]\n",
            "Evaluating: 100%|██████████| 7/7 [00:01<00:00,  6.32it/s]\n"
          ]
        },
        {
          "output_type": "stream",
          "name": "stdout",
          "text": [
            "Epoch 3/10:\n",
            "Train Loss: 2.9627 | Val Loss: 2.7540\n"
          ]
        },
        {
          "output_type": "stream",
          "name": "stderr",
          "text": [
            "Training: 100%|██████████| 25/25 [00:18<00:00,  1.35it/s]\n",
            "Evaluating: 100%|██████████| 7/7 [00:01<00:00,  6.28it/s]\n"
          ]
        },
        {
          "output_type": "stream",
          "name": "stdout",
          "text": [
            "Epoch 4/10:\n",
            "Train Loss: 2.7494 | Val Loss: 2.6061\n"
          ]
        },
        {
          "output_type": "stream",
          "name": "stderr",
          "text": [
            "Training: 100%|██████████| 25/25 [00:18<00:00,  1.36it/s]\n",
            "Evaluating: 100%|██████████| 7/7 [00:01<00:00,  6.39it/s]\n"
          ]
        },
        {
          "output_type": "stream",
          "name": "stdout",
          "text": [
            "Epoch 5/10:\n",
            "Train Loss: 2.6353 | Val Loss: 2.5202\n"
          ]
        },
        {
          "output_type": "stream",
          "name": "stderr",
          "text": [
            "Training: 100%|██████████| 25/25 [00:18<00:00,  1.37it/s]\n",
            "Evaluating: 100%|██████████| 7/7 [00:01<00:00,  5.40it/s]\n"
          ]
        },
        {
          "output_type": "stream",
          "name": "stdout",
          "text": [
            "Epoch 6/10:\n",
            "Train Loss: 2.5553 | Val Loss: 2.4675\n"
          ]
        },
        {
          "output_type": "stream",
          "name": "stderr",
          "text": [
            "Training: 100%|██████████| 25/25 [00:18<00:00,  1.36it/s]\n",
            "Evaluating: 100%|██████████| 7/7 [00:01<00:00,  6.45it/s]\n"
          ]
        },
        {
          "output_type": "stream",
          "name": "stdout",
          "text": [
            "Epoch 7/10:\n",
            "Train Loss: 2.5041 | Val Loss: 2.4252\n"
          ]
        },
        {
          "output_type": "stream",
          "name": "stderr",
          "text": [
            "Training: 100%|██████████| 25/25 [00:18<00:00,  1.37it/s]\n",
            "Evaluating: 100%|██████████| 7/7 [00:01<00:00,  6.29it/s]\n"
          ]
        },
        {
          "output_type": "stream",
          "name": "stdout",
          "text": [
            "Epoch 8/10:\n",
            "Train Loss: 2.4645 | Val Loss: 2.3920\n"
          ]
        },
        {
          "output_type": "stream",
          "name": "stderr",
          "text": [
            "Training: 100%|██████████| 25/25 [00:18<00:00,  1.34it/s]\n",
            "Evaluating: 100%|██████████| 7/7 [00:01<00:00,  6.40it/s]\n"
          ]
        },
        {
          "output_type": "stream",
          "name": "stdout",
          "text": [
            "Epoch 9/10:\n",
            "Train Loss: 2.4294 | Val Loss: 2.3828\n"
          ]
        },
        {
          "output_type": "stream",
          "name": "stderr",
          "text": [
            "Training: 100%|██████████| 25/25 [00:18<00:00,  1.37it/s]\n",
            "Evaluating: 100%|██████████| 7/7 [00:01<00:00,  5.58it/s]\n",
            "[I 2025-05-06 20:25:41,856] Trial 16 finished with value: 2.3567378520965576 and parameters: {'d_model': 64, 'num_heads': 4, 'num_layers': 4, 'd_ff': 256, 'dropout': 0.2174667231342672, 'learning_rate': 0.0004531981723602948, 'batch_size': 32}. Best is trial 15 with value: 1.8922669717243739.\n"
          ]
        },
        {
          "output_type": "stream",
          "name": "stdout",
          "text": [
            "Epoch 10/10:\n",
            "Train Loss: 2.4069 | Val Loss: 2.3567\n"
          ]
        },
        {
          "output_type": "stream",
          "name": "stderr",
          "text": [
            "Training: 100%|██████████| 25/25 [00:49<00:00,  1.97s/it]\n",
            "Evaluating: 100%|██████████| 7/7 [00:03<00:00,  1.95it/s]\n"
          ]
        },
        {
          "output_type": "stream",
          "name": "stdout",
          "text": [
            "Epoch 1/10:\n",
            "Train Loss: 3.3086 | Val Loss: 2.8255\n"
          ]
        },
        {
          "output_type": "stream",
          "name": "stderr",
          "text": [
            "Training: 100%|██████████| 25/25 [00:49<00:00,  1.99s/it]\n",
            "Evaluating: 100%|██████████| 7/7 [00:03<00:00,  1.97it/s]\n"
          ]
        },
        {
          "output_type": "stream",
          "name": "stdout",
          "text": [
            "Epoch 2/10:\n",
            "Train Loss: 2.6542 | Val Loss: 2.4686\n"
          ]
        },
        {
          "output_type": "stream",
          "name": "stderr",
          "text": [
            "Training: 100%|██████████| 25/25 [00:49<00:00,  1.97s/it]\n",
            "Evaluating: 100%|██████████| 7/7 [00:03<00:00,  1.95it/s]\n"
          ]
        },
        {
          "output_type": "stream",
          "name": "stdout",
          "text": [
            "Epoch 3/10:\n",
            "Train Loss: 2.4091 | Val Loss: 2.3569\n"
          ]
        },
        {
          "output_type": "stream",
          "name": "stderr",
          "text": [
            "Training: 100%|██████████| 25/25 [00:48<00:00,  1.96s/it]\n",
            "Evaluating: 100%|██████████| 7/7 [00:03<00:00,  1.89it/s]\n"
          ]
        },
        {
          "output_type": "stream",
          "name": "stdout",
          "text": [
            "Epoch 4/10:\n",
            "Train Loss: 2.3281 | Val Loss: 2.3190\n"
          ]
        },
        {
          "output_type": "stream",
          "name": "stderr",
          "text": [
            "Training: 100%|██████████| 25/25 [00:49<00:00,  1.97s/it]\n",
            "Evaluating: 100%|██████████| 7/7 [00:03<00:00,  1.93it/s]\n"
          ]
        },
        {
          "output_type": "stream",
          "name": "stdout",
          "text": [
            "Epoch 5/10:\n",
            "Train Loss: 2.2563 | Val Loss: 2.2561\n"
          ]
        },
        {
          "output_type": "stream",
          "name": "stderr",
          "text": [
            "Training: 100%|██████████| 25/25 [00:49<00:00,  1.99s/it]\n",
            "Evaluating: 100%|██████████| 7/7 [00:03<00:00,  1.98it/s]\n"
          ]
        },
        {
          "output_type": "stream",
          "name": "stdout",
          "text": [
            "Epoch 6/10:\n",
            "Train Loss: 2.1943 | Val Loss: 2.2242\n"
          ]
        },
        {
          "output_type": "stream",
          "name": "stderr",
          "text": [
            "Training: 100%|██████████| 25/25 [00:49<00:00,  1.96s/it]\n",
            "Evaluating: 100%|██████████| 7/7 [00:03<00:00,  1.98it/s]\n"
          ]
        },
        {
          "output_type": "stream",
          "name": "stdout",
          "text": [
            "Epoch 7/10:\n",
            "Train Loss: 2.1279 | Val Loss: 2.1644\n"
          ]
        },
        {
          "output_type": "stream",
          "name": "stderr",
          "text": [
            "Training: 100%|██████████| 25/25 [00:49<00:00,  1.96s/it]\n",
            "Evaluating: 100%|██████████| 7/7 [00:03<00:00,  1.99it/s]\n"
          ]
        },
        {
          "output_type": "stream",
          "name": "stdout",
          "text": [
            "Epoch 8/10:\n",
            "Train Loss: 2.0352 | Val Loss: 2.0350\n"
          ]
        },
        {
          "output_type": "stream",
          "name": "stderr",
          "text": [
            "Training: 100%|██████████| 25/25 [00:48<00:00,  1.96s/it]\n",
            "Evaluating: 100%|██████████| 7/7 [00:03<00:00,  1.89it/s]\n"
          ]
        },
        {
          "output_type": "stream",
          "name": "stdout",
          "text": [
            "Epoch 9/10:\n",
            "Train Loss: 1.9551 | Val Loss: 2.0064\n"
          ]
        },
        {
          "output_type": "stream",
          "name": "stderr",
          "text": [
            "Training: 100%|██████████| 25/25 [00:49<00:00,  1.96s/it]\n",
            "Evaluating: 100%|██████████| 7/7 [00:03<00:00,  2.01it/s]\n",
            "[I 2025-05-06 20:34:30,217] Trial 17 finished with value: 1.9547168867928642 and parameters: {'d_model': 256, 'num_heads': 4, 'num_layers': 4, 'd_ff': 256, 'dropout': 0.15666245482944202, 'learning_rate': 0.00023959789092595416, 'batch_size': 32}. Best is trial 15 with value: 1.8922669717243739.\n"
          ]
        },
        {
          "output_type": "stream",
          "name": "stdout",
          "text": [
            "Epoch 10/10:\n",
            "Train Loss: 1.8897 | Val Loss: 1.9547\n"
          ]
        },
        {
          "output_type": "stream",
          "name": "stderr",
          "text": [
            "Training: 100%|██████████| 25/25 [01:23<00:00,  3.35s/it]\n",
            "Evaluating: 100%|██████████| 7/7 [00:05<00:00,  1.18it/s]\n"
          ]
        },
        {
          "output_type": "stream",
          "name": "stdout",
          "text": [
            "Epoch 1/10:\n",
            "Train Loss: 3.3241 | Val Loss: 3.0963\n"
          ]
        },
        {
          "output_type": "stream",
          "name": "stderr",
          "text": [
            "Training: 100%|██████████| 25/25 [01:23<00:00,  3.33s/it]\n",
            "Evaluating: 100%|██████████| 7/7 [00:06<00:00,  1.10it/s]\n"
          ]
        },
        {
          "output_type": "stream",
          "name": "stdout",
          "text": [
            "Epoch 2/10:\n",
            "Train Loss: 3.0840 | Val Loss: 2.8132\n"
          ]
        },
        {
          "output_type": "stream",
          "name": "stderr",
          "text": [
            "Training: 100%|██████████| 25/25 [01:22<00:00,  3.31s/it]\n",
            "Evaluating: 100%|██████████| 7/7 [00:06<00:00,  1.16it/s]\n"
          ]
        },
        {
          "output_type": "stream",
          "name": "stdout",
          "text": [
            "Epoch 3/10:\n",
            "Train Loss: 2.5540 | Val Loss: 2.4195\n"
          ]
        },
        {
          "output_type": "stream",
          "name": "stderr",
          "text": [
            "Training: 100%|██████████| 25/25 [01:23<00:00,  3.33s/it]\n",
            "Evaluating: 100%|██████████| 7/7 [00:06<00:00,  1.15it/s]\n"
          ]
        },
        {
          "output_type": "stream",
          "name": "stdout",
          "text": [
            "Epoch 4/10:\n",
            "Train Loss: 2.3505 | Val Loss: 2.3139\n"
          ]
        },
        {
          "output_type": "stream",
          "name": "stderr",
          "text": [
            "Training: 100%|██████████| 25/25 [01:23<00:00,  3.32s/it]\n",
            "Evaluating: 100%|██████████| 7/7 [00:06<00:00,  1.14it/s]\n"
          ]
        },
        {
          "output_type": "stream",
          "name": "stdout",
          "text": [
            "Epoch 5/10:\n",
            "Train Loss: 2.2498 | Val Loss: 2.2682\n"
          ]
        },
        {
          "output_type": "stream",
          "name": "stderr",
          "text": [
            "Training: 100%|██████████| 25/25 [01:22<00:00,  3.30s/it]\n",
            "Evaluating: 100%|██████████| 7/7 [00:05<00:00,  1.17it/s]\n"
          ]
        },
        {
          "output_type": "stream",
          "name": "stdout",
          "text": [
            "Epoch 6/10:\n",
            "Train Loss: 2.1658 | Val Loss: 2.2225\n"
          ]
        },
        {
          "output_type": "stream",
          "name": "stderr",
          "text": [
            "Training: 100%|██████████| 25/25 [01:22<00:00,  3.29s/it]\n",
            "Evaluating: 100%|██████████| 7/7 [00:06<00:00,  1.16it/s]\n"
          ]
        },
        {
          "output_type": "stream",
          "name": "stdout",
          "text": [
            "Epoch 7/10:\n",
            "Train Loss: 2.0997 | Val Loss: 2.2169\n"
          ]
        },
        {
          "output_type": "stream",
          "name": "stderr",
          "text": [
            "Training: 100%|██████████| 25/25 [01:23<00:00,  3.33s/it]\n",
            "Evaluating: 100%|██████████| 7/7 [00:06<00:00,  1.14it/s]\n"
          ]
        },
        {
          "output_type": "stream",
          "name": "stdout",
          "text": [
            "Epoch 8/10:\n",
            "Train Loss: 2.0265 | Val Loss: 2.1805\n"
          ]
        },
        {
          "output_type": "stream",
          "name": "stderr",
          "text": [
            "Training: 100%|██████████| 25/25 [01:22<00:00,  3.31s/it]\n",
            "Evaluating: 100%|██████████| 7/7 [00:06<00:00,  1.16it/s]\n"
          ]
        },
        {
          "output_type": "stream",
          "name": "stdout",
          "text": [
            "Epoch 9/10:\n",
            "Train Loss: 1.9587 | Val Loss: 2.1680\n"
          ]
        },
        {
          "output_type": "stream",
          "name": "stderr",
          "text": [
            "Training: 100%|██████████| 25/25 [01:23<00:00,  3.33s/it]\n",
            "Evaluating: 100%|██████████| 7/7 [00:05<00:00,  1.18it/s]\n",
            "[I 2025-05-06 20:49:21,209] Trial 18 finished with value: 2.132347890308925 and parameters: {'d_model': 256, 'num_heads': 4, 'num_layers': 6, 'd_ff': 512, 'dropout': 0.12694279083614296, 'learning_rate': 0.0006396338561965474, 'batch_size': 32}. Best is trial 15 with value: 1.8922669717243739.\n"
          ]
        },
        {
          "output_type": "stream",
          "name": "stdout",
          "text": [
            "Epoch 10/10:\n",
            "Train Loss: 1.9028 | Val Loss: 2.1323\n"
          ]
        },
        {
          "output_type": "stream",
          "name": "stderr",
          "text": [
            "Training: 100%|██████████| 25/25 [00:09<00:00,  2.69it/s]\n",
            "Evaluating: 100%|██████████| 7/7 [00:00<00:00, 12.20it/s]\n"
          ]
        },
        {
          "output_type": "stream",
          "name": "stdout",
          "text": [
            "Epoch 1/10:\n",
            "Train Loss: 4.3191 | Val Loss: 3.8408\n"
          ]
        },
        {
          "output_type": "stream",
          "name": "stderr",
          "text": [
            "Training: 100%|██████████| 25/25 [00:09<00:00,  2.71it/s]\n",
            "Evaluating: 100%|██████████| 7/7 [00:00<00:00, 12.09it/s]\n"
          ]
        },
        {
          "output_type": "stream",
          "name": "stdout",
          "text": [
            "Epoch 2/10:\n",
            "Train Loss: 3.7204 | Val Loss: 3.4997\n"
          ]
        },
        {
          "output_type": "stream",
          "name": "stderr",
          "text": [
            "Training: 100%|██████████| 25/25 [00:09<00:00,  2.74it/s]\n",
            "Evaluating: 100%|██████████| 7/7 [00:00<00:00, 12.13it/s]\n"
          ]
        },
        {
          "output_type": "stream",
          "name": "stdout",
          "text": [
            "Epoch 3/10:\n",
            "Train Loss: 3.4775 | Val Loss: 3.3260\n"
          ]
        },
        {
          "output_type": "stream",
          "name": "stderr",
          "text": [
            "Training: 100%|██████████| 25/25 [00:09<00:00,  2.71it/s]\n",
            "Evaluating: 100%|██████████| 7/7 [00:00<00:00, 12.35it/s]\n"
          ]
        },
        {
          "output_type": "stream",
          "name": "stdout",
          "text": [
            "Epoch 4/10:\n",
            "Train Loss: 3.3288 | Val Loss: 3.2130\n"
          ]
        },
        {
          "output_type": "stream",
          "name": "stderr",
          "text": [
            "Training: 100%|██████████| 25/25 [00:09<00:00,  2.76it/s]\n",
            "Evaluating: 100%|██████████| 7/7 [00:00<00:00, 11.60it/s]\n"
          ]
        },
        {
          "output_type": "stream",
          "name": "stdout",
          "text": [
            "Epoch 5/10:\n",
            "Train Loss: 3.2279 | Val Loss: 3.1159\n"
          ]
        },
        {
          "output_type": "stream",
          "name": "stderr",
          "text": [
            "Training: 100%|██████████| 25/25 [00:09<00:00,  2.72it/s]\n",
            "Evaluating: 100%|██████████| 7/7 [00:00<00:00, 12.67it/s]\n"
          ]
        },
        {
          "output_type": "stream",
          "name": "stdout",
          "text": [
            "Epoch 6/10:\n",
            "Train Loss: 3.1411 | Val Loss: 3.0199\n"
          ]
        },
        {
          "output_type": "stream",
          "name": "stderr",
          "text": [
            "Training: 100%|██████████| 25/25 [00:09<00:00,  2.65it/s]\n",
            "Evaluating: 100%|██████████| 7/7 [00:00<00:00, 12.45it/s]\n"
          ]
        },
        {
          "output_type": "stream",
          "name": "stdout",
          "text": [
            "Epoch 7/10:\n",
            "Train Loss: 3.0494 | Val Loss: 2.9211\n"
          ]
        },
        {
          "output_type": "stream",
          "name": "stderr",
          "text": [
            "Training: 100%|██████████| 25/25 [00:09<00:00,  2.70it/s]\n",
            "Evaluating: 100%|██████████| 7/7 [00:00<00:00, 12.30it/s]\n"
          ]
        },
        {
          "output_type": "stream",
          "name": "stdout",
          "text": [
            "Epoch 8/10:\n",
            "Train Loss: 2.9604 | Val Loss: 2.8303\n"
          ]
        },
        {
          "output_type": "stream",
          "name": "stderr",
          "text": [
            "Training: 100%|██████████| 25/25 [00:09<00:00,  2.73it/s]\n",
            "Evaluating: 100%|██████████| 7/7 [00:00<00:00, 12.21it/s]\n"
          ]
        },
        {
          "output_type": "stream",
          "name": "stdout",
          "text": [
            "Epoch 9/10:\n",
            "Train Loss: 2.8860 | Val Loss: 2.7550\n"
          ]
        },
        {
          "output_type": "stream",
          "name": "stderr",
          "text": [
            "Training: 100%|██████████| 25/25 [00:09<00:00,  2.70it/s]\n",
            "Evaluating: 100%|██████████| 7/7 [00:00<00:00, 12.02it/s]\n",
            "[I 2025-05-06 20:50:59,315] Trial 19 finished with value: 2.6956261226109097 and parameters: {'d_model': 64, 'num_heads': 4, 'num_layers': 2, 'd_ff': 256, 'dropout': 0.21728103203375954, 'learning_rate': 0.00017309529211692837, 'batch_size': 32}. Best is trial 15 with value: 1.8922669717243739.\n"
          ]
        },
        {
          "output_type": "stream",
          "name": "stdout",
          "text": [
            "Epoch 10/10:\n",
            "Train Loss: 2.8150 | Val Loss: 2.6956\n",
            "\n",
            "Best trial:\n",
            "  Validation Loss: 1.8923\n",
            "  Params: \n",
            "    d_model: 256\n",
            "    num_heads: 4\n",
            "    num_layers: 4\n",
            "    d_ff: 256\n",
            "    dropout: 0.2207862787473907\n",
            "    learning_rate: 0.0004987914424108684\n",
            "    batch_size: 32\n"
          ]
        },
        {
          "output_type": "stream",
          "name": "stderr",
          "text": [
            "Evaluating: 100%|██████████| 25/25 [00:14<00:00,  1.76it/s]\n",
            "Evaluating: 100%|██████████| 7/7 [00:03<00:00,  1.98it/s]\n"
          ]
        },
        {
          "output_type": "stream",
          "name": "stdout",
          "text": [
            "\n",
            "Final Evaluation:\n",
            "Train Loss: 1.5589 | Val Loss: 1.8923\n",
            "Train Accuracy: 0.5228 | Val Accuracy: 0.4348\n",
            "\n",
            "Test Decryptions:\n",
            "Input: 'Please decrypt the following using Caesar cipher: gfbs' | Output: 'Thered tomedyo the thathe th thero there the the the the there thathe the there thine there the the the there the the the there the the the the thathe the the the the thisthero t the the the thin there the the there t the the thero the the thare the t thi' | Expected: 'fear' | ✗\n",
            "Input: 'Please decrypt the following using Caesar cipher: dpnqvufs' | Output: 'Thered tomedyo the thathe th thero there the the the thererere thathe the there thine there the the the there the the the there the the the the thathe the the the the thisthero the the the the the t the the the the the thine the the the thero the the the ' | Expected: 'computer' | ✗\n",
            "Input: 'Please decrypt the following using Caesar cipher: xibu' | Output: 'Thered tomedyo the thathe th thero there the the the the there thathe the there thine there the the the there the the the t the the the the the thathe the the the the thisthero t the the the thin thinthe thinghin the the the the the the thero the the the ' | Expected: 'what' | ✗\n",
            "Input: 'Please decrypt the following using Caesar cipher: ifmmp' | Output: 'Thered tomedyo the thathe th thero there the the the the there thisthe the the the the thathe the the the the the the the there the the the the thathe the the the the thisthero the the thise thin thinthe thinghin the the wis the the the thero the the the ' | Expected: 'hello' | ✗\n",
            "Input: 'Please decrypt the following using Caesar cipher: uijt' | Output: 'Thered tomedyo the thathe th thero there the the the the thero thathe the there thine there the the the there the the the there the the the the thathe the the the the thathino the thathe the t the t the the the the the thise the the thathe thare the t tha' | Expected: 'this' | ✗\n"
          ]
        }
      ],
      "source": [
        "import torch\n",
        "import torch.nn as nn\n",
        "import torch.optim as optim\n",
        "import torch.utils.data as data\n",
        "import math\n",
        "import copy\n",
        "import pandas as pd\n",
        "from sklearn.model_selection import train_test_split\n",
        "import string\n",
        "import random\n",
        "import optuna\n",
        "from tqdm import tqdm\n",
        "\n",
        "# Set random seeds for reproducibility\n",
        "torch.manual_seed(42)\n",
        "random.seed(42)\n",
        "\n",
        "# Device configuration\n",
        "device = torch.device('cuda' if torch.cuda.is_available() else 'cpu')\n",
        "print(f\"Using device: {device}\")\n",
        "\n",
        "# Vocabulary Class\n",
        "class Vocabulary:\n",
        "    def __init__(self):\n",
        "        self.char2idx = {}\n",
        "        self.idx2char = {}\n",
        "        self.pad_token = 0\n",
        "        self.sos_token = 1\n",
        "        self.eos_token = 2\n",
        "        self.unk_token = 3\n",
        "        self._build_vocab()\n",
        "\n",
        "    def _build_vocab(self):\n",
        "        special_tokens = ['<PAD>', '<SOS>', '<EOS>', '<UNK>']\n",
        "        all_chars = list(string.printable)\n",
        "\n",
        "        self.char2idx = {token: idx for idx, token in enumerate(special_tokens)}\n",
        "        self.char2idx.update({char: idx+len(special_tokens) for idx, char in enumerate(all_chars)})\n",
        "        self.idx2char = {idx: char for char, idx in self.char2idx.items()}\n",
        "\n",
        "    def __len__(self):\n",
        "        return len(self.char2idx)\n",
        "\n",
        "    def encode(self, text):\n",
        "        return [self.char2idx.get(char, self.unk_token) for char in text]\n",
        "\n",
        "    def decode(self, indices):\n",
        "        return ''.join([self.idx2char.get(idx, '<UNK>') for idx in indices if idx not in {self.pad_token, self.sos_token, self.eos_token}])\n",
        "\n",
        "# Data Preparation\n",
        "def load_data(file_path, max_samples=1000):\n",
        "    df = pd.read_csv(file_path)\n",
        "\n",
        "    # Filter rows where 'Output' length is <=200\n",
        "    df = df[df['Output'].str.len() <= 200]\n",
        "\n",
        "    # Get the count of such rows\n",
        "    count_filtered = len(df)\n",
        "\n",
        "    # Randomly select samples (if available)\n",
        "    if count_filtered > max_samples:\n",
        "        df = df.sample(n=max_samples, random_state=42)\n",
        "\n",
        "    inputs = df['Input'].tolist()\n",
        "    outputs = df['Output'].tolist()\n",
        "\n",
        "    return inputs, outputs\n",
        "\n",
        "# Dataset Class\n",
        "class CipherDataset(data.Dataset):\n",
        "    def __init__(self, inputs, outputs, vocab, max_length):\n",
        "        self.inputs = inputs\n",
        "        self.outputs = outputs\n",
        "        self.vocab = vocab\n",
        "        self.max_length = max_length\n",
        "\n",
        "    def __len__(self):\n",
        "        return len(self.inputs)\n",
        "\n",
        "    def __getitem__(self, idx):\n",
        "        input_text = str(self.inputs[idx])\n",
        "        output_text = str(self.outputs[idx])\n",
        "\n",
        "        input_encoded = [self.vocab.sos_token] + self.vocab.encode(input_text) + [self.vocab.eos_token]\n",
        "        output_encoded = [self.vocab.sos_token] + self.vocab.encode(output_text) + [self.vocab.eos_token]\n",
        "\n",
        "        input_padded = input_encoded + [self.vocab.pad_token] * (self.max_length - len(input_encoded))\n",
        "        output_padded = output_encoded + [self.vocab.pad_token] * (self.max_length - len(output_encoded))\n",
        "\n",
        "        input_padded = input_padded[:self.max_length]\n",
        "        output_padded = output_padded[:self.max_length]\n",
        "\n",
        "        return torch.tensor(input_padded), torch.tensor(output_padded)\n",
        "\n",
        "# Improved Model Architecture for Caesar Cipher\n",
        "class CaesarTransformer(nn.Module):\n",
        "    def __init__(self, src_vocab_size, tgt_vocab_size, d_model, num_heads, num_layers, d_ff, max_seq_length, dropout):\n",
        "        super().__init__()\n",
        "        self.encoder_embedding = nn.Embedding(src_vocab_size, d_model)\n",
        "        self.decoder_embedding = nn.Embedding(tgt_vocab_size, d_model)\n",
        "\n",
        "        # Simplified positional encoding (learned instead of fixed)\n",
        "        self.encoder_pos = nn.Embedding(max_seq_length, d_model)\n",
        "        self.decoder_pos = nn.Embedding(max_seq_length, d_model)\n",
        "\n",
        "        # Encoder layers\n",
        "        self.encoder_layers = nn.ModuleList([\n",
        "            nn.TransformerEncoderLayer(d_model, num_heads, d_ff, dropout, batch_first=True)\n",
        "            for _ in range(num_layers)\n",
        "        ])\n",
        "\n",
        "        # Decoder layers\n",
        "        self.decoder_layers = nn.ModuleList([\n",
        "            nn.TransformerDecoderLayer(d_model, num_heads, d_ff, dropout, batch_first=True)\n",
        "            for _ in range(num_layers)\n",
        "        ])\n",
        "\n",
        "        self.fc = nn.Linear(d_model, tgt_vocab_size)\n",
        "        self.dropout = nn.Dropout(dropout)\n",
        "        self.max_seq_length = max_seq_length\n",
        "\n",
        "    def forward(self, src, tgt):\n",
        "        # Create masks\n",
        "        src_mask = (src == 0)\n",
        "        tgt_mask = nn.Transformer.generate_square_subsequent_mask(tgt.size(1)).to(device)\n",
        "\n",
        "        # Embed and add positional encoding\n",
        "        src_pos = torch.arange(0, src.size(1), device=device).unsqueeze(0)\n",
        "        tgt_pos = torch.arange(0, tgt.size(1), device=device).unsqueeze(0)\n",
        "\n",
        "        src_embedded = self.dropout(self.encoder_embedding(src) + self.encoder_pos(src_pos))\n",
        "        tgt_embedded = self.dropout(self.decoder_embedding(tgt) + self.decoder_pos(tgt_pos))\n",
        "\n",
        "        # Encoder\n",
        "        memory = src_embedded\n",
        "        for layer in self.encoder_layers:\n",
        "            memory = layer(memory, src_key_padding_mask=src_mask)\n",
        "\n",
        "        # Decoder\n",
        "        output = tgt_embedded\n",
        "        for layer in self.decoder_layers:\n",
        "            output = layer(output, memory, tgt_mask=tgt_mask, memory_key_padding_mask=src_mask)\n",
        "\n",
        "        return self.fc(output)\n",
        "\n",
        "# Training and Evaluation Functions (similar to your original)\n",
        "def train_epoch(model, train_loader, optimizer, criterion, device):\n",
        "    model.train()\n",
        "    total_loss = 0\n",
        "    for src, tgt in tqdm(train_loader, desc=\"Training\"):\n",
        "        src, tgt = src.to(device), tgt.to(device)\n",
        "        optimizer.zero_grad()\n",
        "        output = model(src, tgt[:, :-1])\n",
        "        loss = criterion(output.contiguous().view(-1, output.size(-1)),\n",
        "                        tgt[:, 1:].contiguous().view(-1))\n",
        "        loss.backward()\n",
        "        torch.nn.utils.clip_grad_norm_(model.parameters(), max_norm=1.0)\n",
        "        optimizer.step()\n",
        "        total_loss += loss.item()\n",
        "    return total_loss / len(train_loader)\n",
        "\n",
        "def evaluate(model, val_loader, criterion, device):\n",
        "    model.eval()\n",
        "    total_loss = 0\n",
        "    with torch.no_grad():\n",
        "        for src, tgt in tqdm(val_loader, desc=\"Evaluating\"):\n",
        "            src, tgt = src.to(device), tgt.to(device)\n",
        "            output = model(src, tgt[:, :-1])\n",
        "            loss = criterion(output.contiguous().view(-1, output.size(-1)),\n",
        "                            tgt[:, 1:].contiguous().view(-1))\n",
        "            total_loss += loss.item()\n",
        "    return total_loss / len(val_loader)\n",
        "\n",
        "def calculate_accuracy(model, data_loader, vocab, device):\n",
        "    model.eval()\n",
        "    correct = 0\n",
        "    total = 0\n",
        "    with torch.no_grad():\n",
        "        for src, tgt in data_loader:\n",
        "            src, tgt = src.to(device), tgt.to(device)\n",
        "            output = model(src, tgt[:, :-1])\n",
        "            predictions = output.argmax(dim=-1)\n",
        "            correct += ((predictions == tgt[:, 1:]) & (tgt[:, 1:] != vocab.pad_token)).sum().item()\n",
        "            total += (tgt[:, 1:] != vocab.pad_token).sum().item()\n",
        "    return correct / total if total > 0 else 0\n",
        "\n",
        "def train_model(model, train_loader, val_loader, optimizer, criterion, scheduler, device, epochs, patience=3):\n",
        "    best_val_loss = float('inf')\n",
        "    epochs_no_improve = 0\n",
        "    best_model = None\n",
        "\n",
        "    for epoch in range(epochs):\n",
        "        train_loss = train_epoch(model, train_loader, optimizer, criterion, device)\n",
        "        val_loss = evaluate(model, val_loader, criterion, device)\n",
        "        scheduler.step(val_loss)\n",
        "\n",
        "        print(f\"Epoch {epoch+1}/{epochs}:\")\n",
        "        print(f\"Train Loss: {train_loss:.4f} | Val Loss: {val_loss:.4f}\")\n",
        "\n",
        "        if val_loss < best_val_loss:\n",
        "            best_val_loss = val_loss\n",
        "            epochs_no_improve = 0\n",
        "            best_model = copy.deepcopy(model.state_dict())\n",
        "        else:\n",
        "            epochs_no_improve += 1\n",
        "            if epochs_no_improve == patience:\n",
        "                print(\"Early stopping triggered!\")\n",
        "                break\n",
        "\n",
        "    if best_model is not None:\n",
        "        model.load_state_dict(best_model)\n",
        "    return best_val_loss\n",
        "\n",
        "# Decryption Function\n",
        "def decrypt_text(model, text, vocab, max_length, device):\n",
        "    model.eval()\n",
        "    with torch.no_grad():\n",
        "        encoded = [vocab.sos_token] + vocab.encode(str(text)) + [vocab.eos_token]\n",
        "        encoded = encoded + [vocab.pad_token] * (max_length - len(encoded))\n",
        "        encoded = torch.tensor(encoded[:max_length]).unsqueeze(0).to(device)\n",
        "\n",
        "        target = torch.tensor([[vocab.sos_token]]).to(device)\n",
        "\n",
        "        for _ in range(max_length - 1):\n",
        "            output = model(encoded, target)\n",
        "            next_token = output.argmax(2)[:, -1].item()\n",
        "            if next_token == vocab.eos_token:\n",
        "                break\n",
        "            target = torch.cat([target, torch.tensor([[next_token]]).to(device)], dim=1)\n",
        "\n",
        "        decrypted = vocab.decode(target[0].cpu().numpy())\n",
        "        return decrypted\n",
        "\n",
        "# Global variables for Optuna\n",
        "best_overall_model = None\n",
        "best_overall_loss = float('inf')\n",
        "best_config = None\n",
        "\n",
        "# Optuna Objective Function\n",
        "def objective(trial):\n",
        "    global best_overall_model, best_overall_loss, best_config\n",
        "\n",
        "    config = {\n",
        "        \"d_model\": trial.suggest_categorical(\"d_model\", [64, 128, 256]),\n",
        "        \"num_heads\": trial.suggest_categorical(\"num_heads\", [4, 8]),\n",
        "        \"num_layers\": trial.suggest_categorical(\"num_layers\", [2, 4, 6]),\n",
        "        \"d_ff\": trial.suggest_categorical(\"d_ff\", [128, 256, 512]),\n",
        "        \"dropout\": trial.suggest_float(\"dropout\", 0.1, 0.3),\n",
        "        \"learning_rate\": trial.suggest_float(\"learning_rate\", 1e-4, 1e-3, log=True),\n",
        "        \"batch_size\": trial.suggest_categorical(\"batch_size\", [32, 64]),\n",
        "    }\n",
        "\n",
        "    # Create data loaders with current batch size\n",
        "    train_loader = data.DataLoader(train_dataset, batch_size=config[\"batch_size\"], shuffle=True)\n",
        "    val_loader = data.DataLoader(val_dataset, batch_size=config[\"batch_size\"])\n",
        "\n",
        "    # Initialize model\n",
        "    model = CaesarTransformer(\n",
        "        src_vocab_size=len(vocab),\n",
        "        tgt_vocab_size=len(vocab),\n",
        "        d_model=config[\"d_model\"],\n",
        "        num_heads=config[\"num_heads\"],\n",
        "        num_layers=config[\"num_layers\"],\n",
        "        d_ff=config[\"d_ff\"],\n",
        "        max_seq_length=max_length,\n",
        "        dropout=config[\"dropout\"]\n",
        "    ).to(device)\n",
        "\n",
        "    optimizer = optim.Adam(model.parameters(), lr=config[\"learning_rate\"])\n",
        "    criterion = nn.CrossEntropyLoss(ignore_index=vocab.pad_token)\n",
        "    scheduler = optim.lr_scheduler.ReduceLROnPlateau(optimizer, patience=2)\n",
        "\n",
        "    # Train and get best validation loss\n",
        "    current_val_loss = train_model(model, train_loader, val_loader, optimizer, criterion, scheduler, device, epochs=10)\n",
        "\n",
        "    # Update overall best model if this one is better\n",
        "    if current_val_loss < best_overall_loss:\n",
        "        best_overall_loss = current_val_loss\n",
        "        best_overall_model = copy.deepcopy(model.state_dict())\n",
        "        best_config = config\n",
        "        torch.save(best_overall_model, 'best_caesar_model.pth')\n",
        "        print(f\"New best model found! Val Loss: {current_val_loss:.4f}\")\n",
        "        print(f\"Config: {config}\")\n",
        "\n",
        "    return current_val_loss\n",
        "\n",
        "# Main Execution\n",
        "if __name__ == \"__main__\":\n",
        "    # Load and prepare data\n",
        "    inputs, outputs = load_data('training_newshift_1.csv')\n",
        "    vocab = Vocabulary()\n",
        "    max_length = 256\n",
        "\n",
        "    # Split data\n",
        "    train_inputs, val_inputs, train_outputs, val_outputs = train_test_split(\n",
        "        inputs, outputs, test_size=0.2, random_state=42\n",
        "    )\n",
        "\n",
        "    # Create datasets\n",
        "    train_dataset = CipherDataset(train_inputs, train_outputs, vocab, max_length)\n",
        "    val_dataset = CipherDataset(val_inputs, val_outputs, vocab, max_length)\n",
        "\n",
        "    # Run hyperparameter optimization\n",
        "    study = optuna.create_study(direction=\"minimize\")\n",
        "    study.optimize(objective, n_trials=20)  # 20 trials\n",
        "\n",
        "    print(\"\\nBest trial:\")\n",
        "    trial = study.best_trial\n",
        "    print(f\"  Validation Loss: {trial.value:.4f}\")\n",
        "    print(\"  Params: \")\n",
        "    for key, value in trial.params.items():\n",
        "        print(f\"    {key}: {value}\")\n",
        "\n",
        "    # Load the best model found during the search\n",
        "    final_model = CaesarTransformer(\n",
        "        src_vocab_size=len(vocab),\n",
        "        tgt_vocab_size=len(vocab),\n",
        "        d_model=best_config[\"d_model\"],\n",
        "        num_heads=best_config[\"num_heads\"],\n",
        "        num_layers=best_config[\"num_layers\"],\n",
        "        d_ff=best_config[\"d_ff\"],\n",
        "        max_seq_length=max_length,\n",
        "        dropout=best_config[\"dropout\"]\n",
        "    ).to(device)\n",
        "    final_model.load_state_dict(torch.load('best_caesar_model.pth'))\n",
        "\n",
        "    # Evaluate\n",
        "    full_train_loader = data.DataLoader(train_dataset, batch_size=best_config[\"batch_size\"], shuffle=False)\n",
        "    full_val_loader = data.DataLoader(val_dataset, batch_size=best_config[\"batch_size\"], shuffle=False)\n",
        "\n",
        "    criterion = nn.CrossEntropyLoss(ignore_index=vocab.pad_token)\n",
        "\n",
        "    train_loss = evaluate(final_model, full_train_loader, criterion, device)\n",
        "    val_loss = evaluate(final_model, full_val_loader, criterion, device)\n",
        "\n",
        "    train_acc = calculate_accuracy(final_model, full_train_loader, vocab, device)\n",
        "    val_acc = calculate_accuracy(final_model, full_val_loader, vocab, device)\n",
        "\n",
        "    print(\"\\nFinal Evaluation:\")\n",
        "    print(f\"Train Loss: {train_loss:.4f} | Val Loss: {val_loss:.4f}\")\n",
        "    print(f\"Train Accuracy: {train_acc:.4f} | Val Accuracy: {val_acc:.4f}\")\n",
        "\n",
        "    # Test decryption\n",
        "    test_cases = [\n",
        "        (\"Please decrypt the following using Caesar cipher: gfbs\", \"fear\"),\n",
        "        (\"Please decrypt the following using Caesar cipher: dpnqvufs\", \"computer\"),\n",
        "        (\"Please decrypt the following using Caesar cipher: xibu\", \"what\"),\n",
        "        (\"Please decrypt the following using Caesar cipher: ifmmp\", \"hello\"),\n",
        "        (\"Please decrypt the following using Caesar cipher: uijt\", \"this\")\n",
        "    ]\n",
        "\n",
        "    print(\"\\nTest Decryptions:\")\n",
        "    for encrypted, expected in test_cases:\n",
        "        decrypted = decrypt_text(final_model, encrypted, vocab, max_length, device)\n",
        "        print(f\"Input: '{encrypted}' | Output: '{decrypted}' | Expected: '{expected}' | {'✓' if decrypted == expected else '✗'}\")"
      ]
    }
  ]
}