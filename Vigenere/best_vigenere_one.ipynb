{
  "nbformat": 4,
  "nbformat_minor": 0,
  "metadata": {
    "colab": {
      "provenance": [],
      "machine_shape": "hm",
      "gpuType": "A100"
    },
    "kernelspec": {
      "name": "python3",
      "display_name": "Python 3"
    },
    "language_info": {
      "name": "python"
    },
    "accelerator": "GPU"
  },
  "cells": [
    {
      "cell_type": "code",
      "source": [
        "!pip install optuna"
      ],
      "metadata": {
        "colab": {
          "base_uri": "https://localhost:8080/"
        },
        "id": "Gw4WMXJf4WAl",
        "outputId": "82228972-c074-4016-8770-e36f5dee6c85"
      },
      "execution_count": null,
      "outputs": [
        {
          "output_type": "stream",
          "name": "stdout",
          "text": [
            "Collecting optuna\n",
            "  Downloading optuna-4.3.0-py3-none-any.whl.metadata (17 kB)\n",
            "Collecting alembic>=1.5.0 (from optuna)\n",
            "  Downloading alembic-1.15.2-py3-none-any.whl.metadata (7.3 kB)\n",
            "Collecting colorlog (from optuna)\n",
            "  Downloading colorlog-6.9.0-py3-none-any.whl.metadata (10 kB)\n",
            "Requirement already satisfied: numpy in /usr/local/lib/python3.11/dist-packages (from optuna) (2.0.2)\n",
            "Requirement already satisfied: packaging>=20.0 in /usr/local/lib/python3.11/dist-packages (from optuna) (24.2)\n",
            "Requirement already satisfied: sqlalchemy>=1.4.2 in /usr/local/lib/python3.11/dist-packages (from optuna) (2.0.40)\n",
            "Requirement already satisfied: tqdm in /usr/local/lib/python3.11/dist-packages (from optuna) (4.67.1)\n",
            "Requirement already satisfied: PyYAML in /usr/local/lib/python3.11/dist-packages (from optuna) (6.0.2)\n",
            "Requirement already satisfied: Mako in /usr/lib/python3/dist-packages (from alembic>=1.5.0->optuna) (1.1.3)\n",
            "Requirement already satisfied: typing-extensions>=4.12 in /usr/local/lib/python3.11/dist-packages (from alembic>=1.5.0->optuna) (4.13.2)\n",
            "Requirement already satisfied: greenlet>=1 in /usr/local/lib/python3.11/dist-packages (from sqlalchemy>=1.4.2->optuna) (3.2.1)\n",
            "Downloading optuna-4.3.0-py3-none-any.whl (386 kB)\n",
            "\u001b[2K   \u001b[90m━━━━━━━━━━━━━━━━━━━━━━━━━━━━━━━━━━━━━━━━\u001b[0m \u001b[32m386.6/386.6 kB\u001b[0m \u001b[31m30.5 MB/s\u001b[0m eta \u001b[36m0:00:00\u001b[0m\n",
            "\u001b[?25hDownloading alembic-1.15.2-py3-none-any.whl (231 kB)\n",
            "\u001b[2K   \u001b[90m━━━━━━━━━━━━━━━━━━━━━━━━━━━━━━━━━━━━━━━━\u001b[0m \u001b[32m231.9/231.9 kB\u001b[0m \u001b[31m22.5 MB/s\u001b[0m eta \u001b[36m0:00:00\u001b[0m\n",
            "\u001b[?25hDownloading colorlog-6.9.0-py3-none-any.whl (11 kB)\n",
            "Installing collected packages: colorlog, alembic, optuna\n",
            "Successfully installed alembic-1.15.2 colorlog-6.9.0 optuna-4.3.0\n"
          ]
        }
      ]
    },
    {
      "cell_type": "code",
      "execution_count": null,
      "metadata": {
        "colab": {
          "base_uri": "https://localhost:8080/",
          "height": 1000
        },
        "id": "h6q05lxr2OlV",
        "outputId": "67c9ccbf-0451-4ebf-e1ff-54d87a70ef08"
      },
      "outputs": [
        {
          "output_type": "stream",
          "name": "stdout",
          "text": [
            "Using device: cuda\n"
          ]
        },
        {
          "output_type": "stream",
          "name": "stderr",
          "text": [
            "[I 2025-05-09 14:45:03,623] A new study created in memory with name: no-name-74add0c7-8c89-4e2e-936f-64365e594515\n",
            "Training: 100%|██████████| 63/63 [00:42<00:00,  1.49it/s]\n",
            "Evaluating: 100%|██████████| 16/16 [00:03<00:00,  4.51it/s]\n"
          ]
        },
        {
          "output_type": "stream",
          "name": "stdout",
          "text": [
            "Epoch 1/10:\n",
            "Train Loss: 3.1002 | Val Loss: 2.9798\n"
          ]
        },
        {
          "output_type": "stream",
          "name": "stderr",
          "text": [
            "Training: 100%|██████████| 63/63 [00:41<00:00,  1.51it/s]\n",
            "Evaluating: 100%|██████████| 16/16 [00:03<00:00,  4.52it/s]\n"
          ]
        },
        {
          "output_type": "stream",
          "name": "stdout",
          "text": [
            "Epoch 2/10:\n",
            "Train Loss: 2.9896 | Val Loss: 2.9869\n"
          ]
        },
        {
          "output_type": "stream",
          "name": "stderr",
          "text": [
            "Training: 100%|██████████| 63/63 [00:41<00:00,  1.51it/s]\n",
            "Evaluating: 100%|██████████| 16/16 [00:03<00:00,  4.47it/s]\n"
          ]
        },
        {
          "output_type": "stream",
          "name": "stdout",
          "text": [
            "Epoch 3/10:\n",
            "Train Loss: 2.9840 | Val Loss: 2.9770\n"
          ]
        },
        {
          "output_type": "stream",
          "name": "stderr",
          "text": [
            "Training: 100%|██████████| 63/63 [00:41<00:00,  1.50it/s]\n",
            "Evaluating: 100%|██████████| 16/16 [00:03<00:00,  4.46it/s]\n"
          ]
        },
        {
          "output_type": "stream",
          "name": "stdout",
          "text": [
            "Epoch 4/10:\n",
            "Train Loss: 2.9796 | Val Loss: 2.9784\n"
          ]
        },
        {
          "output_type": "stream",
          "name": "stderr",
          "text": [
            "Training: 100%|██████████| 63/63 [00:41<00:00,  1.50it/s]\n",
            "Evaluating: 100%|██████████| 16/16 [00:03<00:00,  4.47it/s]\n"
          ]
        },
        {
          "output_type": "stream",
          "name": "stdout",
          "text": [
            "Epoch 5/10:\n",
            "Train Loss: 2.9760 | Val Loss: 3.0357\n"
          ]
        },
        {
          "output_type": "stream",
          "name": "stderr",
          "text": [
            "Training: 100%|██████████| 63/63 [00:41<00:00,  1.50it/s]\n",
            "Evaluating: 100%|██████████| 16/16 [00:03<00:00,  4.51it/s]\n"
          ]
        },
        {
          "output_type": "stream",
          "name": "stdout",
          "text": [
            "Epoch 6/10:\n",
            "Train Loss: 2.9731 | Val Loss: 3.1766\n",
            "Early stopping triggered!\n"
          ]
        },
        {
          "output_type": "stream",
          "name": "stderr",
          "text": [
            "[I 2025-05-09 14:49:39,079] Trial 0 finished with value: 2.976990729570389 and parameters: {'d_model': 512, 'num_heads': 2, 'num_layers': 8, 'd_ff': 1024, 'dropout': 0.13409674473584066, 'learning_rate': 0.0019444283106789706, 'batch_size': 128}. Best is trial 0 with value: 2.976990729570389.\n"
          ]
        },
        {
          "output_type": "stream",
          "name": "stdout",
          "text": [
            "New best model found! Val Loss: 2.9770\n",
            "Config: {'d_model': 512, 'num_heads': 2, 'num_layers': 8, 'd_ff': 1024, 'dropout': 0.13409674473584066, 'learning_rate': 0.0019444283106789706, 'batch_size': 128}\n"
          ]
        },
        {
          "output_type": "stream",
          "name": "stderr",
          "text": [
            "Training: 100%|██████████| 63/63 [00:13<00:00,  4.51it/s]\n",
            "Evaluating: 100%|██████████| 16/16 [00:01<00:00, 11.32it/s]\n"
          ]
        },
        {
          "output_type": "stream",
          "name": "stdout",
          "text": [
            "Epoch 1/10:\n",
            "Train Loss: 2.9631 | Val Loss: 2.3783\n"
          ]
        },
        {
          "output_type": "stream",
          "name": "stderr",
          "text": [
            "Training: 100%|██████████| 63/63 [00:13<00:00,  4.52it/s]\n",
            "Evaluating: 100%|██████████| 16/16 [00:01<00:00, 11.27it/s]\n"
          ]
        },
        {
          "output_type": "stream",
          "name": "stdout",
          "text": [
            "Epoch 2/10:\n",
            "Train Loss: 2.3117 | Val Loss: 2.1917\n"
          ]
        },
        {
          "output_type": "stream",
          "name": "stderr",
          "text": [
            "Training: 100%|██████████| 63/63 [00:13<00:00,  4.52it/s]\n",
            "Evaluating: 100%|██████████| 16/16 [00:01<00:00, 11.33it/s]\n"
          ]
        },
        {
          "output_type": "stream",
          "name": "stdout",
          "text": [
            "Epoch 3/10:\n",
            "Train Loss: 2.1755 | Val Loss: 2.0764\n"
          ]
        },
        {
          "output_type": "stream",
          "name": "stderr",
          "text": [
            "Training: 100%|██████████| 63/63 [00:13<00:00,  4.53it/s]\n",
            "Evaluating: 100%|██████████| 16/16 [00:01<00:00, 11.26it/s]\n"
          ]
        },
        {
          "output_type": "stream",
          "name": "stdout",
          "text": [
            "Epoch 4/10:\n",
            "Train Loss: 2.0862 | Val Loss: 1.9857\n"
          ]
        },
        {
          "output_type": "stream",
          "name": "stderr",
          "text": [
            "Training: 100%|██████████| 63/63 [00:13<00:00,  4.51it/s]\n",
            "Evaluating: 100%|██████████| 16/16 [00:01<00:00, 11.32it/s]\n"
          ]
        },
        {
          "output_type": "stream",
          "name": "stdout",
          "text": [
            "Epoch 5/10:\n",
            "Train Loss: 2.0164 | Val Loss: 1.9779\n"
          ]
        },
        {
          "output_type": "stream",
          "name": "stderr",
          "text": [
            "Training: 100%|██████████| 63/63 [00:13<00:00,  4.53it/s]\n",
            "Evaluating: 100%|██████████| 16/16 [00:01<00:00, 11.28it/s]\n"
          ]
        },
        {
          "output_type": "stream",
          "name": "stdout",
          "text": [
            "Epoch 6/10:\n",
            "Train Loss: 1.9538 | Val Loss: 1.8451\n"
          ]
        },
        {
          "output_type": "stream",
          "name": "stderr",
          "text": [
            "Training: 100%|██████████| 63/63 [00:13<00:00,  4.53it/s]\n",
            "Evaluating: 100%|██████████| 16/16 [00:01<00:00, 11.35it/s]\n"
          ]
        },
        {
          "output_type": "stream",
          "name": "stdout",
          "text": [
            "Epoch 7/10:\n",
            "Train Loss: 1.8812 | Val Loss: 1.8137\n"
          ]
        },
        {
          "output_type": "stream",
          "name": "stderr",
          "text": [
            "Training: 100%|██████████| 63/63 [00:13<00:00,  4.53it/s]\n",
            "Evaluating: 100%|██████████| 16/16 [00:01<00:00, 11.35it/s]\n"
          ]
        },
        {
          "output_type": "stream",
          "name": "stdout",
          "text": [
            "Epoch 8/10:\n",
            "Train Loss: 1.8072 | Val Loss: 1.6728\n"
          ]
        },
        {
          "output_type": "stream",
          "name": "stderr",
          "text": [
            "Training: 100%|██████████| 63/63 [00:13<00:00,  4.53it/s]\n",
            "Evaluating: 100%|██████████| 16/16 [00:01<00:00, 10.83it/s]\n"
          ]
        },
        {
          "output_type": "stream",
          "name": "stdout",
          "text": [
            "Epoch 9/10:\n",
            "Train Loss: 1.7283 | Val Loss: 1.6239\n"
          ]
        },
        {
          "output_type": "stream",
          "name": "stderr",
          "text": [
            "Training: 100%|██████████| 63/63 [00:13<00:00,  4.51it/s]\n",
            "Evaluating: 100%|██████████| 16/16 [00:01<00:00, 11.33it/s]\n",
            "[I 2025-05-09 14:52:12,908] Trial 1 finished with value: 1.6239424496889114 and parameters: {'d_model': 128, 'num_heads': 2, 'num_layers': 12, 'd_ff': 256, 'dropout': 0.2895921460792136, 'learning_rate': 0.0004207319115056254, 'batch_size': 128}. Best is trial 1 with value: 1.6239424496889114.\n"
          ]
        },
        {
          "output_type": "stream",
          "name": "stdout",
          "text": [
            "Epoch 10/10:\n",
            "Train Loss: 1.6662 | Val Loss: 1.6276\n",
            "New best model found! Val Loss: 1.6239\n",
            "Config: {'d_model': 128, 'num_heads': 2, 'num_layers': 12, 'd_ff': 256, 'dropout': 0.2895921460792136, 'learning_rate': 0.0004207319115056254, 'batch_size': 128}\n"
          ]
        },
        {
          "output_type": "stream",
          "name": "stderr",
          "text": [
            "Training: 100%|██████████| 63/63 [00:11<00:00,  5.30it/s]\n",
            "Evaluating: 100%|██████████| 16/16 [00:01<00:00, 13.65it/s]\n"
          ]
        },
        {
          "output_type": "stream",
          "name": "stdout",
          "text": [
            "Epoch 1/10:\n",
            "Train Loss: 2.7383 | Val Loss: 2.2860\n"
          ]
        },
        {
          "output_type": "stream",
          "name": "stderr",
          "text": [
            "Training: 100%|██████████| 63/63 [00:11<00:00,  5.37it/s]\n",
            "Evaluating: 100%|██████████| 16/16 [00:01<00:00, 13.85it/s]\n"
          ]
        },
        {
          "output_type": "stream",
          "name": "stdout",
          "text": [
            "Epoch 2/10:\n",
            "Train Loss: 2.2137 | Val Loss: 2.0875\n"
          ]
        },
        {
          "output_type": "stream",
          "name": "stderr",
          "text": [
            "Training: 100%|██████████| 63/63 [00:11<00:00,  5.36it/s]\n",
            "Evaluating: 100%|██████████| 16/16 [00:01<00:00, 13.85it/s]\n"
          ]
        },
        {
          "output_type": "stream",
          "name": "stdout",
          "text": [
            "Epoch 3/10:\n",
            "Train Loss: 2.0620 | Val Loss: 1.9670\n"
          ]
        },
        {
          "output_type": "stream",
          "name": "stderr",
          "text": [
            "Training: 100%|██████████| 63/63 [00:11<00:00,  5.36it/s]\n",
            "Evaluating: 100%|██████████| 16/16 [00:01<00:00, 13.73it/s]\n"
          ]
        },
        {
          "output_type": "stream",
          "name": "stdout",
          "text": [
            "Epoch 4/10:\n",
            "Train Loss: 1.9556 | Val Loss: 1.8611\n"
          ]
        },
        {
          "output_type": "stream",
          "name": "stderr",
          "text": [
            "Training: 100%|██████████| 63/63 [00:11<00:00,  5.32it/s]\n",
            "Evaluating: 100%|██████████| 16/16 [00:01<00:00, 13.77it/s]\n"
          ]
        },
        {
          "output_type": "stream",
          "name": "stdout",
          "text": [
            "Epoch 5/10:\n",
            "Train Loss: 1.8511 | Val Loss: 1.7554\n"
          ]
        },
        {
          "output_type": "stream",
          "name": "stderr",
          "text": [
            "Training: 100%|██████████| 63/63 [00:11<00:00,  5.35it/s]\n",
            "Evaluating: 100%|██████████| 16/16 [00:01<00:00, 13.85it/s]\n"
          ]
        },
        {
          "output_type": "stream",
          "name": "stdout",
          "text": [
            "Epoch 6/10:\n",
            "Train Loss: 1.7753 | Val Loss: 1.7067\n"
          ]
        },
        {
          "output_type": "stream",
          "name": "stderr",
          "text": [
            "Training: 100%|██████████| 63/63 [00:11<00:00,  5.27it/s]\n",
            "Evaluating: 100%|██████████| 16/16 [00:01<00:00, 13.87it/s]\n"
          ]
        },
        {
          "output_type": "stream",
          "name": "stdout",
          "text": [
            "Epoch 7/10:\n",
            "Train Loss: 1.7313 | Val Loss: 1.6664\n"
          ]
        },
        {
          "output_type": "stream",
          "name": "stderr",
          "text": [
            "Training: 100%|██████████| 63/63 [00:11<00:00,  5.36it/s]\n",
            "Evaluating: 100%|██████████| 16/16 [00:01<00:00, 13.85it/s]\n"
          ]
        },
        {
          "output_type": "stream",
          "name": "stdout",
          "text": [
            "Epoch 8/10:\n",
            "Train Loss: 1.6778 | Val Loss: 1.6236\n"
          ]
        },
        {
          "output_type": "stream",
          "name": "stderr",
          "text": [
            "Training: 100%|██████████| 63/63 [00:11<00:00,  5.36it/s]\n",
            "Evaluating: 100%|██████████| 16/16 [00:01<00:00, 13.81it/s]\n"
          ]
        },
        {
          "output_type": "stream",
          "name": "stdout",
          "text": [
            "Epoch 9/10:\n",
            "Train Loss: 1.6394 | Val Loss: 1.6000\n"
          ]
        },
        {
          "output_type": "stream",
          "name": "stderr",
          "text": [
            "Training: 100%|██████████| 63/63 [00:11<00:00,  5.34it/s]\n",
            "Evaluating: 100%|██████████| 16/16 [00:01<00:00, 13.60it/s]\n",
            "[I 2025-05-09 14:54:22,753] Trial 2 finished with value: 1.5758815258741379 and parameters: {'d_model': 128, 'num_heads': 4, 'num_layers': 6, 'd_ff': 1024, 'dropout': 0.23699861617761311, 'learning_rate': 0.0010433207939383284, 'batch_size': 128}. Best is trial 2 with value: 1.5758815258741379.\n"
          ]
        },
        {
          "output_type": "stream",
          "name": "stdout",
          "text": [
            "Epoch 10/10:\n",
            "Train Loss: 1.6048 | Val Loss: 1.5759\n",
            "New best model found! Val Loss: 1.5759\n",
            "Config: {'d_model': 128, 'num_heads': 4, 'num_layers': 6, 'd_ff': 1024, 'dropout': 0.23699861617761311, 'learning_rate': 0.0010433207939383284, 'batch_size': 128}\n"
          ]
        },
        {
          "output_type": "stream",
          "name": "stderr",
          "text": [
            "Training: 100%|██████████| 63/63 [00:41<00:00,  1.52it/s]\n",
            "Evaluating: 100%|██████████| 16/16 [00:03<00:00,  4.49it/s]\n"
          ]
        },
        {
          "output_type": "stream",
          "name": "stdout",
          "text": [
            "Epoch 1/10:\n",
            "Train Loss: 3.2106 | Val Loss: 2.9984\n"
          ]
        },
        {
          "output_type": "stream",
          "name": "stderr",
          "text": [
            "Training: 100%|██████████| 63/63 [00:41<00:00,  1.53it/s]\n",
            "Evaluating: 100%|██████████| 16/16 [00:03<00:00,  4.49it/s]\n"
          ]
        },
        {
          "output_type": "stream",
          "name": "stdout",
          "text": [
            "Epoch 2/10:\n",
            "Train Loss: 2.9887 | Val Loss: 2.9849\n"
          ]
        },
        {
          "output_type": "stream",
          "name": "stderr",
          "text": [
            "Training: 100%|██████████| 63/63 [00:41<00:00,  1.52it/s]\n",
            "Evaluating: 100%|██████████| 16/16 [00:03<00:00,  4.50it/s]\n"
          ]
        },
        {
          "output_type": "stream",
          "name": "stdout",
          "text": [
            "Epoch 3/10:\n",
            "Train Loss: 2.9797 | Val Loss: 2.9871\n"
          ]
        },
        {
          "output_type": "stream",
          "name": "stderr",
          "text": [
            "Training: 100%|██████████| 63/63 [00:41<00:00,  1.52it/s]\n",
            "Evaluating: 100%|██████████| 16/16 [00:03<00:00,  4.49it/s]\n"
          ]
        },
        {
          "output_type": "stream",
          "name": "stdout",
          "text": [
            "Epoch 4/10:\n",
            "Train Loss: 2.9785 | Val Loss: 2.9808\n"
          ]
        },
        {
          "output_type": "stream",
          "name": "stderr",
          "text": [
            "Training: 100%|██████████| 63/63 [00:41<00:00,  1.52it/s]\n",
            "Evaluating: 100%|██████████| 16/16 [00:03<00:00,  4.49it/s]\n"
          ]
        },
        {
          "output_type": "stream",
          "name": "stdout",
          "text": [
            "Epoch 5/10:\n",
            "Train Loss: 2.9776 | Val Loss: 2.9845\n"
          ]
        },
        {
          "output_type": "stream",
          "name": "stderr",
          "text": [
            "Training: 100%|██████████| 63/63 [00:41<00:00,  1.53it/s]\n",
            "Evaluating: 100%|██████████| 16/16 [00:03<00:00,  4.50it/s]\n"
          ]
        },
        {
          "output_type": "stream",
          "name": "stdout",
          "text": [
            "Epoch 6/10:\n",
            "Train Loss: 2.9777 | Val Loss: 2.9822\n"
          ]
        },
        {
          "output_type": "stream",
          "name": "stderr",
          "text": [
            "Training: 100%|██████████| 63/63 [00:41<00:00,  1.52it/s]\n",
            "Evaluating: 100%|██████████| 16/16 [00:03<00:00,  4.49it/s]\n",
            "[I 2025-05-09 14:59:37,408] Trial 3 finished with value: 2.980793222784996 and parameters: {'d_model': 512, 'num_heads': 16, 'num_layers': 6, 'd_ff': 512, 'dropout': 0.1842968883720874, 'learning_rate': 0.009612120728211737, 'batch_size': 128}. Best is trial 2 with value: 1.5758815258741379.\n"
          ]
        },
        {
          "output_type": "stream",
          "name": "stdout",
          "text": [
            "Epoch 7/10:\n",
            "Train Loss: 2.9768 | Val Loss: 2.9886\n",
            "Early stopping triggered!\n"
          ]
        },
        {
          "output_type": "stream",
          "name": "stderr",
          "text": [
            "Training: 100%|██████████| 63/63 [00:53<00:00,  1.18it/s]\n",
            "Evaluating: 100%|██████████| 16/16 [00:04<00:00,  3.50it/s]\n"
          ]
        },
        {
          "output_type": "stream",
          "name": "stdout",
          "text": [
            "Epoch 1/10:\n",
            "Train Loss: 3.0984 | Val Loss: 2.9777\n"
          ]
        },
        {
          "output_type": "stream",
          "name": "stderr",
          "text": [
            "Training: 100%|██████████| 63/63 [00:53<00:00,  1.18it/s]\n",
            "Evaluating: 100%|██████████| 16/16 [00:04<00:00,  3.51it/s]\n"
          ]
        },
        {
          "output_type": "stream",
          "name": "stdout",
          "text": [
            "Epoch 2/10:\n",
            "Train Loss: 2.9895 | Val Loss: 2.9795\n"
          ]
        },
        {
          "output_type": "stream",
          "name": "stderr",
          "text": [
            "Training: 100%|██████████| 63/63 [00:53<00:00,  1.18it/s]\n",
            "Evaluating: 100%|██████████| 16/16 [00:04<00:00,  3.51it/s]\n"
          ]
        },
        {
          "output_type": "stream",
          "name": "stdout",
          "text": [
            "Epoch 3/10:\n",
            "Train Loss: 2.9859 | Val Loss: 2.9809\n"
          ]
        },
        {
          "output_type": "stream",
          "name": "stderr",
          "text": [
            "Training: 100%|██████████| 63/63 [00:53<00:00,  1.18it/s]\n",
            "Evaluating: 100%|██████████| 16/16 [00:04<00:00,  3.51it/s]\n"
          ]
        },
        {
          "output_type": "stream",
          "name": "stdout",
          "text": [
            "Epoch 4/10:\n",
            "Train Loss: 2.9822 | Val Loss: 2.9758\n"
          ]
        },
        {
          "output_type": "stream",
          "name": "stderr",
          "text": [
            "Training: 100%|██████████| 63/63 [00:53<00:00,  1.18it/s]\n",
            "Evaluating: 100%|██████████| 16/16 [00:04<00:00,  3.48it/s]\n"
          ]
        },
        {
          "output_type": "stream",
          "name": "stdout",
          "text": [
            "Epoch 5/10:\n",
            "Train Loss: 2.9622 | Val Loss: 4.3086\n"
          ]
        },
        {
          "output_type": "stream",
          "name": "stderr",
          "text": [
            "Training: 100%|██████████| 63/63 [00:53<00:00,  1.18it/s]\n",
            "Evaluating: 100%|██████████| 16/16 [00:04<00:00,  3.51it/s]\n"
          ]
        },
        {
          "output_type": "stream",
          "name": "stdout",
          "text": [
            "Epoch 6/10:\n",
            "Train Loss: 2.9317 | Val Loss: 3.8876\n"
          ]
        },
        {
          "output_type": "stream",
          "name": "stderr",
          "text": [
            "Training: 100%|██████████| 63/63 [00:53<00:00,  1.18it/s]\n",
            "Evaluating: 100%|██████████| 16/16 [00:04<00:00,  3.51it/s]\n",
            "[I 2025-05-09 15:06:24,692] Trial 4 finished with value: 2.9758480489254 and parameters: {'d_model': 512, 'num_heads': 8, 'num_layers': 10, 'd_ff': 512, 'dropout': 0.18136720471024553, 'learning_rate': 0.001008286123493498, 'batch_size': 128}. Best is trial 2 with value: 1.5758815258741379.\n"
          ]
        },
        {
          "output_type": "stream",
          "name": "stdout",
          "text": [
            "Epoch 7/10:\n",
            "Train Loss: 2.9155 | Val Loss: 3.8941\n",
            "Early stopping triggered!\n"
          ]
        },
        {
          "output_type": "stream",
          "name": "stderr",
          "text": [
            "Training: 100%|██████████| 63/63 [00:12<00:00,  4.86it/s]\n",
            "Evaluating: 100%|██████████| 16/16 [00:01<00:00, 12.27it/s]\n"
          ]
        },
        {
          "output_type": "stream",
          "name": "stdout",
          "text": [
            "Epoch 1/10:\n",
            "Train Loss: 3.2949 | Val Loss: 2.7086\n"
          ]
        },
        {
          "output_type": "stream",
          "name": "stderr",
          "text": [
            "Training: 100%|██████████| 63/63 [00:12<00:00,  4.89it/s]\n",
            "Evaluating: 100%|██████████| 16/16 [00:01<00:00, 12.20it/s]\n"
          ]
        },
        {
          "output_type": "stream",
          "name": "stdout",
          "text": [
            "Epoch 2/10:\n",
            "Train Loss: 2.6138 | Val Loss: 2.4275\n"
          ]
        },
        {
          "output_type": "stream",
          "name": "stderr",
          "text": [
            "Training: 100%|██████████| 63/63 [00:13<00:00,  4.84it/s]\n",
            "Evaluating: 100%|██████████| 16/16 [00:01<00:00, 11.91it/s]\n"
          ]
        },
        {
          "output_type": "stream",
          "name": "stdout",
          "text": [
            "Epoch 3/10:\n",
            "Train Loss: 2.4130 | Val Loss: 2.3228\n"
          ]
        },
        {
          "output_type": "stream",
          "name": "stderr",
          "text": [
            "Training: 100%|██████████| 63/63 [00:13<00:00,  4.81it/s]\n",
            "Evaluating: 100%|██████████| 16/16 [00:01<00:00, 12.31it/s]\n"
          ]
        },
        {
          "output_type": "stream",
          "name": "stdout",
          "text": [
            "Epoch 4/10:\n",
            "Train Loss: 2.3082 | Val Loss: 2.2268\n"
          ]
        },
        {
          "output_type": "stream",
          "name": "stderr",
          "text": [
            "Training: 100%|██████████| 63/63 [00:12<00:00,  4.89it/s]\n",
            "Evaluating: 100%|██████████| 16/16 [00:01<00:00, 12.31it/s]\n"
          ]
        },
        {
          "output_type": "stream",
          "name": "stdout",
          "text": [
            "Epoch 5/10:\n",
            "Train Loss: 2.2404 | Val Loss: 2.1684\n"
          ]
        },
        {
          "output_type": "stream",
          "name": "stderr",
          "text": [
            "Training: 100%|██████████| 63/63 [00:12<00:00,  4.89it/s]\n",
            "Evaluating: 100%|██████████| 16/16 [00:01<00:00, 12.25it/s]\n"
          ]
        },
        {
          "output_type": "stream",
          "name": "stdout",
          "text": [
            "Epoch 6/10:\n",
            "Train Loss: 2.1940 | Val Loss: 2.1392\n"
          ]
        },
        {
          "output_type": "stream",
          "name": "stderr",
          "text": [
            "Training: 100%|██████████| 63/63 [00:12<00:00,  4.89it/s]\n",
            "Evaluating: 100%|██████████| 16/16 [00:01<00:00, 12.20it/s]\n"
          ]
        },
        {
          "output_type": "stream",
          "name": "stdout",
          "text": [
            "Epoch 7/10:\n",
            "Train Loss: 2.1526 | Val Loss: 2.0905\n"
          ]
        },
        {
          "output_type": "stream",
          "name": "stderr",
          "text": [
            "Training: 100%|██████████| 63/63 [00:12<00:00,  4.88it/s]\n",
            "Evaluating: 100%|██████████| 16/16 [00:01<00:00, 12.28it/s]\n"
          ]
        },
        {
          "output_type": "stream",
          "name": "stdout",
          "text": [
            "Epoch 8/10:\n",
            "Train Loss: 2.1113 | Val Loss: 2.0566\n"
          ]
        },
        {
          "output_type": "stream",
          "name": "stderr",
          "text": [
            "Training: 100%|██████████| 63/63 [00:12<00:00,  4.87it/s]\n",
            "Evaluating: 100%|██████████| 16/16 [00:01<00:00, 12.29it/s]\n"
          ]
        },
        {
          "output_type": "stream",
          "name": "stdout",
          "text": [
            "Epoch 9/10:\n",
            "Train Loss: 2.0753 | Val Loss: 2.0028\n"
          ]
        },
        {
          "output_type": "stream",
          "name": "stderr",
          "text": [
            "Training: 100%|██████████| 63/63 [00:12<00:00,  4.87it/s]\n",
            "Evaluating: 100%|██████████| 16/16 [00:01<00:00, 12.30it/s]\n",
            "[I 2025-05-09 15:08:47,279] Trial 5 finished with value: 1.9614527598023415 and parameters: {'d_model': 128, 'num_heads': 2, 'num_layers': 10, 'd_ff': 512, 'dropout': 0.35595892124167827, 'learning_rate': 0.00011640559002518998, 'batch_size': 128}. Best is trial 2 with value: 1.5758815258741379.\n"
          ]
        },
        {
          "output_type": "stream",
          "name": "stdout",
          "text": [
            "Epoch 10/10:\n",
            "Train Loss: 2.0333 | Val Loss: 1.9615\n"
          ]
        },
        {
          "output_type": "stream",
          "name": "stderr",
          "text": [
            "Training: 100%|██████████| 63/63 [00:59<00:00,  1.05it/s]\n",
            "Evaluating: 100%|██████████| 16/16 [00:05<00:00,  3.15it/s]\n"
          ]
        },
        {
          "output_type": "stream",
          "name": "stdout",
          "text": [
            "Epoch 1/10:\n",
            "Train Loss: 2.9208 | Val Loss: 2.3631\n"
          ]
        },
        {
          "output_type": "stream",
          "name": "stderr",
          "text": [
            "Training: 100%|██████████| 63/63 [00:59<00:00,  1.05it/s]\n",
            "Evaluating: 100%|██████████| 16/16 [00:05<00:00,  3.14it/s]\n"
          ]
        },
        {
          "output_type": "stream",
          "name": "stdout",
          "text": [
            "Epoch 2/10:\n",
            "Train Loss: 2.2681 | Val Loss: 2.1188\n"
          ]
        },
        {
          "output_type": "stream",
          "name": "stderr",
          "text": [
            "Training: 100%|██████████| 63/63 [00:59<00:00,  1.05it/s]\n",
            "Evaluating: 100%|██████████| 16/16 [00:05<00:00,  3.15it/s]\n"
          ]
        },
        {
          "output_type": "stream",
          "name": "stdout",
          "text": [
            "Epoch 3/10:\n",
            "Train Loss: 2.1017 | Val Loss: 2.0147\n"
          ]
        },
        {
          "output_type": "stream",
          "name": "stderr",
          "text": [
            "Training: 100%|██████████| 63/63 [00:59<00:00,  1.05it/s]\n",
            "Evaluating: 100%|██████████| 16/16 [00:05<00:00,  3.15it/s]\n"
          ]
        },
        {
          "output_type": "stream",
          "name": "stdout",
          "text": [
            "Epoch 4/10:\n",
            "Train Loss: 1.9993 | Val Loss: 1.9022\n"
          ]
        },
        {
          "output_type": "stream",
          "name": "stderr",
          "text": [
            "Training: 100%|██████████| 63/63 [00:59<00:00,  1.06it/s]\n",
            "Evaluating: 100%|██████████| 16/16 [00:05<00:00,  3.15it/s]\n"
          ]
        },
        {
          "output_type": "stream",
          "name": "stdout",
          "text": [
            "Epoch 5/10:\n",
            "Train Loss: 1.8863 | Val Loss: 1.7813\n"
          ]
        },
        {
          "output_type": "stream",
          "name": "stderr",
          "text": [
            "Training: 100%|██████████| 63/63 [00:59<00:00,  1.05it/s]\n",
            "Evaluating: 100%|██████████| 16/16 [00:05<00:00,  3.15it/s]\n"
          ]
        },
        {
          "output_type": "stream",
          "name": "stdout",
          "text": [
            "Epoch 6/10:\n",
            "Train Loss: 1.7760 | Val Loss: 1.7357\n"
          ]
        },
        {
          "output_type": "stream",
          "name": "stderr",
          "text": [
            "Training: 100%|██████████| 63/63 [00:59<00:00,  1.05it/s]\n",
            "Evaluating: 100%|██████████| 16/16 [00:05<00:00,  3.14it/s]\n"
          ]
        },
        {
          "output_type": "stream",
          "name": "stdout",
          "text": [
            "Epoch 7/10:\n",
            "Train Loss: 1.6751 | Val Loss: 1.6320\n"
          ]
        },
        {
          "output_type": "stream",
          "name": "stderr",
          "text": [
            "Training: 100%|██████████| 63/63 [00:59<00:00,  1.05it/s]\n",
            "Evaluating: 100%|██████████| 16/16 [00:05<00:00,  3.15it/s]\n"
          ]
        },
        {
          "output_type": "stream",
          "name": "stdout",
          "text": [
            "Epoch 8/10:\n",
            "Train Loss: 1.5832 | Val Loss: 1.5209\n"
          ]
        },
        {
          "output_type": "stream",
          "name": "stderr",
          "text": [
            "Training: 100%|██████████| 63/63 [00:59<00:00,  1.06it/s]\n",
            "Evaluating: 100%|██████████| 16/16 [00:05<00:00,  3.15it/s]\n"
          ]
        },
        {
          "output_type": "stream",
          "name": "stdout",
          "text": [
            "Epoch 9/10:\n",
            "Train Loss: 1.4954 | Val Loss: 1.3962\n"
          ]
        },
        {
          "output_type": "stream",
          "name": "stderr",
          "text": [
            "Training: 100%|██████████| 63/63 [00:59<00:00,  1.06it/s]\n",
            "Evaluating: 100%|██████████| 16/16 [00:05<00:00,  3.15it/s]\n"
          ]
        },
        {
          "output_type": "stream",
          "name": "stdout",
          "text": [
            "Epoch 10/10:\n",
            "Train Loss: 1.4013 | Val Loss: 1.3210\n"
          ]
        },
        {
          "output_type": "stream",
          "name": "stderr",
          "text": [
            "[I 2025-05-09 15:19:36,587] Trial 6 finished with value: 1.3209729343652725 and parameters: {'d_model': 512, 'num_heads': 8, 'num_layers': 12, 'd_ff': 256, 'dropout': 0.3524050620930872, 'learning_rate': 0.0001468465765154352, 'batch_size': 128}. Best is trial 6 with value: 1.3209729343652725.\n"
          ]
        },
        {
          "output_type": "stream",
          "name": "stdout",
          "text": [
            "New best model found! Val Loss: 1.3210\n",
            "Config: {'d_model': 512, 'num_heads': 8, 'num_layers': 12, 'd_ff': 256, 'dropout': 0.3524050620930872, 'learning_rate': 0.0001468465765154352, 'batch_size': 128}\n"
          ]
        },
        {
          "output_type": "stream",
          "name": "stderr",
          "text": [
            "Training: 100%|██████████| 63/63 [00:26<00:00,  2.41it/s]\n",
            "Evaluating: 100%|██████████| 16/16 [00:02<00:00,  6.71it/s]\n"
          ]
        },
        {
          "output_type": "stream",
          "name": "stdout",
          "text": [
            "Epoch 1/10:\n",
            "Train Loss: 3.0458 | Val Loss: 2.9820\n"
          ]
        },
        {
          "output_type": "stream",
          "name": "stderr",
          "text": [
            "Training: 100%|██████████| 63/63 [00:26<00:00,  2.42it/s]\n",
            "Evaluating: 100%|██████████| 16/16 [00:02<00:00,  6.73it/s]\n"
          ]
        },
        {
          "output_type": "stream",
          "name": "stdout",
          "text": [
            "Epoch 2/10:\n",
            "Train Loss: 2.9808 | Val Loss: 2.9818\n"
          ]
        },
        {
          "output_type": "stream",
          "name": "stderr",
          "text": [
            "Training: 100%|██████████| 63/63 [00:26<00:00,  2.42it/s]\n",
            "Evaluating: 100%|██████████| 16/16 [00:02<00:00,  6.72it/s]\n"
          ]
        },
        {
          "output_type": "stream",
          "name": "stdout",
          "text": [
            "Epoch 3/10:\n",
            "Train Loss: 2.9799 | Val Loss: 2.9824\n"
          ]
        },
        {
          "output_type": "stream",
          "name": "stderr",
          "text": [
            "Training: 100%|██████████| 63/63 [00:26<00:00,  2.42it/s]\n",
            "Evaluating: 100%|██████████| 16/16 [00:02<00:00,  6.69it/s]\n"
          ]
        },
        {
          "output_type": "stream",
          "name": "stdout",
          "text": [
            "Epoch 4/10:\n",
            "Train Loss: 2.9786 | Val Loss: 2.9802\n"
          ]
        },
        {
          "output_type": "stream",
          "name": "stderr",
          "text": [
            "Training: 100%|██████████| 63/63 [00:26<00:00,  2.41it/s]\n",
            "Evaluating: 100%|██████████| 16/16 [00:02<00:00,  6.69it/s]\n"
          ]
        },
        {
          "output_type": "stream",
          "name": "stdout",
          "text": [
            "Epoch 5/10:\n",
            "Train Loss: 2.9782 | Val Loss: 2.9792\n"
          ]
        },
        {
          "output_type": "stream",
          "name": "stderr",
          "text": [
            "Training: 100%|██████████| 63/63 [00:26<00:00,  2.42it/s]\n",
            "Evaluating: 100%|██████████| 16/16 [00:02<00:00,  6.72it/s]\n"
          ]
        },
        {
          "output_type": "stream",
          "name": "stdout",
          "text": [
            "Epoch 6/10:\n",
            "Train Loss: 2.9774 | Val Loss: 2.9755\n"
          ]
        },
        {
          "output_type": "stream",
          "name": "stderr",
          "text": [
            "Training: 100%|██████████| 63/63 [00:26<00:00,  2.42it/s]\n",
            "Evaluating: 100%|██████████| 16/16 [00:02<00:00,  6.72it/s]\n"
          ]
        },
        {
          "output_type": "stream",
          "name": "stdout",
          "text": [
            "Epoch 7/10:\n",
            "Train Loss: 2.9767 | Val Loss: 2.9771\n"
          ]
        },
        {
          "output_type": "stream",
          "name": "stderr",
          "text": [
            "Training: 100%|██████████| 63/63 [00:26<00:00,  2.42it/s]\n",
            "Evaluating: 100%|██████████| 16/16 [00:02<00:00,  6.73it/s]\n"
          ]
        },
        {
          "output_type": "stream",
          "name": "stdout",
          "text": [
            "Epoch 8/10:\n",
            "Train Loss: 2.9771 | Val Loss: 2.9787\n"
          ]
        },
        {
          "output_type": "stream",
          "name": "stderr",
          "text": [
            "Training: 100%|██████████| 63/63 [00:26<00:00,  2.42it/s]\n",
            "Evaluating: 100%|██████████| 16/16 [00:02<00:00,  6.72it/s]\n",
            "[I 2025-05-09 15:23:52,753] Trial 7 finished with value: 2.9755232632160187 and parameters: {'d_model': 128, 'num_heads': 8, 'num_layers': 10, 'd_ff': 1024, 'dropout': 0.1608729968582275, 'learning_rate': 0.007571380321578926, 'batch_size': 128}. Best is trial 6 with value: 1.3209729343652725.\n"
          ]
        },
        {
          "output_type": "stream",
          "name": "stdout",
          "text": [
            "Epoch 9/10:\n",
            "Train Loss: 2.9772 | Val Loss: 2.9770\n",
            "Early stopping triggered!\n"
          ]
        },
        {
          "output_type": "stream",
          "name": "stderr",
          "text": [
            "Training: 100%|██████████| 63/63 [00:45<00:00,  1.37it/s]\n",
            "Evaluating: 100%|██████████| 16/16 [00:03<00:00,  4.08it/s]\n"
          ]
        },
        {
          "output_type": "stream",
          "name": "stdout",
          "text": [
            "Epoch 1/10:\n",
            "Train Loss: 3.0950 | Val Loss: 2.9977\n"
          ]
        },
        {
          "output_type": "stream",
          "name": "stderr",
          "text": [
            "Training: 100%|██████████| 63/63 [00:45<00:00,  1.38it/s]\n",
            "Evaluating: 100%|██████████| 16/16 [00:03<00:00,  4.08it/s]\n"
          ]
        },
        {
          "output_type": "stream",
          "name": "stdout",
          "text": [
            "Epoch 2/10:\n",
            "Train Loss: 2.9865 | Val Loss: 3.0059\n"
          ]
        },
        {
          "output_type": "stream",
          "name": "stderr",
          "text": [
            "Training: 100%|██████████| 63/63 [00:45<00:00,  1.38it/s]\n",
            "Evaluating: 100%|██████████| 16/16 [00:03<00:00,  4.09it/s]\n"
          ]
        },
        {
          "output_type": "stream",
          "name": "stdout",
          "text": [
            "Epoch 3/10:\n",
            "Train Loss: 2.9821 | Val Loss: 3.0003\n"
          ]
        },
        {
          "output_type": "stream",
          "name": "stderr",
          "text": [
            "Training: 100%|██████████| 63/63 [00:45<00:00,  1.37it/s]\n",
            "Evaluating: 100%|██████████| 16/16 [00:03<00:00,  4.04it/s]\n"
          ]
        },
        {
          "output_type": "stream",
          "name": "stdout",
          "text": [
            "Epoch 4/10:\n",
            "Train Loss: 2.9802 | Val Loss: 2.9920\n"
          ]
        },
        {
          "output_type": "stream",
          "name": "stderr",
          "text": [
            "Training: 100%|██████████| 63/63 [00:45<00:00,  1.38it/s]\n",
            "Evaluating: 100%|██████████| 16/16 [00:03<00:00,  4.09it/s]\n"
          ]
        },
        {
          "output_type": "stream",
          "name": "stdout",
          "text": [
            "Epoch 5/10:\n",
            "Train Loss: 2.9784 | Val Loss: 2.9916\n"
          ]
        },
        {
          "output_type": "stream",
          "name": "stderr",
          "text": [
            "Training: 100%|██████████| 63/63 [00:45<00:00,  1.38it/s]\n",
            "Evaluating: 100%|██████████| 16/16 [00:03<00:00,  4.10it/s]\n"
          ]
        },
        {
          "output_type": "stream",
          "name": "stdout",
          "text": [
            "Epoch 6/10:\n",
            "Train Loss: 2.9780 | Val Loss: 2.9912\n"
          ]
        },
        {
          "output_type": "stream",
          "name": "stderr",
          "text": [
            "Training: 100%|██████████| 63/63 [00:45<00:00,  1.38it/s]\n",
            "Evaluating: 100%|██████████| 16/16 [00:03<00:00,  4.09it/s]\n"
          ]
        },
        {
          "output_type": "stream",
          "name": "stdout",
          "text": [
            "Epoch 7/10:\n",
            "Train Loss: 2.9768 | Val Loss: 3.3588\n"
          ]
        },
        {
          "output_type": "stream",
          "name": "stderr",
          "text": [
            "Training: 100%|██████████| 63/63 [00:45<00:00,  1.38it/s]\n",
            "Evaluating: 100%|██████████| 16/16 [00:03<00:00,  4.10it/s]\n"
          ]
        },
        {
          "output_type": "stream",
          "name": "stdout",
          "text": [
            "Epoch 8/10:\n",
            "Train Loss: 2.9749 | Val Loss: 2.9849\n"
          ]
        },
        {
          "output_type": "stream",
          "name": "stderr",
          "text": [
            "Training: 100%|██████████| 63/63 [00:45<00:00,  1.38it/s]\n",
            "Evaluating: 100%|██████████| 16/16 [00:03<00:00,  4.09it/s]\n"
          ]
        },
        {
          "output_type": "stream",
          "name": "stdout",
          "text": [
            "Epoch 9/10:\n",
            "Train Loss: 2.9762 | Val Loss: 2.9812\n"
          ]
        },
        {
          "output_type": "stream",
          "name": "stderr",
          "text": [
            "Training: 100%|██████████| 63/63 [00:45<00:00,  1.38it/s]\n",
            "Evaluating: 100%|██████████| 16/16 [00:03<00:00,  4.09it/s]\n",
            "[I 2025-05-09 15:32:10,322] Trial 8 finished with value: 2.981249079108238 and parameters: {'d_model': 512, 'num_heads': 16, 'num_layers': 6, 'd_ff': 1024, 'dropout': 0.38622786526025776, 'learning_rate': 0.002986946680650425, 'batch_size': 128}. Best is trial 6 with value: 1.3209729343652725.\n"
          ]
        },
        {
          "output_type": "stream",
          "name": "stdout",
          "text": [
            "Epoch 10/10:\n",
            "Train Loss: 2.9715 | Val Loss: 3.2275\n"
          ]
        },
        {
          "output_type": "stream",
          "name": "stderr",
          "text": [
            "Training: 100%|██████████| 63/63 [00:15<00:00,  3.94it/s]\n",
            "Evaluating: 100%|██████████| 16/16 [00:01<00:00, 11.13it/s]\n"
          ]
        },
        {
          "output_type": "stream",
          "name": "stdout",
          "text": [
            "Epoch 1/10:\n",
            "Train Loss: 2.6005 | Val Loss: 2.2360\n"
          ]
        },
        {
          "output_type": "stream",
          "name": "stderr",
          "text": [
            "Training: 100%|██████████| 63/63 [00:15<00:00,  3.95it/s]\n",
            "Evaluating: 100%|██████████| 16/16 [00:01<00:00, 11.18it/s]\n"
          ]
        },
        {
          "output_type": "stream",
          "name": "stdout",
          "text": [
            "Epoch 2/10:\n",
            "Train Loss: 2.1482 | Val Loss: 2.0267\n"
          ]
        },
        {
          "output_type": "stream",
          "name": "stderr",
          "text": [
            "Training: 100%|██████████| 63/63 [00:15<00:00,  3.94it/s]\n",
            "Evaluating: 100%|██████████| 16/16 [00:01<00:00, 11.20it/s]\n"
          ]
        },
        {
          "output_type": "stream",
          "name": "stdout",
          "text": [
            "Epoch 3/10:\n",
            "Train Loss: 1.9471 | Val Loss: 1.7943\n"
          ]
        },
        {
          "output_type": "stream",
          "name": "stderr",
          "text": [
            "Training: 100%|██████████| 63/63 [00:16<00:00,  3.93it/s]\n",
            "Evaluating: 100%|██████████| 16/16 [00:01<00:00, 11.14it/s]\n"
          ]
        },
        {
          "output_type": "stream",
          "name": "stdout",
          "text": [
            "Epoch 4/10:\n",
            "Train Loss: 1.7446 | Val Loss: 1.5772\n"
          ]
        },
        {
          "output_type": "stream",
          "name": "stderr",
          "text": [
            "Training: 100%|██████████| 63/63 [00:15<00:00,  3.95it/s]\n",
            "Evaluating: 100%|██████████| 16/16 [00:01<00:00, 11.19it/s]\n"
          ]
        },
        {
          "output_type": "stream",
          "name": "stdout",
          "text": [
            "Epoch 5/10:\n",
            "Train Loss: 1.5578 | Val Loss: 1.3790\n"
          ]
        },
        {
          "output_type": "stream",
          "name": "stderr",
          "text": [
            "Training: 100%|██████████| 63/63 [00:16<00:00,  3.94it/s]\n",
            "Evaluating: 100%|██████████| 16/16 [00:01<00:00, 11.19it/s]\n"
          ]
        },
        {
          "output_type": "stream",
          "name": "stdout",
          "text": [
            "Epoch 6/10:\n",
            "Train Loss: 1.3628 | Val Loss: 1.0888\n"
          ]
        },
        {
          "output_type": "stream",
          "name": "stderr",
          "text": [
            "Training: 100%|██████████| 63/63 [00:16<00:00,  3.90it/s]\n",
            "Evaluating: 100%|██████████| 16/16 [00:01<00:00, 11.16it/s]\n"
          ]
        },
        {
          "output_type": "stream",
          "name": "stdout",
          "text": [
            "Epoch 7/10:\n",
            "Train Loss: 1.0694 | Val Loss: 0.6832\n"
          ]
        },
        {
          "output_type": "stream",
          "name": "stderr",
          "text": [
            "Training: 100%|██████████| 63/63 [00:16<00:00,  3.93it/s]\n",
            "Evaluating: 100%|██████████| 16/16 [00:01<00:00, 11.20it/s]\n"
          ]
        },
        {
          "output_type": "stream",
          "name": "stdout",
          "text": [
            "Epoch 8/10:\n",
            "Train Loss: 0.8139 | Val Loss: 0.5327\n"
          ]
        },
        {
          "output_type": "stream",
          "name": "stderr",
          "text": [
            "Training: 100%|██████████| 63/63 [00:16<00:00,  3.89it/s]\n",
            "Evaluating: 100%|██████████| 16/16 [00:01<00:00, 11.23it/s]\n"
          ]
        },
        {
          "output_type": "stream",
          "name": "stdout",
          "text": [
            "Epoch 9/10:\n",
            "Train Loss: 0.6560 | Val Loss: 0.4428\n"
          ]
        },
        {
          "output_type": "stream",
          "name": "stderr",
          "text": [
            "Training: 100%|██████████| 63/63 [00:15<00:00,  3.95it/s]\n",
            "Evaluating: 100%|██████████| 16/16 [00:01<00:00, 11.21it/s]\n",
            "[I 2025-05-09 15:35:05,299] Trial 9 finished with value: 0.29426856245845556 and parameters: {'d_model': 256, 'num_heads': 2, 'num_layers': 6, 'd_ff': 1024, 'dropout': 0.22291967495980047, 'learning_rate': 0.000326051498136512, 'batch_size': 128}. Best is trial 9 with value: 0.29426856245845556.\n"
          ]
        },
        {
          "output_type": "stream",
          "name": "stdout",
          "text": [
            "Epoch 10/10:\n",
            "Train Loss: 0.5291 | Val Loss: 0.2943\n",
            "New best model found! Val Loss: 0.2943\n",
            "Config: {'d_model': 256, 'num_heads': 2, 'num_layers': 6, 'd_ff': 1024, 'dropout': 0.22291967495980047, 'learning_rate': 0.000326051498136512, 'batch_size': 128}\n"
          ]
        },
        {
          "output_type": "stream",
          "name": "stderr",
          "text": [
            "Training: 100%|██████████| 63/63 [00:24<00:00,  2.61it/s]\n",
            "Evaluating: 100%|██████████| 16/16 [00:02<00:00,  7.57it/s]\n"
          ]
        },
        {
          "output_type": "stream",
          "name": "stdout",
          "text": [
            "Epoch 1/10:\n",
            "Train Loss: 2.6009 | Val Loss: 2.2651\n"
          ]
        },
        {
          "output_type": "stream",
          "name": "stderr",
          "text": [
            "Training: 100%|██████████| 63/63 [00:23<00:00,  2.64it/s]\n",
            "Evaluating: 100%|██████████| 16/16 [00:02<00:00,  7.58it/s]\n"
          ]
        },
        {
          "output_type": "stream",
          "name": "stdout",
          "text": [
            "Epoch 2/10:\n",
            "Train Loss: 2.1701 | Val Loss: 2.0516\n"
          ]
        },
        {
          "output_type": "stream",
          "name": "stderr",
          "text": [
            "Training: 100%|██████████| 63/63 [00:23<00:00,  2.63it/s]\n",
            "Evaluating: 100%|██████████| 16/16 [00:02<00:00,  7.23it/s]\n"
          ]
        },
        {
          "output_type": "stream",
          "name": "stdout",
          "text": [
            "Epoch 3/10:\n",
            "Train Loss: 2.0367 | Val Loss: 1.9661\n"
          ]
        },
        {
          "output_type": "stream",
          "name": "stderr",
          "text": [
            "Training: 100%|██████████| 63/63 [00:23<00:00,  2.63it/s]\n",
            "Evaluating: 100%|██████████| 16/16 [00:02<00:00,  7.58it/s]\n"
          ]
        },
        {
          "output_type": "stream",
          "name": "stdout",
          "text": [
            "Epoch 4/10:\n",
            "Train Loss: 1.9285 | Val Loss: 1.8475\n"
          ]
        },
        {
          "output_type": "stream",
          "name": "stderr",
          "text": [
            "Training: 100%|██████████| 63/63 [00:23<00:00,  2.63it/s]\n",
            "Evaluating: 100%|██████████| 16/16 [00:02<00:00,  7.62it/s]\n"
          ]
        },
        {
          "output_type": "stream",
          "name": "stdout",
          "text": [
            "Epoch 5/10:\n",
            "Train Loss: 1.8189 | Val Loss: 1.7909\n"
          ]
        },
        {
          "output_type": "stream",
          "name": "stderr",
          "text": [
            "Training: 100%|██████████| 63/63 [00:23<00:00,  2.63it/s]\n",
            "Evaluating: 100%|██████████| 16/16 [00:02<00:00,  7.59it/s]\n"
          ]
        },
        {
          "output_type": "stream",
          "name": "stdout",
          "text": [
            "Epoch 6/10:\n",
            "Train Loss: 1.7147 | Val Loss: 1.5824\n"
          ]
        },
        {
          "output_type": "stream",
          "name": "stderr",
          "text": [
            "Training: 100%|██████████| 63/63 [00:23<00:00,  2.63it/s]\n",
            "Evaluating: 100%|██████████| 16/16 [00:02<00:00,  7.24it/s]\n"
          ]
        },
        {
          "output_type": "stream",
          "name": "stdout",
          "text": [
            "Epoch 7/10:\n",
            "Train Loss: 1.5905 | Val Loss: 1.4800\n"
          ]
        },
        {
          "output_type": "stream",
          "name": "stderr",
          "text": [
            "Training: 100%|██████████| 63/63 [00:24<00:00,  2.61it/s]\n",
            "Evaluating: 100%|██████████| 16/16 [00:02<00:00,  7.56it/s]\n"
          ]
        },
        {
          "output_type": "stream",
          "name": "stdout",
          "text": [
            "Epoch 8/10:\n",
            "Train Loss: 1.4688 | Val Loss: 1.3467\n"
          ]
        },
        {
          "output_type": "stream",
          "name": "stderr",
          "text": [
            "Training: 100%|██████████| 63/63 [00:23<00:00,  2.63it/s]\n",
            "Evaluating: 100%|██████████| 16/16 [00:02<00:00,  7.46it/s]\n"
          ]
        },
        {
          "output_type": "stream",
          "name": "stdout",
          "text": [
            "Epoch 9/10:\n",
            "Train Loss: 1.3440 | Val Loss: 1.2342\n"
          ]
        },
        {
          "output_type": "stream",
          "name": "stderr",
          "text": [
            "Training: 100%|██████████| 63/63 [00:23<00:00,  2.63it/s]\n",
            "Evaluating: 100%|██████████| 16/16 [00:02<00:00,  7.61it/s]\n",
            "[I 2025-05-09 15:39:26,551] Trial 10 finished with value: 1.0952891409397125 and parameters: {'d_model': 256, 'num_heads': 4, 'num_layers': 8, 'd_ff': 1024, 'dropout': 0.25198633513047064, 'learning_rate': 0.000327825065378556, 'batch_size': 128}. Best is trial 9 with value: 0.29426856245845556.\n"
          ]
        },
        {
          "output_type": "stream",
          "name": "stdout",
          "text": [
            "Epoch 10/10:\n",
            "Train Loss: 1.2296 | Val Loss: 1.0953\n"
          ]
        },
        {
          "output_type": "stream",
          "name": "stderr",
          "text": [
            "Training: 100%|██████████| 63/63 [00:23<00:00,  2.63it/s]\n",
            "Evaluating: 100%|██████████| 16/16 [00:02<00:00,  7.61it/s]\n"
          ]
        },
        {
          "output_type": "stream",
          "name": "stdout",
          "text": [
            "Epoch 1/10:\n",
            "Train Loss: 2.7134 | Val Loss: 2.2811\n"
          ]
        },
        {
          "output_type": "stream",
          "name": "stderr",
          "text": [
            "Training: 100%|██████████| 63/63 [00:23<00:00,  2.64it/s]\n",
            "Evaluating: 100%|██████████| 16/16 [00:02<00:00,  7.63it/s]\n"
          ]
        },
        {
          "output_type": "stream",
          "name": "stdout",
          "text": [
            "Epoch 2/10:\n",
            "Train Loss: 2.1922 | Val Loss: 2.0758\n"
          ]
        },
        {
          "output_type": "stream",
          "name": "stderr",
          "text": [
            "Training: 100%|██████████| 63/63 [00:23<00:00,  2.64it/s]\n",
            "Evaluating: 100%|██████████| 16/16 [00:02<00:00,  7.62it/s]\n"
          ]
        },
        {
          "output_type": "stream",
          "name": "stdout",
          "text": [
            "Epoch 3/10:\n",
            "Train Loss: 2.0294 | Val Loss: 1.9180\n"
          ]
        },
        {
          "output_type": "stream",
          "name": "stderr",
          "text": [
            "Training: 100%|██████████| 63/63 [00:23<00:00,  2.63it/s]\n",
            "Evaluating: 100%|██████████| 16/16 [00:02<00:00,  7.58it/s]\n"
          ]
        },
        {
          "output_type": "stream",
          "name": "stdout",
          "text": [
            "Epoch 4/10:\n",
            "Train Loss: 1.8987 | Val Loss: 1.8058\n"
          ]
        },
        {
          "output_type": "stream",
          "name": "stderr",
          "text": [
            "Training: 100%|██████████| 63/63 [00:23<00:00,  2.63it/s]\n",
            "Evaluating: 100%|██████████| 16/16 [00:02<00:00,  7.47it/s]\n"
          ]
        },
        {
          "output_type": "stream",
          "name": "stdout",
          "text": [
            "Epoch 5/10:\n",
            "Train Loss: 1.8080 | Val Loss: 1.7270\n"
          ]
        },
        {
          "output_type": "stream",
          "name": "stderr",
          "text": [
            "Training: 100%|██████████| 63/63 [00:23<00:00,  2.63it/s]\n",
            "Evaluating: 100%|██████████| 16/16 [00:02<00:00,  7.22it/s]\n"
          ]
        },
        {
          "output_type": "stream",
          "name": "stdout",
          "text": [
            "Epoch 6/10:\n",
            "Train Loss: 1.7271 | Val Loss: 1.7033\n"
          ]
        },
        {
          "output_type": "stream",
          "name": "stderr",
          "text": [
            "Training: 100%|██████████| 63/63 [00:24<00:00,  2.62it/s]\n",
            "Evaluating: 100%|██████████| 16/16 [00:02<00:00,  7.47it/s]\n"
          ]
        },
        {
          "output_type": "stream",
          "name": "stdout",
          "text": [
            "Epoch 7/10:\n",
            "Train Loss: 1.6666 | Val Loss: 1.6007\n"
          ]
        },
        {
          "output_type": "stream",
          "name": "stderr",
          "text": [
            "Training: 100%|██████████| 63/63 [00:23<00:00,  2.63it/s]\n",
            "Evaluating: 100%|██████████| 16/16 [00:02<00:00,  7.62it/s]\n"
          ]
        },
        {
          "output_type": "stream",
          "name": "stdout",
          "text": [
            "Epoch 8/10:\n",
            "Train Loss: 1.6142 | Val Loss: 1.6029\n"
          ]
        },
        {
          "output_type": "stream",
          "name": "stderr",
          "text": [
            "Training: 100%|██████████| 63/63 [00:24<00:00,  2.62it/s]\n",
            "Evaluating: 100%|██████████| 16/16 [00:02<00:00,  7.39it/s]\n"
          ]
        },
        {
          "output_type": "stream",
          "name": "stdout",
          "text": [
            "Epoch 9/10:\n",
            "Train Loss: 1.5684 | Val Loss: 1.5363\n"
          ]
        },
        {
          "output_type": "stream",
          "name": "stderr",
          "text": [
            "Training: 100%|██████████| 63/63 [00:23<00:00,  2.64it/s]\n",
            "Evaluating: 100%|██████████| 16/16 [00:02<00:00,  7.61it/s]\n",
            "[I 2025-05-09 15:43:47,590] Trial 11 finished with value: 1.5092048346996307 and parameters: {'d_model': 256, 'num_heads': 4, 'num_layers': 8, 'd_ff': 1024, 'dropout': 0.2627352631828468, 'learning_rate': 0.00038437973421232095, 'batch_size': 128}. Best is trial 9 with value: 0.29426856245845556.\n"
          ]
        },
        {
          "output_type": "stream",
          "name": "stdout",
          "text": [
            "Epoch 10/10:\n",
            "Train Loss: 1.5272 | Val Loss: 1.5092\n"
          ]
        },
        {
          "output_type": "stream",
          "name": "stderr",
          "text": [
            "Training: 100%|██████████| 63/63 [00:23<00:00,  2.64it/s]\n",
            "Evaluating: 100%|██████████| 16/16 [00:02<00:00,  7.25it/s]\n"
          ]
        },
        {
          "output_type": "stream",
          "name": "stdout",
          "text": [
            "Epoch 1/10:\n",
            "Train Loss: 2.6589 | Val Loss: 2.2565\n"
          ]
        },
        {
          "output_type": "stream",
          "name": "stderr",
          "text": [
            "Training: 100%|██████████| 63/63 [00:23<00:00,  2.63it/s]\n",
            "Evaluating: 100%|██████████| 16/16 [00:02<00:00,  7.62it/s]\n"
          ]
        },
        {
          "output_type": "stream",
          "name": "stdout",
          "text": [
            "Epoch 2/10:\n",
            "Train Loss: 2.1879 | Val Loss: 2.0615\n"
          ]
        },
        {
          "output_type": "stream",
          "name": "stderr",
          "text": [
            "Training: 100%|██████████| 63/63 [00:23<00:00,  2.63it/s]\n",
            "Evaluating: 100%|██████████| 16/16 [00:02<00:00,  7.61it/s]\n"
          ]
        },
        {
          "output_type": "stream",
          "name": "stdout",
          "text": [
            "Epoch 3/10:\n",
            "Train Loss: 2.0295 | Val Loss: 1.9157\n"
          ]
        },
        {
          "output_type": "stream",
          "name": "stderr",
          "text": [
            "Training: 100%|██████████| 63/63 [00:23<00:00,  2.63it/s]\n",
            "Evaluating: 100%|██████████| 16/16 [00:02<00:00,  7.58it/s]\n"
          ]
        },
        {
          "output_type": "stream",
          "name": "stdout",
          "text": [
            "Epoch 4/10:\n",
            "Train Loss: 1.8985 | Val Loss: 1.8297\n"
          ]
        },
        {
          "output_type": "stream",
          "name": "stderr",
          "text": [
            "Training: 100%|██████████| 63/63 [00:23<00:00,  2.64it/s]\n",
            "Evaluating: 100%|██████████| 16/16 [00:02<00:00,  7.58it/s]\n"
          ]
        },
        {
          "output_type": "stream",
          "name": "stdout",
          "text": [
            "Epoch 5/10:\n",
            "Train Loss: 1.8259 | Val Loss: 1.7284\n"
          ]
        },
        {
          "output_type": "stream",
          "name": "stderr",
          "text": [
            "Training: 100%|██████████| 63/63 [00:23<00:00,  2.63it/s]\n",
            "Evaluating: 100%|██████████| 16/16 [00:02<00:00,  7.54it/s]\n"
          ]
        },
        {
          "output_type": "stream",
          "name": "stdout",
          "text": [
            "Epoch 6/10:\n",
            "Train Loss: 1.7225 | Val Loss: 1.6436\n"
          ]
        },
        {
          "output_type": "stream",
          "name": "stderr",
          "text": [
            "Training: 100%|██████████| 63/63 [00:23<00:00,  2.63it/s]\n",
            "Evaluating: 100%|██████████| 16/16 [00:02<00:00,  7.61it/s]\n"
          ]
        },
        {
          "output_type": "stream",
          "name": "stdout",
          "text": [
            "Epoch 7/10:\n",
            "Train Loss: 1.6092 | Val Loss: 1.5583\n"
          ]
        },
        {
          "output_type": "stream",
          "name": "stderr",
          "text": [
            "Training: 100%|██████████| 63/63 [00:23<00:00,  2.64it/s]\n",
            "Evaluating: 100%|██████████| 16/16 [00:02<00:00,  7.61it/s]\n"
          ]
        },
        {
          "output_type": "stream",
          "name": "stdout",
          "text": [
            "Epoch 8/10:\n",
            "Train Loss: 1.5023 | Val Loss: 1.4397\n"
          ]
        },
        {
          "output_type": "stream",
          "name": "stderr",
          "text": [
            "Training: 100%|██████████| 63/63 [00:24<00:00,  2.61it/s]\n",
            "Evaluating: 100%|██████████| 16/16 [00:02<00:00,  7.63it/s]\n"
          ]
        },
        {
          "output_type": "stream",
          "name": "stdout",
          "text": [
            "Epoch 9/10:\n",
            "Train Loss: 1.3910 | Val Loss: 1.2916\n"
          ]
        },
        {
          "output_type": "stream",
          "name": "stderr",
          "text": [
            "Training: 100%|██████████| 63/63 [00:23<00:00,  2.63it/s]\n",
            "Evaluating: 100%|██████████| 16/16 [00:02<00:00,  7.44it/s]\n",
            "[I 2025-05-09 15:48:08,610] Trial 12 finished with value: 1.1548495516180992 and parameters: {'d_model': 256, 'num_heads': 4, 'num_layers': 8, 'd_ff': 1024, 'dropout': 0.24010938740381896, 'learning_rate': 0.0003161758053672783, 'batch_size': 128}. Best is trial 9 with value: 0.29426856245845556.\n"
          ]
        },
        {
          "output_type": "stream",
          "name": "stdout",
          "text": [
            "Epoch 10/10:\n",
            "Train Loss: 1.2729 | Val Loss: 1.1548\n"
          ]
        },
        {
          "output_type": "stream",
          "name": "stderr",
          "text": [
            "Training: 100%|██████████| 63/63 [00:21<00:00,  3.00it/s]\n",
            "Evaluating: 100%|██████████| 16/16 [00:01<00:00,  8.60it/s]\n"
          ]
        },
        {
          "output_type": "stream",
          "name": "stdout",
          "text": [
            "Epoch 1/10:\n",
            "Train Loss: 2.7189 | Val Loss: 2.2791\n"
          ]
        },
        {
          "output_type": "stream",
          "name": "stderr",
          "text": [
            "Training: 100%|██████████| 63/63 [00:20<00:00,  3.00it/s]\n",
            "Evaluating: 100%|██████████| 16/16 [00:01<00:00,  8.60it/s]\n"
          ]
        },
        {
          "output_type": "stream",
          "name": "stdout",
          "text": [
            "Epoch 2/10:\n",
            "Train Loss: 2.2326 | Val Loss: 2.1185\n"
          ]
        },
        {
          "output_type": "stream",
          "name": "stderr",
          "text": [
            "Training: 100%|██████████| 63/63 [00:21<00:00,  3.00it/s]\n",
            "Evaluating: 100%|██████████| 16/16 [00:01<00:00,  8.18it/s]\n"
          ]
        },
        {
          "output_type": "stream",
          "name": "stdout",
          "text": [
            "Epoch 3/10:\n",
            "Train Loss: 2.1041 | Val Loss: 2.0937\n"
          ]
        },
        {
          "output_type": "stream",
          "name": "stderr",
          "text": [
            "Training: 100%|██████████| 63/63 [00:20<00:00,  3.00it/s]\n",
            "Evaluating: 100%|██████████| 16/16 [00:01<00:00,  8.60it/s]\n"
          ]
        },
        {
          "output_type": "stream",
          "name": "stdout",
          "text": [
            "Epoch 4/10:\n",
            "Train Loss: 1.9950 | Val Loss: 1.8931\n"
          ]
        },
        {
          "output_type": "stream",
          "name": "stderr",
          "text": [
            "Training: 100%|██████████| 63/63 [00:20<00:00,  3.00it/s]\n",
            "Evaluating: 100%|██████████| 16/16 [00:01<00:00,  8.57it/s]\n"
          ]
        },
        {
          "output_type": "stream",
          "name": "stdout",
          "text": [
            "Epoch 5/10:\n",
            "Train Loss: 1.8599 | Val Loss: 1.7736\n"
          ]
        },
        {
          "output_type": "stream",
          "name": "stderr",
          "text": [
            "Training: 100%|██████████| 63/63 [00:20<00:00,  3.00it/s]\n",
            "Evaluating: 100%|██████████| 16/16 [00:01<00:00,  8.55it/s]\n"
          ]
        },
        {
          "output_type": "stream",
          "name": "stdout",
          "text": [
            "Epoch 6/10:\n",
            "Train Loss: 1.7530 | Val Loss: 1.7339\n"
          ]
        },
        {
          "output_type": "stream",
          "name": "stderr",
          "text": [
            "Training: 100%|██████████| 63/63 [00:21<00:00,  3.00it/s]\n",
            "Evaluating: 100%|██████████| 16/16 [00:01<00:00,  8.49it/s]\n"
          ]
        },
        {
          "output_type": "stream",
          "name": "stdout",
          "text": [
            "Epoch 7/10:\n",
            "Train Loss: 1.6648 | Val Loss: 1.5877\n"
          ]
        },
        {
          "output_type": "stream",
          "name": "stderr",
          "text": [
            "Training: 100%|██████████| 63/63 [00:21<00:00,  2.99it/s]\n",
            "Evaluating: 100%|██████████| 16/16 [00:01<00:00,  8.50it/s]\n"
          ]
        },
        {
          "output_type": "stream",
          "name": "stdout",
          "text": [
            "Epoch 8/10:\n",
            "Train Loss: 1.5645 | Val Loss: 1.4102\n"
          ]
        },
        {
          "output_type": "stream",
          "name": "stderr",
          "text": [
            "Training: 100%|██████████| 63/63 [00:20<00:00,  3.00it/s]\n",
            "Evaluating: 100%|██████████| 16/16 [00:01<00:00,  8.59it/s]\n"
          ]
        },
        {
          "output_type": "stream",
          "name": "stdout",
          "text": [
            "Epoch 9/10:\n",
            "Train Loss: 1.4571 | Val Loss: 1.3048\n"
          ]
        },
        {
          "output_type": "stream",
          "name": "stderr",
          "text": [
            "Training: 100%|██████████| 63/63 [00:20<00:00,  3.01it/s]\n",
            "Evaluating: 100%|██████████| 16/16 [00:01<00:00,  8.60it/s]\n",
            "[I 2025-05-09 15:51:57,617] Trial 13 finished with value: 1.1785119399428368 and parameters: {'d_model': 256, 'num_heads': 2, 'num_layers': 8, 'd_ff': 1024, 'dropout': 0.310468865555549, 'learning_rate': 0.0002329931292310335, 'batch_size': 128}. Best is trial 9 with value: 0.29426856245845556.\n"
          ]
        },
        {
          "output_type": "stream",
          "name": "stdout",
          "text": [
            "Epoch 10/10:\n",
            "Train Loss: 1.3675 | Val Loss: 1.1785\n"
          ]
        },
        {
          "output_type": "stream",
          "name": "stderr",
          "text": [
            "Training: 100%|██████████| 63/63 [00:18<00:00,  3.44it/s]\n",
            "Evaluating: 100%|██████████| 16/16 [00:01<00:00,  9.49it/s]\n"
          ]
        },
        {
          "output_type": "stream",
          "name": "stdout",
          "text": [
            "Epoch 1/10:\n",
            "Train Loss: 2.6253 | Val Loss: 2.2409\n"
          ]
        },
        {
          "output_type": "stream",
          "name": "stderr",
          "text": [
            "Training: 100%|██████████| 63/63 [00:18<00:00,  3.46it/s]\n",
            "Evaluating: 100%|██████████| 16/16 [00:01<00:00,  9.51it/s]\n"
          ]
        },
        {
          "output_type": "stream",
          "name": "stdout",
          "text": [
            "Epoch 2/10:\n",
            "Train Loss: 2.1494 | Val Loss: 2.0106\n"
          ]
        },
        {
          "output_type": "stream",
          "name": "stderr",
          "text": [
            "Training: 100%|██████████| 63/63 [00:18<00:00,  3.45it/s]\n",
            "Evaluating: 100%|██████████| 16/16 [00:01<00:00,  9.75it/s]\n"
          ]
        },
        {
          "output_type": "stream",
          "name": "stdout",
          "text": [
            "Epoch 3/10:\n",
            "Train Loss: 1.9754 | Val Loss: 1.8739\n"
          ]
        },
        {
          "output_type": "stream",
          "name": "stderr",
          "text": [
            "Training: 100%|██████████| 63/63 [00:18<00:00,  3.44it/s]\n",
            "Evaluating: 100%|██████████| 16/16 [00:01<00:00,  9.48it/s]\n"
          ]
        },
        {
          "output_type": "stream",
          "name": "stdout",
          "text": [
            "Epoch 4/10:\n",
            "Train Loss: 1.8405 | Val Loss: 1.7558\n"
          ]
        },
        {
          "output_type": "stream",
          "name": "stderr",
          "text": [
            "Training: 100%|██████████| 63/63 [00:18<00:00,  3.45it/s]\n",
            "Evaluating: 100%|██████████| 16/16 [00:01<00:00,  9.75it/s]\n"
          ]
        },
        {
          "output_type": "stream",
          "name": "stdout",
          "text": [
            "Epoch 5/10:\n",
            "Train Loss: 1.7569 | Val Loss: 1.7289\n"
          ]
        },
        {
          "output_type": "stream",
          "name": "stderr",
          "text": [
            "Training: 100%|██████████| 63/63 [00:18<00:00,  3.43it/s]\n",
            "Evaluating: 100%|██████████| 16/16 [00:01<00:00,  9.75it/s]\n"
          ]
        },
        {
          "output_type": "stream",
          "name": "stdout",
          "text": [
            "Epoch 6/10:\n",
            "Train Loss: 1.6857 | Val Loss: 1.6173\n"
          ]
        },
        {
          "output_type": "stream",
          "name": "stderr",
          "text": [
            "Training: 100%|██████████| 63/63 [00:18<00:00,  3.46it/s]\n",
            "Evaluating: 100%|██████████| 16/16 [00:01<00:00,  9.73it/s]\n"
          ]
        },
        {
          "output_type": "stream",
          "name": "stdout",
          "text": [
            "Epoch 7/10:\n",
            "Train Loss: 1.5996 | Val Loss: 1.5376\n"
          ]
        },
        {
          "output_type": "stream",
          "name": "stderr",
          "text": [
            "Training: 100%|██████████| 63/63 [00:18<00:00,  3.46it/s]\n",
            "Evaluating: 100%|██████████| 16/16 [00:01<00:00,  9.73it/s]\n"
          ]
        },
        {
          "output_type": "stream",
          "name": "stdout",
          "text": [
            "Epoch 8/10:\n",
            "Train Loss: 1.4740 | Val Loss: 1.4001\n"
          ]
        },
        {
          "output_type": "stream",
          "name": "stderr",
          "text": [
            "Training: 100%|██████████| 63/63 [00:18<00:00,  3.46it/s]\n",
            "Evaluating: 100%|██████████| 16/16 [00:01<00:00,  9.74it/s]\n"
          ]
        },
        {
          "output_type": "stream",
          "name": "stdout",
          "text": [
            "Epoch 9/10:\n",
            "Train Loss: 1.3356 | Val Loss: 1.2094\n"
          ]
        },
        {
          "output_type": "stream",
          "name": "stderr",
          "text": [
            "Training: 100%|██████████| 63/63 [00:18<00:00,  3.44it/s]\n",
            "Evaluating: 100%|██████████| 16/16 [00:01<00:00,  9.72it/s]\n",
            "[I 2025-05-09 15:55:17,101] Trial 14 finished with value: 1.0278542079031467 and parameters: {'d_model': 256, 'num_heads': 4, 'num_layers': 6, 'd_ff': 1024, 'dropout': 0.22033505953943017, 'learning_rate': 0.0005108273532519829, 'batch_size': 128}. Best is trial 9 with value: 0.29426856245845556.\n"
          ]
        },
        {
          "output_type": "stream",
          "name": "stdout",
          "text": [
            "Epoch 10/10:\n",
            "Train Loss: 1.1781 | Val Loss: 1.0279\n"
          ]
        },
        {
          "output_type": "stream",
          "name": "stderr",
          "text": [
            "Training: 100%|██████████| 63/63 [00:15<00:00,  4.16it/s]\n",
            "Evaluating: 100%|██████████| 16/16 [00:01<00:00, 11.85it/s]\n"
          ]
        },
        {
          "output_type": "stream",
          "name": "stdout",
          "text": [
            "Epoch 1/10:\n",
            "Train Loss: 2.4974 | Val Loss: 2.1319\n"
          ]
        },
        {
          "output_type": "stream",
          "name": "stderr",
          "text": [
            "Training: 100%|██████████| 63/63 [00:15<00:00,  4.18it/s]\n",
            "Evaluating: 100%|██████████| 16/16 [00:01<00:00, 11.74it/s]\n"
          ]
        },
        {
          "output_type": "stream",
          "name": "stdout",
          "text": [
            "Epoch 2/10:\n",
            "Train Loss: 1.9499 | Val Loss: 1.7960\n"
          ]
        },
        {
          "output_type": "stream",
          "name": "stderr",
          "text": [
            "Training: 100%|██████████| 63/63 [00:15<00:00,  4.17it/s]\n",
            "Evaluating: 100%|██████████| 16/16 [00:01<00:00, 11.83it/s]\n"
          ]
        },
        {
          "output_type": "stream",
          "name": "stdout",
          "text": [
            "Epoch 3/10:\n",
            "Train Loss: 1.5723 | Val Loss: 1.2456\n"
          ]
        },
        {
          "output_type": "stream",
          "name": "stderr",
          "text": [
            "Training: 100%|██████████| 63/63 [00:15<00:00,  4.18it/s]\n",
            "Evaluating: 100%|██████████| 16/16 [00:01<00:00, 11.84it/s]\n"
          ]
        },
        {
          "output_type": "stream",
          "name": "stdout",
          "text": [
            "Epoch 4/10:\n",
            "Train Loss: 0.9989 | Val Loss: 0.6136\n"
          ]
        },
        {
          "output_type": "stream",
          "name": "stderr",
          "text": [
            "Training: 100%|██████████| 63/63 [00:15<00:00,  4.18it/s]\n",
            "Evaluating: 100%|██████████| 16/16 [00:01<00:00, 11.70it/s]\n"
          ]
        },
        {
          "output_type": "stream",
          "name": "stdout",
          "text": [
            "Epoch 5/10:\n",
            "Train Loss: 0.6176 | Val Loss: 0.4542\n"
          ]
        },
        {
          "output_type": "stream",
          "name": "stderr",
          "text": [
            "Training: 100%|██████████| 63/63 [00:15<00:00,  4.18it/s]\n",
            "Evaluating: 100%|██████████| 16/16 [00:01<00:00, 11.83it/s]\n"
          ]
        },
        {
          "output_type": "stream",
          "name": "stdout",
          "text": [
            "Epoch 6/10:\n",
            "Train Loss: 0.4377 | Val Loss: 0.2963\n"
          ]
        },
        {
          "output_type": "stream",
          "name": "stderr",
          "text": [
            "Training: 100%|██████████| 63/63 [00:15<00:00,  4.18it/s]\n",
            "Evaluating: 100%|██████████| 16/16 [00:01<00:00, 11.84it/s]\n"
          ]
        },
        {
          "output_type": "stream",
          "name": "stdout",
          "text": [
            "Epoch 7/10:\n",
            "Train Loss: 0.3131 | Val Loss: 0.2298\n"
          ]
        },
        {
          "output_type": "stream",
          "name": "stderr",
          "text": [
            "Training: 100%|██████████| 63/63 [00:15<00:00,  4.18it/s]\n",
            "Evaluating: 100%|██████████| 16/16 [00:01<00:00, 11.82it/s]\n"
          ]
        },
        {
          "output_type": "stream",
          "name": "stdout",
          "text": [
            "Epoch 8/10:\n",
            "Train Loss: 0.2362 | Val Loss: 0.1882\n"
          ]
        },
        {
          "output_type": "stream",
          "name": "stderr",
          "text": [
            "Training: 100%|██████████| 63/63 [00:15<00:00,  4.17it/s]\n",
            "Evaluating: 100%|██████████| 16/16 [00:01<00:00, 11.81it/s]\n"
          ]
        },
        {
          "output_type": "stream",
          "name": "stdout",
          "text": [
            "Epoch 9/10:\n",
            "Train Loss: 0.1842 | Val Loss: 0.1192\n"
          ]
        },
        {
          "output_type": "stream",
          "name": "stderr",
          "text": [
            "Training: 100%|██████████| 63/63 [00:15<00:00,  4.18it/s]\n",
            "Evaluating: 100%|██████████| 16/16 [00:01<00:00, 11.61it/s]\n",
            "[I 2025-05-09 15:58:01,845] Trial 15 finished with value: 0.11918468028306961 and parameters: {'d_model': 256, 'num_heads': 4, 'num_layers': 6, 'd_ff': 256, 'dropout': 0.10421996274030854, 'learning_rate': 0.0006851815679212533, 'batch_size': 128}. Best is trial 15 with value: 0.11918468028306961.\n"
          ]
        },
        {
          "output_type": "stream",
          "name": "stdout",
          "text": [
            "Epoch 10/10:\n",
            "Train Loss: 0.1620 | Val Loss: 0.1330\n",
            "New best model found! Val Loss: 0.1192\n",
            "Config: {'d_model': 256, 'num_heads': 4, 'num_layers': 6, 'd_ff': 256, 'dropout': 0.10421996274030854, 'learning_rate': 0.0006851815679212533, 'batch_size': 128}\n"
          ]
        },
        {
          "output_type": "stream",
          "name": "stderr",
          "text": [
            "Training: 100%|██████████| 63/63 [00:12<00:00,  4.89it/s]\n",
            "Evaluating: 100%|██████████| 16/16 [00:01<00:00, 13.65it/s]\n"
          ]
        },
        {
          "output_type": "stream",
          "name": "stdout",
          "text": [
            "Epoch 1/10:\n",
            "Train Loss: 2.6371 | Val Loss: 2.1878\n"
          ]
        },
        {
          "output_type": "stream",
          "name": "stderr",
          "text": [
            "Training: 100%|██████████| 63/63 [00:12<00:00,  4.89it/s]\n",
            "Evaluating: 100%|██████████| 16/16 [00:01<00:00, 13.64it/s]\n"
          ]
        },
        {
          "output_type": "stream",
          "name": "stdout",
          "text": [
            "Epoch 2/10:\n",
            "Train Loss: 2.0620 | Val Loss: 1.9299\n"
          ]
        },
        {
          "output_type": "stream",
          "name": "stderr",
          "text": [
            "Training: 100%|██████████| 63/63 [00:12<00:00,  4.88it/s]\n",
            "Evaluating: 100%|██████████| 16/16 [00:01<00:00, 13.67it/s]\n"
          ]
        },
        {
          "output_type": "stream",
          "name": "stdout",
          "text": [
            "Epoch 3/10:\n",
            "Train Loss: 1.7497 | Val Loss: 1.5278\n"
          ]
        },
        {
          "output_type": "stream",
          "name": "stderr",
          "text": [
            "Training: 100%|██████████| 63/63 [00:12<00:00,  4.86it/s]\n",
            "Evaluating: 100%|██████████| 16/16 [00:01<00:00, 13.57it/s]\n"
          ]
        },
        {
          "output_type": "stream",
          "name": "stdout",
          "text": [
            "Epoch 4/10:\n",
            "Train Loss: 1.3065 | Val Loss: 0.7929\n"
          ]
        },
        {
          "output_type": "stream",
          "name": "stderr",
          "text": [
            "Training: 100%|██████████| 63/63 [00:12<00:00,  4.85it/s]\n",
            "Evaluating: 100%|██████████| 16/16 [00:01<00:00, 13.57it/s]\n"
          ]
        },
        {
          "output_type": "stream",
          "name": "stdout",
          "text": [
            "Epoch 5/10:\n",
            "Train Loss: 0.7309 | Val Loss: 0.4716\n"
          ]
        },
        {
          "output_type": "stream",
          "name": "stderr",
          "text": [
            "Training: 100%|██████████| 63/63 [00:12<00:00,  4.88it/s]\n",
            "Evaluating: 100%|██████████| 16/16 [00:01<00:00, 13.60it/s]\n"
          ]
        },
        {
          "output_type": "stream",
          "name": "stdout",
          "text": [
            "Epoch 6/10:\n",
            "Train Loss: 0.4903 | Val Loss: 0.2953\n"
          ]
        },
        {
          "output_type": "stream",
          "name": "stderr",
          "text": [
            "Training: 100%|██████████| 63/63 [00:12<00:00,  4.88it/s]\n",
            "Evaluating: 100%|██████████| 16/16 [00:01<00:00, 13.67it/s]\n"
          ]
        },
        {
          "output_type": "stream",
          "name": "stdout",
          "text": [
            "Epoch 7/10:\n",
            "Train Loss: 0.3611 | Val Loss: 0.2170\n"
          ]
        },
        {
          "output_type": "stream",
          "name": "stderr",
          "text": [
            "Training: 100%|██████████| 63/63 [00:12<00:00,  4.88it/s]\n",
            "Evaluating: 100%|██████████| 16/16 [00:01<00:00, 13.60it/s]\n"
          ]
        },
        {
          "output_type": "stream",
          "name": "stdout",
          "text": [
            "Epoch 8/10:\n",
            "Train Loss: 0.2825 | Val Loss: 0.1835\n"
          ]
        },
        {
          "output_type": "stream",
          "name": "stderr",
          "text": [
            "Training: 100%|██████████| 63/63 [00:12<00:00,  4.89it/s]\n",
            "Evaluating: 100%|██████████| 16/16 [00:01<00:00, 13.08it/s]\n"
          ]
        },
        {
          "output_type": "stream",
          "name": "stdout",
          "text": [
            "Epoch 9/10:\n",
            "Train Loss: 0.2176 | Val Loss: 0.1273\n"
          ]
        },
        {
          "output_type": "stream",
          "name": "stderr",
          "text": [
            "Training: 100%|██████████| 63/63 [00:12<00:00,  4.87it/s]\n",
            "Evaluating: 100%|██████████| 16/16 [00:01<00:00, 13.23it/s]\n",
            "[I 2025-05-09 16:00:23,025] Trial 16 finished with value: 0.12732498347759247 and parameters: {'d_model': 256, 'num_heads': 2, 'num_layers': 6, 'd_ff': 256, 'dropout': 0.10667832616071012, 'learning_rate': 0.0007259614701715942, 'batch_size': 128}. Best is trial 15 with value: 0.11918468028306961.\n"
          ]
        },
        {
          "output_type": "stream",
          "name": "stdout",
          "text": [
            "Epoch 10/10:\n",
            "Train Loss: 0.1862 | Val Loss: 0.1426\n"
          ]
        },
        {
          "output_type": "stream",
          "name": "stderr",
          "text": [
            "Training: 100%|██████████| 63/63 [00:28<00:00,  2.22it/s]\n",
            "Evaluating: 100%|██████████| 16/16 [00:02<00:00,  6.46it/s]\n"
          ]
        },
        {
          "output_type": "stream",
          "name": "stdout",
          "text": [
            "Epoch 1/10:\n",
            "Train Loss: 3.0637 | Val Loss: 2.9810\n"
          ]
        },
        {
          "output_type": "stream",
          "name": "stderr",
          "text": [
            "Training: 100%|██████████| 63/63 [00:28<00:00,  2.22it/s]\n",
            "Evaluating: 100%|██████████| 16/16 [00:02<00:00,  6.48it/s]\n"
          ]
        },
        {
          "output_type": "stream",
          "name": "stdout",
          "text": [
            "Epoch 2/10:\n",
            "Train Loss: 2.9840 | Val Loss: 2.9764\n"
          ]
        },
        {
          "output_type": "stream",
          "name": "stderr",
          "text": [
            "Training: 100%|██████████| 63/63 [00:28<00:00,  2.23it/s]\n",
            "Evaluating: 100%|██████████| 16/16 [00:02<00:00,  6.46it/s]\n"
          ]
        },
        {
          "output_type": "stream",
          "name": "stdout",
          "text": [
            "Epoch 3/10:\n",
            "Train Loss: 2.9814 | Val Loss: 2.9755\n"
          ]
        },
        {
          "output_type": "stream",
          "name": "stderr",
          "text": [
            "Training: 100%|██████████| 63/63 [00:28<00:00,  2.23it/s]\n",
            "Evaluating: 100%|██████████| 16/16 [00:02<00:00,  6.46it/s]\n"
          ]
        },
        {
          "output_type": "stream",
          "name": "stdout",
          "text": [
            "Epoch 4/10:\n",
            "Train Loss: 2.9797 | Val Loss: 2.9762\n"
          ]
        },
        {
          "output_type": "stream",
          "name": "stderr",
          "text": [
            "Training: 100%|██████████| 63/63 [00:28<00:00,  2.23it/s]\n",
            "Evaluating: 100%|██████████| 16/16 [00:02<00:00,  6.47it/s]\n"
          ]
        },
        {
          "output_type": "stream",
          "name": "stdout",
          "text": [
            "Epoch 5/10:\n",
            "Train Loss: 2.9723 | Val Loss: 3.0435\n"
          ]
        },
        {
          "output_type": "stream",
          "name": "stderr",
          "text": [
            "Training: 100%|██████████| 63/63 [00:28<00:00,  2.23it/s]\n",
            "Evaluating: 100%|██████████| 16/16 [00:02<00:00,  6.43it/s]\n",
            "[I 2025-05-09 16:03:27,868] Trial 17 finished with value: 2.9755352437496185 and parameters: {'d_model': 256, 'num_heads': 16, 'num_layers': 6, 'd_ff': 256, 'dropout': 0.1010969208386506, 'learning_rate': 0.0019000771165884152, 'batch_size': 128}. Best is trial 15 with value: 0.11918468028306961.\n"
          ]
        },
        {
          "output_type": "stream",
          "name": "stdout",
          "text": [
            "Epoch 6/10:\n",
            "Train Loss: 2.9463 | Val Loss: 3.2746\n",
            "Early stopping triggered!\n"
          ]
        },
        {
          "output_type": "stream",
          "name": "stderr",
          "text": [
            "Training: 100%|██████████| 63/63 [00:15<00:00,  4.18it/s]\n",
            "Evaluating: 100%|██████████| 16/16 [00:01<00:00, 11.83it/s]\n"
          ]
        },
        {
          "output_type": "stream",
          "name": "stdout",
          "text": [
            "Epoch 1/10:\n",
            "Train Loss: 2.5714 | Val Loss: 2.1690\n"
          ]
        },
        {
          "output_type": "stream",
          "name": "stderr",
          "text": [
            "Training: 100%|██████████| 63/63 [00:15<00:00,  4.18it/s]\n",
            "Evaluating: 100%|██████████| 16/16 [00:01<00:00, 11.55it/s]\n"
          ]
        },
        {
          "output_type": "stream",
          "name": "stdout",
          "text": [
            "Epoch 2/10:\n",
            "Train Loss: 2.0379 | Val Loss: 1.9126\n"
          ]
        },
        {
          "output_type": "stream",
          "name": "stderr",
          "text": [
            "Training: 100%|██████████| 63/63 [00:15<00:00,  4.17it/s]\n",
            "Evaluating: 100%|██████████| 16/16 [00:01<00:00, 11.65it/s]\n"
          ]
        },
        {
          "output_type": "stream",
          "name": "stdout",
          "text": [
            "Epoch 3/10:\n",
            "Train Loss: 1.7224 | Val Loss: 1.5368\n"
          ]
        },
        {
          "output_type": "stream",
          "name": "stderr",
          "text": [
            "Training: 100%|██████████| 63/63 [00:15<00:00,  4.18it/s]\n",
            "Evaluating: 100%|██████████| 16/16 [00:01<00:00, 11.84it/s]\n"
          ]
        },
        {
          "output_type": "stream",
          "name": "stdout",
          "text": [
            "Epoch 4/10:\n",
            "Train Loss: 1.3481 | Val Loss: 0.9566\n"
          ]
        },
        {
          "output_type": "stream",
          "name": "stderr",
          "text": [
            "Training: 100%|██████████| 63/63 [00:15<00:00,  4.17it/s]\n",
            "Evaluating: 100%|██████████| 16/16 [00:01<00:00, 11.78it/s]\n"
          ]
        },
        {
          "output_type": "stream",
          "name": "stdout",
          "text": [
            "Epoch 5/10:\n",
            "Train Loss: 0.8044 | Val Loss: 0.5090\n"
          ]
        },
        {
          "output_type": "stream",
          "name": "stderr",
          "text": [
            "Training: 100%|██████████| 63/63 [00:15<00:00,  4.17it/s]\n",
            "Evaluating: 100%|██████████| 16/16 [00:01<00:00, 11.83it/s]\n"
          ]
        },
        {
          "output_type": "stream",
          "name": "stdout",
          "text": [
            "Epoch 6/10:\n",
            "Train Loss: 0.5159 | Val Loss: 0.3244\n"
          ]
        },
        {
          "output_type": "stream",
          "name": "stderr",
          "text": [
            "Training: 100%|██████████| 63/63 [00:15<00:00,  4.17it/s]\n",
            "Evaluating: 100%|██████████| 16/16 [00:01<00:00, 11.74it/s]\n"
          ]
        },
        {
          "output_type": "stream",
          "name": "stdout",
          "text": [
            "Epoch 7/10:\n",
            "Train Loss: 0.3583 | Val Loss: 0.2372\n"
          ]
        },
        {
          "output_type": "stream",
          "name": "stderr",
          "text": [
            "Training: 100%|██████████| 63/63 [00:15<00:00,  4.16it/s]\n",
            "Evaluating: 100%|██████████| 16/16 [00:01<00:00, 11.71it/s]\n"
          ]
        },
        {
          "output_type": "stream",
          "name": "stdout",
          "text": [
            "Epoch 8/10:\n",
            "Train Loss: 0.2690 | Val Loss: 0.1587\n"
          ]
        },
        {
          "output_type": "stream",
          "name": "stderr",
          "text": [
            "Training: 100%|██████████| 63/63 [00:15<00:00,  4.16it/s]\n",
            "Evaluating: 100%|██████████| 16/16 [00:01<00:00, 11.80it/s]\n"
          ]
        },
        {
          "output_type": "stream",
          "name": "stdout",
          "text": [
            "Epoch 9/10:\n",
            "Train Loss: 0.2056 | Val Loss: 0.1507\n"
          ]
        },
        {
          "output_type": "stream",
          "name": "stderr",
          "text": [
            "Training: 100%|██████████| 63/63 [00:15<00:00,  4.18it/s]\n",
            "Evaluating: 100%|██████████| 16/16 [00:01<00:00, 11.84it/s]\n",
            "[I 2025-05-09 16:06:12,833] Trial 18 finished with value: 0.10892352042719722 and parameters: {'d_model': 256, 'num_heads': 4, 'num_layers': 6, 'd_ff': 256, 'dropout': 0.10205061074117658, 'learning_rate': 0.000704969990251232, 'batch_size': 128}. Best is trial 18 with value: 0.10892352042719722.\n"
          ]
        },
        {
          "output_type": "stream",
          "name": "stdout",
          "text": [
            "Epoch 10/10:\n",
            "Train Loss: 0.1832 | Val Loss: 0.1089\n",
            "New best model found! Val Loss: 0.1089\n",
            "Config: {'d_model': 256, 'num_heads': 4, 'num_layers': 6, 'd_ff': 256, 'dropout': 0.10205061074117658, 'learning_rate': 0.000704969990251232, 'batch_size': 128}\n"
          ]
        },
        {
          "output_type": "stream",
          "name": "stderr",
          "text": [
            "Training: 100%|██████████| 63/63 [00:15<00:00,  4.19it/s]\n",
            "Evaluating: 100%|██████████| 16/16 [00:01<00:00, 11.40it/s]\n"
          ]
        },
        {
          "output_type": "stream",
          "name": "stdout",
          "text": [
            "Epoch 1/10:\n",
            "Train Loss: 3.0598 | Val Loss: 2.9778\n"
          ]
        },
        {
          "output_type": "stream",
          "name": "stderr",
          "text": [
            "Training: 100%|██████████| 63/63 [00:15<00:00,  4.18it/s]\n",
            "Evaluating: 100%|██████████| 16/16 [00:01<00:00, 11.91it/s]\n"
          ]
        },
        {
          "output_type": "stream",
          "name": "stdout",
          "text": [
            "Epoch 2/10:\n",
            "Train Loss: 2.9844 | Val Loss: 2.9793\n"
          ]
        },
        {
          "output_type": "stream",
          "name": "stderr",
          "text": [
            "Training: 100%|██████████| 63/63 [00:15<00:00,  4.18it/s]\n",
            "Evaluating: 100%|██████████| 16/16 [00:01<00:00, 11.91it/s]\n"
          ]
        },
        {
          "output_type": "stream",
          "name": "stdout",
          "text": [
            "Epoch 3/10:\n",
            "Train Loss: 2.9828 | Val Loss: 2.9771\n"
          ]
        },
        {
          "output_type": "stream",
          "name": "stderr",
          "text": [
            "Training: 100%|██████████| 63/63 [00:15<00:00,  4.15it/s]\n",
            "Evaluating: 100%|██████████| 16/16 [00:01<00:00, 11.91it/s]\n"
          ]
        },
        {
          "output_type": "stream",
          "name": "stdout",
          "text": [
            "Epoch 4/10:\n",
            "Train Loss: 2.9726 | Val Loss: 3.0397\n"
          ]
        },
        {
          "output_type": "stream",
          "name": "stderr",
          "text": [
            "Training: 100%|██████████| 63/63 [00:15<00:00,  4.19it/s]\n",
            "Evaluating: 100%|██████████| 16/16 [00:01<00:00, 11.94it/s]\n"
          ]
        },
        {
          "output_type": "stream",
          "name": "stdout",
          "text": [
            "Epoch 5/10:\n",
            "Train Loss: 2.9472 | Val Loss: 3.5187\n"
          ]
        },
        {
          "output_type": "stream",
          "name": "stderr",
          "text": [
            "Training: 100%|██████████| 63/63 [00:15<00:00,  4.19it/s]\n",
            "Evaluating: 100%|██████████| 16/16 [00:01<00:00, 11.91it/s]\n",
            "[I 2025-05-09 16:07:51,528] Trial 19 finished with value: 2.9770925045013428 and parameters: {'d_model': 256, 'num_heads': 4, 'num_layers': 6, 'd_ff': 256, 'dropout': 0.13253573598373022, 'learning_rate': 0.0016511269783723262, 'batch_size': 128}. Best is trial 18 with value: 0.10892352042719722.\n"
          ]
        },
        {
          "output_type": "stream",
          "name": "stdout",
          "text": [
            "Epoch 6/10:\n",
            "Train Loss: 2.9347 | Val Loss: 3.6610\n",
            "Early stopping triggered!\n"
          ]
        },
        {
          "output_type": "stream",
          "name": "stderr",
          "text": [
            "Training: 100%|██████████| 63/63 [00:28<00:00,  2.18it/s]\n",
            "Evaluating: 100%|██████████| 16/16 [00:02<00:00,  6.52it/s]\n"
          ]
        },
        {
          "output_type": "stream",
          "name": "stdout",
          "text": [
            "Epoch 1/10:\n",
            "Train Loss: 3.0765 | Val Loss: 2.9794\n"
          ]
        },
        {
          "output_type": "stream",
          "name": "stderr",
          "text": [
            "Training: 100%|██████████| 63/63 [00:29<00:00,  2.16it/s]\n",
            "Evaluating: 100%|██████████| 16/16 [00:02<00:00,  6.43it/s]\n"
          ]
        },
        {
          "output_type": "stream",
          "name": "stdout",
          "text": [
            "Epoch 2/10:\n",
            "Train Loss: 2.9837 | Val Loss: 2.9793\n"
          ]
        },
        {
          "output_type": "stream",
          "name": "stderr",
          "text": [
            "Training: 100%|██████████| 63/63 [00:28<00:00,  2.18it/s]\n",
            "Evaluating: 100%|██████████| 16/16 [00:02<00:00,  6.49it/s]\n"
          ]
        },
        {
          "output_type": "stream",
          "name": "stdout",
          "text": [
            "Epoch 3/10:\n",
            "Train Loss: 2.9810 | Val Loss: 2.9774\n"
          ]
        },
        {
          "output_type": "stream",
          "name": "stderr",
          "text": [
            "Training: 100%|██████████| 63/63 [00:28<00:00,  2.18it/s]\n",
            "Evaluating: 100%|██████████| 16/16 [00:02<00:00,  6.25it/s]\n"
          ]
        },
        {
          "output_type": "stream",
          "name": "stdout",
          "text": [
            "Epoch 4/10:\n",
            "Train Loss: 2.9783 | Val Loss: 2.9770\n"
          ]
        },
        {
          "output_type": "stream",
          "name": "stderr",
          "text": [
            "Training: 100%|██████████| 63/63 [00:28<00:00,  2.18it/s]\n",
            "Evaluating: 100%|██████████| 16/16 [00:02<00:00,  6.50it/s]\n"
          ]
        },
        {
          "output_type": "stream",
          "name": "stdout",
          "text": [
            "Epoch 5/10:\n",
            "Train Loss: 2.9772 | Val Loss: 2.9799\n"
          ]
        },
        {
          "output_type": "stream",
          "name": "stderr",
          "text": [
            "Training: 100%|██████████| 63/63 [00:28<00:00,  2.18it/s]\n",
            "Evaluating: 100%|██████████| 16/16 [00:02<00:00,  6.50it/s]\n"
          ]
        },
        {
          "output_type": "stream",
          "name": "stdout",
          "text": [
            "Epoch 6/10:\n",
            "Train Loss: 2.9756 | Val Loss: 3.2602\n"
          ]
        },
        {
          "output_type": "stream",
          "name": "stderr",
          "text": [
            "Training: 100%|██████████| 63/63 [00:28<00:00,  2.17it/s]\n",
            "Evaluating: 100%|██████████| 16/16 [00:02<00:00,  6.48it/s]\n",
            "[I 2025-05-09 16:11:31,737] Trial 20 finished with value: 2.977009207010269 and parameters: {'d_model': 256, 'num_heads': 4, 'num_layers': 12, 'd_ff': 256, 'dropout': 0.14144076635302677, 'learning_rate': 0.003707158636640508, 'batch_size': 128}. Best is trial 18 with value: 0.10892352042719722.\n"
          ]
        },
        {
          "output_type": "stream",
          "name": "stdout",
          "text": [
            "Epoch 7/10:\n",
            "Train Loss: 2.9702 | Val Loss: 3.4103\n",
            "Early stopping triggered!\n"
          ]
        },
        {
          "output_type": "stream",
          "name": "stderr",
          "text": [
            "Training: 100%|██████████| 63/63 [00:15<00:00,  4.19it/s]\n",
            "Evaluating: 100%|██████████| 16/16 [00:01<00:00, 11.91it/s]\n"
          ]
        },
        {
          "output_type": "stream",
          "name": "stdout",
          "text": [
            "Epoch 1/10:\n",
            "Train Loss: 2.6377 | Val Loss: 2.2092\n"
          ]
        },
        {
          "output_type": "stream",
          "name": "stderr",
          "text": [
            "Training: 100%|██████████| 63/63 [00:15<00:00,  4.19it/s]\n",
            "Evaluating: 100%|██████████| 16/16 [00:01<00:00, 11.93it/s]\n"
          ]
        },
        {
          "output_type": "stream",
          "name": "stdout",
          "text": [
            "Epoch 2/10:\n",
            "Train Loss: 2.0647 | Val Loss: 1.8784\n"
          ]
        },
        {
          "output_type": "stream",
          "name": "stderr",
          "text": [
            "Training: 100%|██████████| 63/63 [00:15<00:00,  4.19it/s]\n",
            "Evaluating: 100%|██████████| 16/16 [00:01<00:00, 11.86it/s]\n"
          ]
        },
        {
          "output_type": "stream",
          "name": "stdout",
          "text": [
            "Epoch 3/10:\n",
            "Train Loss: 1.7161 | Val Loss: 1.4734\n"
          ]
        },
        {
          "output_type": "stream",
          "name": "stderr",
          "text": [
            "Training: 100%|██████████| 63/63 [00:15<00:00,  4.19it/s]\n",
            "Evaluating: 100%|██████████| 16/16 [00:01<00:00, 11.84it/s]\n"
          ]
        },
        {
          "output_type": "stream",
          "name": "stdout",
          "text": [
            "Epoch 4/10:\n",
            "Train Loss: 1.2855 | Val Loss: 0.8626\n"
          ]
        },
        {
          "output_type": "stream",
          "name": "stderr",
          "text": [
            "Training: 100%|██████████| 63/63 [00:15<00:00,  4.19it/s]\n",
            "Evaluating: 100%|██████████| 16/16 [00:01<00:00, 11.80it/s]\n"
          ]
        },
        {
          "output_type": "stream",
          "name": "stdout",
          "text": [
            "Epoch 5/10:\n",
            "Train Loss: 0.7466 | Val Loss: 0.5145\n"
          ]
        },
        {
          "output_type": "stream",
          "name": "stderr",
          "text": [
            "Training: 100%|██████████| 63/63 [00:15<00:00,  4.19it/s]\n",
            "Evaluating: 100%|██████████| 16/16 [00:01<00:00, 11.90it/s]\n"
          ]
        },
        {
          "output_type": "stream",
          "name": "stdout",
          "text": [
            "Epoch 6/10:\n",
            "Train Loss: 0.4980 | Val Loss: 0.3095\n"
          ]
        },
        {
          "output_type": "stream",
          "name": "stderr",
          "text": [
            "Training: 100%|██████████| 63/63 [00:15<00:00,  4.17it/s]\n",
            "Evaluating: 100%|██████████| 16/16 [00:01<00:00, 11.94it/s]\n"
          ]
        },
        {
          "output_type": "stream",
          "name": "stdout",
          "text": [
            "Epoch 7/10:\n",
            "Train Loss: 0.3441 | Val Loss: 0.2493\n"
          ]
        },
        {
          "output_type": "stream",
          "name": "stderr",
          "text": [
            "Training: 100%|██████████| 63/63 [00:15<00:00,  4.19it/s]\n",
            "Evaluating: 100%|██████████| 16/16 [00:01<00:00, 11.66it/s]\n"
          ]
        },
        {
          "output_type": "stream",
          "name": "stdout",
          "text": [
            "Epoch 8/10:\n",
            "Train Loss: 0.2585 | Val Loss: 0.1693\n"
          ]
        },
        {
          "output_type": "stream",
          "name": "stderr",
          "text": [
            "Training: 100%|██████████| 63/63 [00:15<00:00,  4.20it/s]\n",
            "Evaluating: 100%|██████████| 16/16 [00:01<00:00, 11.92it/s]\n"
          ]
        },
        {
          "output_type": "stream",
          "name": "stdout",
          "text": [
            "Epoch 9/10:\n",
            "Train Loss: 0.2057 | Val Loss: 0.1475\n"
          ]
        },
        {
          "output_type": "stream",
          "name": "stderr",
          "text": [
            "Training: 100%|██████████| 63/63 [00:15<00:00,  4.19it/s]\n",
            "Evaluating: 100%|██████████| 16/16 [00:01<00:00, 11.89it/s]\n",
            "[I 2025-05-09 16:14:15,812] Trial 21 finished with value: 0.12109877448529005 and parameters: {'d_model': 256, 'num_heads': 4, 'num_layers': 6, 'd_ff': 256, 'dropout': 0.103433948769456, 'learning_rate': 0.0006582164508680134, 'batch_size': 128}. Best is trial 18 with value: 0.10892352042719722.\n"
          ]
        },
        {
          "output_type": "stream",
          "name": "stdout",
          "text": [
            "Epoch 10/10:\n",
            "Train Loss: 0.1659 | Val Loss: 0.1211\n"
          ]
        },
        {
          "output_type": "stream",
          "name": "stderr",
          "text": [
            "Training: 100%|██████████| 63/63 [00:15<00:00,  4.19it/s]\n",
            "Evaluating: 100%|██████████| 16/16 [00:01<00:00, 11.92it/s]\n"
          ]
        },
        {
          "output_type": "stream",
          "name": "stdout",
          "text": [
            "Epoch 1/10:\n",
            "Train Loss: 2.6412 | Val Loss: 2.2157\n"
          ]
        },
        {
          "output_type": "stream",
          "name": "stderr",
          "text": [
            "Training: 100%|██████████| 63/63 [00:15<00:00,  4.16it/s]\n",
            "Evaluating: 100%|██████████| 16/16 [00:01<00:00, 11.80it/s]\n"
          ]
        },
        {
          "output_type": "stream",
          "name": "stdout",
          "text": [
            "Epoch 2/10:\n",
            "Train Loss: 2.0648 | Val Loss: 1.8952\n"
          ]
        },
        {
          "output_type": "stream",
          "name": "stderr",
          "text": [
            "Training: 100%|██████████| 63/63 [00:15<00:00,  4.19it/s]\n",
            "Evaluating: 100%|██████████| 16/16 [00:01<00:00, 11.93it/s]\n"
          ]
        },
        {
          "output_type": "stream",
          "name": "stdout",
          "text": [
            "Epoch 3/10:\n",
            "Train Loss: 1.8232 | Val Loss: 1.6691\n"
          ]
        },
        {
          "output_type": "stream",
          "name": "stderr",
          "text": [
            "Training: 100%|██████████| 63/63 [00:15<00:00,  4.19it/s]\n",
            "Evaluating: 100%|██████████| 16/16 [00:01<00:00, 11.57it/s]\n"
          ]
        },
        {
          "output_type": "stream",
          "name": "stdout",
          "text": [
            "Epoch 4/10:\n",
            "Train Loss: 1.5479 | Val Loss: 1.3554\n"
          ]
        },
        {
          "output_type": "stream",
          "name": "stderr",
          "text": [
            "Training: 100%|██████████| 63/63 [00:15<00:00,  4.19it/s]\n",
            "Evaluating: 100%|██████████| 16/16 [00:01<00:00, 11.95it/s]\n"
          ]
        },
        {
          "output_type": "stream",
          "name": "stdout",
          "text": [
            "Epoch 5/10:\n",
            "Train Loss: 1.1693 | Val Loss: 0.8068\n"
          ]
        },
        {
          "output_type": "stream",
          "name": "stderr",
          "text": [
            "Training: 100%|██████████| 63/63 [00:15<00:00,  4.19it/s]\n",
            "Evaluating: 100%|██████████| 16/16 [00:01<00:00, 11.77it/s]\n"
          ]
        },
        {
          "output_type": "stream",
          "name": "stdout",
          "text": [
            "Epoch 6/10:\n",
            "Train Loss: 0.7051 | Val Loss: 0.4628\n"
          ]
        },
        {
          "output_type": "stream",
          "name": "stderr",
          "text": [
            "Training: 100%|██████████| 63/63 [00:15<00:00,  4.19it/s]\n",
            "Evaluating: 100%|██████████| 16/16 [00:01<00:00, 11.92it/s]\n"
          ]
        },
        {
          "output_type": "stream",
          "name": "stdout",
          "text": [
            "Epoch 7/10:\n",
            "Train Loss: 0.4628 | Val Loss: 0.2829\n"
          ]
        },
        {
          "output_type": "stream",
          "name": "stderr",
          "text": [
            "Training: 100%|██████████| 63/63 [00:15<00:00,  4.15it/s]\n",
            "Evaluating: 100%|██████████| 16/16 [00:01<00:00, 11.95it/s]\n"
          ]
        },
        {
          "output_type": "stream",
          "name": "stdout",
          "text": [
            "Epoch 8/10:\n",
            "Train Loss: 0.3182 | Val Loss: 0.1993\n"
          ]
        },
        {
          "output_type": "stream",
          "name": "stderr",
          "text": [
            "Training: 100%|██████████| 63/63 [00:15<00:00,  4.19it/s]\n",
            "Evaluating: 100%|██████████| 16/16 [00:01<00:00, 11.79it/s]\n"
          ]
        },
        {
          "output_type": "stream",
          "name": "stdout",
          "text": [
            "Epoch 9/10:\n",
            "Train Loss: 0.2455 | Val Loss: 0.2162\n"
          ]
        },
        {
          "output_type": "stream",
          "name": "stderr",
          "text": [
            "Training: 100%|██████████| 63/63 [00:15<00:00,  4.19it/s]\n",
            "Evaluating: 100%|██████████| 16/16 [00:01<00:00, 11.90it/s]\n",
            "[I 2025-05-09 16:17:00,081] Trial 22 finished with value: 0.12470369879156351 and parameters: {'d_model': 256, 'num_heads': 4, 'num_layers': 6, 'd_ff': 256, 'dropout': 0.10045783325192552, 'learning_rate': 0.0009370790468253248, 'batch_size': 128}. Best is trial 18 with value: 0.10892352042719722.\n"
          ]
        },
        {
          "output_type": "stream",
          "name": "stdout",
          "text": [
            "Epoch 10/10:\n",
            "Train Loss: 0.1973 | Val Loss: 0.1247\n"
          ]
        },
        {
          "output_type": "stream",
          "name": "stderr",
          "text": [
            "Training: 100%|██████████| 63/63 [00:15<00:00,  4.19it/s]\n",
            "Evaluating: 100%|██████████| 16/16 [00:01<00:00, 11.87it/s]\n"
          ]
        },
        {
          "output_type": "stream",
          "name": "stdout",
          "text": [
            "Epoch 1/10:\n",
            "Train Loss: 2.6155 | Val Loss: 2.2018\n"
          ]
        },
        {
          "output_type": "stream",
          "name": "stderr",
          "text": [
            "Training: 100%|██████████| 63/63 [00:15<00:00,  4.19it/s]\n",
            "Evaluating: 100%|██████████| 16/16 [00:01<00:00, 11.53it/s]\n"
          ]
        },
        {
          "output_type": "stream",
          "name": "stdout",
          "text": [
            "Epoch 2/10:\n",
            "Train Loss: 2.0382 | Val Loss: 1.8472\n"
          ]
        },
        {
          "output_type": "stream",
          "name": "stderr",
          "text": [
            "Training: 100%|██████████| 63/63 [00:15<00:00,  4.19it/s]\n",
            "Evaluating: 100%|██████████| 16/16 [00:01<00:00, 11.85it/s]\n"
          ]
        },
        {
          "output_type": "stream",
          "name": "stdout",
          "text": [
            "Epoch 3/10:\n",
            "Train Loss: 1.7196 | Val Loss: 1.4656\n"
          ]
        },
        {
          "output_type": "stream",
          "name": "stderr",
          "text": [
            "Training: 100%|██████████| 63/63 [00:15<00:00,  4.17it/s]\n",
            "Evaluating: 100%|██████████| 16/16 [00:01<00:00, 11.85it/s]\n"
          ]
        },
        {
          "output_type": "stream",
          "name": "stdout",
          "text": [
            "Epoch 4/10:\n",
            "Train Loss: 1.3271 | Val Loss: 0.8725\n"
          ]
        },
        {
          "output_type": "stream",
          "name": "stderr",
          "text": [
            "Training: 100%|██████████| 63/63 [00:15<00:00,  4.18it/s]\n",
            "Evaluating: 100%|██████████| 16/16 [00:01<00:00, 11.59it/s]\n"
          ]
        },
        {
          "output_type": "stream",
          "name": "stdout",
          "text": [
            "Epoch 5/10:\n",
            "Train Loss: 0.8421 | Val Loss: 0.5213\n"
          ]
        },
        {
          "output_type": "stream",
          "name": "stderr",
          "text": [
            "Training: 100%|██████████| 63/63 [00:15<00:00,  4.18it/s]\n",
            "Evaluating: 100%|██████████| 16/16 [00:01<00:00, 11.96it/s]\n"
          ]
        },
        {
          "output_type": "stream",
          "name": "stdout",
          "text": [
            "Epoch 6/10:\n",
            "Train Loss: 0.5952 | Val Loss: 0.3604\n"
          ]
        },
        {
          "output_type": "stream",
          "name": "stderr",
          "text": [
            "Training: 100%|██████████| 63/63 [00:15<00:00,  4.19it/s]\n",
            "Evaluating: 100%|██████████| 16/16 [00:01<00:00, 11.89it/s]\n"
          ]
        },
        {
          "output_type": "stream",
          "name": "stdout",
          "text": [
            "Epoch 7/10:\n",
            "Train Loss: 0.4483 | Val Loss: 0.2880\n"
          ]
        },
        {
          "output_type": "stream",
          "name": "stderr",
          "text": [
            "Training: 100%|██████████| 63/63 [00:15<00:00,  4.19it/s]\n",
            "Evaluating: 100%|██████████| 16/16 [00:01<00:00, 11.93it/s]\n"
          ]
        },
        {
          "output_type": "stream",
          "name": "stdout",
          "text": [
            "Epoch 8/10:\n",
            "Train Loss: 0.3483 | Val Loss: 0.1902\n"
          ]
        },
        {
          "output_type": "stream",
          "name": "stderr",
          "text": [
            "Training: 100%|██████████| 63/63 [00:15<00:00,  4.19it/s]\n",
            "Evaluating: 100%|██████████| 16/16 [00:01<00:00, 11.91it/s]\n"
          ]
        },
        {
          "output_type": "stream",
          "name": "stdout",
          "text": [
            "Epoch 9/10:\n",
            "Train Loss: 0.2832 | Val Loss: 0.1676\n"
          ]
        },
        {
          "output_type": "stream",
          "name": "stderr",
          "text": [
            "Training: 100%|██████████| 63/63 [00:15<00:00,  4.17it/s]\n",
            "Evaluating: 100%|██████████| 16/16 [00:01<00:00, 11.78it/s]\n",
            "[I 2025-05-09 16:19:44,373] Trial 23 finished with value: 0.15026299795135856 and parameters: {'d_model': 256, 'num_heads': 4, 'num_layers': 6, 'd_ff': 256, 'dropout': 0.17002923434584055, 'learning_rate': 0.0006649874617523108, 'batch_size': 128}. Best is trial 18 with value: 0.10892352042719722.\n"
          ]
        },
        {
          "output_type": "stream",
          "name": "stdout",
          "text": [
            "Epoch 10/10:\n",
            "Train Loss: 0.2301 | Val Loss: 0.1503\n"
          ]
        },
        {
          "output_type": "stream",
          "name": "stderr",
          "text": [
            "Training: 100%|██████████| 63/63 [00:15<00:00,  4.18it/s]\n",
            "Evaluating: 100%|██████████| 16/16 [00:01<00:00, 11.89it/s]\n"
          ]
        },
        {
          "output_type": "stream",
          "name": "stdout",
          "text": [
            "Epoch 1/10:\n",
            "Train Loss: 2.6962 | Val Loss: 2.2413\n"
          ]
        },
        {
          "output_type": "stream",
          "name": "stderr",
          "text": [
            "Training: 100%|██████████| 63/63 [00:15<00:00,  4.19it/s]\n",
            "Evaluating: 100%|██████████| 16/16 [00:01<00:00, 11.90it/s]\n"
          ]
        },
        {
          "output_type": "stream",
          "name": "stdout",
          "text": [
            "Epoch 2/10:\n",
            "Train Loss: 2.1550 | Val Loss: 2.0795\n"
          ]
        },
        {
          "output_type": "stream",
          "name": "stderr",
          "text": [
            "Training: 100%|██████████| 63/63 [00:15<00:00,  4.18it/s]\n",
            "Evaluating: 100%|██████████| 16/16 [00:01<00:00, 11.92it/s]\n"
          ]
        },
        {
          "output_type": "stream",
          "name": "stdout",
          "text": [
            "Epoch 3/10:\n",
            "Train Loss: 1.9720 | Val Loss: 1.8352\n"
          ]
        },
        {
          "output_type": "stream",
          "name": "stderr",
          "text": [
            "Training: 100%|██████████| 63/63 [00:15<00:00,  4.19it/s]\n",
            "Evaluating: 100%|██████████| 16/16 [00:01<00:00, 11.91it/s]\n"
          ]
        },
        {
          "output_type": "stream",
          "name": "stdout",
          "text": [
            "Epoch 4/10:\n",
            "Train Loss: 1.8135 | Val Loss: 1.6781\n"
          ]
        },
        {
          "output_type": "stream",
          "name": "stderr",
          "text": [
            "Training: 100%|██████████| 63/63 [00:15<00:00,  4.19it/s]\n",
            "Evaluating: 100%|██████████| 16/16 [00:01<00:00, 11.91it/s]\n"
          ]
        },
        {
          "output_type": "stream",
          "name": "stdout",
          "text": [
            "Epoch 5/10:\n",
            "Train Loss: 1.6800 | Val Loss: 1.5503\n"
          ]
        },
        {
          "output_type": "stream",
          "name": "stderr",
          "text": [
            "Training: 100%|██████████| 63/63 [00:15<00:00,  4.19it/s]\n",
            "Evaluating: 100%|██████████| 16/16 [00:01<00:00, 11.90it/s]\n"
          ]
        },
        {
          "output_type": "stream",
          "name": "stdout",
          "text": [
            "Epoch 6/10:\n",
            "Train Loss: 1.5189 | Val Loss: 1.3163\n"
          ]
        },
        {
          "output_type": "stream",
          "name": "stderr",
          "text": [
            "Training: 100%|██████████| 63/63 [00:15<00:00,  4.20it/s]\n",
            "Evaluating: 100%|██████████| 16/16 [00:01<00:00, 11.94it/s]\n"
          ]
        },
        {
          "output_type": "stream",
          "name": "stdout",
          "text": [
            "Epoch 7/10:\n",
            "Train Loss: 1.2974 | Val Loss: 0.9956\n"
          ]
        },
        {
          "output_type": "stream",
          "name": "stderr",
          "text": [
            "Training: 100%|██████████| 63/63 [00:15<00:00,  4.19it/s]\n",
            "Evaluating: 100%|██████████| 16/16 [00:01<00:00, 11.86it/s]\n"
          ]
        },
        {
          "output_type": "stream",
          "name": "stdout",
          "text": [
            "Epoch 8/10:\n",
            "Train Loss: 1.0153 | Val Loss: 0.7196\n"
          ]
        },
        {
          "output_type": "stream",
          "name": "stderr",
          "text": [
            "Training: 100%|██████████| 63/63 [00:15<00:00,  4.19it/s]\n",
            "Evaluating: 100%|██████████| 16/16 [00:01<00:00, 11.92it/s]\n"
          ]
        },
        {
          "output_type": "stream",
          "name": "stdout",
          "text": [
            "Epoch 9/10:\n",
            "Train Loss: 0.8050 | Val Loss: 0.5563\n"
          ]
        },
        {
          "output_type": "stream",
          "name": "stderr",
          "text": [
            "Training: 100%|██████████| 63/63 [00:15<00:00,  4.18it/s]\n",
            "Evaluating: 100%|██████████| 16/16 [00:01<00:00, 11.91it/s]\n",
            "[I 2025-05-09 16:22:28,389] Trial 24 finished with value: 0.4495334289968014 and parameters: {'d_model': 256, 'num_heads': 4, 'num_layers': 6, 'd_ff': 256, 'dropout': 0.1239012802152521, 'learning_rate': 0.00020036092739432367, 'batch_size': 128}. Best is trial 18 with value: 0.10892352042719722.\n"
          ]
        },
        {
          "output_type": "stream",
          "name": "stdout",
          "text": [
            "Epoch 10/10:\n",
            "Train Loss: 0.6576 | Val Loss: 0.4495\n"
          ]
        },
        {
          "output_type": "stream",
          "name": "stderr",
          "text": [
            "Training: 100%|██████████| 63/63 [00:15<00:00,  4.18it/s]\n",
            "Evaluating: 100%|██████████| 16/16 [00:01<00:00, 11.82it/s]\n"
          ]
        },
        {
          "output_type": "stream",
          "name": "stdout",
          "text": [
            "Epoch 1/10:\n",
            "Train Loss: 2.5739 | Val Loss: 2.1605\n"
          ]
        },
        {
          "output_type": "stream",
          "name": "stderr",
          "text": [
            "Training: 100%|██████████| 63/63 [00:15<00:00,  4.19it/s]\n",
            "Evaluating: 100%|██████████| 16/16 [00:01<00:00, 11.89it/s]\n"
          ]
        },
        {
          "output_type": "stream",
          "name": "stdout",
          "text": [
            "Epoch 2/10:\n",
            "Train Loss: 1.9948 | Val Loss: 1.7871\n"
          ]
        },
        {
          "output_type": "stream",
          "name": "stderr",
          "text": [
            "Training: 100%|██████████| 63/63 [00:15<00:00,  4.18it/s]\n",
            "Evaluating: 100%|██████████| 16/16 [00:01<00:00, 11.87it/s]\n"
          ]
        },
        {
          "output_type": "stream",
          "name": "stdout",
          "text": [
            "Epoch 3/10:\n",
            "Train Loss: 1.6764 | Val Loss: 1.4084\n"
          ]
        },
        {
          "output_type": "stream",
          "name": "stderr",
          "text": [
            "Training: 100%|██████████| 63/63 [00:15<00:00,  4.19it/s]\n",
            "Evaluating: 100%|██████████| 16/16 [00:01<00:00, 11.90it/s]\n"
          ]
        },
        {
          "output_type": "stream",
          "name": "stdout",
          "text": [
            "Epoch 4/10:\n",
            "Train Loss: 1.2071 | Val Loss: 0.7348\n"
          ]
        },
        {
          "output_type": "stream",
          "name": "stderr",
          "text": [
            "Training: 100%|██████████| 63/63 [00:15<00:00,  4.19it/s]\n",
            "Evaluating: 100%|██████████| 16/16 [00:01<00:00, 11.90it/s]\n"
          ]
        },
        {
          "output_type": "stream",
          "name": "stdout",
          "text": [
            "Epoch 5/10:\n",
            "Train Loss: 0.7737 | Val Loss: 0.5154\n"
          ]
        },
        {
          "output_type": "stream",
          "name": "stderr",
          "text": [
            "Training: 100%|██████████| 63/63 [00:15<00:00,  4.15it/s]\n",
            "Evaluating: 100%|██████████| 16/16 [00:01<00:00, 11.94it/s]\n"
          ]
        },
        {
          "output_type": "stream",
          "name": "stdout",
          "text": [
            "Epoch 6/10:\n",
            "Train Loss: 0.5557 | Val Loss: 0.3386\n"
          ]
        },
        {
          "output_type": "stream",
          "name": "stderr",
          "text": [
            "Training: 100%|██████████| 63/63 [00:15<00:00,  4.20it/s]\n",
            "Evaluating: 100%|██████████| 16/16 [00:01<00:00, 11.92it/s]\n"
          ]
        },
        {
          "output_type": "stream",
          "name": "stdout",
          "text": [
            "Epoch 7/10:\n",
            "Train Loss: 0.4216 | Val Loss: 0.2374\n"
          ]
        },
        {
          "output_type": "stream",
          "name": "stderr",
          "text": [
            "Training: 100%|██████████| 63/63 [00:15<00:00,  4.19it/s]\n",
            "Evaluating: 100%|██████████| 16/16 [00:01<00:00, 11.90it/s]\n"
          ]
        },
        {
          "output_type": "stream",
          "name": "stdout",
          "text": [
            "Epoch 8/10:\n",
            "Train Loss: 0.3261 | Val Loss: 0.1888\n"
          ]
        },
        {
          "output_type": "stream",
          "name": "stderr",
          "text": [
            "Training: 100%|██████████| 63/63 [00:15<00:00,  4.15it/s]\n",
            "Evaluating: 100%|██████████| 16/16 [00:01<00:00, 11.68it/s]\n"
          ]
        },
        {
          "output_type": "stream",
          "name": "stdout",
          "text": [
            "Epoch 9/10:\n",
            "Train Loss: 0.2655 | Val Loss: 0.1626\n"
          ]
        },
        {
          "output_type": "stream",
          "name": "stderr",
          "text": [
            "Training: 100%|██████████| 63/63 [00:15<00:00,  4.17it/s]\n",
            "Evaluating: 100%|██████████| 16/16 [00:01<00:00, 11.72it/s]\n",
            "[I 2025-05-09 16:25:12,802] Trial 25 finished with value: 0.14045393653213978 and parameters: {'d_model': 256, 'num_heads': 4, 'num_layers': 6, 'd_ff': 256, 'dropout': 0.15659404444360153, 'learning_rate': 0.0006062491976805365, 'batch_size': 128}. Best is trial 18 with value: 0.10892352042719722.\n"
          ]
        },
        {
          "output_type": "stream",
          "name": "stdout",
          "text": [
            "Epoch 10/10:\n",
            "Train Loss: 0.2199 | Val Loss: 0.1405\n"
          ]
        },
        {
          "output_type": "stream",
          "name": "stderr",
          "text": [
            "Training: 100%|██████████| 63/63 [00:15<00:00,  4.18it/s]\n",
            "Evaluating: 100%|██████████| 16/16 [00:01<00:00, 11.88it/s]\n"
          ]
        },
        {
          "output_type": "stream",
          "name": "stdout",
          "text": [
            "Epoch 1/10:\n",
            "Train Loss: 3.0679 | Val Loss: 2.9796\n"
          ]
        },
        {
          "output_type": "stream",
          "name": "stderr",
          "text": [
            "Training: 100%|██████████| 63/63 [00:15<00:00,  4.19it/s]\n",
            "Evaluating: 100%|██████████| 16/16 [00:01<00:00, 11.81it/s]\n"
          ]
        },
        {
          "output_type": "stream",
          "name": "stdout",
          "text": [
            "Epoch 2/10:\n",
            "Train Loss: 2.9865 | Val Loss: 2.9805\n"
          ]
        },
        {
          "output_type": "stream",
          "name": "stderr",
          "text": [
            "Training: 100%|██████████| 63/63 [00:15<00:00,  4.19it/s]\n",
            "Evaluating: 100%|██████████| 16/16 [00:01<00:00, 11.91it/s]\n"
          ]
        },
        {
          "output_type": "stream",
          "name": "stdout",
          "text": [
            "Epoch 3/10:\n",
            "Train Loss: 2.9810 | Val Loss: 2.9994\n"
          ]
        },
        {
          "output_type": "stream",
          "name": "stderr",
          "text": [
            "Training: 100%|██████████| 63/63 [00:15<00:00,  4.18it/s]\n",
            "Evaluating: 100%|██████████| 16/16 [00:01<00:00, 11.95it/s]\n",
            "[I 2025-05-09 16:26:18,542] Trial 26 finished with value: 2.9795985370874405 and parameters: {'d_model': 256, 'num_heads': 4, 'num_layers': 6, 'd_ff': 256, 'dropout': 0.2102991353973655, 'learning_rate': 0.0012827703620344538, 'batch_size': 128}. Best is trial 18 with value: 0.10892352042719722.\n"
          ]
        },
        {
          "output_type": "stream",
          "name": "stdout",
          "text": [
            "Epoch 4/10:\n",
            "Train Loss: 2.9682 | Val Loss: 3.1713\n",
            "Early stopping triggered!\n"
          ]
        },
        {
          "output_type": "stream",
          "name": "stderr",
          "text": [
            "Training: 100%|██████████| 63/63 [00:15<00:00,  4.17it/s]\n",
            "Evaluating: 100%|██████████| 16/16 [00:01<00:00, 11.92it/s]\n"
          ]
        },
        {
          "output_type": "stream",
          "name": "stdout",
          "text": [
            "Epoch 1/10:\n",
            "Train Loss: 3.0845 | Val Loss: 2.9841\n"
          ]
        },
        {
          "output_type": "stream",
          "name": "stderr",
          "text": [
            "Training: 100%|██████████| 63/63 [00:15<00:00,  4.18it/s]\n",
            "Evaluating: 100%|██████████| 16/16 [00:01<00:00, 11.66it/s]\n"
          ]
        },
        {
          "output_type": "stream",
          "name": "stdout",
          "text": [
            "Epoch 2/10:\n",
            "Train Loss: 2.9853 | Val Loss: 2.9809\n"
          ]
        },
        {
          "output_type": "stream",
          "name": "stderr",
          "text": [
            "Training: 100%|██████████| 63/63 [00:15<00:00,  4.19it/s]\n",
            "Evaluating: 100%|██████████| 16/16 [00:01<00:00, 11.76it/s]\n"
          ]
        },
        {
          "output_type": "stream",
          "name": "stdout",
          "text": [
            "Epoch 3/10:\n",
            "Train Loss: 2.9809 | Val Loss: 2.9777\n"
          ]
        },
        {
          "output_type": "stream",
          "name": "stderr",
          "text": [
            "Training: 100%|██████████| 63/63 [00:15<00:00,  4.17it/s]\n",
            "Evaluating: 100%|██████████| 16/16 [00:01<00:00, 11.85it/s]\n"
          ]
        },
        {
          "output_type": "stream",
          "name": "stdout",
          "text": [
            "Epoch 4/10:\n",
            "Train Loss: 2.9763 | Val Loss: 3.1738\n"
          ]
        },
        {
          "output_type": "stream",
          "name": "stderr",
          "text": [
            "Training: 100%|██████████| 63/63 [00:15<00:00,  4.19it/s]\n",
            "Evaluating: 100%|██████████| 16/16 [00:01<00:00, 11.90it/s]\n"
          ]
        },
        {
          "output_type": "stream",
          "name": "stdout",
          "text": [
            "Epoch 5/10:\n",
            "Train Loss: 2.9725 | Val Loss: 3.0630\n"
          ]
        },
        {
          "output_type": "stream",
          "name": "stderr",
          "text": [
            "Training: 100%|██████████| 63/63 [00:15<00:00,  4.19it/s]\n",
            "Evaluating: 100%|██████████| 16/16 [00:01<00:00, 11.89it/s]\n",
            "[I 2025-05-09 16:27:57,168] Trial 27 finished with value: 2.97770756483078 and parameters: {'d_model': 256, 'num_heads': 4, 'num_layers': 6, 'd_ff': 256, 'dropout': 0.19857111074599992, 'learning_rate': 0.0028832126428403673, 'batch_size': 128}. Best is trial 18 with value: 0.10892352042719722.\n"
          ]
        },
        {
          "output_type": "stream",
          "name": "stdout",
          "text": [
            "Epoch 6/10:\n",
            "Train Loss: 2.9519 | Val Loss: 3.2286\n",
            "Early stopping triggered!\n"
          ]
        },
        {
          "output_type": "stream",
          "name": "stderr",
          "text": [
            "Training: 100%|██████████| 63/63 [00:15<00:00,  4.08it/s]\n",
            "Evaluating: 100%|██████████| 16/16 [00:01<00:00, 10.40it/s]\n"
          ]
        },
        {
          "output_type": "stream",
          "name": "stdout",
          "text": [
            "Epoch 1/10:\n",
            "Train Loss: 2.8133 | Val Loss: 2.3004\n"
          ]
        },
        {
          "output_type": "stream",
          "name": "stderr",
          "text": [
            "Training: 100%|██████████| 63/63 [00:15<00:00,  4.07it/s]\n",
            "Evaluating: 100%|██████████| 16/16 [00:01<00:00, 10.62it/s]\n"
          ]
        },
        {
          "output_type": "stream",
          "name": "stdout",
          "text": [
            "Epoch 2/10:\n",
            "Train Loss: 2.1961 | Val Loss: 2.0976\n"
          ]
        },
        {
          "output_type": "stream",
          "name": "stderr",
          "text": [
            "Training: 100%|██████████| 63/63 [00:15<00:00,  4.07it/s]\n",
            "Evaluating: 100%|██████████| 16/16 [00:01<00:00, 10.60it/s]\n"
          ]
        },
        {
          "output_type": "stream",
          "name": "stdout",
          "text": [
            "Epoch 3/10:\n",
            "Train Loss: 2.0297 | Val Loss: 1.9527\n"
          ]
        },
        {
          "output_type": "stream",
          "name": "stderr",
          "text": [
            "Training: 100%|██████████| 63/63 [00:15<00:00,  4.07it/s]\n",
            "Evaluating: 100%|██████████| 16/16 [00:01<00:00, 10.60it/s]\n"
          ]
        },
        {
          "output_type": "stream",
          "name": "stdout",
          "text": [
            "Epoch 4/10:\n",
            "Train Loss: 1.8979 | Val Loss: 1.8144\n"
          ]
        },
        {
          "output_type": "stream",
          "name": "stderr",
          "text": [
            "Training: 100%|██████████| 63/63 [00:15<00:00,  4.08it/s]\n",
            "Evaluating: 100%|██████████| 16/16 [00:01<00:00, 10.56it/s]\n"
          ]
        },
        {
          "output_type": "stream",
          "name": "stdout",
          "text": [
            "Epoch 5/10:\n",
            "Train Loss: 1.7747 | Val Loss: 1.6655\n"
          ]
        },
        {
          "output_type": "stream",
          "name": "stderr",
          "text": [
            "Training: 100%|██████████| 63/63 [00:15<00:00,  4.07it/s]\n",
            "Evaluating: 100%|██████████| 16/16 [00:01<00:00, 10.58it/s]\n"
          ]
        },
        {
          "output_type": "stream",
          "name": "stdout",
          "text": [
            "Epoch 6/10:\n",
            "Train Loss: 1.6309 | Val Loss: 1.5417\n"
          ]
        },
        {
          "output_type": "stream",
          "name": "stderr",
          "text": [
            "Training: 100%|██████████| 63/63 [00:15<00:00,  4.07it/s]\n",
            "Evaluating: 100%|██████████| 16/16 [00:01<00:00, 10.50it/s]\n"
          ]
        },
        {
          "output_type": "stream",
          "name": "stdout",
          "text": [
            "Epoch 7/10:\n",
            "Train Loss: 1.4816 | Val Loss: 1.3637\n"
          ]
        },
        {
          "output_type": "stream",
          "name": "stderr",
          "text": [
            "Training: 100%|██████████| 63/63 [00:15<00:00,  4.05it/s]\n",
            "Evaluating: 100%|██████████| 16/16 [00:01<00:00, 10.51it/s]\n"
          ]
        },
        {
          "output_type": "stream",
          "name": "stdout",
          "text": [
            "Epoch 8/10:\n",
            "Train Loss: 1.3232 | Val Loss: 1.1819\n"
          ]
        },
        {
          "output_type": "stream",
          "name": "stderr",
          "text": [
            "Training: 100%|██████████| 63/63 [00:15<00:00,  4.08it/s]\n",
            "Evaluating: 100%|██████████| 16/16 [00:01<00:00, 10.49it/s]\n"
          ]
        },
        {
          "output_type": "stream",
          "name": "stdout",
          "text": [
            "Epoch 9/10:\n",
            "Train Loss: 1.1802 | Val Loss: 1.0520\n"
          ]
        },
        {
          "output_type": "stream",
          "name": "stderr",
          "text": [
            "Training: 100%|██████████| 63/63 [00:15<00:00,  4.07it/s]\n",
            "Evaluating: 100%|██████████| 16/16 [00:01<00:00, 10.54it/s]\n",
            "[I 2025-05-09 16:30:47,253] Trial 28 finished with value: 0.735079288482666 and parameters: {'d_model': 128, 'num_heads': 4, 'num_layers': 10, 'd_ff': 256, 'dropout': 0.11900512163090303, 'learning_rate': 0.0007309458175723777, 'batch_size': 128}. Best is trial 18 with value: 0.10892352042719722.\n"
          ]
        },
        {
          "output_type": "stream",
          "name": "stdout",
          "text": [
            "Epoch 10/10:\n",
            "Train Loss: 1.0137 | Val Loss: 0.7351\n"
          ]
        },
        {
          "output_type": "stream",
          "name": "stderr",
          "text": [
            "Training: 100%|██████████| 63/63 [00:57<00:00,  1.11it/s]\n",
            "Evaluating: 100%|██████████| 16/16 [00:04<00:00,  3.29it/s]\n"
          ]
        },
        {
          "output_type": "stream",
          "name": "stdout",
          "text": [
            "Epoch 1/10:\n",
            "Train Loss: 3.0626 | Val Loss: 2.9829\n"
          ]
        },
        {
          "output_type": "stream",
          "name": "stderr",
          "text": [
            "Training: 100%|██████████| 63/63 [00:57<00:00,  1.10it/s]\n",
            "Evaluating: 100%|██████████| 16/16 [00:04<00:00,  3.28it/s]\n"
          ]
        },
        {
          "output_type": "stream",
          "name": "stdout",
          "text": [
            "Epoch 2/10:\n",
            "Train Loss: 2.9849 | Val Loss: 2.9779\n"
          ]
        },
        {
          "output_type": "stream",
          "name": "stderr",
          "text": [
            "Training: 100%|██████████| 63/63 [00:57<00:00,  1.10it/s]\n",
            "Evaluating: 100%|██████████| 16/16 [00:04<00:00,  3.30it/s]\n"
          ]
        },
        {
          "output_type": "stream",
          "name": "stdout",
          "text": [
            "Epoch 3/10:\n",
            "Train Loss: 2.9801 | Val Loss: 3.0494\n"
          ]
        },
        {
          "output_type": "stream",
          "name": "stderr",
          "text": [
            "Training: 100%|██████████| 63/63 [00:57<00:00,  1.10it/s]\n",
            "Evaluating: 100%|██████████| 16/16 [00:04<00:00,  3.30it/s]\n"
          ]
        },
        {
          "output_type": "stream",
          "name": "stdout",
          "text": [
            "Epoch 4/10:\n",
            "Train Loss: 2.9605 | Val Loss: 3.2182\n"
          ]
        },
        {
          "output_type": "stream",
          "name": "stderr",
          "text": [
            "Training: 100%|██████████| 63/63 [00:57<00:00,  1.10it/s]\n",
            "Evaluating: 100%|██████████| 16/16 [00:04<00:00,  3.30it/s]\n",
            "[I 2025-05-09 16:35:56,930] Trial 29 finished with value: 2.9778508245944977 and parameters: {'d_model': 256, 'num_heads': 16, 'num_layers': 12, 'd_ff': 512, 'dropout': 0.14563472006196376, 'learning_rate': 0.0013814921771314098, 'batch_size': 128}. Best is trial 18 with value: 0.10892352042719722.\n"
          ]
        },
        {
          "output_type": "stream",
          "name": "stdout",
          "text": [
            "Epoch 5/10:\n",
            "Train Loss: 2.9360 | Val Loss: 3.4620\n",
            "Early stopping triggered!\n"
          ]
        },
        {
          "output_type": "stream",
          "name": "stderr",
          "text": [
            "Training: 100%|██████████| 63/63 [00:30<00:00,  2.06it/s]\n",
            "Evaluating: 100%|██████████| 16/16 [00:02<00:00,  5.94it/s]\n"
          ]
        },
        {
          "output_type": "stream",
          "name": "stdout",
          "text": [
            "Epoch 1/10:\n",
            "Train Loss: 2.5299 | Val Loss: 2.1032\n"
          ]
        },
        {
          "output_type": "stream",
          "name": "stderr",
          "text": [
            "Training: 100%|██████████| 63/63 [00:30<00:00,  2.06it/s]\n",
            "Evaluating: 100%|██████████| 16/16 [00:02<00:00,  5.86it/s]\n"
          ]
        },
        {
          "output_type": "stream",
          "name": "stdout",
          "text": [
            "Epoch 2/10:\n",
            "Train Loss: 1.9626 | Val Loss: 1.7849\n"
          ]
        },
        {
          "output_type": "stream",
          "name": "stderr",
          "text": [
            "Training: 100%|██████████| 63/63 [00:30<00:00,  2.06it/s]\n",
            "Evaluating: 100%|██████████| 16/16 [00:02<00:00,  5.95it/s]\n"
          ]
        },
        {
          "output_type": "stream",
          "name": "stdout",
          "text": [
            "Epoch 3/10:\n",
            "Train Loss: 1.6803 | Val Loss: 1.4854\n"
          ]
        },
        {
          "output_type": "stream",
          "name": "stderr",
          "text": [
            "Training: 100%|██████████| 63/63 [00:30<00:00,  2.06it/s]\n",
            "Evaluating: 100%|██████████| 16/16 [00:02<00:00,  5.96it/s]\n"
          ]
        },
        {
          "output_type": "stream",
          "name": "stdout",
          "text": [
            "Epoch 4/10:\n",
            "Train Loss: 1.3238 | Val Loss: 0.9755\n"
          ]
        },
        {
          "output_type": "stream",
          "name": "stderr",
          "text": [
            "Training: 100%|██████████| 63/63 [00:30<00:00,  2.06it/s]\n",
            "Evaluating: 100%|██████████| 16/16 [00:02<00:00,  5.97it/s]\n"
          ]
        },
        {
          "output_type": "stream",
          "name": "stdout",
          "text": [
            "Epoch 5/10:\n",
            "Train Loss: 0.8193 | Val Loss: 0.5083\n"
          ]
        },
        {
          "output_type": "stream",
          "name": "stderr",
          "text": [
            "Training: 100%|██████████| 63/63 [00:30<00:00,  2.06it/s]\n",
            "Evaluating: 100%|██████████| 16/16 [00:02<00:00,  5.93it/s]\n"
          ]
        },
        {
          "output_type": "stream",
          "name": "stdout",
          "text": [
            "Epoch 6/10:\n",
            "Train Loss: 0.5171 | Val Loss: 0.3403\n"
          ]
        },
        {
          "output_type": "stream",
          "name": "stderr",
          "text": [
            "Training: 100%|██████████| 63/63 [00:30<00:00,  2.06it/s]\n",
            "Evaluating: 100%|██████████| 16/16 [00:02<00:00,  5.87it/s]\n"
          ]
        },
        {
          "output_type": "stream",
          "name": "stdout",
          "text": [
            "Epoch 7/10:\n",
            "Train Loss: 0.3570 | Val Loss: 0.2471\n"
          ]
        },
        {
          "output_type": "stream",
          "name": "stderr",
          "text": [
            "Training: 100%|██████████| 63/63 [00:30<00:00,  2.06it/s]\n",
            "Evaluating: 100%|██████████| 16/16 [00:02<00:00,  5.94it/s]\n"
          ]
        },
        {
          "output_type": "stream",
          "name": "stdout",
          "text": [
            "Epoch 8/10:\n",
            "Train Loss: 0.2669 | Val Loss: 0.1759\n"
          ]
        },
        {
          "output_type": "stream",
          "name": "stderr",
          "text": [
            "Training: 100%|██████████| 63/63 [00:30<00:00,  2.06it/s]\n",
            "Evaluating: 100%|██████████| 16/16 [00:02<00:00,  5.96it/s]\n"
          ]
        },
        {
          "output_type": "stream",
          "name": "stdout",
          "text": [
            "Epoch 9/10:\n",
            "Train Loss: 0.2115 | Val Loss: 0.1605\n"
          ]
        },
        {
          "output_type": "stream",
          "name": "stderr",
          "text": [
            "Training: 100%|██████████| 63/63 [00:30<00:00,  2.06it/s]\n",
            "Evaluating: 100%|██████████| 16/16 [00:02<00:00,  5.94it/s]\n",
            "[I 2025-05-09 16:41:30,106] Trial 30 finished with value: 0.11965888948179781 and parameters: {'d_model': 512, 'num_heads': 8, 'num_layers': 6, 'd_ff': 256, 'dropout': 0.1398207531009602, 'learning_rate': 0.00022071436054560005, 'batch_size': 128}. Best is trial 18 with value: 0.10892352042719722.\n"
          ]
        },
        {
          "output_type": "stream",
          "name": "stdout",
          "text": [
            "Epoch 10/10:\n",
            "Train Loss: 0.1691 | Val Loss: 0.1197\n"
          ]
        },
        {
          "output_type": "stream",
          "name": "stderr",
          "text": [
            "Training: 100%|██████████| 63/63 [00:30<00:00,  2.06it/s]\n",
            "Evaluating: 100%|██████████| 16/16 [00:02<00:00,  5.95it/s]\n"
          ]
        },
        {
          "output_type": "stream",
          "name": "stdout",
          "text": [
            "Epoch 1/10:\n",
            "Train Loss: 2.5514 | Val Loss: 2.1304\n"
          ]
        },
        {
          "output_type": "stream",
          "name": "stderr",
          "text": [
            "Training: 100%|██████████| 63/63 [00:30<00:00,  2.06it/s]\n",
            "Evaluating: 100%|██████████| 16/16 [00:02<00:00,  5.96it/s]\n"
          ]
        },
        {
          "output_type": "stream",
          "name": "stdout",
          "text": [
            "Epoch 2/10:\n",
            "Train Loss: 1.9416 | Val Loss: 1.7482\n"
          ]
        },
        {
          "output_type": "stream",
          "name": "stderr",
          "text": [
            "Training: 100%|██████████| 63/63 [00:30<00:00,  2.06it/s]\n",
            "Evaluating: 100%|██████████| 16/16 [00:02<00:00,  5.88it/s]\n"
          ]
        },
        {
          "output_type": "stream",
          "name": "stdout",
          "text": [
            "Epoch 3/10:\n",
            "Train Loss: 1.6032 | Val Loss: 1.3436\n"
          ]
        },
        {
          "output_type": "stream",
          "name": "stderr",
          "text": [
            "Training: 100%|██████████| 63/63 [00:30<00:00,  2.06it/s]\n",
            "Evaluating: 100%|██████████| 16/16 [00:02<00:00,  5.96it/s]\n"
          ]
        },
        {
          "output_type": "stream",
          "name": "stdout",
          "text": [
            "Epoch 4/10:\n",
            "Train Loss: 1.1084 | Val Loss: 0.6887\n"
          ]
        },
        {
          "output_type": "stream",
          "name": "stderr",
          "text": [
            "Training: 100%|██████████| 63/63 [00:30<00:00,  2.06it/s]\n",
            "Evaluating: 100%|██████████| 16/16 [00:02<00:00,  5.97it/s]\n"
          ]
        },
        {
          "output_type": "stream",
          "name": "stdout",
          "text": [
            "Epoch 5/10:\n",
            "Train Loss: 0.6157 | Val Loss: 0.3826\n"
          ]
        },
        {
          "output_type": "stream",
          "name": "stderr",
          "text": [
            "Training: 100%|██████████| 63/63 [00:30<00:00,  2.05it/s]\n",
            "Evaluating: 100%|██████████| 16/16 [00:02<00:00,  5.89it/s]\n"
          ]
        },
        {
          "output_type": "stream",
          "name": "stdout",
          "text": [
            "Epoch 6/10:\n",
            "Train Loss: 0.3974 | Val Loss: 0.2591\n"
          ]
        },
        {
          "output_type": "stream",
          "name": "stderr",
          "text": [
            "Training: 100%|██████████| 63/63 [00:30<00:00,  2.06it/s]\n",
            "Evaluating: 100%|██████████| 16/16 [00:02<00:00,  5.95it/s]\n"
          ]
        },
        {
          "output_type": "stream",
          "name": "stdout",
          "text": [
            "Epoch 7/10:\n",
            "Train Loss: 0.2804 | Val Loss: 0.1832\n"
          ]
        },
        {
          "output_type": "stream",
          "name": "stderr",
          "text": [
            "Training: 100%|██████████| 63/63 [00:30<00:00,  2.06it/s]\n",
            "Evaluating: 100%|██████████| 16/16 [00:02<00:00,  5.96it/s]\n"
          ]
        },
        {
          "output_type": "stream",
          "name": "stdout",
          "text": [
            "Epoch 8/10:\n",
            "Train Loss: 0.2079 | Val Loss: 0.1422\n"
          ]
        },
        {
          "output_type": "stream",
          "name": "stderr",
          "text": [
            "Training: 100%|██████████| 63/63 [00:30<00:00,  2.06it/s]\n",
            "Evaluating: 100%|██████████| 16/16 [00:02<00:00,  5.96it/s]\n"
          ]
        },
        {
          "output_type": "stream",
          "name": "stdout",
          "text": [
            "Epoch 9/10:\n",
            "Train Loss: 0.1639 | Val Loss: 0.1154\n"
          ]
        },
        {
          "output_type": "stream",
          "name": "stderr",
          "text": [
            "Training: 100%|██████████| 63/63 [00:30<00:00,  2.06it/s]\n",
            "Evaluating: 100%|██████████| 16/16 [00:02<00:00,  5.91it/s]\n",
            "[I 2025-05-09 16:47:02,964] Trial 31 finished with value: 0.11539581697434187 and parameters: {'d_model': 512, 'num_heads': 8, 'num_layers': 6, 'd_ff': 256, 'dropout': 0.11996730063347485, 'learning_rate': 0.00024455238395148707, 'batch_size': 128}. Best is trial 18 with value: 0.10892352042719722.\n"
          ]
        },
        {
          "output_type": "stream",
          "name": "stdout",
          "text": [
            "Epoch 10/10:\n",
            "Train Loss: 0.1354 | Val Loss: 0.1163\n"
          ]
        },
        {
          "output_type": "stream",
          "name": "stderr",
          "text": [
            "Training: 100%|██████████| 63/63 [00:30<00:00,  2.06it/s]\n",
            "Evaluating: 100%|██████████| 16/16 [00:02<00:00,  5.98it/s]\n"
          ]
        },
        {
          "output_type": "stream",
          "name": "stdout",
          "text": [
            "Epoch 1/10:\n",
            "Train Loss: 2.5354 | Val Loss: 2.0907\n"
          ]
        },
        {
          "output_type": "stream",
          "name": "stderr",
          "text": [
            "Training: 100%|██████████| 63/63 [00:30<00:00,  2.06it/s]\n",
            "Evaluating: 100%|██████████| 16/16 [00:02<00:00,  5.97it/s]\n"
          ]
        },
        {
          "output_type": "stream",
          "name": "stdout",
          "text": [
            "Epoch 2/10:\n",
            "Train Loss: 1.9606 | Val Loss: 1.7863\n"
          ]
        },
        {
          "output_type": "stream",
          "name": "stderr",
          "text": [
            "Training: 100%|██████████| 63/63 [00:30<00:00,  2.06it/s]\n",
            "Evaluating: 100%|██████████| 16/16 [00:02<00:00,  5.97it/s]\n"
          ]
        },
        {
          "output_type": "stream",
          "name": "stdout",
          "text": [
            "Epoch 3/10:\n",
            "Train Loss: 1.6896 | Val Loss: 1.5017\n"
          ]
        },
        {
          "output_type": "stream",
          "name": "stderr",
          "text": [
            "Training: 100%|██████████| 63/63 [00:30<00:00,  2.06it/s]\n",
            "Evaluating: 100%|██████████| 16/16 [00:02<00:00,  5.95it/s]\n"
          ]
        },
        {
          "output_type": "stream",
          "name": "stdout",
          "text": [
            "Epoch 4/10:\n",
            "Train Loss: 1.3480 | Val Loss: 0.9811\n"
          ]
        },
        {
          "output_type": "stream",
          "name": "stderr",
          "text": [
            "Training: 100%|██████████| 63/63 [00:30<00:00,  2.06it/s]\n",
            "Evaluating: 100%|██████████| 16/16 [00:02<00:00,  5.90it/s]\n"
          ]
        },
        {
          "output_type": "stream",
          "name": "stdout",
          "text": [
            "Epoch 5/10:\n",
            "Train Loss: 0.8241 | Val Loss: 0.5274\n"
          ]
        },
        {
          "output_type": "stream",
          "name": "stderr",
          "text": [
            "Training: 100%|██████████| 63/63 [00:30<00:00,  2.06it/s]\n",
            "Evaluating: 100%|██████████| 16/16 [00:02<00:00,  5.97it/s]\n"
          ]
        },
        {
          "output_type": "stream",
          "name": "stdout",
          "text": [
            "Epoch 6/10:\n",
            "Train Loss: 0.5153 | Val Loss: 0.3447\n"
          ]
        },
        {
          "output_type": "stream",
          "name": "stderr",
          "text": [
            "Training: 100%|██████████| 63/63 [00:30<00:00,  2.06it/s]\n",
            "Evaluating: 100%|██████████| 16/16 [00:02<00:00,  5.97it/s]\n"
          ]
        },
        {
          "output_type": "stream",
          "name": "stdout",
          "text": [
            "Epoch 7/10:\n",
            "Train Loss: 0.3599 | Val Loss: 0.2313\n"
          ]
        },
        {
          "output_type": "stream",
          "name": "stderr",
          "text": [
            "Training: 100%|██████████| 63/63 [00:30<00:00,  2.06it/s]\n",
            "Evaluating: 100%|██████████| 16/16 [00:02<00:00,  5.92it/s]\n"
          ]
        },
        {
          "output_type": "stream",
          "name": "stdout",
          "text": [
            "Epoch 8/10:\n",
            "Train Loss: 0.2607 | Val Loss: 0.2066\n"
          ]
        },
        {
          "output_type": "stream",
          "name": "stderr",
          "text": [
            "Training: 100%|██████████| 63/63 [00:30<00:00,  2.06it/s]\n",
            "Evaluating: 100%|██████████| 16/16 [00:02<00:00,  5.98it/s]\n"
          ]
        },
        {
          "output_type": "stream",
          "name": "stdout",
          "text": [
            "Epoch 9/10:\n",
            "Train Loss: 0.2008 | Val Loss: 0.1262\n"
          ]
        },
        {
          "output_type": "stream",
          "name": "stderr",
          "text": [
            "Training: 100%|██████████| 63/63 [00:30<00:00,  2.06it/s]\n",
            "Evaluating: 100%|██████████| 16/16 [00:02<00:00,  5.98it/s]\n",
            "[I 2025-05-09 16:52:35,597] Trial 32 finished with value: 0.11504993634298444 and parameters: {'d_model': 512, 'num_heads': 8, 'num_layers': 6, 'd_ff': 256, 'dropout': 0.12442653790896432, 'learning_rate': 0.00020840158832099176, 'batch_size': 128}. Best is trial 18 with value: 0.10892352042719722.\n"
          ]
        },
        {
          "output_type": "stream",
          "name": "stdout",
          "text": [
            "Epoch 10/10:\n",
            "Train Loss: 0.1580 | Val Loss: 0.1150\n"
          ]
        },
        {
          "output_type": "stream",
          "name": "stderr",
          "text": [
            "Training: 100%|██████████| 63/63 [00:30<00:00,  2.06it/s]\n",
            "Evaluating: 100%|██████████| 16/16 [00:02<00:00,  5.82it/s]\n"
          ]
        },
        {
          "output_type": "stream",
          "name": "stdout",
          "text": [
            "Epoch 1/10:\n",
            "Train Loss: 2.5553 | Val Loss: 2.1334\n"
          ]
        },
        {
          "output_type": "stream",
          "name": "stderr",
          "text": [
            "Training: 100%|██████████| 63/63 [00:30<00:00,  2.06it/s]\n",
            "Evaluating: 100%|██████████| 16/16 [00:02<00:00,  5.96it/s]\n"
          ]
        },
        {
          "output_type": "stream",
          "name": "stdout",
          "text": [
            "Epoch 2/10:\n",
            "Train Loss: 2.0229 | Val Loss: 1.8661\n"
          ]
        },
        {
          "output_type": "stream",
          "name": "stderr",
          "text": [
            "Training: 100%|██████████| 63/63 [00:30<00:00,  2.06it/s]\n",
            "Evaluating: 100%|██████████| 16/16 [00:02<00:00,  5.86it/s]\n"
          ]
        },
        {
          "output_type": "stream",
          "name": "stdout",
          "text": [
            "Epoch 3/10:\n",
            "Train Loss: 1.7739 | Val Loss: 1.6208\n"
          ]
        },
        {
          "output_type": "stream",
          "name": "stderr",
          "text": [
            "Training: 100%|██████████| 63/63 [00:30<00:00,  2.06it/s]\n",
            "Evaluating: 100%|██████████| 16/16 [00:02<00:00,  5.82it/s]\n"
          ]
        },
        {
          "output_type": "stream",
          "name": "stdout",
          "text": [
            "Epoch 4/10:\n",
            "Train Loss: 1.5484 | Val Loss: 1.3686\n"
          ]
        },
        {
          "output_type": "stream",
          "name": "stderr",
          "text": [
            "Training: 100%|██████████| 63/63 [00:30<00:00,  2.06it/s]\n",
            "Evaluating: 100%|██████████| 16/16 [00:02<00:00,  5.92it/s]\n"
          ]
        },
        {
          "output_type": "stream",
          "name": "stdout",
          "text": [
            "Epoch 5/10:\n",
            "Train Loss: 1.2467 | Val Loss: 0.9291\n"
          ]
        },
        {
          "output_type": "stream",
          "name": "stderr",
          "text": [
            "Training: 100%|██████████| 63/63 [00:30<00:00,  2.06it/s]\n",
            "Evaluating: 100%|██████████| 16/16 [00:02<00:00,  5.87it/s]\n"
          ]
        },
        {
          "output_type": "stream",
          "name": "stdout",
          "text": [
            "Epoch 6/10:\n",
            "Train Loss: 0.8082 | Val Loss: 0.5243\n"
          ]
        },
        {
          "output_type": "stream",
          "name": "stderr",
          "text": [
            "Training: 100%|██████████| 63/63 [00:30<00:00,  2.06it/s]\n",
            "Evaluating: 100%|██████████| 16/16 [00:02<00:00,  5.95it/s]\n"
          ]
        },
        {
          "output_type": "stream",
          "name": "stdout",
          "text": [
            "Epoch 7/10:\n",
            "Train Loss: 0.5424 | Val Loss: 0.3757\n"
          ]
        },
        {
          "output_type": "stream",
          "name": "stderr",
          "text": [
            "Training: 100%|██████████| 63/63 [00:30<00:00,  2.06it/s]\n",
            "Evaluating: 100%|██████████| 16/16 [00:02<00:00,  5.97it/s]\n"
          ]
        },
        {
          "output_type": "stream",
          "name": "stdout",
          "text": [
            "Epoch 8/10:\n",
            "Train Loss: 0.3962 | Val Loss: 0.2850\n"
          ]
        },
        {
          "output_type": "stream",
          "name": "stderr",
          "text": [
            "Training: 100%|██████████| 63/63 [00:30<00:00,  2.06it/s]\n",
            "Evaluating: 100%|██████████| 16/16 [00:02<00:00,  5.88it/s]\n"
          ]
        },
        {
          "output_type": "stream",
          "name": "stdout",
          "text": [
            "Epoch 9/10:\n",
            "Train Loss: 0.2933 | Val Loss: 0.2021\n"
          ]
        },
        {
          "output_type": "stream",
          "name": "stderr",
          "text": [
            "Training: 100%|██████████| 63/63 [00:30<00:00,  2.06it/s]\n",
            "Evaluating: 100%|██████████| 16/16 [00:02<00:00,  5.97it/s]\n",
            "[I 2025-05-09 16:58:08,520] Trial 33 finished with value: 0.1830203072167933 and parameters: {'d_model': 512, 'num_heads': 8, 'num_layers': 6, 'd_ff': 256, 'dropout': 0.11993028092758523, 'learning_rate': 0.00015684182867415576, 'batch_size': 128}. Best is trial 18 with value: 0.10892352042719722.\n"
          ]
        },
        {
          "output_type": "stream",
          "name": "stdout",
          "text": [
            "Epoch 10/10:\n",
            "Train Loss: 0.2327 | Val Loss: 0.1830\n"
          ]
        },
        {
          "output_type": "stream",
          "name": "stderr",
          "text": [
            "Training: 100%|██████████| 63/63 [00:30<00:00,  2.06it/s]\n",
            "Evaluating: 100%|██████████| 16/16 [00:02<00:00,  5.97it/s]\n"
          ]
        },
        {
          "output_type": "stream",
          "name": "stdout",
          "text": [
            "Epoch 1/10:\n",
            "Train Loss: 2.6055 | Val Loss: 2.1763\n"
          ]
        },
        {
          "output_type": "stream",
          "name": "stderr",
          "text": [
            "Training: 100%|██████████| 63/63 [00:30<00:00,  2.06it/s]\n",
            "Evaluating: 100%|██████████| 16/16 [00:02<00:00,  5.98it/s]\n"
          ]
        },
        {
          "output_type": "stream",
          "name": "stdout",
          "text": [
            "Epoch 2/10:\n",
            "Train Loss: 2.1111 | Val Loss: 2.0114\n"
          ]
        },
        {
          "output_type": "stream",
          "name": "stderr",
          "text": [
            "Training: 100%|██████████| 63/63 [00:30<00:00,  2.06it/s]\n",
            "Evaluating: 100%|██████████| 16/16 [00:02<00:00,  5.90it/s]\n"
          ]
        },
        {
          "output_type": "stream",
          "name": "stdout",
          "text": [
            "Epoch 3/10:\n",
            "Train Loss: 1.9483 | Val Loss: 1.8250\n"
          ]
        },
        {
          "output_type": "stream",
          "name": "stderr",
          "text": [
            "Training: 100%|██████████| 63/63 [00:30<00:00,  2.06it/s]\n",
            "Evaluating: 100%|██████████| 16/16 [00:02<00:00,  5.97it/s]\n"
          ]
        },
        {
          "output_type": "stream",
          "name": "stdout",
          "text": [
            "Epoch 4/10:\n",
            "Train Loss: 1.7954 | Val Loss: 1.7245\n"
          ]
        },
        {
          "output_type": "stream",
          "name": "stderr",
          "text": [
            "Training: 100%|██████████| 63/63 [00:30<00:00,  2.06it/s]\n",
            "Evaluating: 100%|██████████| 16/16 [00:02<00:00,  5.89it/s]\n"
          ]
        },
        {
          "output_type": "stream",
          "name": "stdout",
          "text": [
            "Epoch 5/10:\n",
            "Train Loss: 1.6572 | Val Loss: 1.5190\n"
          ]
        },
        {
          "output_type": "stream",
          "name": "stderr",
          "text": [
            "Training: 100%|██████████| 63/63 [00:30<00:00,  2.06it/s]\n",
            "Evaluating: 100%|██████████| 16/16 [00:02<00:00,  5.89it/s]\n"
          ]
        },
        {
          "output_type": "stream",
          "name": "stdout",
          "text": [
            "Epoch 6/10:\n",
            "Train Loss: 1.5189 | Val Loss: 1.3746\n"
          ]
        },
        {
          "output_type": "stream",
          "name": "stderr",
          "text": [
            "Training: 100%|██████████| 63/63 [00:30<00:00,  2.06it/s]\n",
            "Evaluating: 100%|██████████| 16/16 [00:02<00:00,  5.95it/s]\n"
          ]
        },
        {
          "output_type": "stream",
          "name": "stdout",
          "text": [
            "Epoch 7/10:\n",
            "Train Loss: 1.3588 | Val Loss: 1.1783\n"
          ]
        },
        {
          "output_type": "stream",
          "name": "stderr",
          "text": [
            "Training: 100%|██████████| 63/63 [00:30<00:00,  2.06it/s]\n",
            "Evaluating: 100%|██████████| 16/16 [00:02<00:00,  5.98it/s]\n"
          ]
        },
        {
          "output_type": "stream",
          "name": "stdout",
          "text": [
            "Epoch 8/10:\n",
            "Train Loss: 1.1512 | Val Loss: 0.8630\n"
          ]
        },
        {
          "output_type": "stream",
          "name": "stderr",
          "text": [
            "Training: 100%|██████████| 63/63 [00:30<00:00,  2.06it/s]\n",
            "Evaluating: 100%|██████████| 16/16 [00:02<00:00,  5.85it/s]\n"
          ]
        },
        {
          "output_type": "stream",
          "name": "stdout",
          "text": [
            "Epoch 9/10:\n",
            "Train Loss: 0.8543 | Val Loss: 0.6206\n"
          ]
        },
        {
          "output_type": "stream",
          "name": "stderr",
          "text": [
            "Training: 100%|██████████| 63/63 [00:30<00:00,  2.06it/s]\n",
            "Evaluating: 100%|██████████| 16/16 [00:02<00:00,  5.97it/s]\n",
            "[I 2025-05-09 17:03:41,284] Trial 34 finished with value: 0.4235410075634718 and parameters: {'d_model': 512, 'num_heads': 8, 'num_layers': 6, 'd_ff': 256, 'dropout': 0.15493140820248202, 'learning_rate': 0.00010339832728587635, 'batch_size': 128}. Best is trial 18 with value: 0.10892352042719722.\n"
          ]
        },
        {
          "output_type": "stream",
          "name": "stdout",
          "text": [
            "Epoch 10/10:\n",
            "Train Loss: 0.6458 | Val Loss: 0.4235\n"
          ]
        },
        {
          "output_type": "stream",
          "name": "stderr",
          "text": [
            "Training: 100%|██████████| 63/63 [00:30<00:00,  2.06it/s]\n",
            "Evaluating: 100%|██████████| 16/16 [00:02<00:00,  5.93it/s]\n"
          ]
        },
        {
          "output_type": "stream",
          "name": "stdout",
          "text": [
            "Epoch 1/10:\n",
            "Train Loss: 2.7874 | Val Loss: 2.2297\n"
          ]
        },
        {
          "output_type": "stream",
          "name": "stderr",
          "text": [
            "Training: 100%|██████████| 63/63 [00:30<00:00,  2.06it/s]\n",
            "Evaluating: 100%|██████████| 16/16 [00:02<00:00,  5.98it/s]\n"
          ]
        },
        {
          "output_type": "stream",
          "name": "stdout",
          "text": [
            "Epoch 2/10:\n",
            "Train Loss: 2.0974 | Val Loss: 1.9037\n"
          ]
        },
        {
          "output_type": "stream",
          "name": "stderr",
          "text": [
            "Training: 100%|██████████| 63/63 [00:30<00:00,  2.06it/s]\n",
            "Evaluating: 100%|██████████| 16/16 [00:02<00:00,  5.93it/s]\n"
          ]
        },
        {
          "output_type": "stream",
          "name": "stdout",
          "text": [
            "Epoch 3/10:\n",
            "Train Loss: 1.7493 | Val Loss: 1.5153\n"
          ]
        },
        {
          "output_type": "stream",
          "name": "stderr",
          "text": [
            "Training: 100%|██████████| 63/63 [00:30<00:00,  2.06it/s]\n",
            "Evaluating: 100%|██████████| 16/16 [00:02<00:00,  5.97it/s]\n"
          ]
        },
        {
          "output_type": "stream",
          "name": "stdout",
          "text": [
            "Epoch 4/10:\n",
            "Train Loss: 1.3464 | Val Loss: 0.9972\n"
          ]
        },
        {
          "output_type": "stream",
          "name": "stderr",
          "text": [
            "Training: 100%|██████████| 63/63 [00:30<00:00,  2.06it/s]\n",
            "Evaluating: 100%|██████████| 16/16 [00:02<00:00,  5.96it/s]\n"
          ]
        },
        {
          "output_type": "stream",
          "name": "stdout",
          "text": [
            "Epoch 5/10:\n",
            "Train Loss: 0.8093 | Val Loss: 0.4923\n"
          ]
        },
        {
          "output_type": "stream",
          "name": "stderr",
          "text": [
            "Training: 100%|██████████| 63/63 [00:30<00:00,  2.06it/s]\n",
            "Evaluating: 100%|██████████| 16/16 [00:02<00:00,  5.98it/s]\n"
          ]
        },
        {
          "output_type": "stream",
          "name": "stdout",
          "text": [
            "Epoch 6/10:\n",
            "Train Loss: 0.5033 | Val Loss: 0.3299\n"
          ]
        },
        {
          "output_type": "stream",
          "name": "stderr",
          "text": [
            "Training: 100%|██████████| 63/63 [00:30<00:00,  2.06it/s]\n",
            "Evaluating: 100%|██████████| 16/16 [00:02<00:00,  5.94it/s]\n"
          ]
        },
        {
          "output_type": "stream",
          "name": "stdout",
          "text": [
            "Epoch 7/10:\n",
            "Train Loss: 0.3484 | Val Loss: 0.2950\n"
          ]
        },
        {
          "output_type": "stream",
          "name": "stderr",
          "text": [
            "Training: 100%|██████████| 63/63 [00:30<00:00,  2.06it/s]\n",
            "Evaluating: 100%|██████████| 16/16 [00:02<00:00,  5.96it/s]\n"
          ]
        },
        {
          "output_type": "stream",
          "name": "stdout",
          "text": [
            "Epoch 8/10:\n",
            "Train Loss: 0.2489 | Val Loss: 0.1628\n"
          ]
        },
        {
          "output_type": "stream",
          "name": "stderr",
          "text": [
            "Training: 100%|██████████| 63/63 [00:30<00:00,  2.06it/s]\n",
            "Evaluating: 100%|██████████| 16/16 [00:02<00:00,  5.96it/s]\n"
          ]
        },
        {
          "output_type": "stream",
          "name": "stdout",
          "text": [
            "Epoch 9/10:\n",
            "Train Loss: 0.1848 | Val Loss: 0.1309\n"
          ]
        },
        {
          "output_type": "stream",
          "name": "stderr",
          "text": [
            "Training: 100%|██████████| 63/63 [00:30<00:00,  2.06it/s]\n",
            "Evaluating: 100%|██████████| 16/16 [00:02<00:00,  5.97it/s]\n"
          ]
        },
        {
          "output_type": "stream",
          "name": "stdout",
          "text": [
            "Epoch 10/10:\n",
            "Train Loss: 0.1563 | Val Loss: 0.1048\n"
          ]
        },
        {
          "output_type": "stream",
          "name": "stderr",
          "text": [
            "[I 2025-05-09 17:09:14,279] Trial 35 finished with value: 0.10481278039515018 and parameters: {'d_model': 512, 'num_heads': 8, 'num_layers': 6, 'd_ff': 256, 'dropout': 0.17726286798252044, 'learning_rate': 0.00041870138046125414, 'batch_size': 128}. Best is trial 35 with value: 0.10481278039515018.\n"
          ]
        },
        {
          "output_type": "stream",
          "name": "stdout",
          "text": [
            "New best model found! Val Loss: 0.1048\n",
            "Config: {'d_model': 512, 'num_heads': 8, 'num_layers': 6, 'd_ff': 256, 'dropout': 0.17726286798252044, 'learning_rate': 0.00041870138046125414, 'batch_size': 128}\n"
          ]
        },
        {
          "output_type": "stream",
          "name": "stderr",
          "text": [
            "Training: 100%|██████████| 63/63 [01:03<00:00,  1.02s/it]\n",
            "Evaluating: 100%|██████████| 16/16 [00:05<00:00,  2.95it/s]\n"
          ]
        },
        {
          "output_type": "stream",
          "name": "stdout",
          "text": [
            "Epoch 1/10:\n",
            "Train Loss: 3.0879 | Val Loss: 2.9817\n"
          ]
        },
        {
          "output_type": "stream",
          "name": "stderr",
          "text": [
            "Training: 100%|██████████| 63/63 [01:03<00:00,  1.02s/it]\n",
            "Evaluating: 100%|██████████| 16/16 [00:05<00:00,  2.95it/s]\n"
          ]
        },
        {
          "output_type": "stream",
          "name": "stdout",
          "text": [
            "Epoch 2/10:\n",
            "Train Loss: 2.9867 | Val Loss: 2.9787\n"
          ]
        },
        {
          "output_type": "stream",
          "name": "stderr",
          "text": [
            "Training: 100%|██████████| 63/63 [01:04<00:00,  1.02s/it]\n",
            "Evaluating: 100%|██████████| 16/16 [00:05<00:00,  2.96it/s]\n"
          ]
        },
        {
          "output_type": "stream",
          "name": "stdout",
          "text": [
            "Epoch 3/10:\n",
            "Train Loss: 2.9852 | Val Loss: 2.9799\n"
          ]
        },
        {
          "output_type": "stream",
          "name": "stderr",
          "text": [
            "Training: 100%|██████████| 63/63 [01:03<00:00,  1.02s/it]\n",
            "Evaluating: 100%|██████████| 16/16 [00:05<00:00,  2.95it/s]\n"
          ]
        },
        {
          "output_type": "stream",
          "name": "stdout",
          "text": [
            "Epoch 4/10:\n",
            "Train Loss: 2.9835 | Val Loss: 2.9805\n"
          ]
        },
        {
          "output_type": "stream",
          "name": "stderr",
          "text": [
            "Training: 100%|██████████| 63/63 [01:03<00:00,  1.02s/it]\n",
            "Evaluating: 100%|██████████| 16/16 [00:05<00:00,  2.96it/s]\n",
            "[I 2025-05-09 17:15:02,030] Trial 36 finished with value: 2.9787464141845703 and parameters: {'d_model': 512, 'num_heads': 8, 'num_layers': 12, 'd_ff': 512, 'dropout': 0.1842704410484377, 'learning_rate': 0.00042062787148066955, 'batch_size': 128}. Best is trial 35 with value: 0.10481278039515018.\n"
          ]
        },
        {
          "output_type": "stream",
          "name": "stdout",
          "text": [
            "Epoch 5/10:\n",
            "Train Loss: 2.9722 | Val Loss: 3.0953\n",
            "Early stopping triggered!\n"
          ]
        },
        {
          "output_type": "stream",
          "name": "stderr",
          "text": [
            "Training: 100%|██████████| 63/63 [00:50<00:00,  1.26it/s]\n",
            "Evaluating: 100%|██████████| 16/16 [00:04<00:00,  3.74it/s]\n"
          ]
        },
        {
          "output_type": "stream",
          "name": "stdout",
          "text": [
            "Epoch 1/10:\n",
            "Train Loss: 3.0763 | Val Loss: 2.9618\n"
          ]
        },
        {
          "output_type": "stream",
          "name": "stderr",
          "text": [
            "Training: 100%|██████████| 63/63 [00:50<00:00,  1.26it/s]\n",
            "Evaluating: 100%|██████████| 16/16 [00:04<00:00,  3.72it/s]\n"
          ]
        },
        {
          "output_type": "stream",
          "name": "stdout",
          "text": [
            "Epoch 2/10:\n",
            "Train Loss: 2.5494 | Val Loss: 2.2453\n"
          ]
        },
        {
          "output_type": "stream",
          "name": "stderr",
          "text": [
            "Training: 100%|██████████| 63/63 [00:50<00:00,  1.26it/s]\n",
            "Evaluating: 100%|██████████| 16/16 [00:04<00:00,  3.73it/s]\n"
          ]
        },
        {
          "output_type": "stream",
          "name": "stdout",
          "text": [
            "Epoch 3/10:\n",
            "Train Loss: 2.0734 | Val Loss: 1.9181\n"
          ]
        },
        {
          "output_type": "stream",
          "name": "stderr",
          "text": [
            "Training: 100%|██████████| 63/63 [00:50<00:00,  1.26it/s]\n",
            "Evaluating: 100%|██████████| 16/16 [00:04<00:00,  3.74it/s]\n"
          ]
        },
        {
          "output_type": "stream",
          "name": "stdout",
          "text": [
            "Epoch 4/10:\n",
            "Train Loss: 1.8403 | Val Loss: 1.7237\n"
          ]
        },
        {
          "output_type": "stream",
          "name": "stderr",
          "text": [
            "Training: 100%|██████████| 63/63 [00:50<00:00,  1.26it/s]\n",
            "Evaluating: 100%|██████████| 16/16 [00:04<00:00,  3.73it/s]\n"
          ]
        },
        {
          "output_type": "stream",
          "name": "stdout",
          "text": [
            "Epoch 5/10:\n",
            "Train Loss: 1.6864 | Val Loss: 1.6369\n"
          ]
        },
        {
          "output_type": "stream",
          "name": "stderr",
          "text": [
            "Training: 100%|██████████| 63/63 [00:50<00:00,  1.26it/s]\n",
            "Evaluating: 100%|██████████| 16/16 [00:04<00:00,  3.73it/s]\n"
          ]
        },
        {
          "output_type": "stream",
          "name": "stdout",
          "text": [
            "Epoch 6/10:\n",
            "Train Loss: 1.5723 | Val Loss: 1.5185\n"
          ]
        },
        {
          "output_type": "stream",
          "name": "stderr",
          "text": [
            "Training: 100%|██████████| 63/63 [00:50<00:00,  1.26it/s]\n",
            "Evaluating: 100%|██████████| 16/16 [00:04<00:00,  3.72it/s]\n"
          ]
        },
        {
          "output_type": "stream",
          "name": "stdout",
          "text": [
            "Epoch 7/10:\n",
            "Train Loss: 1.4430 | Val Loss: 1.3732\n"
          ]
        },
        {
          "output_type": "stream",
          "name": "stderr",
          "text": [
            "Training: 100%|██████████| 63/63 [00:50<00:00,  1.26it/s]\n",
            "Evaluating: 100%|██████████| 16/16 [00:04<00:00,  3.73it/s]\n"
          ]
        },
        {
          "output_type": "stream",
          "name": "stdout",
          "text": [
            "Epoch 8/10:\n",
            "Train Loss: 1.2896 | Val Loss: 1.2336\n"
          ]
        },
        {
          "output_type": "stream",
          "name": "stderr",
          "text": [
            "Training: 100%|██████████| 63/63 [00:50<00:00,  1.26it/s]\n",
            "Evaluating: 100%|██████████| 16/16 [00:04<00:00,  3.73it/s]\n"
          ]
        },
        {
          "output_type": "stream",
          "name": "stdout",
          "text": [
            "Epoch 9/10:\n",
            "Train Loss: 1.1077 | Val Loss: 1.0759\n"
          ]
        },
        {
          "output_type": "stream",
          "name": "stderr",
          "text": [
            "Training: 100%|██████████| 63/63 [00:50<00:00,  1.26it/s]\n",
            "Evaluating: 100%|██████████| 16/16 [00:04<00:00,  3.74it/s]\n",
            "[I 2025-05-09 17:24:05,737] Trial 37 finished with value: 0.8511115647852421 and parameters: {'d_model': 512, 'num_heads': 8, 'num_layers': 10, 'd_ff': 256, 'dropout': 0.1722527895993719, 'learning_rate': 0.00026107131809220767, 'batch_size': 128}. Best is trial 35 with value: 0.10481278039515018.\n"
          ]
        },
        {
          "output_type": "stream",
          "name": "stdout",
          "text": [
            "Epoch 10/10:\n",
            "Train Loss: 0.9395 | Val Loss: 0.8511\n"
          ]
        },
        {
          "output_type": "stream",
          "name": "stderr",
          "text": [
            "Training: 100%|██████████| 63/63 [00:32<00:00,  1.93it/s]\n",
            "Evaluating: 100%|██████████| 16/16 [00:02<00:00,  5.63it/s]\n"
          ]
        },
        {
          "output_type": "stream",
          "name": "stdout",
          "text": [
            "Epoch 1/10:\n",
            "Train Loss: 2.5386 | Val Loss: 2.1433\n"
          ]
        },
        {
          "output_type": "stream",
          "name": "stderr",
          "text": [
            "Training: 100%|██████████| 63/63 [00:32<00:00,  1.93it/s]\n",
            "Evaluating: 100%|██████████| 16/16 [00:02<00:00,  5.64it/s]\n"
          ]
        },
        {
          "output_type": "stream",
          "name": "stdout",
          "text": [
            "Epoch 2/10:\n",
            "Train Loss: 2.0653 | Val Loss: 1.9495\n"
          ]
        },
        {
          "output_type": "stream",
          "name": "stderr",
          "text": [
            "Training: 100%|██████████| 63/63 [00:32<00:00,  1.93it/s]\n",
            "Evaluating: 100%|██████████| 16/16 [00:02<00:00,  5.55it/s]\n"
          ]
        },
        {
          "output_type": "stream",
          "name": "stdout",
          "text": [
            "Epoch 3/10:\n",
            "Train Loss: 1.8739 | Val Loss: 1.7320\n"
          ]
        },
        {
          "output_type": "stream",
          "name": "stderr",
          "text": [
            "Training: 100%|██████████| 63/63 [00:32<00:00,  1.93it/s]\n",
            "Evaluating: 100%|██████████| 16/16 [00:02<00:00,  5.64it/s]\n"
          ]
        },
        {
          "output_type": "stream",
          "name": "stdout",
          "text": [
            "Epoch 4/10:\n",
            "Train Loss: 1.7109 | Val Loss: 1.5772\n"
          ]
        },
        {
          "output_type": "stream",
          "name": "stderr",
          "text": [
            "Training: 100%|██████████| 63/63 [00:32<00:00,  1.93it/s]\n",
            "Evaluating: 100%|██████████| 16/16 [00:02<00:00,  5.63it/s]\n"
          ]
        },
        {
          "output_type": "stream",
          "name": "stdout",
          "text": [
            "Epoch 5/10:\n",
            "Train Loss: 1.5160 | Val Loss: 1.3203\n"
          ]
        },
        {
          "output_type": "stream",
          "name": "stderr",
          "text": [
            "Training: 100%|██████████| 63/63 [00:32<00:00,  1.93it/s]\n",
            "Evaluating: 100%|██████████| 16/16 [00:02<00:00,  5.58it/s]\n"
          ]
        },
        {
          "output_type": "stream",
          "name": "stdout",
          "text": [
            "Epoch 6/10:\n",
            "Train Loss: 1.2717 | Val Loss: 0.9734\n"
          ]
        },
        {
          "output_type": "stream",
          "name": "stderr",
          "text": [
            "Training: 100%|██████████| 63/63 [00:32<00:00,  1.93it/s]\n",
            "Evaluating: 100%|██████████| 16/16 [00:02<00:00,  5.58it/s]\n"
          ]
        },
        {
          "output_type": "stream",
          "name": "stdout",
          "text": [
            "Epoch 7/10:\n",
            "Train Loss: 0.9149 | Val Loss: 0.6180\n"
          ]
        },
        {
          "output_type": "stream",
          "name": "stderr",
          "text": [
            "Training: 100%|██████████| 63/63 [00:32<00:00,  1.93it/s]\n",
            "Evaluating: 100%|██████████| 16/16 [00:02<00:00,  5.62it/s]\n"
          ]
        },
        {
          "output_type": "stream",
          "name": "stdout",
          "text": [
            "Epoch 8/10:\n",
            "Train Loss: 0.6577 | Val Loss: 0.4206\n"
          ]
        },
        {
          "output_type": "stream",
          "name": "stderr",
          "text": [
            "Training: 100%|██████████| 63/63 [00:32<00:00,  1.93it/s]\n",
            "Evaluating: 100%|██████████| 16/16 [00:02<00:00,  5.59it/s]\n"
          ]
        },
        {
          "output_type": "stream",
          "name": "stdout",
          "text": [
            "Epoch 9/10:\n",
            "Train Loss: 0.4927 | Val Loss: 0.3118\n"
          ]
        },
        {
          "output_type": "stream",
          "name": "stderr",
          "text": [
            "Training: 100%|██████████| 63/63 [00:32<00:00,  1.93it/s]\n",
            "Evaluating: 100%|██████████| 16/16 [00:02<00:00,  5.62it/s]\n",
            "[I 2025-05-09 17:30:01,284] Trial 38 finished with value: 0.26319647300988436 and parameters: {'d_model': 512, 'num_heads': 8, 'num_layers': 6, 'd_ff': 512, 'dropout': 0.19764252572888064, 'learning_rate': 0.00013879579486365473, 'batch_size': 128}. Best is trial 35 with value: 0.10481278039515018.\n"
          ]
        },
        {
          "output_type": "stream",
          "name": "stdout",
          "text": [
            "Epoch 10/10:\n",
            "Train Loss: 0.3806 | Val Loss: 0.2632\n"
          ]
        },
        {
          "output_type": "stream",
          "name": "stderr",
          "text": [
            "Training: 100%|██████████| 63/63 [00:30<00:00,  2.06it/s]\n",
            "Evaluating: 100%|██████████| 16/16 [00:02<00:00,  5.98it/s]\n"
          ]
        },
        {
          "output_type": "stream",
          "name": "stdout",
          "text": [
            "Epoch 1/10:\n",
            "Train Loss: 2.4861 | Val Loss: 2.1023\n"
          ]
        },
        {
          "output_type": "stream",
          "name": "stderr",
          "text": [
            "Training: 100%|██████████| 63/63 [00:30<00:00,  2.06it/s]\n",
            "Evaluating: 100%|██████████| 16/16 [00:02<00:00,  5.92it/s]\n"
          ]
        },
        {
          "output_type": "stream",
          "name": "stdout",
          "text": [
            "Epoch 2/10:\n",
            "Train Loss: 1.9745 | Val Loss: 1.8987\n"
          ]
        },
        {
          "output_type": "stream",
          "name": "stderr",
          "text": [
            "Training: 100%|██████████| 63/63 [00:30<00:00,  2.06it/s]\n",
            "Evaluating: 100%|██████████| 16/16 [00:02<00:00,  5.98it/s]\n"
          ]
        },
        {
          "output_type": "stream",
          "name": "stdout",
          "text": [
            "Epoch 3/10:\n",
            "Train Loss: 1.7405 | Val Loss: 1.5489\n"
          ]
        },
        {
          "output_type": "stream",
          "name": "stderr",
          "text": [
            "Training: 100%|██████████| 63/63 [00:30<00:00,  2.06it/s]\n",
            "Evaluating: 100%|██████████| 16/16 [00:02<00:00,  5.97it/s]\n"
          ]
        },
        {
          "output_type": "stream",
          "name": "stdout",
          "text": [
            "Epoch 4/10:\n",
            "Train Loss: 1.4767 | Val Loss: 1.2703\n"
          ]
        },
        {
          "output_type": "stream",
          "name": "stderr",
          "text": [
            "Training: 100%|██████████| 63/63 [00:30<00:00,  2.06it/s]\n",
            "Evaluating: 100%|██████████| 16/16 [00:02<00:00,  5.96it/s]\n"
          ]
        },
        {
          "output_type": "stream",
          "name": "stdout",
          "text": [
            "Epoch 5/10:\n",
            "Train Loss: 1.0472 | Val Loss: 0.6631\n"
          ]
        },
        {
          "output_type": "stream",
          "name": "stderr",
          "text": [
            "Training: 100%|██████████| 63/63 [00:30<00:00,  2.06it/s]\n",
            "Evaluating: 100%|██████████| 16/16 [00:02<00:00,  5.97it/s]\n"
          ]
        },
        {
          "output_type": "stream",
          "name": "stdout",
          "text": [
            "Epoch 6/10:\n",
            "Train Loss: 0.6426 | Val Loss: 0.4206\n"
          ]
        },
        {
          "output_type": "stream",
          "name": "stderr",
          "text": [
            "Training: 100%|██████████| 63/63 [00:30<00:00,  2.05it/s]\n",
            "Evaluating: 100%|██████████| 16/16 [00:02<00:00,  5.98it/s]\n"
          ]
        },
        {
          "output_type": "stream",
          "name": "stdout",
          "text": [
            "Epoch 7/10:\n",
            "Train Loss: 0.4386 | Val Loss: 0.2844\n"
          ]
        },
        {
          "output_type": "stream",
          "name": "stderr",
          "text": [
            "Training: 100%|██████████| 63/63 [00:30<00:00,  2.06it/s]\n",
            "Evaluating: 100%|██████████| 16/16 [00:02<00:00,  5.99it/s]\n"
          ]
        },
        {
          "output_type": "stream",
          "name": "stdout",
          "text": [
            "Epoch 8/10:\n",
            "Train Loss: 0.3250 | Val Loss: 0.2135\n"
          ]
        },
        {
          "output_type": "stream",
          "name": "stderr",
          "text": [
            "Training: 100%|██████████| 63/63 [00:30<00:00,  2.06it/s]\n",
            "Evaluating: 100%|██████████| 16/16 [00:02<00:00,  5.91it/s]\n"
          ]
        },
        {
          "output_type": "stream",
          "name": "stdout",
          "text": [
            "Epoch 9/10:\n",
            "Train Loss: 0.2510 | Val Loss: 0.1710\n"
          ]
        },
        {
          "output_type": "stream",
          "name": "stderr",
          "text": [
            "Training: 100%|██████████| 63/63 [00:30<00:00,  2.06it/s]\n",
            "Evaluating: 100%|██████████| 16/16 [00:02<00:00,  5.98it/s]\n",
            "[I 2025-05-09 17:35:33,961] Trial 39 finished with value: 0.16256820037961006 and parameters: {'d_model': 512, 'num_heads': 8, 'num_layers': 6, 'd_ff': 256, 'dropout': 0.1275140892122229, 'learning_rate': 0.0001812161890064864, 'batch_size': 128}. Best is trial 35 with value: 0.10481278039515018.\n"
          ]
        },
        {
          "output_type": "stream",
          "name": "stdout",
          "text": [
            "Epoch 10/10:\n",
            "Train Loss: 0.2001 | Val Loss: 0.1626\n"
          ]
        },
        {
          "output_type": "stream",
          "name": "stderr",
          "text": [
            "Training: 100%|██████████| 63/63 [00:49<00:00,  1.26it/s]\n",
            "Evaluating: 100%|██████████| 16/16 [00:04<00:00,  3.73it/s]\n"
          ]
        },
        {
          "output_type": "stream",
          "name": "stdout",
          "text": [
            "Epoch 1/10:\n",
            "Train Loss: 3.0891 | Val Loss: 2.9861\n"
          ]
        },
        {
          "output_type": "stream",
          "name": "stderr",
          "text": [
            "Training: 100%|██████████| 63/63 [00:50<00:00,  1.26it/s]\n",
            "Evaluating: 100%|██████████| 16/16 [00:04<00:00,  3.72it/s]\n"
          ]
        },
        {
          "output_type": "stream",
          "name": "stdout",
          "text": [
            "Epoch 2/10:\n",
            "Train Loss: 2.9906 | Val Loss: 2.9771\n"
          ]
        },
        {
          "output_type": "stream",
          "name": "stderr",
          "text": [
            "Training: 100%|██████████| 63/63 [00:50<00:00,  1.26it/s]\n",
            "Evaluating: 100%|██████████| 16/16 [00:04<00:00,  3.73it/s]\n"
          ]
        },
        {
          "output_type": "stream",
          "name": "stdout",
          "text": [
            "Epoch 3/10:\n",
            "Train Loss: 2.9868 | Val Loss: 2.9843\n"
          ]
        },
        {
          "output_type": "stream",
          "name": "stderr",
          "text": [
            "Training: 100%|██████████| 63/63 [00:50<00:00,  1.26it/s]\n",
            "Evaluating: 100%|██████████| 16/16 [00:04<00:00,  3.73it/s]\n"
          ]
        },
        {
          "output_type": "stream",
          "name": "stdout",
          "text": [
            "Epoch 4/10:\n",
            "Train Loss: 2.9743 | Val Loss: 3.1325\n"
          ]
        },
        {
          "output_type": "stream",
          "name": "stderr",
          "text": [
            "Training: 100%|██████████| 63/63 [00:49<00:00,  1.26it/s]\n",
            "Evaluating: 100%|██████████| 16/16 [00:04<00:00,  3.74it/s]\n",
            "[I 2025-05-09 17:40:05,887] Trial 40 finished with value: 2.9771019369363785 and parameters: {'d_model': 512, 'num_heads': 8, 'num_layers': 10, 'd_ff': 256, 'dropout': 0.2807229937271079, 'learning_rate': 0.000512689138819341, 'batch_size': 128}. Best is trial 35 with value: 0.10481278039515018.\n"
          ]
        },
        {
          "output_type": "stream",
          "name": "stdout",
          "text": [
            "Epoch 5/10:\n",
            "Train Loss: 2.9573 | Val Loss: 3.4079\n",
            "Early stopping triggered!\n"
          ]
        },
        {
          "output_type": "stream",
          "name": "stderr",
          "text": [
            "Training: 100%|██████████| 63/63 [00:30<00:00,  2.06it/s]\n",
            "Evaluating: 100%|██████████| 16/16 [00:02<00:00,  5.94it/s]\n"
          ]
        },
        {
          "output_type": "stream",
          "name": "stdout",
          "text": [
            "Epoch 1/10:\n",
            "Train Loss: 3.0859 | Val Loss: 2.9751\n"
          ]
        },
        {
          "output_type": "stream",
          "name": "stderr",
          "text": [
            "Training: 100%|██████████| 63/63 [00:30<00:00,  2.06it/s]\n",
            "Evaluating: 100%|██████████| 16/16 [00:02<00:00,  5.94it/s]\n"
          ]
        },
        {
          "output_type": "stream",
          "name": "stdout",
          "text": [
            "Epoch 2/10:\n",
            "Train Loss: 2.6526 | Val Loss: 2.2361\n"
          ]
        },
        {
          "output_type": "stream",
          "name": "stderr",
          "text": [
            "Training: 100%|██████████| 63/63 [00:30<00:00,  2.06it/s]\n",
            "Evaluating: 100%|██████████| 16/16 [00:02<00:00,  5.91it/s]\n"
          ]
        },
        {
          "output_type": "stream",
          "name": "stdout",
          "text": [
            "Epoch 3/10:\n",
            "Train Loss: 2.0845 | Val Loss: 1.9502\n"
          ]
        },
        {
          "output_type": "stream",
          "name": "stderr",
          "text": [
            "Training: 100%|██████████| 63/63 [00:30<00:00,  2.06it/s]\n",
            "Evaluating: 100%|██████████| 16/16 [00:02<00:00,  5.97it/s]\n"
          ]
        },
        {
          "output_type": "stream",
          "name": "stdout",
          "text": [
            "Epoch 4/10:\n",
            "Train Loss: 1.8487 | Val Loss: 1.7643\n"
          ]
        },
        {
          "output_type": "stream",
          "name": "stderr",
          "text": [
            "Training: 100%|██████████| 63/63 [00:30<00:00,  2.06it/s]\n",
            "Evaluating: 100%|██████████| 16/16 [00:02<00:00,  5.98it/s]\n"
          ]
        },
        {
          "output_type": "stream",
          "name": "stdout",
          "text": [
            "Epoch 5/10:\n",
            "Train Loss: 1.6946 | Val Loss: 1.6618\n"
          ]
        },
        {
          "output_type": "stream",
          "name": "stderr",
          "text": [
            "Training: 100%|██████████| 63/63 [00:30<00:00,  2.06it/s]\n",
            "Evaluating: 100%|██████████| 16/16 [00:02<00:00,  5.96it/s]\n"
          ]
        },
        {
          "output_type": "stream",
          "name": "stdout",
          "text": [
            "Epoch 6/10:\n",
            "Train Loss: 1.5928 | Val Loss: 1.5840\n"
          ]
        },
        {
          "output_type": "stream",
          "name": "stderr",
          "text": [
            "Training: 100%|██████████| 63/63 [00:30<00:00,  2.06it/s]\n",
            "Evaluating: 100%|██████████| 16/16 [00:02<00:00,  5.96it/s]\n"
          ]
        },
        {
          "output_type": "stream",
          "name": "stdout",
          "text": [
            "Epoch 7/10:\n",
            "Train Loss: 1.5137 | Val Loss: 1.5203\n"
          ]
        },
        {
          "output_type": "stream",
          "name": "stderr",
          "text": [
            "Training: 100%|██████████| 63/63 [00:30<00:00,  2.06it/s]\n",
            "Evaluating: 100%|██████████| 16/16 [00:02<00:00,  5.96it/s]\n"
          ]
        },
        {
          "output_type": "stream",
          "name": "stdout",
          "text": [
            "Epoch 8/10:\n",
            "Train Loss: 1.4511 | Val Loss: 1.4892\n"
          ]
        },
        {
          "output_type": "stream",
          "name": "stderr",
          "text": [
            "Training: 100%|██████████| 63/63 [00:30<00:00,  2.06it/s]\n",
            "Evaluating: 100%|██████████| 16/16 [00:02<00:00,  5.99it/s]\n"
          ]
        },
        {
          "output_type": "stream",
          "name": "stdout",
          "text": [
            "Epoch 9/10:\n",
            "Train Loss: 1.3936 | Val Loss: 1.4669\n"
          ]
        },
        {
          "output_type": "stream",
          "name": "stderr",
          "text": [
            "Training: 100%|██████████| 63/63 [00:30<00:00,  2.06it/s]\n",
            "Evaluating: 100%|██████████| 16/16 [00:02<00:00,  5.97it/s]\n",
            "[I 2025-05-09 17:45:38,585] Trial 41 finished with value: 1.4463816434144974 and parameters: {'d_model': 512, 'num_heads': 8, 'num_layers': 6, 'd_ff': 256, 'dropout': 0.11788710158125773, 'learning_rate': 0.0005081657607920895, 'batch_size': 128}. Best is trial 35 with value: 0.10481278039515018.\n"
          ]
        },
        {
          "output_type": "stream",
          "name": "stdout",
          "text": [
            "Epoch 10/10:\n",
            "Train Loss: 1.3496 | Val Loss: 1.4464\n"
          ]
        },
        {
          "output_type": "stream",
          "name": "stderr",
          "text": [
            "Training: 100%|██████████| 63/63 [00:14<00:00,  4.47it/s]\n",
            "Evaluating: 100%|██████████| 16/16 [00:01<00:00, 11.62it/s]\n"
          ]
        },
        {
          "output_type": "stream",
          "name": "stdout",
          "text": [
            "Epoch 1/10:\n",
            "Train Loss: 2.6144 | Val Loss: 2.2197\n"
          ]
        },
        {
          "output_type": "stream",
          "name": "stderr",
          "text": [
            "Training: 100%|██████████| 63/63 [00:14<00:00,  4.46it/s]\n",
            "Evaluating: 100%|██████████| 16/16 [00:01<00:00, 11.58it/s]\n"
          ]
        },
        {
          "output_type": "stream",
          "name": "stdout",
          "text": [
            "Epoch 2/10:\n",
            "Train Loss: 2.1519 | Val Loss: 2.0331\n"
          ]
        },
        {
          "output_type": "stream",
          "name": "stderr",
          "text": [
            "Training: 100%|██████████| 63/63 [00:14<00:00,  4.47it/s]\n",
            "Evaluating: 100%|██████████| 16/16 [00:01<00:00, 11.34it/s]\n"
          ]
        },
        {
          "output_type": "stream",
          "name": "stdout",
          "text": [
            "Epoch 3/10:\n",
            "Train Loss: 1.9482 | Val Loss: 1.7877\n"
          ]
        },
        {
          "output_type": "stream",
          "name": "stderr",
          "text": [
            "Training: 100%|██████████| 63/63 [00:14<00:00,  4.47it/s]\n",
            "Evaluating: 100%|██████████| 16/16 [00:01<00:00, 11.55it/s]\n"
          ]
        },
        {
          "output_type": "stream",
          "name": "stdout",
          "text": [
            "Epoch 4/10:\n",
            "Train Loss: 1.7510 | Val Loss: 1.5951\n"
          ]
        },
        {
          "output_type": "stream",
          "name": "stderr",
          "text": [
            "Training: 100%|██████████| 63/63 [00:14<00:00,  4.47it/s]\n",
            "Evaluating: 100%|██████████| 16/16 [00:01<00:00, 11.56it/s]\n"
          ]
        },
        {
          "output_type": "stream",
          "name": "stdout",
          "text": [
            "Epoch 5/10:\n",
            "Train Loss: 1.5805 | Val Loss: 1.4598\n"
          ]
        },
        {
          "output_type": "stream",
          "name": "stderr",
          "text": [
            "Training: 100%|██████████| 63/63 [00:14<00:00,  4.44it/s]\n",
            "Evaluating: 100%|██████████| 16/16 [00:01<00:00, 11.53it/s]\n"
          ]
        },
        {
          "output_type": "stream",
          "name": "stdout",
          "text": [
            "Epoch 6/10:\n",
            "Train Loss: 1.4169 | Val Loss: 1.2117\n"
          ]
        },
        {
          "output_type": "stream",
          "name": "stderr",
          "text": [
            "Training: 100%|██████████| 63/63 [00:14<00:00,  4.46it/s]\n",
            "Evaluating: 100%|██████████| 16/16 [00:01<00:00, 11.61it/s]\n"
          ]
        },
        {
          "output_type": "stream",
          "name": "stdout",
          "text": [
            "Epoch 7/10:\n",
            "Train Loss: 1.1991 | Val Loss: 0.8724\n"
          ]
        },
        {
          "output_type": "stream",
          "name": "stderr",
          "text": [
            "Training: 100%|██████████| 63/63 [00:14<00:00,  4.47it/s]\n",
            "Evaluating: 100%|██████████| 16/16 [00:01<00:00, 11.62it/s]\n"
          ]
        },
        {
          "output_type": "stream",
          "name": "stdout",
          "text": [
            "Epoch 8/10:\n",
            "Train Loss: 0.9298 | Val Loss: 0.6524\n"
          ]
        },
        {
          "output_type": "stream",
          "name": "stderr",
          "text": [
            "Training: 100%|██████████| 63/63 [00:14<00:00,  4.46it/s]\n",
            "Evaluating: 100%|██████████| 16/16 [00:01<00:00, 11.52it/s]\n"
          ]
        },
        {
          "output_type": "stream",
          "name": "stdout",
          "text": [
            "Epoch 9/10:\n",
            "Train Loss: 0.7284 | Val Loss: 0.4613\n"
          ]
        },
        {
          "output_type": "stream",
          "name": "stderr",
          "text": [
            "Training: 100%|██████████| 63/63 [00:14<00:00,  4.46it/s]\n",
            "Evaluating: 100%|██████████| 16/16 [00:01<00:00, 11.54it/s]\n",
            "[I 2025-05-09 17:48:13,706] Trial 42 finished with value: 0.3311190586537123 and parameters: {'d_model': 128, 'num_heads': 8, 'num_layers': 6, 'd_ff': 256, 'dropout': 0.14851861422728052, 'learning_rate': 0.0009538354862658523, 'batch_size': 128}. Best is trial 35 with value: 0.10481278039515018.\n"
          ]
        },
        {
          "output_type": "stream",
          "name": "stdout",
          "text": [
            "Epoch 10/10:\n",
            "Train Loss: 0.5790 | Val Loss: 0.3311\n"
          ]
        },
        {
          "output_type": "stream",
          "name": "stderr",
          "text": [
            "Training: 100%|██████████| 63/63 [00:30<00:00,  2.06it/s]\n",
            "Evaluating: 100%|██████████| 16/16 [00:02<00:00,  5.93it/s]\n"
          ]
        },
        {
          "output_type": "stream",
          "name": "stdout",
          "text": [
            "Epoch 1/10:\n",
            "Train Loss: 2.6029 | Val Loss: 2.1340\n"
          ]
        },
        {
          "output_type": "stream",
          "name": "stderr",
          "text": [
            "Training: 100%|██████████| 63/63 [00:30<00:00,  2.06it/s]\n",
            "Evaluating: 100%|██████████| 16/16 [00:02<00:00,  5.95it/s]\n"
          ]
        },
        {
          "output_type": "stream",
          "name": "stdout",
          "text": [
            "Epoch 2/10:\n",
            "Train Loss: 1.9325 | Val Loss: 1.7233\n"
          ]
        },
        {
          "output_type": "stream",
          "name": "stderr",
          "text": [
            "Training: 100%|██████████| 63/63 [00:30<00:00,  2.06it/s]\n",
            "Evaluating: 100%|██████████| 16/16 [00:02<00:00,  5.99it/s]\n"
          ]
        },
        {
          "output_type": "stream",
          "name": "stdout",
          "text": [
            "Epoch 3/10:\n",
            "Train Loss: 1.4898 | Val Loss: 1.1438\n"
          ]
        },
        {
          "output_type": "stream",
          "name": "stderr",
          "text": [
            "Training: 100%|██████████| 63/63 [00:30<00:00,  2.06it/s]\n",
            "Evaluating: 100%|██████████| 16/16 [00:02<00:00,  5.97it/s]\n"
          ]
        },
        {
          "output_type": "stream",
          "name": "stdout",
          "text": [
            "Epoch 4/10:\n",
            "Train Loss: 0.8374 | Val Loss: 0.4937\n"
          ]
        },
        {
          "output_type": "stream",
          "name": "stderr",
          "text": [
            "Training: 100%|██████████| 63/63 [00:30<00:00,  2.06it/s]\n",
            "Evaluating: 100%|██████████| 16/16 [00:02<00:00,  5.98it/s]\n"
          ]
        },
        {
          "output_type": "stream",
          "name": "stdout",
          "text": [
            "Epoch 5/10:\n",
            "Train Loss: 0.4917 | Val Loss: 0.3026\n"
          ]
        },
        {
          "output_type": "stream",
          "name": "stderr",
          "text": [
            "Training: 100%|██████████| 63/63 [00:30<00:00,  2.06it/s]\n",
            "Evaluating: 100%|██████████| 16/16 [00:02<00:00,  5.99it/s]\n"
          ]
        },
        {
          "output_type": "stream",
          "name": "stdout",
          "text": [
            "Epoch 6/10:\n",
            "Train Loss: 0.3278 | Val Loss: 0.2294\n"
          ]
        },
        {
          "output_type": "stream",
          "name": "stderr",
          "text": [
            "Training: 100%|██████████| 63/63 [00:30<00:00,  2.06it/s]\n",
            "Evaluating: 100%|██████████| 16/16 [00:02<00:00,  5.98it/s]\n"
          ]
        },
        {
          "output_type": "stream",
          "name": "stdout",
          "text": [
            "Epoch 7/10:\n",
            "Train Loss: 0.2342 | Val Loss: 0.1747\n"
          ]
        },
        {
          "output_type": "stream",
          "name": "stderr",
          "text": [
            "Training: 100%|██████████| 63/63 [00:30<00:00,  2.06it/s]\n",
            "Evaluating: 100%|██████████| 16/16 [00:02<00:00,  5.97it/s]\n"
          ]
        },
        {
          "output_type": "stream",
          "name": "stdout",
          "text": [
            "Epoch 8/10:\n",
            "Train Loss: 0.1831 | Val Loss: 0.1389\n"
          ]
        },
        {
          "output_type": "stream",
          "name": "stderr",
          "text": [
            "Training: 100%|██████████| 63/63 [00:30<00:00,  2.06it/s]\n",
            "Evaluating: 100%|██████████| 16/16 [00:02<00:00,  5.96it/s]\n"
          ]
        },
        {
          "output_type": "stream",
          "name": "stdout",
          "text": [
            "Epoch 9/10:\n",
            "Train Loss: 0.1496 | Val Loss: 0.1251\n"
          ]
        },
        {
          "output_type": "stream",
          "name": "stderr",
          "text": [
            "Training: 100%|██████████| 63/63 [00:30<00:00,  2.06it/s]\n",
            "Evaluating: 100%|██████████| 16/16 [00:02<00:00,  5.97it/s]\n"
          ]
        },
        {
          "output_type": "stream",
          "name": "stdout",
          "text": [
            "Epoch 10/10:\n",
            "Train Loss: 0.1215 | Val Loss: 0.0859\n"
          ]
        },
        {
          "output_type": "stream",
          "name": "stderr",
          "text": [
            "[I 2025-05-09 17:53:46,731] Trial 43 finished with value: 0.08592505543492734 and parameters: {'d_model': 512, 'num_heads': 8, 'num_layers': 6, 'd_ff': 256, 'dropout': 0.13185428585110107, 'learning_rate': 0.0003078672443612991, 'batch_size': 128}. Best is trial 43 with value: 0.08592505543492734.\n"
          ]
        },
        {
          "output_type": "stream",
          "name": "stdout",
          "text": [
            "New best model found! Val Loss: 0.0859\n",
            "Config: {'d_model': 512, 'num_heads': 8, 'num_layers': 6, 'd_ff': 256, 'dropout': 0.13185428585110107, 'learning_rate': 0.0003078672443612991, 'batch_size': 128}\n"
          ]
        },
        {
          "output_type": "stream",
          "name": "stderr",
          "text": [
            "Training: 100%|██████████| 63/63 [00:30<00:00,  2.06it/s]\n",
            "Evaluating: 100%|██████████| 16/16 [00:02<00:00,  5.97it/s]\n"
          ]
        },
        {
          "output_type": "stream",
          "name": "stdout",
          "text": [
            "Epoch 1/10:\n",
            "Train Loss: 2.5640 | Val Loss: 2.1170\n"
          ]
        },
        {
          "output_type": "stream",
          "name": "stderr",
          "text": [
            "Training: 100%|██████████| 63/63 [00:30<00:00,  2.06it/s]\n",
            "Evaluating: 100%|██████████| 16/16 [00:02<00:00,  5.99it/s]\n"
          ]
        },
        {
          "output_type": "stream",
          "name": "stdout",
          "text": [
            "Epoch 2/10:\n",
            "Train Loss: 1.9465 | Val Loss: 1.7434\n"
          ]
        },
        {
          "output_type": "stream",
          "name": "stderr",
          "text": [
            "Training: 100%|██████████| 63/63 [00:30<00:00,  2.06it/s]\n",
            "Evaluating: 100%|██████████| 16/16 [00:02<00:00,  5.96it/s]\n"
          ]
        },
        {
          "output_type": "stream",
          "name": "stdout",
          "text": [
            "Epoch 3/10:\n",
            "Train Loss: 1.6036 | Val Loss: 1.3454\n"
          ]
        },
        {
          "output_type": "stream",
          "name": "stderr",
          "text": [
            "Training: 100%|██████████| 63/63 [00:30<00:00,  2.07it/s]\n",
            "Evaluating: 100%|██████████| 16/16 [00:02<00:00,  5.96it/s]\n"
          ]
        },
        {
          "output_type": "stream",
          "name": "stdout",
          "text": [
            "Epoch 4/10:\n",
            "Train Loss: 1.1350 | Val Loss: 0.6913\n"
          ]
        },
        {
          "output_type": "stream",
          "name": "stderr",
          "text": [
            "Training: 100%|██████████| 63/63 [00:30<00:00,  2.06it/s]\n",
            "Evaluating: 100%|██████████| 16/16 [00:02<00:00,  6.00it/s]\n"
          ]
        },
        {
          "output_type": "stream",
          "name": "stdout",
          "text": [
            "Epoch 5/10:\n",
            "Train Loss: 0.6648 | Val Loss: 0.4258\n"
          ]
        },
        {
          "output_type": "stream",
          "name": "stderr",
          "text": [
            "Training: 100%|██████████| 63/63 [00:30<00:00,  2.06it/s]\n",
            "Evaluating: 100%|██████████| 16/16 [00:02<00:00,  5.98it/s]\n"
          ]
        },
        {
          "output_type": "stream",
          "name": "stdout",
          "text": [
            "Epoch 6/10:\n",
            "Train Loss: 0.4449 | Val Loss: 0.3594\n"
          ]
        },
        {
          "output_type": "stream",
          "name": "stderr",
          "text": [
            "Training: 100%|██████████| 63/63 [00:30<00:00,  2.07it/s]\n",
            "Evaluating: 100%|██████████| 16/16 [00:02<00:00,  5.97it/s]\n"
          ]
        },
        {
          "output_type": "stream",
          "name": "stdout",
          "text": [
            "Epoch 7/10:\n",
            "Train Loss: 0.3256 | Val Loss: 0.2211\n"
          ]
        },
        {
          "output_type": "stream",
          "name": "stderr",
          "text": [
            "Training: 100%|██████████| 63/63 [00:30<00:00,  2.07it/s]\n",
            "Evaluating: 100%|██████████| 16/16 [00:02<00:00,  5.99it/s]\n"
          ]
        },
        {
          "output_type": "stream",
          "name": "stdout",
          "text": [
            "Epoch 8/10:\n",
            "Train Loss: 0.2479 | Val Loss: 0.1539\n"
          ]
        },
        {
          "output_type": "stream",
          "name": "stderr",
          "text": [
            "Training: 100%|██████████| 63/63 [00:30<00:00,  2.07it/s]\n",
            "Evaluating: 100%|██████████| 16/16 [00:02<00:00,  5.98it/s]\n"
          ]
        },
        {
          "output_type": "stream",
          "name": "stdout",
          "text": [
            "Epoch 9/10:\n",
            "Train Loss: 0.1962 | Val Loss: 0.1372\n"
          ]
        },
        {
          "output_type": "stream",
          "name": "stderr",
          "text": [
            "Training: 100%|██████████| 63/63 [00:30<00:00,  2.06it/s]\n",
            "Evaluating: 100%|██████████| 16/16 [00:02<00:00,  5.99it/s]\n",
            "[I 2025-05-09 17:59:18,974] Trial 44 finished with value: 0.11301642912440002 and parameters: {'d_model': 512, 'num_heads': 8, 'num_layers': 6, 'd_ff': 256, 'dropout': 0.1660188200616312, 'learning_rate': 0.000279238984783106, 'batch_size': 128}. Best is trial 43 with value: 0.08592505543492734.\n"
          ]
        },
        {
          "output_type": "stream",
          "name": "stdout",
          "text": [
            "Epoch 10/10:\n",
            "Train Loss: 0.1570 | Val Loss: 0.1130\n"
          ]
        },
        {
          "output_type": "stream",
          "name": "stderr",
          "text": [
            "Training: 100%|██████████| 63/63 [00:40<00:00,  1.56it/s]\n",
            "Evaluating: 100%|██████████| 16/16 [00:03<00:00,  4.59it/s]\n"
          ]
        },
        {
          "output_type": "stream",
          "name": "stdout",
          "text": [
            "Epoch 1/10:\n",
            "Train Loss: 2.9252 | Val Loss: 2.3426\n"
          ]
        },
        {
          "output_type": "stream",
          "name": "stderr",
          "text": [
            "Training: 100%|██████████| 63/63 [00:40<00:00,  1.56it/s]\n",
            "Evaluating: 100%|██████████| 16/16 [00:03<00:00,  4.61it/s]\n"
          ]
        },
        {
          "output_type": "stream",
          "name": "stdout",
          "text": [
            "Epoch 2/10:\n",
            "Train Loss: 2.1834 | Val Loss: 2.0222\n"
          ]
        },
        {
          "output_type": "stream",
          "name": "stderr",
          "text": [
            "Training: 100%|██████████| 63/63 [00:40<00:00,  1.56it/s]\n",
            "Evaluating: 100%|██████████| 16/16 [00:03<00:00,  4.59it/s]\n"
          ]
        },
        {
          "output_type": "stream",
          "name": "stdout",
          "text": [
            "Epoch 3/10:\n",
            "Train Loss: 1.9320 | Val Loss: 1.8068\n"
          ]
        },
        {
          "output_type": "stream",
          "name": "stderr",
          "text": [
            "Training: 100%|██████████| 63/63 [00:40<00:00,  1.56it/s]\n",
            "Evaluating: 100%|██████████| 16/16 [00:03<00:00,  4.56it/s]\n"
          ]
        },
        {
          "output_type": "stream",
          "name": "stdout",
          "text": [
            "Epoch 4/10:\n",
            "Train Loss: 1.7414 | Val Loss: 1.6640\n"
          ]
        },
        {
          "output_type": "stream",
          "name": "stderr",
          "text": [
            "Training: 100%|██████████| 63/63 [00:40<00:00,  1.56it/s]\n",
            "Evaluating: 100%|██████████| 16/16 [00:03<00:00,  4.61it/s]\n"
          ]
        },
        {
          "output_type": "stream",
          "name": "stdout",
          "text": [
            "Epoch 5/10:\n",
            "Train Loss: 1.5374 | Val Loss: 1.4231\n"
          ]
        },
        {
          "output_type": "stream",
          "name": "stderr",
          "text": [
            "Training: 100%|██████████| 63/63 [00:40<00:00,  1.56it/s]\n",
            "Evaluating: 100%|██████████| 16/16 [00:03<00:00,  4.59it/s]\n"
          ]
        },
        {
          "output_type": "stream",
          "name": "stdout",
          "text": [
            "Epoch 6/10:\n",
            "Train Loss: 1.3003 | Val Loss: 1.1431\n"
          ]
        },
        {
          "output_type": "stream",
          "name": "stderr",
          "text": [
            "Training: 100%|██████████| 63/63 [00:40<00:00,  1.57it/s]\n",
            "Evaluating: 100%|██████████| 16/16 [00:03<00:00,  4.59it/s]\n"
          ]
        },
        {
          "output_type": "stream",
          "name": "stdout",
          "text": [
            "Epoch 7/10:\n",
            "Train Loss: 0.9838 | Val Loss: 0.6594\n"
          ]
        },
        {
          "output_type": "stream",
          "name": "stderr",
          "text": [
            "Training: 100%|██████████| 63/63 [00:40<00:00,  1.56it/s]\n",
            "Evaluating: 100%|██████████| 16/16 [00:03<00:00,  4.59it/s]\n"
          ]
        },
        {
          "output_type": "stream",
          "name": "stdout",
          "text": [
            "Epoch 8/10:\n",
            "Train Loss: 0.6102 | Val Loss: 0.4190\n"
          ]
        },
        {
          "output_type": "stream",
          "name": "stderr",
          "text": [
            "Training: 100%|██████████| 63/63 [00:40<00:00,  1.56it/s]\n",
            "Evaluating: 100%|██████████| 16/16 [00:03<00:00,  4.58it/s]\n"
          ]
        },
        {
          "output_type": "stream",
          "name": "stdout",
          "text": [
            "Epoch 9/10:\n",
            "Train Loss: 0.4044 | Val Loss: 0.2802\n"
          ]
        },
        {
          "output_type": "stream",
          "name": "stderr",
          "text": [
            "Training: 100%|██████████| 63/63 [00:40<00:00,  1.56it/s]\n",
            "Evaluating: 100%|██████████| 16/16 [00:03<00:00,  4.59it/s]\n",
            "[I 2025-05-09 18:06:37,041] Trial 45 finished with value: 0.2095473473891616 and parameters: {'d_model': 512, 'num_heads': 8, 'num_layers': 8, 'd_ff': 256, 'dropout': 0.1683081767709153, 'learning_rate': 0.00030189802588164556, 'batch_size': 128}. Best is trial 43 with value: 0.08592505543492734.\n"
          ]
        },
        {
          "output_type": "stream",
          "name": "stdout",
          "text": [
            "Epoch 10/10:\n",
            "Train Loss: 0.2820 | Val Loss: 0.2095\n"
          ]
        },
        {
          "output_type": "stream",
          "name": "stderr",
          "text": [
            "Training: 100%|██████████| 63/63 [00:32<00:00,  1.93it/s]\n",
            "Evaluating: 100%|██████████| 16/16 [00:02<00:00,  5.62it/s]\n"
          ]
        },
        {
          "output_type": "stream",
          "name": "stdout",
          "text": [
            "Epoch 1/10:\n",
            "Train Loss: 2.7059 | Val Loss: 2.2051\n"
          ]
        },
        {
          "output_type": "stream",
          "name": "stderr",
          "text": [
            "Training: 100%|██████████| 63/63 [00:32<00:00,  1.93it/s]\n",
            "Evaluating: 100%|██████████| 16/16 [00:02<00:00,  5.62it/s]\n"
          ]
        },
        {
          "output_type": "stream",
          "name": "stdout",
          "text": [
            "Epoch 2/10:\n",
            "Train Loss: 2.0892 | Val Loss: 1.9221\n"
          ]
        },
        {
          "output_type": "stream",
          "name": "stderr",
          "text": [
            "Training: 100%|██████████| 63/63 [00:32<00:00,  1.93it/s]\n",
            "Evaluating: 100%|██████████| 16/16 [00:02<00:00,  5.62it/s]\n"
          ]
        },
        {
          "output_type": "stream",
          "name": "stdout",
          "text": [
            "Epoch 3/10:\n",
            "Train Loss: 1.7836 | Val Loss: 1.5888\n"
          ]
        },
        {
          "output_type": "stream",
          "name": "stderr",
          "text": [
            "Training: 100%|██████████| 63/63 [00:32<00:00,  1.93it/s]\n",
            "Evaluating: 100%|██████████| 16/16 [00:02<00:00,  5.63it/s]\n"
          ]
        },
        {
          "output_type": "stream",
          "name": "stdout",
          "text": [
            "Epoch 4/10:\n",
            "Train Loss: 1.4602 | Val Loss: 1.2087\n"
          ]
        },
        {
          "output_type": "stream",
          "name": "stderr",
          "text": [
            "Training: 100%|██████████| 63/63 [00:32<00:00,  1.93it/s]\n",
            "Evaluating: 100%|██████████| 16/16 [00:02<00:00,  5.61it/s]\n"
          ]
        },
        {
          "output_type": "stream",
          "name": "stdout",
          "text": [
            "Epoch 5/10:\n",
            "Train Loss: 0.9798 | Val Loss: 0.5837\n"
          ]
        },
        {
          "output_type": "stream",
          "name": "stderr",
          "text": [
            "Training: 100%|██████████| 63/63 [00:32<00:00,  1.93it/s]\n",
            "Evaluating: 100%|██████████| 16/16 [00:02<00:00,  5.62it/s]\n"
          ]
        },
        {
          "output_type": "stream",
          "name": "stdout",
          "text": [
            "Epoch 6/10:\n",
            "Train Loss: 0.5927 | Val Loss: 0.4425\n"
          ]
        },
        {
          "output_type": "stream",
          "name": "stderr",
          "text": [
            "Training: 100%|██████████| 63/63 [00:32<00:00,  1.93it/s]\n",
            "Evaluating: 100%|██████████| 16/16 [00:02<00:00,  5.62it/s]\n"
          ]
        },
        {
          "output_type": "stream",
          "name": "stdout",
          "text": [
            "Epoch 7/10:\n",
            "Train Loss: 0.4045 | Val Loss: 0.2751\n"
          ]
        },
        {
          "output_type": "stream",
          "name": "stderr",
          "text": [
            "Training: 100%|██████████| 63/63 [00:32<00:00,  1.93it/s]\n",
            "Evaluating: 100%|██████████| 16/16 [00:02<00:00,  5.63it/s]\n"
          ]
        },
        {
          "output_type": "stream",
          "name": "stdout",
          "text": [
            "Epoch 8/10:\n",
            "Train Loss: 0.2852 | Val Loss: 0.1892\n"
          ]
        },
        {
          "output_type": "stream",
          "name": "stderr",
          "text": [
            "Training: 100%|██████████| 63/63 [00:32<00:00,  1.93it/s]\n",
            "Evaluating: 100%|██████████| 16/16 [00:02<00:00,  5.63it/s]\n"
          ]
        },
        {
          "output_type": "stream",
          "name": "stdout",
          "text": [
            "Epoch 9/10:\n",
            "Train Loss: 0.2162 | Val Loss: 0.1379\n"
          ]
        },
        {
          "output_type": "stream",
          "name": "stderr",
          "text": [
            "Training: 100%|██████████| 63/63 [00:32<00:00,  1.93it/s]\n",
            "Evaluating: 100%|██████████| 16/16 [00:02<00:00,  5.62it/s]\n",
            "[I 2025-05-09 18:12:32,497] Trial 46 finished with value: 0.13790942076593637 and parameters: {'d_model': 512, 'num_heads': 8, 'num_layers': 6, 'd_ff': 512, 'dropout': 0.19986676870710085, 'learning_rate': 0.0003691249883352613, 'batch_size': 128}. Best is trial 43 with value: 0.08592505543492734.\n"
          ]
        },
        {
          "output_type": "stream",
          "name": "stdout",
          "text": [
            "Epoch 10/10:\n",
            "Train Loss: 0.1696 | Val Loss: 0.2232\n"
          ]
        },
        {
          "output_type": "stream",
          "name": "stderr",
          "text": [
            "Training: 100%|██████████| 63/63 [00:59<00:00,  1.05it/s]\n",
            "Evaluating: 100%|██████████| 16/16 [00:05<00:00,  3.14it/s]\n"
          ]
        },
        {
          "output_type": "stream",
          "name": "stdout",
          "text": [
            "Epoch 1/10:\n",
            "Train Loss: 3.0220 | Val Loss: 2.4748\n"
          ]
        },
        {
          "output_type": "stream",
          "name": "stderr",
          "text": [
            "Training: 100%|██████████| 63/63 [00:59<00:00,  1.05it/s]\n",
            "Evaluating: 100%|██████████| 16/16 [00:05<00:00,  3.15it/s]\n"
          ]
        },
        {
          "output_type": "stream",
          "name": "stdout",
          "text": [
            "Epoch 2/10:\n",
            "Train Loss: 2.2533 | Val Loss: 2.1150\n"
          ]
        },
        {
          "output_type": "stream",
          "name": "stderr",
          "text": [
            "Training: 100%|██████████| 63/63 [00:59<00:00,  1.05it/s]\n",
            "Evaluating: 100%|██████████| 16/16 [00:05<00:00,  3.15it/s]\n"
          ]
        },
        {
          "output_type": "stream",
          "name": "stdout",
          "text": [
            "Epoch 3/10:\n",
            "Train Loss: 1.9925 | Val Loss: 1.8534\n"
          ]
        },
        {
          "output_type": "stream",
          "name": "stderr",
          "text": [
            "Training: 100%|██████████| 63/63 [00:59<00:00,  1.05it/s]\n",
            "Evaluating: 100%|██████████| 16/16 [00:05<00:00,  3.15it/s]\n"
          ]
        },
        {
          "output_type": "stream",
          "name": "stdout",
          "text": [
            "Epoch 4/10:\n",
            "Train Loss: 1.8016 | Val Loss: 1.7053\n"
          ]
        },
        {
          "output_type": "stream",
          "name": "stderr",
          "text": [
            "Training: 100%|██████████| 63/63 [00:59<00:00,  1.05it/s]\n",
            "Evaluating: 100%|██████████| 16/16 [00:05<00:00,  3.15it/s]\n"
          ]
        },
        {
          "output_type": "stream",
          "name": "stdout",
          "text": [
            "Epoch 5/10:\n",
            "Train Loss: 1.6388 | Val Loss: 1.5614\n"
          ]
        },
        {
          "output_type": "stream",
          "name": "stderr",
          "text": [
            "Training: 100%|██████████| 63/63 [00:59<00:00,  1.05it/s]\n",
            "Evaluating: 100%|██████████| 16/16 [00:05<00:00,  3.13it/s]\n"
          ]
        },
        {
          "output_type": "stream",
          "name": "stdout",
          "text": [
            "Epoch 6/10:\n",
            "Train Loss: 1.4599 | Val Loss: 1.3418\n"
          ]
        },
        {
          "output_type": "stream",
          "name": "stderr",
          "text": [
            "Training: 100%|██████████| 63/63 [00:59<00:00,  1.05it/s]\n",
            "Evaluating: 100%|██████████| 16/16 [00:05<00:00,  3.15it/s]\n"
          ]
        },
        {
          "output_type": "stream",
          "name": "stdout",
          "text": [
            "Epoch 7/10:\n",
            "Train Loss: 1.2693 | Val Loss: 1.1758\n"
          ]
        },
        {
          "output_type": "stream",
          "name": "stderr",
          "text": [
            "Training: 100%|██████████| 63/63 [00:59<00:00,  1.06it/s]\n",
            "Evaluating: 100%|██████████| 16/16 [00:05<00:00,  3.15it/s]\n"
          ]
        },
        {
          "output_type": "stream",
          "name": "stdout",
          "text": [
            "Epoch 8/10:\n",
            "Train Loss: 1.0482 | Val Loss: 0.8171\n"
          ]
        },
        {
          "output_type": "stream",
          "name": "stderr",
          "text": [
            "Training: 100%|██████████| 63/63 [00:59<00:00,  1.05it/s]\n",
            "Evaluating: 100%|██████████| 16/16 [00:05<00:00,  3.13it/s]\n"
          ]
        },
        {
          "output_type": "stream",
          "name": "stdout",
          "text": [
            "Epoch 9/10:\n",
            "Train Loss: 0.6701 | Val Loss: 0.4404\n"
          ]
        },
        {
          "output_type": "stream",
          "name": "stderr",
          "text": [
            "Training: 100%|██████████| 63/63 [00:59<00:00,  1.05it/s]\n",
            "Evaluating: 100%|██████████| 16/16 [00:05<00:00,  3.11it/s]\n",
            "[I 2025-05-09 18:23:21,429] Trial 47 finished with value: 0.3103277003392577 and parameters: {'d_model': 512, 'num_heads': 8, 'num_layers': 12, 'd_ff': 256, 'dropout': 0.13552074118404336, 'learning_rate': 0.00018215702620863182, 'batch_size': 128}. Best is trial 43 with value: 0.08592505543492734.\n"
          ]
        },
        {
          "output_type": "stream",
          "name": "stdout",
          "text": [
            "Epoch 10/10:\n",
            "Train Loss: 0.4312 | Val Loss: 0.3103\n"
          ]
        },
        {
          "output_type": "stream",
          "name": "stderr",
          "text": [
            "Training: 100%|██████████| 63/63 [00:25<00:00,  2.50it/s]\n",
            "Evaluating: 100%|██████████| 16/16 [00:02<00:00,  7.24it/s]\n"
          ]
        },
        {
          "output_type": "stream",
          "name": "stdout",
          "text": [
            "Epoch 1/10:\n",
            "Train Loss: 2.8785 | Val Loss: 2.3044\n"
          ]
        },
        {
          "output_type": "stream",
          "name": "stderr",
          "text": [
            "Training: 100%|██████████| 63/63 [00:25<00:00,  2.50it/s]\n",
            "Evaluating: 100%|██████████| 16/16 [00:02<00:00,  7.16it/s]\n"
          ]
        },
        {
          "output_type": "stream",
          "name": "stdout",
          "text": [
            "Epoch 2/10:\n",
            "Train Loss: 2.1533 | Val Loss: 1.9853\n"
          ]
        },
        {
          "output_type": "stream",
          "name": "stderr",
          "text": [
            "Training: 100%|██████████| 63/63 [00:25<00:00,  2.51it/s]\n",
            "Evaluating: 100%|██████████| 16/16 [00:02<00:00,  7.26it/s]\n"
          ]
        },
        {
          "output_type": "stream",
          "name": "stdout",
          "text": [
            "Epoch 3/10:\n",
            "Train Loss: 1.9019 | Val Loss: 1.8030\n"
          ]
        },
        {
          "output_type": "stream",
          "name": "stderr",
          "text": [
            "Training: 100%|██████████| 63/63 [00:25<00:00,  2.50it/s]\n",
            "Evaluating: 100%|██████████| 16/16 [00:02<00:00,  7.24it/s]\n"
          ]
        },
        {
          "output_type": "stream",
          "name": "stdout",
          "text": [
            "Epoch 4/10:\n",
            "Train Loss: 1.7433 | Val Loss: 1.6497\n"
          ]
        },
        {
          "output_type": "stream",
          "name": "stderr",
          "text": [
            "Training: 100%|██████████| 63/63 [00:25<00:00,  2.50it/s]\n",
            "Evaluating: 100%|██████████| 16/16 [00:02<00:00,  7.17it/s]\n"
          ]
        },
        {
          "output_type": "stream",
          "name": "stdout",
          "text": [
            "Epoch 5/10:\n",
            "Train Loss: 1.5329 | Val Loss: 1.3690\n"
          ]
        },
        {
          "output_type": "stream",
          "name": "stderr",
          "text": [
            "Training: 100%|██████████| 63/63 [00:25<00:00,  2.50it/s]\n",
            "Evaluating: 100%|██████████| 16/16 [00:02<00:00,  7.23it/s]\n"
          ]
        },
        {
          "output_type": "stream",
          "name": "stdout",
          "text": [
            "Epoch 6/10:\n",
            "Train Loss: 1.2472 | Val Loss: 0.9276\n"
          ]
        },
        {
          "output_type": "stream",
          "name": "stderr",
          "text": [
            "Training: 100%|██████████| 63/63 [00:25<00:00,  2.50it/s]\n",
            "Evaluating: 100%|██████████| 16/16 [00:02<00:00,  7.22it/s]\n"
          ]
        },
        {
          "output_type": "stream",
          "name": "stdout",
          "text": [
            "Epoch 7/10:\n",
            "Train Loss: 0.7841 | Val Loss: 0.5068\n"
          ]
        },
        {
          "output_type": "stream",
          "name": "stderr",
          "text": [
            "Training: 100%|██████████| 63/63 [00:25<00:00,  2.51it/s]\n",
            "Evaluating: 100%|██████████| 16/16 [00:02<00:00,  7.26it/s]\n"
          ]
        },
        {
          "output_type": "stream",
          "name": "stdout",
          "text": [
            "Epoch 8/10:\n",
            "Train Loss: 0.5246 | Val Loss: 0.3923\n"
          ]
        },
        {
          "output_type": "stream",
          "name": "stderr",
          "text": [
            "Training: 100%|██████████| 63/63 [00:25<00:00,  2.50it/s]\n",
            "Evaluating: 100%|██████████| 16/16 [00:02<00:00,  7.19it/s]\n"
          ]
        },
        {
          "output_type": "stream",
          "name": "stdout",
          "text": [
            "Epoch 9/10:\n",
            "Train Loss: 0.3922 | Val Loss: 0.2688\n"
          ]
        },
        {
          "output_type": "stream",
          "name": "stderr",
          "text": [
            "Training: 100%|██████████| 63/63 [00:25<00:00,  2.50it/s]\n",
            "Evaluating: 100%|██████████| 16/16 [00:02<00:00,  7.27it/s]\n",
            "[I 2025-05-09 18:27:55,589] Trial 48 finished with value: 0.24470712803304195 and parameters: {'d_model': 512, 'num_heads': 2, 'num_layers': 6, 'd_ff': 256, 'dropout': 0.16095275837798984, 'learning_rate': 0.0004635054509079536, 'batch_size': 128}. Best is trial 43 with value: 0.08592505543492734.\n"
          ]
        },
        {
          "output_type": "stream",
          "name": "stdout",
          "text": [
            "Epoch 10/10:\n",
            "Train Loss: 0.2903 | Val Loss: 0.2447\n"
          ]
        },
        {
          "output_type": "stream",
          "name": "stderr",
          "text": [
            "Training: 100%|██████████| 63/63 [00:30<00:00,  2.07it/s]\n",
            "Evaluating: 100%|██████████| 16/16 [00:02<00:00,  5.71it/s]\n"
          ]
        },
        {
          "output_type": "stream",
          "name": "stdout",
          "text": [
            "Epoch 1/10:\n",
            "Train Loss: 2.8995 | Val Loss: 2.3740\n"
          ]
        },
        {
          "output_type": "stream",
          "name": "stderr",
          "text": [
            "Training: 100%|██████████| 63/63 [00:30<00:00,  2.06it/s]\n",
            "Evaluating: 100%|██████████| 16/16 [00:02<00:00,  5.65it/s]\n"
          ]
        },
        {
          "output_type": "stream",
          "name": "stdout",
          "text": [
            "Epoch 2/10:\n",
            "Train Loss: 2.2984 | Val Loss: 2.1722\n"
          ]
        },
        {
          "output_type": "stream",
          "name": "stderr",
          "text": [
            "Training: 100%|██████████| 63/63 [00:30<00:00,  2.07it/s]\n",
            "Evaluating: 100%|██████████| 16/16 [00:02<00:00,  5.72it/s]\n"
          ]
        },
        {
          "output_type": "stream",
          "name": "stdout",
          "text": [
            "Epoch 3/10:\n",
            "Train Loss: 2.1579 | Val Loss: 2.0568\n"
          ]
        },
        {
          "output_type": "stream",
          "name": "stderr",
          "text": [
            "Training: 100%|██████████| 63/63 [00:30<00:00,  2.07it/s]\n",
            "Evaluating: 100%|██████████| 16/16 [00:02<00:00,  5.72it/s]\n"
          ]
        },
        {
          "output_type": "stream",
          "name": "stdout",
          "text": [
            "Epoch 4/10:\n",
            "Train Loss: 2.0607 | Val Loss: 1.9926\n"
          ]
        },
        {
          "output_type": "stream",
          "name": "stderr",
          "text": [
            "Training: 100%|██████████| 63/63 [00:30<00:00,  2.07it/s]\n",
            "Evaluating: 100%|██████████| 16/16 [00:02<00:00,  5.74it/s]\n"
          ]
        },
        {
          "output_type": "stream",
          "name": "stdout",
          "text": [
            "Epoch 5/10:\n",
            "Train Loss: 1.9867 | Val Loss: 1.9057\n"
          ]
        },
        {
          "output_type": "stream",
          "name": "stderr",
          "text": [
            "Training: 100%|██████████| 63/63 [00:30<00:00,  2.07it/s]\n",
            "Evaluating: 100%|██████████| 16/16 [00:02<00:00,  5.57it/s]\n"
          ]
        },
        {
          "output_type": "stream",
          "name": "stdout",
          "text": [
            "Epoch 6/10:\n",
            "Train Loss: 1.8980 | Val Loss: 1.8246\n"
          ]
        },
        {
          "output_type": "stream",
          "name": "stderr",
          "text": [
            "Training: 100%|██████████| 63/63 [00:30<00:00,  2.07it/s]\n",
            "Evaluating: 100%|██████████| 16/16 [00:02<00:00,  5.65it/s]\n"
          ]
        },
        {
          "output_type": "stream",
          "name": "stdout",
          "text": [
            "Epoch 7/10:\n",
            "Train Loss: 1.8223 | Val Loss: 1.7355\n"
          ]
        },
        {
          "output_type": "stream",
          "name": "stderr",
          "text": [
            "Training: 100%|██████████| 63/63 [00:30<00:00,  2.07it/s]\n",
            "Evaluating: 100%|██████████| 16/16 [00:02<00:00,  5.75it/s]\n"
          ]
        },
        {
          "output_type": "stream",
          "name": "stdout",
          "text": [
            "Epoch 8/10:\n",
            "Train Loss: 1.7549 | Val Loss: 1.6517\n"
          ]
        },
        {
          "output_type": "stream",
          "name": "stderr",
          "text": [
            "Training: 100%|██████████| 63/63 [00:30<00:00,  2.07it/s]\n",
            "Evaluating: 100%|██████████| 16/16 [00:02<00:00,  5.74it/s]\n"
          ]
        },
        {
          "output_type": "stream",
          "name": "stdout",
          "text": [
            "Epoch 9/10:\n",
            "Train Loss: 1.6921 | Val Loss: 1.5972\n"
          ]
        },
        {
          "output_type": "stream",
          "name": "stderr",
          "text": [
            "Training: 100%|██████████| 63/63 [00:30<00:00,  2.07it/s]\n",
            "Evaluating: 100%|██████████| 16/16 [00:02<00:00,  5.76it/s]\n",
            "[I 2025-05-09 18:33:28,334] Trial 49 finished with value: 1.5356021374464035 and parameters: {'d_model': 128, 'num_heads': 16, 'num_layers': 8, 'd_ff': 256, 'dropout': 0.18105295409754935, 'learning_rate': 0.00029165165052686293, 'batch_size': 128}. Best is trial 43 with value: 0.08592505543492734.\n"
          ]
        },
        {
          "output_type": "stream",
          "name": "stdout",
          "text": [
            "Epoch 10/10:\n",
            "Train Loss: 1.6427 | Val Loss: 1.5356\n"
          ]
        },
        {
          "output_type": "stream",
          "name": "stderr",
          "text": [
            "Training: 100%|██████████| 63/63 [00:30<00:00,  2.06it/s]\n",
            "Evaluating: 100%|██████████| 16/16 [00:02<00:00,  5.99it/s]\n"
          ]
        },
        {
          "output_type": "stream",
          "name": "stdout",
          "text": [
            "Epoch 1/10:\n",
            "Train Loss: 2.7405 | Val Loss: 2.2485\n"
          ]
        },
        {
          "output_type": "stream",
          "name": "stderr",
          "text": [
            "Training: 100%|██████████| 63/63 [00:30<00:00,  2.06it/s]\n",
            "Evaluating: 100%|██████████| 16/16 [00:02<00:00,  5.95it/s]\n"
          ]
        },
        {
          "output_type": "stream",
          "name": "stdout",
          "text": [
            "Epoch 2/10:\n",
            "Train Loss: 2.1301 | Val Loss: 1.9662\n"
          ]
        },
        {
          "output_type": "stream",
          "name": "stderr",
          "text": [
            "Training: 100%|██████████| 63/63 [00:30<00:00,  2.06it/s]\n",
            "Evaluating: 100%|██████████| 16/16 [00:02<00:00,  5.93it/s]\n"
          ]
        },
        {
          "output_type": "stream",
          "name": "stdout",
          "text": [
            "Epoch 3/10:\n",
            "Train Loss: 1.8558 | Val Loss: 1.6727\n"
          ]
        },
        {
          "output_type": "stream",
          "name": "stderr",
          "text": [
            "Training: 100%|██████████| 63/63 [00:30<00:00,  2.06it/s]\n",
            "Evaluating: 100%|██████████| 16/16 [00:02<00:00,  5.98it/s]\n"
          ]
        },
        {
          "output_type": "stream",
          "name": "stdout",
          "text": [
            "Epoch 4/10:\n",
            "Train Loss: 1.5997 | Val Loss: 1.3825\n"
          ]
        },
        {
          "output_type": "stream",
          "name": "stderr",
          "text": [
            "Training: 100%|██████████| 63/63 [00:30<00:00,  2.06it/s]\n",
            "Evaluating: 100%|██████████| 16/16 [00:02<00:00,  5.98it/s]\n"
          ]
        },
        {
          "output_type": "stream",
          "name": "stdout",
          "text": [
            "Epoch 5/10:\n",
            "Train Loss: 1.3140 | Val Loss: 0.9247\n"
          ]
        },
        {
          "output_type": "stream",
          "name": "stderr",
          "text": [
            "Training: 100%|██████████| 63/63 [00:30<00:00,  2.06it/s]\n",
            "Evaluating: 100%|██████████| 16/16 [00:02<00:00,  5.96it/s]\n"
          ]
        },
        {
          "output_type": "stream",
          "name": "stdout",
          "text": [
            "Epoch 6/10:\n",
            "Train Loss: 0.9158 | Val Loss: 0.6620\n"
          ]
        },
        {
          "output_type": "stream",
          "name": "stderr",
          "text": [
            "Training: 100%|██████████| 63/63 [00:30<00:00,  2.06it/s]\n",
            "Evaluating: 100%|██████████| 16/16 [00:02<00:00,  5.96it/s]\n"
          ]
        },
        {
          "output_type": "stream",
          "name": "stdout",
          "text": [
            "Epoch 7/10:\n",
            "Train Loss: 0.6751 | Val Loss: 0.4762\n"
          ]
        },
        {
          "output_type": "stream",
          "name": "stderr",
          "text": [
            "Training: 100%|██████████| 63/63 [00:30<00:00,  2.06it/s]\n",
            "Evaluating: 100%|██████████| 16/16 [00:02<00:00,  5.96it/s]\n"
          ]
        },
        {
          "output_type": "stream",
          "name": "stdout",
          "text": [
            "Epoch 8/10:\n",
            "Train Loss: 0.5243 | Val Loss: 0.3122\n"
          ]
        },
        {
          "output_type": "stream",
          "name": "stderr",
          "text": [
            "Training: 100%|██████████| 63/63 [00:30<00:00,  2.06it/s]\n",
            "Evaluating: 100%|██████████| 16/16 [00:02<00:00,  5.96it/s]\n"
          ]
        },
        {
          "output_type": "stream",
          "name": "stdout",
          "text": [
            "Epoch 9/10:\n",
            "Train Loss: 0.4146 | Val Loss: 0.3312\n"
          ]
        },
        {
          "output_type": "stream",
          "name": "stderr",
          "text": [
            "Training: 100%|██████████| 63/63 [00:30<00:00,  2.06it/s]\n",
            "Evaluating: 100%|██████████| 16/16 [00:02<00:00,  5.99it/s]\n",
            "[I 2025-05-09 18:39:00,824] Trial 50 finished with value: 0.26790922321379185 and parameters: {'d_model': 512, 'num_heads': 8, 'num_layers': 6, 'd_ff': 256, 'dropout': 0.3376300300122432, 'learning_rate': 0.00038417549124764375, 'batch_size': 128}. Best is trial 43 with value: 0.08592505543492734.\n"
          ]
        },
        {
          "output_type": "stream",
          "name": "stdout",
          "text": [
            "Epoch 10/10:\n",
            "Train Loss: 0.3456 | Val Loss: 0.2679\n"
          ]
        },
        {
          "output_type": "stream",
          "name": "stderr",
          "text": [
            "Training: 100%|██████████| 63/63 [00:30<00:00,  2.06it/s]\n",
            "Evaluating: 100%|██████████| 16/16 [00:02<00:00,  5.95it/s]\n"
          ]
        },
        {
          "output_type": "stream",
          "name": "stdout",
          "text": [
            "Epoch 1/10:\n",
            "Train Loss: 2.5586 | Val Loss: 2.0897\n"
          ]
        },
        {
          "output_type": "stream",
          "name": "stderr",
          "text": [
            "Training: 100%|██████████| 63/63 [00:30<00:00,  2.07it/s]\n",
            "Evaluating: 100%|██████████| 16/16 [00:02<00:00,  5.98it/s]\n"
          ]
        },
        {
          "output_type": "stream",
          "name": "stdout",
          "text": [
            "Epoch 2/10:\n",
            "Train Loss: 1.9298 | Val Loss: 1.7323\n"
          ]
        },
        {
          "output_type": "stream",
          "name": "stderr",
          "text": [
            "Training: 100%|██████████| 63/63 [00:30<00:00,  2.06it/s]\n",
            "Evaluating: 100%|██████████| 16/16 [00:02<00:00,  5.97it/s]\n"
          ]
        },
        {
          "output_type": "stream",
          "name": "stdout",
          "text": [
            "Epoch 3/10:\n",
            "Train Loss: 1.5829 | Val Loss: 1.3829\n"
          ]
        },
        {
          "output_type": "stream",
          "name": "stderr",
          "text": [
            "Training: 100%|██████████| 63/63 [00:30<00:00,  2.07it/s]\n",
            "Evaluating: 100%|██████████| 16/16 [00:02<00:00,  5.91it/s]\n"
          ]
        },
        {
          "output_type": "stream",
          "name": "stdout",
          "text": [
            "Epoch 4/10:\n",
            "Train Loss: 1.0854 | Val Loss: 0.6746\n"
          ]
        },
        {
          "output_type": "stream",
          "name": "stderr",
          "text": [
            "Training: 100%|██████████| 63/63 [00:30<00:00,  2.06it/s]\n",
            "Evaluating: 100%|██████████| 16/16 [00:02<00:00,  5.99it/s]\n"
          ]
        },
        {
          "output_type": "stream",
          "name": "stdout",
          "text": [
            "Epoch 5/10:\n",
            "Train Loss: 0.5948 | Val Loss: 0.4037\n"
          ]
        },
        {
          "output_type": "stream",
          "name": "stderr",
          "text": [
            "Training: 100%|██████████| 63/63 [00:30<00:00,  2.06it/s]\n",
            "Evaluating: 100%|██████████| 16/16 [00:02<00:00,  5.94it/s]\n"
          ]
        },
        {
          "output_type": "stream",
          "name": "stdout",
          "text": [
            "Epoch 6/10:\n",
            "Train Loss: 0.3791 | Val Loss: 0.2326\n"
          ]
        },
        {
          "output_type": "stream",
          "name": "stderr",
          "text": [
            "Training: 100%|██████████| 63/63 [00:30<00:00,  2.06it/s]\n",
            "Evaluating: 100%|██████████| 16/16 [00:02<00:00,  5.88it/s]\n"
          ]
        },
        {
          "output_type": "stream",
          "name": "stdout",
          "text": [
            "Epoch 7/10:\n",
            "Train Loss: 0.2653 | Val Loss: 0.1714\n"
          ]
        },
        {
          "output_type": "stream",
          "name": "stderr",
          "text": [
            "Training: 100%|██████████| 63/63 [00:30<00:00,  2.06it/s]\n",
            "Evaluating: 100%|██████████| 16/16 [00:02<00:00,  5.97it/s]\n"
          ]
        },
        {
          "output_type": "stream",
          "name": "stdout",
          "text": [
            "Epoch 8/10:\n",
            "Train Loss: 0.1938 | Val Loss: 0.1502\n"
          ]
        },
        {
          "output_type": "stream",
          "name": "stderr",
          "text": [
            "Training: 100%|██████████| 63/63 [00:30<00:00,  2.06it/s]\n",
            "Evaluating: 100%|██████████| 16/16 [00:02<00:00,  5.98it/s]\n"
          ]
        },
        {
          "output_type": "stream",
          "name": "stdout",
          "text": [
            "Epoch 9/10:\n",
            "Train Loss: 0.1558 | Val Loss: 0.1195\n"
          ]
        },
        {
          "output_type": "stream",
          "name": "stderr",
          "text": [
            "Training: 100%|██████████| 63/63 [00:30<00:00,  2.06it/s]\n",
            "Evaluating: 100%|██████████| 16/16 [00:02<00:00,  5.97it/s]\n",
            "[I 2025-05-09 18:44:33,295] Trial 51 finished with value: 0.08617484872229397 and parameters: {'d_model': 512, 'num_heads': 8, 'num_layers': 6, 'd_ff': 256, 'dropout': 0.11374461787161659, 'learning_rate': 0.00024571702076428944, 'batch_size': 128}. Best is trial 43 with value: 0.08592505543492734.\n"
          ]
        },
        {
          "output_type": "stream",
          "name": "stdout",
          "text": [
            "Epoch 10/10:\n",
            "Train Loss: 0.1297 | Val Loss: 0.0862\n"
          ]
        },
        {
          "output_type": "stream",
          "name": "stderr",
          "text": [
            "Training: 100%|██████████| 63/63 [00:30<00:00,  2.06it/s]\n",
            "Evaluating: 100%|██████████| 16/16 [00:02<00:00,  5.98it/s]\n"
          ]
        },
        {
          "output_type": "stream",
          "name": "stdout",
          "text": [
            "Epoch 1/10:\n",
            "Train Loss: 2.5596 | Val Loss: 2.1324\n"
          ]
        },
        {
          "output_type": "stream",
          "name": "stderr",
          "text": [
            "Training: 100%|██████████| 63/63 [00:30<00:00,  2.06it/s]\n",
            "Evaluating: 100%|██████████| 16/16 [00:02<00:00,  5.97it/s]\n"
          ]
        },
        {
          "output_type": "stream",
          "name": "stdout",
          "text": [
            "Epoch 2/10:\n",
            "Train Loss: 2.0663 | Val Loss: 1.9370\n"
          ]
        },
        {
          "output_type": "stream",
          "name": "stderr",
          "text": [
            "Training: 100%|██████████| 63/63 [00:30<00:00,  2.06it/s]\n",
            "Evaluating: 100%|██████████| 16/16 [00:02<00:00,  5.99it/s]\n"
          ]
        },
        {
          "output_type": "stream",
          "name": "stdout",
          "text": [
            "Epoch 3/10:\n",
            "Train Loss: 1.8602 | Val Loss: 1.7366\n"
          ]
        },
        {
          "output_type": "stream",
          "name": "stderr",
          "text": [
            "Training: 100%|██████████| 63/63 [00:30<00:00,  2.06it/s]\n",
            "Evaluating: 100%|██████████| 16/16 [00:02<00:00,  5.97it/s]\n"
          ]
        },
        {
          "output_type": "stream",
          "name": "stdout",
          "text": [
            "Epoch 4/10:\n",
            "Train Loss: 1.6713 | Val Loss: 1.5261\n"
          ]
        },
        {
          "output_type": "stream",
          "name": "stderr",
          "text": [
            "Training: 100%|██████████| 63/63 [00:30<00:00,  2.07it/s]\n",
            "Evaluating: 100%|██████████| 16/16 [00:02<00:00,  5.94it/s]\n"
          ]
        },
        {
          "output_type": "stream",
          "name": "stdout",
          "text": [
            "Epoch 5/10:\n",
            "Train Loss: 1.4513 | Val Loss: 1.2732\n"
          ]
        },
        {
          "output_type": "stream",
          "name": "stderr",
          "text": [
            "Training: 100%|██████████| 63/63 [00:30<00:00,  2.06it/s]\n",
            "Evaluating: 100%|██████████| 16/16 [00:02<00:00,  5.97it/s]\n"
          ]
        },
        {
          "output_type": "stream",
          "name": "stdout",
          "text": [
            "Epoch 6/10:\n",
            "Train Loss: 1.1347 | Val Loss: 0.7953\n"
          ]
        },
        {
          "output_type": "stream",
          "name": "stderr",
          "text": [
            "Training: 100%|██████████| 63/63 [00:30<00:00,  2.06it/s]\n",
            "Evaluating: 100%|██████████| 16/16 [00:02<00:00,  5.98it/s]\n"
          ]
        },
        {
          "output_type": "stream",
          "name": "stdout",
          "text": [
            "Epoch 7/10:\n",
            "Train Loss: 0.7488 | Val Loss: 0.5112\n"
          ]
        },
        {
          "output_type": "stream",
          "name": "stderr",
          "text": [
            "Training: 100%|██████████| 63/63 [00:30<00:00,  2.06it/s]\n",
            "Evaluating: 100%|██████████| 16/16 [00:02<00:00,  5.91it/s]\n"
          ]
        },
        {
          "output_type": "stream",
          "name": "stdout",
          "text": [
            "Epoch 8/10:\n",
            "Train Loss: 0.5300 | Val Loss: 0.3534\n"
          ]
        },
        {
          "output_type": "stream",
          "name": "stderr",
          "text": [
            "Training: 100%|██████████| 63/63 [00:30<00:00,  2.06it/s]\n",
            "Evaluating: 100%|██████████| 16/16 [00:02<00:00,  6.00it/s]\n"
          ]
        },
        {
          "output_type": "stream",
          "name": "stdout",
          "text": [
            "Epoch 9/10:\n",
            "Train Loss: 0.3973 | Val Loss: 0.2935\n"
          ]
        },
        {
          "output_type": "stream",
          "name": "stderr",
          "text": [
            "Training: 100%|██████████| 63/63 [00:30<00:00,  2.06it/s]\n",
            "Evaluating: 100%|██████████| 16/16 [00:02<00:00,  5.95it/s]\n",
            "[I 2025-05-09 18:50:05,774] Trial 52 finished with value: 0.2133147157728672 and parameters: {'d_model': 512, 'num_heads': 8, 'num_layers': 6, 'd_ff': 256, 'dropout': 0.13576841668044326, 'learning_rate': 0.00013830441963466592, 'batch_size': 128}. Best is trial 43 with value: 0.08592505543492734.\n"
          ]
        },
        {
          "output_type": "stream",
          "name": "stdout",
          "text": [
            "Epoch 10/10:\n",
            "Train Loss: 0.3049 | Val Loss: 0.2133\n"
          ]
        },
        {
          "output_type": "stream",
          "name": "stderr",
          "text": [
            "Training: 100%|██████████| 63/63 [00:30<00:00,  2.06it/s]\n",
            "Evaluating: 100%|██████████| 16/16 [00:02<00:00,  5.98it/s]\n"
          ]
        },
        {
          "output_type": "stream",
          "name": "stdout",
          "text": [
            "Epoch 1/10:\n",
            "Train Loss: 2.5657 | Val Loss: 2.1916\n"
          ]
        },
        {
          "output_type": "stream",
          "name": "stderr",
          "text": [
            "Training: 100%|██████████| 63/63 [00:30<00:00,  2.06it/s]\n",
            "Evaluating: 100%|██████████| 16/16 [00:02<00:00,  5.90it/s]\n"
          ]
        },
        {
          "output_type": "stream",
          "name": "stdout",
          "text": [
            "Epoch 2/10:\n",
            "Train Loss: 1.9537 | Val Loss: 1.7398\n"
          ]
        },
        {
          "output_type": "stream",
          "name": "stderr",
          "text": [
            "Training: 100%|██████████| 63/63 [00:30<00:00,  2.06it/s]\n",
            "Evaluating: 100%|██████████| 16/16 [00:02<00:00,  5.98it/s]\n"
          ]
        },
        {
          "output_type": "stream",
          "name": "stdout",
          "text": [
            "Epoch 3/10:\n",
            "Train Loss: 1.5745 | Val Loss: 1.3085\n"
          ]
        },
        {
          "output_type": "stream",
          "name": "stderr",
          "text": [
            "Training: 100%|██████████| 63/63 [00:30<00:00,  2.07it/s]\n",
            "Evaluating: 100%|██████████| 16/16 [00:02<00:00,  5.93it/s]\n"
          ]
        },
        {
          "output_type": "stream",
          "name": "stdout",
          "text": [
            "Epoch 4/10:\n",
            "Train Loss: 1.0343 | Val Loss: 0.6095\n"
          ]
        },
        {
          "output_type": "stream",
          "name": "stderr",
          "text": [
            "Training: 100%|██████████| 63/63 [00:30<00:00,  2.06it/s]\n",
            "Evaluating: 100%|██████████| 16/16 [00:02<00:00,  5.95it/s]\n"
          ]
        },
        {
          "output_type": "stream",
          "name": "stdout",
          "text": [
            "Epoch 5/10:\n",
            "Train Loss: 0.5681 | Val Loss: 0.3559\n"
          ]
        },
        {
          "output_type": "stream",
          "name": "stderr",
          "text": [
            "Training: 100%|██████████| 63/63 [00:30<00:00,  2.06it/s]\n",
            "Evaluating: 100%|██████████| 16/16 [00:02<00:00,  5.98it/s]\n"
          ]
        },
        {
          "output_type": "stream",
          "name": "stdout",
          "text": [
            "Epoch 6/10:\n",
            "Train Loss: 0.3713 | Val Loss: 0.2514\n"
          ]
        },
        {
          "output_type": "stream",
          "name": "stderr",
          "text": [
            "Training: 100%|██████████| 63/63 [00:30<00:00,  2.06it/s]\n",
            "Evaluating: 100%|██████████| 16/16 [00:02<00:00,  5.97it/s]\n"
          ]
        },
        {
          "output_type": "stream",
          "name": "stdout",
          "text": [
            "Epoch 7/10:\n",
            "Train Loss: 0.2619 | Val Loss: 0.1653\n"
          ]
        },
        {
          "output_type": "stream",
          "name": "stderr",
          "text": [
            "Training: 100%|██████████| 63/63 [00:30<00:00,  2.07it/s]\n",
            "Evaluating: 100%|██████████| 16/16 [00:02<00:00,  5.99it/s]\n"
          ]
        },
        {
          "output_type": "stream",
          "name": "stdout",
          "text": [
            "Epoch 8/10:\n",
            "Train Loss: 0.1923 | Val Loss: 0.1405\n"
          ]
        },
        {
          "output_type": "stream",
          "name": "stderr",
          "text": [
            "Training: 100%|██████████| 63/63 [00:30<00:00,  2.06it/s]\n",
            "Evaluating: 100%|██████████| 16/16 [00:02<00:00,  5.96it/s]\n"
          ]
        },
        {
          "output_type": "stream",
          "name": "stdout",
          "text": [
            "Epoch 9/10:\n",
            "Train Loss: 0.1510 | Val Loss: 0.1176\n"
          ]
        },
        {
          "output_type": "stream",
          "name": "stderr",
          "text": [
            "Training: 100%|██████████| 63/63 [00:30<00:00,  2.06it/s]\n",
            "Evaluating: 100%|██████████| 16/16 [00:02<00:00,  5.99it/s]\n",
            "[I 2025-05-09 18:55:38,251] Trial 53 finished with value: 0.09507956216111779 and parameters: {'d_model': 512, 'num_heads': 8, 'num_layers': 6, 'd_ff': 256, 'dropout': 0.11928224882704155, 'learning_rate': 0.000266692369881299, 'batch_size': 128}. Best is trial 43 with value: 0.08592505543492734.\n"
          ]
        },
        {
          "output_type": "stream",
          "name": "stdout",
          "text": [
            "Epoch 10/10:\n",
            "Train Loss: 0.1248 | Val Loss: 0.0951\n"
          ]
        },
        {
          "output_type": "stream",
          "name": "stderr",
          "text": [
            "Training: 100%|██████████| 63/63 [00:37<00:00,  1.70it/s]\n",
            "Evaluating: 100%|██████████| 16/16 [00:03<00:00,  4.98it/s]\n"
          ]
        },
        {
          "output_type": "stream",
          "name": "stdout",
          "text": [
            "Epoch 1/10:\n",
            "Train Loss: 2.6155 | Val Loss: 2.1832\n"
          ]
        },
        {
          "output_type": "stream",
          "name": "stderr",
          "text": [
            "Training: 100%|██████████| 63/63 [00:37<00:00,  1.70it/s]\n",
            "Evaluating: 100%|██████████| 16/16 [00:03<00:00,  4.99it/s]\n"
          ]
        },
        {
          "output_type": "stream",
          "name": "stdout",
          "text": [
            "Epoch 2/10:\n",
            "Train Loss: 2.0494 | Val Loss: 1.9070\n"
          ]
        },
        {
          "output_type": "stream",
          "name": "stderr",
          "text": [
            "Training: 100%|██████████| 63/63 [00:37<00:00,  1.70it/s]\n",
            "Evaluating: 100%|██████████| 16/16 [00:03<00:00,  4.98it/s]\n"
          ]
        },
        {
          "output_type": "stream",
          "name": "stdout",
          "text": [
            "Epoch 3/10:\n",
            "Train Loss: 1.7560 | Val Loss: 1.5842\n"
          ]
        },
        {
          "output_type": "stream",
          "name": "stderr",
          "text": [
            "Training: 100%|██████████| 63/63 [00:37<00:00,  1.70it/s]\n",
            "Evaluating: 100%|██████████| 16/16 [00:03<00:00,  4.99it/s]\n"
          ]
        },
        {
          "output_type": "stream",
          "name": "stdout",
          "text": [
            "Epoch 4/10:\n",
            "Train Loss: 1.4277 | Val Loss: 1.2154\n"
          ]
        },
        {
          "output_type": "stream",
          "name": "stderr",
          "text": [
            "Training: 100%|██████████| 63/63 [00:37<00:00,  1.70it/s]\n",
            "Evaluating: 100%|██████████| 16/16 [00:03<00:00,  5.01it/s]\n"
          ]
        },
        {
          "output_type": "stream",
          "name": "stdout",
          "text": [
            "Epoch 5/10:\n",
            "Train Loss: 0.9133 | Val Loss: 0.5714\n"
          ]
        },
        {
          "output_type": "stream",
          "name": "stderr",
          "text": [
            "Training: 100%|██████████| 63/63 [00:37<00:00,  1.70it/s]\n",
            "Evaluating: 100%|██████████| 16/16 [00:03<00:00,  4.99it/s]\n"
          ]
        },
        {
          "output_type": "stream",
          "name": "stdout",
          "text": [
            "Epoch 6/10:\n",
            "Train Loss: 0.5018 | Val Loss: 0.3215\n"
          ]
        },
        {
          "output_type": "stream",
          "name": "stderr",
          "text": [
            "Training: 100%|██████████| 63/63 [00:37<00:00,  1.70it/s]\n",
            "Evaluating: 100%|██████████| 16/16 [00:03<00:00,  4.98it/s]\n"
          ]
        },
        {
          "output_type": "stream",
          "name": "stdout",
          "text": [
            "Epoch 7/10:\n",
            "Train Loss: 0.3160 | Val Loss: 0.1965\n"
          ]
        },
        {
          "output_type": "stream",
          "name": "stderr",
          "text": [
            "Training: 100%|██████████| 63/63 [00:37<00:00,  1.70it/s]\n",
            "Evaluating: 100%|██████████| 16/16 [00:03<00:00,  5.01it/s]\n"
          ]
        },
        {
          "output_type": "stream",
          "name": "stdout",
          "text": [
            "Epoch 8/10:\n",
            "Train Loss: 0.2101 | Val Loss: 0.2143\n"
          ]
        },
        {
          "output_type": "stream",
          "name": "stderr",
          "text": [
            "Training: 100%|██████████| 63/63 [00:37<00:00,  1.70it/s]\n",
            "Evaluating: 100%|██████████| 16/16 [00:03<00:00,  5.01it/s]\n"
          ]
        },
        {
          "output_type": "stream",
          "name": "stdout",
          "text": [
            "Epoch 9/10:\n",
            "Train Loss: 0.1633 | Val Loss: 0.1262\n"
          ]
        },
        {
          "output_type": "stream",
          "name": "stderr",
          "text": [
            "Training: 100%|██████████| 63/63 [00:37<00:00,  1.70it/s]\n",
            "Evaluating: 100%|██████████| 16/16 [00:03<00:00,  4.94it/s]\n",
            "[I 2025-05-09 19:02:22,009] Trial 54 finished with value: 0.12620573677122593 and parameters: {'d_model': 512, 'num_heads': 8, 'num_layers': 6, 'd_ff': 1024, 'dropout': 0.10937467954567658, 'learning_rate': 0.00026835221026642306, 'batch_size': 128}. Best is trial 43 with value: 0.08592505543492734.\n"
          ]
        },
        {
          "output_type": "stream",
          "name": "stdout",
          "text": [
            "Epoch 10/10:\n",
            "Train Loss: 0.1259 | Val Loss: 0.1297\n"
          ]
        },
        {
          "output_type": "stream",
          "name": "stderr",
          "text": [
            "Training: 100%|██████████| 63/63 [00:30<00:00,  2.07it/s]\n",
            "Evaluating: 100%|██████████| 16/16 [00:02<00:00,  5.91it/s]\n"
          ]
        },
        {
          "output_type": "stream",
          "name": "stdout",
          "text": [
            "Epoch 1/10:\n",
            "Train Loss: 2.6638 | Val Loss: 2.1983\n"
          ]
        },
        {
          "output_type": "stream",
          "name": "stderr",
          "text": [
            "Training: 100%|██████████| 63/63 [00:30<00:00,  2.06it/s]\n",
            "Evaluating: 100%|██████████| 16/16 [00:02<00:00,  5.97it/s]\n"
          ]
        },
        {
          "output_type": "stream",
          "name": "stdout",
          "text": [
            "Epoch 2/10:\n",
            "Train Loss: 2.0096 | Val Loss: 1.7891\n"
          ]
        },
        {
          "output_type": "stream",
          "name": "stderr",
          "text": [
            "Training: 100%|██████████| 63/63 [00:30<00:00,  2.06it/s]\n",
            "Evaluating: 100%|██████████| 16/16 [00:02<00:00,  5.96it/s]\n"
          ]
        },
        {
          "output_type": "stream",
          "name": "stdout",
          "text": [
            "Epoch 3/10:\n",
            "Train Loss: 1.5426 | Val Loss: 1.1540\n"
          ]
        },
        {
          "output_type": "stream",
          "name": "stderr",
          "text": [
            "Training: 100%|██████████| 63/63 [00:30<00:00,  2.06it/s]\n",
            "Evaluating: 100%|██████████| 16/16 [00:02<00:00,  5.95it/s]\n"
          ]
        },
        {
          "output_type": "stream",
          "name": "stdout",
          "text": [
            "Epoch 4/10:\n",
            "Train Loss: 0.8339 | Val Loss: 0.5014\n"
          ]
        },
        {
          "output_type": "stream",
          "name": "stderr",
          "text": [
            "Training: 100%|██████████| 63/63 [00:30<00:00,  2.06it/s]\n",
            "Evaluating: 100%|██████████| 16/16 [00:02<00:00,  5.95it/s]\n"
          ]
        },
        {
          "output_type": "stream",
          "name": "stdout",
          "text": [
            "Epoch 5/10:\n",
            "Train Loss: 0.4597 | Val Loss: 0.3111\n"
          ]
        },
        {
          "output_type": "stream",
          "name": "stderr",
          "text": [
            "Training: 100%|██████████| 63/63 [00:30<00:00,  2.06it/s]\n",
            "Evaluating: 100%|██████████| 16/16 [00:02<00:00,  5.98it/s]\n"
          ]
        },
        {
          "output_type": "stream",
          "name": "stdout",
          "text": [
            "Epoch 6/10:\n",
            "Train Loss: 0.2970 | Val Loss: 0.1987\n"
          ]
        },
        {
          "output_type": "stream",
          "name": "stderr",
          "text": [
            "Training: 100%|██████████| 63/63 [00:30<00:00,  2.06it/s]\n",
            "Evaluating: 100%|██████████| 16/16 [00:02<00:00,  5.98it/s]\n"
          ]
        },
        {
          "output_type": "stream",
          "name": "stdout",
          "text": [
            "Epoch 7/10:\n",
            "Train Loss: 0.2029 | Val Loss: 0.1531\n"
          ]
        },
        {
          "output_type": "stream",
          "name": "stderr",
          "text": [
            "Training: 100%|██████████| 63/63 [00:30<00:00,  2.07it/s]\n",
            "Evaluating: 100%|██████████| 16/16 [00:02<00:00,  5.98it/s]\n"
          ]
        },
        {
          "output_type": "stream",
          "name": "stdout",
          "text": [
            "Epoch 8/10:\n",
            "Train Loss: 0.1555 | Val Loss: 0.1301\n"
          ]
        },
        {
          "output_type": "stream",
          "name": "stderr",
          "text": [
            "Training: 100%|██████████| 63/63 [00:30<00:00,  2.07it/s]\n",
            "Evaluating: 100%|██████████| 16/16 [00:02<00:00,  5.96it/s]\n"
          ]
        },
        {
          "output_type": "stream",
          "name": "stdout",
          "text": [
            "Epoch 9/10:\n",
            "Train Loss: 0.1260 | Val Loss: 0.0972\n"
          ]
        },
        {
          "output_type": "stream",
          "name": "stderr",
          "text": [
            "Training: 100%|██████████| 63/63 [00:30<00:00,  2.06it/s]\n",
            "Evaluating: 100%|██████████| 16/16 [00:02<00:00,  5.98it/s]\n"
          ]
        },
        {
          "output_type": "stream",
          "name": "stdout",
          "text": [
            "Epoch 10/10:\n",
            "Train Loss: 0.1065 | Val Loss: 0.0822\n"
          ]
        },
        {
          "output_type": "stream",
          "name": "stderr",
          "text": [
            "[I 2025-05-09 19:07:54,671] Trial 55 finished with value: 0.08217304898425937 and parameters: {'d_model': 512, 'num_heads': 8, 'num_layers': 6, 'd_ff': 256, 'dropout': 0.1125331367392462, 'learning_rate': 0.0003515867391592575, 'batch_size': 128}. Best is trial 55 with value: 0.08217304898425937.\n"
          ]
        },
        {
          "output_type": "stream",
          "name": "stdout",
          "text": [
            "New best model found! Val Loss: 0.0822\n",
            "Config: {'d_model': 512, 'num_heads': 8, 'num_layers': 6, 'd_ff': 256, 'dropout': 0.1125331367392462, 'learning_rate': 0.0003515867391592575, 'batch_size': 128}\n"
          ]
        },
        {
          "output_type": "stream",
          "name": "stderr",
          "text": [
            "Training: 100%|██████████| 63/63 [00:25<00:00,  2.50it/s]\n",
            "Evaluating: 100%|██████████| 16/16 [00:02<00:00,  7.08it/s]\n"
          ]
        },
        {
          "output_type": "stream",
          "name": "stdout",
          "text": [
            "Epoch 1/10:\n",
            "Train Loss: 2.6371 | Val Loss: 2.2006\n"
          ]
        },
        {
          "output_type": "stream",
          "name": "stderr",
          "text": [
            "Training: 100%|██████████| 63/63 [00:25<00:00,  2.50it/s]\n",
            "Evaluating: 100%|██████████| 16/16 [00:02<00:00,  7.21it/s]\n"
          ]
        },
        {
          "output_type": "stream",
          "name": "stdout",
          "text": [
            "Epoch 2/10:\n",
            "Train Loss: 1.9934 | Val Loss: 1.7212\n"
          ]
        },
        {
          "output_type": "stream",
          "name": "stderr",
          "text": [
            "Training: 100%|██████████| 63/63 [00:25<00:00,  2.50it/s]\n",
            "Evaluating: 100%|██████████| 16/16 [00:02<00:00,  7.24it/s]\n"
          ]
        },
        {
          "output_type": "stream",
          "name": "stdout",
          "text": [
            "Epoch 3/10:\n",
            "Train Loss: 1.4451 | Val Loss: 0.9229\n"
          ]
        },
        {
          "output_type": "stream",
          "name": "stderr",
          "text": [
            "Training: 100%|██████████| 63/63 [00:25<00:00,  2.50it/s]\n",
            "Evaluating: 100%|██████████| 16/16 [00:02<00:00,  7.22it/s]\n"
          ]
        },
        {
          "output_type": "stream",
          "name": "stdout",
          "text": [
            "Epoch 4/10:\n",
            "Train Loss: 0.7342 | Val Loss: 0.4891\n"
          ]
        },
        {
          "output_type": "stream",
          "name": "stderr",
          "text": [
            "Training: 100%|██████████| 63/63 [00:25<00:00,  2.50it/s]\n",
            "Evaluating: 100%|██████████| 16/16 [00:02<00:00,  7.24it/s]\n"
          ]
        },
        {
          "output_type": "stream",
          "name": "stdout",
          "text": [
            "Epoch 5/10:\n",
            "Train Loss: 0.4533 | Val Loss: 0.3101\n"
          ]
        },
        {
          "output_type": "stream",
          "name": "stderr",
          "text": [
            "Training: 100%|██████████| 63/63 [00:25<00:00,  2.50it/s]\n",
            "Evaluating: 100%|██████████| 16/16 [00:02<00:00,  7.15it/s]\n"
          ]
        },
        {
          "output_type": "stream",
          "name": "stdout",
          "text": [
            "Epoch 6/10:\n",
            "Train Loss: 0.3177 | Val Loss: 0.2196\n"
          ]
        },
        {
          "output_type": "stream",
          "name": "stderr",
          "text": [
            "Training: 100%|██████████| 63/63 [00:25<00:00,  2.50it/s]\n",
            "Evaluating: 100%|██████████| 16/16 [00:02<00:00,  7.23it/s]\n"
          ]
        },
        {
          "output_type": "stream",
          "name": "stdout",
          "text": [
            "Epoch 7/10:\n",
            "Train Loss: 0.2250 | Val Loss: 0.1666\n"
          ]
        },
        {
          "output_type": "stream",
          "name": "stderr",
          "text": [
            "Training: 100%|██████████| 63/63 [00:25<00:00,  2.50it/s]\n",
            "Evaluating: 100%|██████████| 16/16 [00:02<00:00,  7.20it/s]\n"
          ]
        },
        {
          "output_type": "stream",
          "name": "stdout",
          "text": [
            "Epoch 8/10:\n",
            "Train Loss: 0.1821 | Val Loss: 0.1316\n"
          ]
        },
        {
          "output_type": "stream",
          "name": "stderr",
          "text": [
            "Training: 100%|██████████| 63/63 [00:25<00:00,  2.50it/s]\n",
            "Evaluating: 100%|██████████| 16/16 [00:02<00:00,  7.24it/s]\n"
          ]
        },
        {
          "output_type": "stream",
          "name": "stdout",
          "text": [
            "Epoch 9/10:\n",
            "Train Loss: 0.1482 | Val Loss: 0.1102\n"
          ]
        },
        {
          "output_type": "stream",
          "name": "stderr",
          "text": [
            "Training: 100%|██████████| 63/63 [00:25<00:00,  2.50it/s]\n",
            "Evaluating: 100%|██████████| 16/16 [00:02<00:00,  7.23it/s]\n",
            "[I 2025-05-09 19:12:28,965] Trial 56 finished with value: 0.10087786987423897 and parameters: {'d_model': 512, 'num_heads': 2, 'num_layers': 6, 'd_ff': 256, 'dropout': 0.1100732557943388, 'learning_rate': 0.0003567183197205478, 'batch_size': 128}. Best is trial 55 with value: 0.08217304898425937.\n"
          ]
        },
        {
          "output_type": "stream",
          "name": "stdout",
          "text": [
            "Epoch 10/10:\n",
            "Train Loss: 0.1215 | Val Loss: 0.1009\n"
          ]
        },
        {
          "output_type": "stream",
          "name": "stderr",
          "text": [
            "Training: 100%|██████████| 63/63 [00:41<00:00,  1.53it/s]\n",
            "Evaluating: 100%|██████████| 16/16 [00:03<00:00,  4.53it/s]\n"
          ]
        },
        {
          "output_type": "stream",
          "name": "stdout",
          "text": [
            "Epoch 1/10:\n",
            "Train Loss: 3.0772 | Val Loss: 2.9777\n"
          ]
        },
        {
          "output_type": "stream",
          "name": "stderr",
          "text": [
            "Training: 100%|██████████| 63/63 [00:41<00:00,  1.53it/s]\n",
            "Evaluating: 100%|██████████| 16/16 [00:03<00:00,  4.55it/s]\n"
          ]
        },
        {
          "output_type": "stream",
          "name": "stdout",
          "text": [
            "Epoch 2/10:\n",
            "Train Loss: 2.9988 | Val Loss: 2.9773\n"
          ]
        },
        {
          "output_type": "stream",
          "name": "stderr",
          "text": [
            "Training: 100%|██████████| 63/63 [00:41<00:00,  1.53it/s]\n",
            "Evaluating: 100%|██████████| 16/16 [00:03<00:00,  4.54it/s]\n"
          ]
        },
        {
          "output_type": "stream",
          "name": "stdout",
          "text": [
            "Epoch 3/10:\n",
            "Train Loss: 2.9824 | Val Loss: 2.9806\n"
          ]
        },
        {
          "output_type": "stream",
          "name": "stderr",
          "text": [
            "Training: 100%|██████████| 63/63 [00:41<00:00,  1.53it/s]\n",
            "Evaluating: 100%|██████████| 16/16 [00:03<00:00,  4.56it/s]\n"
          ]
        },
        {
          "output_type": "stream",
          "name": "stdout",
          "text": [
            "Epoch 4/10:\n",
            "Train Loss: 2.9821 | Val Loss: 2.9787\n"
          ]
        },
        {
          "output_type": "stream",
          "name": "stderr",
          "text": [
            "Training: 100%|██████████| 63/63 [00:41<00:00,  1.53it/s]\n",
            "Evaluating: 100%|██████████| 16/16 [00:03<00:00,  4.56it/s]\n",
            "[I 2025-05-09 19:16:12,394] Trial 57 finished with value: 2.9773357063531876 and parameters: {'d_model': 512, 'num_heads': 2, 'num_layers': 10, 'd_ff': 256, 'dropout': 0.1112895253798106, 'learning_rate': 0.0003427070667620144, 'batch_size': 128}. Best is trial 55 with value: 0.08217304898425937.\n"
          ]
        },
        {
          "output_type": "stream",
          "name": "stdout",
          "text": [
            "Epoch 5/10:\n",
            "Train Loss: 2.9770 | Val Loss: 2.9986\n",
            "Early stopping triggered!\n"
          ]
        },
        {
          "output_type": "stream",
          "name": "stderr",
          "text": [
            "Training: 100%|██████████| 63/63 [00:31<00:00,  1.98it/s]\n",
            "Evaluating: 100%|██████████| 16/16 [00:02<00:00,  5.84it/s]\n"
          ]
        },
        {
          "output_type": "stream",
          "name": "stdout",
          "text": [
            "Epoch 1/10:\n",
            "Train Loss: 3.0801 | Val Loss: 2.9779\n"
          ]
        },
        {
          "output_type": "stream",
          "name": "stderr",
          "text": [
            "Training: 100%|██████████| 63/63 [00:31<00:00,  1.98it/s]\n",
            "Evaluating: 100%|██████████| 16/16 [00:02<00:00,  5.82it/s]\n"
          ]
        },
        {
          "output_type": "stream",
          "name": "stdout",
          "text": [
            "Epoch 2/10:\n",
            "Train Loss: 2.9866 | Val Loss: 2.9830\n"
          ]
        },
        {
          "output_type": "stream",
          "name": "stderr",
          "text": [
            "Training: 100%|██████████| 63/63 [00:31<00:00,  1.98it/s]\n",
            "Evaluating: 100%|██████████| 16/16 [00:02<00:00,  5.83it/s]\n"
          ]
        },
        {
          "output_type": "stream",
          "name": "stdout",
          "text": [
            "Epoch 3/10:\n",
            "Train Loss: 2.9853 | Val Loss: 2.9822\n"
          ]
        },
        {
          "output_type": "stream",
          "name": "stderr",
          "text": [
            "Training: 100%|██████████| 63/63 [00:31<00:00,  1.98it/s]\n",
            "Evaluating: 100%|██████████| 16/16 [00:02<00:00,  5.87it/s]\n",
            "[I 2025-05-09 19:18:30,793] Trial 58 finished with value: 2.97793772816658 and parameters: {'d_model': 512, 'num_heads': 2, 'num_layers': 6, 'd_ff': 1024, 'dropout': 0.14940962849213762, 'learning_rate': 0.0005612868373122483, 'batch_size': 128}. Best is trial 55 with value: 0.08217304898425937.\n"
          ]
        },
        {
          "output_type": "stream",
          "name": "stdout",
          "text": [
            "Epoch 4/10:\n",
            "Train Loss: 2.9804 | Val Loss: 3.0165\n",
            "Early stopping triggered!\n"
          ]
        },
        {
          "output_type": "stream",
          "name": "stderr",
          "text": [
            "Training: 100%|██████████| 63/63 [00:33<00:00,  1.90it/s]\n",
            "Evaluating: 100%|██████████| 16/16 [00:02<00:00,  5.61it/s]\n"
          ]
        },
        {
          "output_type": "stream",
          "name": "stdout",
          "text": [
            "Epoch 1/10:\n",
            "Train Loss: 3.0839 | Val Loss: 2.9799\n"
          ]
        },
        {
          "output_type": "stream",
          "name": "stderr",
          "text": [
            "Training: 100%|██████████| 63/63 [00:33<00:00,  1.90it/s]\n",
            "Evaluating: 100%|██████████| 16/16 [00:02<00:00,  5.58it/s]\n"
          ]
        },
        {
          "output_type": "stream",
          "name": "stdout",
          "text": [
            "Epoch 2/10:\n",
            "Train Loss: 2.9853 | Val Loss: 2.9778\n"
          ]
        },
        {
          "output_type": "stream",
          "name": "stderr",
          "text": [
            "Training: 100%|██████████| 63/63 [00:33<00:00,  1.89it/s]\n",
            "Evaluating: 100%|██████████| 16/16 [00:02<00:00,  5.52it/s]\n"
          ]
        },
        {
          "output_type": "stream",
          "name": "stdout",
          "text": [
            "Epoch 3/10:\n",
            "Train Loss: 2.9862 | Val Loss: 2.9790\n"
          ]
        },
        {
          "output_type": "stream",
          "name": "stderr",
          "text": [
            "Training: 100%|██████████| 63/63 [00:33<00:00,  1.90it/s]\n",
            "Evaluating: 100%|██████████| 16/16 [00:02<00:00,  5.46it/s]\n"
          ]
        },
        {
          "output_type": "stream",
          "name": "stdout",
          "text": [
            "Epoch 4/10:\n",
            "Train Loss: 2.9847 | Val Loss: 2.9791\n"
          ]
        },
        {
          "output_type": "stream",
          "name": "stderr",
          "text": [
            "Training: 100%|██████████| 63/63 [00:33<00:00,  1.90it/s]\n",
            "Evaluating: 100%|██████████| 16/16 [00:02<00:00,  5.60it/s]\n",
            "[I 2025-05-09 19:21:31,530] Trial 59 finished with value: 2.977843940258026 and parameters: {'d_model': 512, 'num_heads': 2, 'num_layers': 8, 'd_ff': 256, 'dropout': 0.13142540448439888, 'learning_rate': 0.0004393468613530328, 'batch_size': 128}. Best is trial 55 with value: 0.08217304898425937.\n"
          ]
        },
        {
          "output_type": "stream",
          "name": "stdout",
          "text": [
            "Epoch 5/10:\n",
            "Train Loss: 2.9765 | Val Loss: 3.0341\n",
            "Early stopping triggered!\n"
          ]
        },
        {
          "output_type": "stream",
          "name": "stderr",
          "text": [
            "Training: 100%|██████████| 63/63 [00:27<00:00,  2.30it/s]\n",
            "Evaluating: 100%|██████████| 16/16 [00:02<00:00,  6.72it/s]\n"
          ]
        },
        {
          "output_type": "stream",
          "name": "stdout",
          "text": [
            "Epoch 1/10:\n",
            "Train Loss: 2.4934 | Val Loss: 2.0808\n"
          ]
        },
        {
          "output_type": "stream",
          "name": "stderr",
          "text": [
            "Training: 100%|██████████| 63/63 [00:27<00:00,  2.31it/s]\n",
            "Evaluating: 100%|██████████| 16/16 [00:02<00:00,  6.73it/s]\n"
          ]
        },
        {
          "output_type": "stream",
          "name": "stdout",
          "text": [
            "Epoch 2/10:\n",
            "Train Loss: 1.9234 | Val Loss: 1.7914\n"
          ]
        },
        {
          "output_type": "stream",
          "name": "stderr",
          "text": [
            "Training: 100%|██████████| 63/63 [00:27<00:00,  2.31it/s]\n",
            "Evaluating: 100%|██████████| 16/16 [00:02<00:00,  6.71it/s]\n"
          ]
        },
        {
          "output_type": "stream",
          "name": "stdout",
          "text": [
            "Epoch 3/10:\n",
            "Train Loss: 1.5796 | Val Loss: 1.2534\n"
          ]
        },
        {
          "output_type": "stream",
          "name": "stderr",
          "text": [
            "Training: 100%|██████████| 63/63 [00:27<00:00,  2.30it/s]\n",
            "Evaluating: 100%|██████████| 16/16 [00:02<00:00,  6.63it/s]\n"
          ]
        },
        {
          "output_type": "stream",
          "name": "stdout",
          "text": [
            "Epoch 4/10:\n",
            "Train Loss: 1.0186 | Val Loss: 0.6221\n"
          ]
        },
        {
          "output_type": "stream",
          "name": "stderr",
          "text": [
            "Training: 100%|██████████| 63/63 [00:27<00:00,  2.31it/s]\n",
            "Evaluating: 100%|██████████| 16/16 [00:02<00:00,  6.74it/s]\n"
          ]
        },
        {
          "output_type": "stream",
          "name": "stdout",
          "text": [
            "Epoch 5/10:\n",
            "Train Loss: 0.6075 | Val Loss: 0.3892\n"
          ]
        },
        {
          "output_type": "stream",
          "name": "stderr",
          "text": [
            "Training: 100%|██████████| 63/63 [00:27<00:00,  2.31it/s]\n",
            "Evaluating: 100%|██████████| 16/16 [00:02<00:00,  6.71it/s]\n"
          ]
        },
        {
          "output_type": "stream",
          "name": "stdout",
          "text": [
            "Epoch 6/10:\n",
            "Train Loss: 0.4274 | Val Loss: 0.2956\n"
          ]
        },
        {
          "output_type": "stream",
          "name": "stderr",
          "text": [
            "Training: 100%|██████████| 63/63 [00:27<00:00,  2.31it/s]\n",
            "Evaluating: 100%|██████████| 16/16 [00:02<00:00,  6.69it/s]\n"
          ]
        },
        {
          "output_type": "stream",
          "name": "stdout",
          "text": [
            "Epoch 7/10:\n",
            "Train Loss: 0.3241 | Val Loss: 0.2383\n"
          ]
        },
        {
          "output_type": "stream",
          "name": "stderr",
          "text": [
            "Training: 100%|██████████| 63/63 [00:27<00:00,  2.30it/s]\n",
            "Evaluating: 100%|██████████| 16/16 [00:02<00:00,  6.71it/s]\n"
          ]
        },
        {
          "output_type": "stream",
          "name": "stdout",
          "text": [
            "Epoch 8/10:\n",
            "Train Loss: 0.2589 | Val Loss: 0.2040\n"
          ]
        },
        {
          "output_type": "stream",
          "name": "stderr",
          "text": [
            "Training: 100%|██████████| 63/63 [00:27<00:00,  2.30it/s]\n",
            "Evaluating: 100%|██████████| 16/16 [00:02<00:00,  6.73it/s]\n"
          ]
        },
        {
          "output_type": "stream",
          "name": "stdout",
          "text": [
            "Epoch 9/10:\n",
            "Train Loss: 0.2121 | Val Loss: 0.2419\n"
          ]
        },
        {
          "output_type": "stream",
          "name": "stderr",
          "text": [
            "Training: 100%|██████████| 63/63 [00:27<00:00,  2.30it/s]\n",
            "Evaluating: 100%|██████████| 16/16 [00:02<00:00,  6.61it/s]\n",
            "[I 2025-05-09 19:26:29,161] Trial 60 finished with value: 0.12985380785539746 and parameters: {'d_model': 512, 'num_heads': 2, 'num_layers': 6, 'd_ff': 512, 'dropout': 0.11643200122579085, 'learning_rate': 0.0001627951831864995, 'batch_size': 128}. Best is trial 55 with value: 0.08217304898425937.\n"
          ]
        },
        {
          "output_type": "stream",
          "name": "stdout",
          "text": [
            "Epoch 10/10:\n",
            "Train Loss: 0.1771 | Val Loss: 0.1299\n"
          ]
        },
        {
          "output_type": "stream",
          "name": "stderr",
          "text": [
            "Training: 100%|██████████| 63/63 [00:39<00:00,  1.61it/s]\n",
            "Evaluating: 100%|██████████| 16/16 [00:03<00:00,  4.72it/s]\n"
          ]
        },
        {
          "output_type": "stream",
          "name": "stdout",
          "text": [
            "Epoch 1/10:\n",
            "Train Loss: 2.6821 | Val Loss: 2.1646\n"
          ]
        },
        {
          "output_type": "stream",
          "name": "stderr",
          "text": [
            "Training: 100%|██████████| 63/63 [00:39<00:00,  1.61it/s]\n",
            "Evaluating: 100%|██████████| 16/16 [00:03<00:00,  4.71it/s]\n"
          ]
        },
        {
          "output_type": "stream",
          "name": "stdout",
          "text": [
            "Epoch 2/10:\n",
            "Train Loss: 2.0203 | Val Loss: 1.8486\n"
          ]
        },
        {
          "output_type": "stream",
          "name": "stderr",
          "text": [
            "Training: 100%|██████████| 63/63 [00:39<00:00,  1.61it/s]\n",
            "Evaluating: 100%|██████████| 16/16 [00:03<00:00,  4.68it/s]\n"
          ]
        },
        {
          "output_type": "stream",
          "name": "stdout",
          "text": [
            "Epoch 3/10:\n",
            "Train Loss: 1.6054 | Val Loss: 1.3493\n"
          ]
        },
        {
          "output_type": "stream",
          "name": "stderr",
          "text": [
            "Training: 100%|██████████| 63/63 [00:39<00:00,  1.60it/s]\n",
            "Evaluating: 100%|██████████| 16/16 [00:03<00:00,  4.71it/s]\n"
          ]
        },
        {
          "output_type": "stream",
          "name": "stdout",
          "text": [
            "Epoch 4/10:\n",
            "Train Loss: 0.9920 | Val Loss: 0.5472\n"
          ]
        },
        {
          "output_type": "stream",
          "name": "stderr",
          "text": [
            "Training: 100%|██████████| 63/63 [00:39<00:00,  1.60it/s]\n",
            "Evaluating: 100%|██████████| 16/16 [00:03<00:00,  4.72it/s]\n"
          ]
        },
        {
          "output_type": "stream",
          "name": "stdout",
          "text": [
            "Epoch 5/10:\n",
            "Train Loss: 0.5015 | Val Loss: 0.3401\n"
          ]
        },
        {
          "output_type": "stream",
          "name": "stderr",
          "text": [
            "Training: 100%|██████████| 63/63 [00:39<00:00,  1.61it/s]\n",
            "Evaluating: 100%|██████████| 16/16 [00:03<00:00,  4.70it/s]\n"
          ]
        },
        {
          "output_type": "stream",
          "name": "stdout",
          "text": [
            "Epoch 6/10:\n",
            "Train Loss: 0.2976 | Val Loss: 0.2118\n"
          ]
        },
        {
          "output_type": "stream",
          "name": "stderr",
          "text": [
            "Training: 100%|██████████| 63/63 [00:39<00:00,  1.60it/s]\n",
            "Evaluating: 100%|██████████| 16/16 [00:03<00:00,  4.72it/s]\n"
          ]
        },
        {
          "output_type": "stream",
          "name": "stdout",
          "text": [
            "Epoch 7/10:\n",
            "Train Loss: 0.1990 | Val Loss: 0.1234\n"
          ]
        },
        {
          "output_type": "stream",
          "name": "stderr",
          "text": [
            "Training: 100%|██████████| 63/63 [00:39<00:00,  1.61it/s]\n",
            "Evaluating: 100%|██████████| 16/16 [00:03<00:00,  4.70it/s]\n"
          ]
        },
        {
          "output_type": "stream",
          "name": "stdout",
          "text": [
            "Epoch 8/10:\n",
            "Train Loss: 0.1414 | Val Loss: 0.1161\n"
          ]
        },
        {
          "output_type": "stream",
          "name": "stderr",
          "text": [
            "Training: 100%|██████████| 63/63 [00:39<00:00,  1.61it/s]\n",
            "Evaluating: 100%|██████████| 16/16 [00:03<00:00,  4.63it/s]\n"
          ]
        },
        {
          "output_type": "stream",
          "name": "stdout",
          "text": [
            "Epoch 9/10:\n",
            "Train Loss: 0.1079 | Val Loss: 0.1217\n"
          ]
        },
        {
          "output_type": "stream",
          "name": "stderr",
          "text": [
            "Training: 100%|██████████| 63/63 [00:39<00:00,  1.61it/s]\n",
            "Evaluating: 100%|██████████| 16/16 [00:03<00:00,  4.66it/s]\n",
            "[I 2025-05-09 19:33:35,917] Trial 61 finished with value: 0.10686289705336094 and parameters: {'d_model': 512, 'num_heads': 16, 'num_layers': 6, 'd_ff': 256, 'dropout': 0.10021660355215999, 'learning_rate': 0.000347132363789722, 'batch_size': 128}. Best is trial 55 with value: 0.08217304898425937.\n"
          ]
        },
        {
          "output_type": "stream",
          "name": "stdout",
          "text": [
            "Epoch 10/10:\n",
            "Train Loss: 0.0906 | Val Loss: 0.1069\n"
          ]
        },
        {
          "output_type": "stream",
          "name": "stderr",
          "text": [
            "Training: 100%|██████████| 63/63 [00:39<00:00,  1.61it/s]\n",
            "Evaluating: 100%|██████████| 16/16 [00:03<00:00,  4.71it/s]\n"
          ]
        },
        {
          "output_type": "stream",
          "name": "stdout",
          "text": [
            "Epoch 1/10:\n",
            "Train Loss: 2.6567 | Val Loss: 2.1929\n"
          ]
        },
        {
          "output_type": "stream",
          "name": "stderr",
          "text": [
            "Training: 100%|██████████| 63/63 [00:39<00:00,  1.60it/s]\n",
            "Evaluating: 100%|██████████| 16/16 [00:03<00:00,  4.71it/s]\n"
          ]
        },
        {
          "output_type": "stream",
          "name": "stdout",
          "text": [
            "Epoch 2/10:\n",
            "Train Loss: 2.0211 | Val Loss: 1.8279\n"
          ]
        },
        {
          "output_type": "stream",
          "name": "stderr",
          "text": [
            "Training: 100%|██████████| 63/63 [00:39<00:00,  1.60it/s]\n",
            "Evaluating: 100%|██████████| 16/16 [00:03<00:00,  4.72it/s]\n"
          ]
        },
        {
          "output_type": "stream",
          "name": "stdout",
          "text": [
            "Epoch 3/10:\n",
            "Train Loss: 1.6540 | Val Loss: 1.4160\n"
          ]
        },
        {
          "output_type": "stream",
          "name": "stderr",
          "text": [
            "Training: 100%|██████████| 63/63 [00:39<00:00,  1.61it/s]\n",
            "Evaluating: 100%|██████████| 16/16 [00:03<00:00,  4.67it/s]\n"
          ]
        },
        {
          "output_type": "stream",
          "name": "stdout",
          "text": [
            "Epoch 4/10:\n",
            "Train Loss: 1.1102 | Val Loss: 0.6612\n"
          ]
        },
        {
          "output_type": "stream",
          "name": "stderr",
          "text": [
            "Training: 100%|██████████| 63/63 [00:39<00:00,  1.61it/s]\n",
            "Evaluating: 100%|██████████| 16/16 [00:03<00:00,  4.72it/s]\n"
          ]
        },
        {
          "output_type": "stream",
          "name": "stdout",
          "text": [
            "Epoch 5/10:\n",
            "Train Loss: 0.5585 | Val Loss: 0.3663\n"
          ]
        },
        {
          "output_type": "stream",
          "name": "stderr",
          "text": [
            "Training: 100%|██████████| 63/63 [00:39<00:00,  1.61it/s]\n",
            "Evaluating: 100%|██████████| 16/16 [00:03<00:00,  4.71it/s]\n"
          ]
        },
        {
          "output_type": "stream",
          "name": "stdout",
          "text": [
            "Epoch 6/10:\n",
            "Train Loss: 0.3348 | Val Loss: 0.2176\n"
          ]
        },
        {
          "output_type": "stream",
          "name": "stderr",
          "text": [
            "Training: 100%|██████████| 63/63 [00:39<00:00,  1.61it/s]\n",
            "Evaluating: 100%|██████████| 16/16 [00:03<00:00,  4.71it/s]\n"
          ]
        },
        {
          "output_type": "stream",
          "name": "stdout",
          "text": [
            "Epoch 7/10:\n",
            "Train Loss: 0.2259 | Val Loss: 0.1725\n"
          ]
        },
        {
          "output_type": "stream",
          "name": "stderr",
          "text": [
            "Training: 100%|██████████| 63/63 [00:39<00:00,  1.61it/s]\n",
            "Evaluating: 100%|██████████| 16/16 [00:03<00:00,  4.70it/s]\n"
          ]
        },
        {
          "output_type": "stream",
          "name": "stdout",
          "text": [
            "Epoch 8/10:\n",
            "Train Loss: 0.1678 | Val Loss: 0.1275\n"
          ]
        },
        {
          "output_type": "stream",
          "name": "stderr",
          "text": [
            "Training: 100%|██████████| 63/63 [00:39<00:00,  1.60it/s]\n",
            "Evaluating: 100%|██████████| 16/16 [00:03<00:00,  4.72it/s]\n"
          ]
        },
        {
          "output_type": "stream",
          "name": "stdout",
          "text": [
            "Epoch 9/10:\n",
            "Train Loss: 0.1234 | Val Loss: 0.0941\n"
          ]
        },
        {
          "output_type": "stream",
          "name": "stderr",
          "text": [
            "Training: 100%|██████████| 63/63 [00:39<00:00,  1.60it/s]\n",
            "Evaluating: 100%|██████████| 16/16 [00:03<00:00,  4.72it/s]\n",
            "[I 2025-05-09 19:40:42,682] Trial 62 finished with value: 0.09311852790415287 and parameters: {'d_model': 512, 'num_heads': 16, 'num_layers': 6, 'd_ff': 256, 'dropout': 0.1001764557801352, 'learning_rate': 0.0003333313958300876, 'batch_size': 128}. Best is trial 55 with value: 0.08217304898425937.\n"
          ]
        },
        {
          "output_type": "stream",
          "name": "stdout",
          "text": [
            "Epoch 10/10:\n",
            "Train Loss: 0.0989 | Val Loss: 0.0931\n"
          ]
        },
        {
          "output_type": "stream",
          "name": "stderr",
          "text": [
            "Training: 100%|██████████| 63/63 [00:39<00:00,  1.61it/s]\n",
            "Evaluating: 100%|██████████| 16/16 [00:03<00:00,  4.70it/s]\n"
          ]
        },
        {
          "output_type": "stream",
          "name": "stdout",
          "text": [
            "Epoch 1/10:\n",
            "Train Loss: 2.5068 | Val Loss: 2.0863\n"
          ]
        },
        {
          "output_type": "stream",
          "name": "stderr",
          "text": [
            "Training: 100%|██████████| 63/63 [00:39<00:00,  1.61it/s]\n",
            "Evaluating: 100%|██████████| 16/16 [00:03<00:00,  4.71it/s]\n"
          ]
        },
        {
          "output_type": "stream",
          "name": "stdout",
          "text": [
            "Epoch 2/10:\n",
            "Train Loss: 1.9591 | Val Loss: 1.8015\n"
          ]
        },
        {
          "output_type": "stream",
          "name": "stderr",
          "text": [
            "Training: 100%|██████████| 63/63 [00:39<00:00,  1.60it/s]\n",
            "Evaluating: 100%|██████████| 16/16 [00:03<00:00,  4.66it/s]\n"
          ]
        },
        {
          "output_type": "stream",
          "name": "stdout",
          "text": [
            "Epoch 3/10:\n",
            "Train Loss: 1.6851 | Val Loss: 1.5193\n"
          ]
        },
        {
          "output_type": "stream",
          "name": "stderr",
          "text": [
            "Training: 100%|██████████| 63/63 [00:39<00:00,  1.61it/s]\n",
            "Evaluating: 100%|██████████| 16/16 [00:03<00:00,  4.70it/s]\n"
          ]
        },
        {
          "output_type": "stream",
          "name": "stdout",
          "text": [
            "Epoch 4/10:\n",
            "Train Loss: 1.3805 | Val Loss: 1.1119\n"
          ]
        },
        {
          "output_type": "stream",
          "name": "stderr",
          "text": [
            "Training: 100%|██████████| 63/63 [00:39<00:00,  1.61it/s]\n",
            "Evaluating: 100%|██████████| 16/16 [00:03<00:00,  4.68it/s]\n"
          ]
        },
        {
          "output_type": "stream",
          "name": "stdout",
          "text": [
            "Epoch 5/10:\n",
            "Train Loss: 0.8610 | Val Loss: 0.5142\n"
          ]
        },
        {
          "output_type": "stream",
          "name": "stderr",
          "text": [
            "Training: 100%|██████████| 63/63 [00:39<00:00,  1.61it/s]\n",
            "Evaluating: 100%|██████████| 16/16 [00:03<00:00,  4.70it/s]\n"
          ]
        },
        {
          "output_type": "stream",
          "name": "stdout",
          "text": [
            "Epoch 6/10:\n",
            "Train Loss: 0.4960 | Val Loss: 0.3158\n"
          ]
        },
        {
          "output_type": "stream",
          "name": "stderr",
          "text": [
            "Training: 100%|██████████| 63/63 [00:39<00:00,  1.60it/s]\n",
            "Evaluating: 100%|██████████| 16/16 [00:03<00:00,  4.71it/s]\n"
          ]
        },
        {
          "output_type": "stream",
          "name": "stdout",
          "text": [
            "Epoch 7/10:\n",
            "Train Loss: 0.3232 | Val Loss: 0.2120\n"
          ]
        },
        {
          "output_type": "stream",
          "name": "stderr",
          "text": [
            "Training: 100%|██████████| 63/63 [00:39<00:00,  1.61it/s]\n",
            "Evaluating: 100%|██████████| 16/16 [00:03<00:00,  4.70it/s]\n"
          ]
        },
        {
          "output_type": "stream",
          "name": "stdout",
          "text": [
            "Epoch 8/10:\n",
            "Train Loss: 0.2277 | Val Loss: 0.1566\n"
          ]
        },
        {
          "output_type": "stream",
          "name": "stderr",
          "text": [
            "Training: 100%|██████████| 63/63 [00:39<00:00,  1.61it/s]\n",
            "Evaluating: 100%|██████████| 16/16 [00:03<00:00,  4.69it/s]\n"
          ]
        },
        {
          "output_type": "stream",
          "name": "stdout",
          "text": [
            "Epoch 9/10:\n",
            "Train Loss: 0.1745 | Val Loss: 0.1280\n"
          ]
        },
        {
          "output_type": "stream",
          "name": "stderr",
          "text": [
            "Training: 100%|██████████| 63/63 [00:39<00:00,  1.61it/s]\n",
            "Evaluating: 100%|██████████| 16/16 [00:03<00:00,  4.71it/s]\n",
            "[I 2025-05-09 19:47:49,442] Trial 63 finished with value: 0.09668544982559979 and parameters: {'d_model': 512, 'num_heads': 16, 'num_layers': 6, 'd_ff': 256, 'dropout': 0.11196629212412189, 'learning_rate': 0.00023772266110638055, 'batch_size': 128}. Best is trial 55 with value: 0.08217304898425937.\n"
          ]
        },
        {
          "output_type": "stream",
          "name": "stdout",
          "text": [
            "Epoch 10/10:\n",
            "Train Loss: 0.1317 | Val Loss: 0.0967\n"
          ]
        },
        {
          "output_type": "stream",
          "name": "stderr",
          "text": [
            "Training: 100%|██████████| 63/63 [00:39<00:00,  1.61it/s]\n",
            "Evaluating: 100%|██████████| 16/16 [00:03<00:00,  4.71it/s]\n"
          ]
        },
        {
          "output_type": "stream",
          "name": "stdout",
          "text": [
            "Epoch 1/10:\n",
            "Train Loss: 2.5350 | Val Loss: 2.1286\n"
          ]
        },
        {
          "output_type": "stream",
          "name": "stderr",
          "text": [
            "Training: 100%|██████████| 63/63 [00:39<00:00,  1.60it/s]\n",
            "Evaluating: 100%|██████████| 16/16 [00:03<00:00,  4.71it/s]\n"
          ]
        },
        {
          "output_type": "stream",
          "name": "stdout",
          "text": [
            "Epoch 2/10:\n",
            "Train Loss: 1.9735 | Val Loss: 1.7992\n"
          ]
        },
        {
          "output_type": "stream",
          "name": "stderr",
          "text": [
            "Training: 100%|██████████| 63/63 [00:39<00:00,  1.61it/s]\n",
            "Evaluating: 100%|██████████| 16/16 [00:03<00:00,  4.70it/s]\n"
          ]
        },
        {
          "output_type": "stream",
          "name": "stdout",
          "text": [
            "Epoch 3/10:\n",
            "Train Loss: 1.6859 | Val Loss: 1.5579\n"
          ]
        },
        {
          "output_type": "stream",
          "name": "stderr",
          "text": [
            "Training: 100%|██████████| 63/63 [00:39<00:00,  1.61it/s]\n",
            "Evaluating: 100%|██████████| 16/16 [00:03<00:00,  4.71it/s]\n"
          ]
        },
        {
          "output_type": "stream",
          "name": "stdout",
          "text": [
            "Epoch 4/10:\n",
            "Train Loss: 1.3561 | Val Loss: 1.0439\n"
          ]
        },
        {
          "output_type": "stream",
          "name": "stderr",
          "text": [
            "Training: 100%|██████████| 63/63 [00:39<00:00,  1.61it/s]\n",
            "Evaluating: 100%|██████████| 16/16 [00:03<00:00,  4.69it/s]\n"
          ]
        },
        {
          "output_type": "stream",
          "name": "stdout",
          "text": [
            "Epoch 5/10:\n",
            "Train Loss: 0.8119 | Val Loss: 0.4865\n"
          ]
        },
        {
          "output_type": "stream",
          "name": "stderr",
          "text": [
            "Training: 100%|██████████| 63/63 [00:39<00:00,  1.61it/s]\n",
            "Evaluating: 100%|██████████| 16/16 [00:03<00:00,  4.70it/s]\n"
          ]
        },
        {
          "output_type": "stream",
          "name": "stdout",
          "text": [
            "Epoch 6/10:\n",
            "Train Loss: 0.4766 | Val Loss: 0.3544\n"
          ]
        },
        {
          "output_type": "stream",
          "name": "stderr",
          "text": [
            "Training: 100%|██████████| 63/63 [00:39<00:00,  1.61it/s]\n",
            "Evaluating: 100%|██████████| 16/16 [00:03<00:00,  4.71it/s]\n"
          ]
        },
        {
          "output_type": "stream",
          "name": "stdout",
          "text": [
            "Epoch 7/10:\n",
            "Train Loss: 0.3132 | Val Loss: 0.2304\n"
          ]
        },
        {
          "output_type": "stream",
          "name": "stderr",
          "text": [
            "Training: 100%|██████████| 63/63 [00:39<00:00,  1.60it/s]\n",
            "Evaluating: 100%|██████████| 16/16 [00:03<00:00,  4.71it/s]\n"
          ]
        },
        {
          "output_type": "stream",
          "name": "stdout",
          "text": [
            "Epoch 8/10:\n",
            "Train Loss: 0.2220 | Val Loss: 0.1685\n"
          ]
        },
        {
          "output_type": "stream",
          "name": "stderr",
          "text": [
            "Training: 100%|██████████| 63/63 [00:39<00:00,  1.61it/s]\n",
            "Evaluating: 100%|██████████| 16/16 [00:03<00:00,  4.71it/s]\n"
          ]
        },
        {
          "output_type": "stream",
          "name": "stdout",
          "text": [
            "Epoch 9/10:\n",
            "Train Loss: 0.1693 | Val Loss: 0.1223\n"
          ]
        },
        {
          "output_type": "stream",
          "name": "stderr",
          "text": [
            "Training: 100%|██████████| 63/63 [00:39<00:00,  1.60it/s]\n",
            "Evaluating: 100%|██████████| 16/16 [00:03<00:00,  4.70it/s]\n",
            "[I 2025-05-09 19:54:56,120] Trial 64 finished with value: 0.11061024572700262 and parameters: {'d_model': 512, 'num_heads': 16, 'num_layers': 6, 'd_ff': 256, 'dropout': 0.11147006732536316, 'learning_rate': 0.00023604357592705403, 'batch_size': 128}. Best is trial 55 with value: 0.08217304898425937.\n"
          ]
        },
        {
          "output_type": "stream",
          "name": "stdout",
          "text": [
            "Epoch 10/10:\n",
            "Train Loss: 0.1376 | Val Loss: 0.1106\n"
          ]
        },
        {
          "output_type": "stream",
          "name": "stderr",
          "text": [
            "Training: 100%|██████████| 63/63 [00:39<00:00,  1.60it/s]\n",
            "Evaluating: 100%|██████████| 16/16 [00:03<00:00,  4.71it/s]\n"
          ]
        },
        {
          "output_type": "stream",
          "name": "stdout",
          "text": [
            "Epoch 1/10:\n",
            "Train Loss: 2.5740 | Val Loss: 2.1859\n"
          ]
        },
        {
          "output_type": "stream",
          "name": "stderr",
          "text": [
            "Training: 100%|██████████| 63/63 [00:39<00:00,  1.61it/s]\n",
            "Evaluating: 100%|██████████| 16/16 [00:03<00:00,  4.71it/s]\n"
          ]
        },
        {
          "output_type": "stream",
          "name": "stdout",
          "text": [
            "Epoch 2/10:\n",
            "Train Loss: 2.0812 | Val Loss: 1.9663\n"
          ]
        },
        {
          "output_type": "stream",
          "name": "stderr",
          "text": [
            "Training: 100%|██████████| 63/63 [00:39<00:00,  1.61it/s]\n",
            "Evaluating: 100%|██████████| 16/16 [00:03<00:00,  4.69it/s]\n"
          ]
        },
        {
          "output_type": "stream",
          "name": "stdout",
          "text": [
            "Epoch 3/10:\n",
            "Train Loss: 1.9029 | Val Loss: 1.7757\n"
          ]
        },
        {
          "output_type": "stream",
          "name": "stderr",
          "text": [
            "Training: 100%|██████████| 63/63 [00:39<00:00,  1.61it/s]\n",
            "Evaluating: 100%|██████████| 16/16 [00:03<00:00,  4.72it/s]\n"
          ]
        },
        {
          "output_type": "stream",
          "name": "stdout",
          "text": [
            "Epoch 4/10:\n",
            "Train Loss: 1.7402 | Val Loss: 1.6354\n"
          ]
        },
        {
          "output_type": "stream",
          "name": "stderr",
          "text": [
            "Training: 100%|██████████| 63/63 [00:39<00:00,  1.61it/s]\n",
            "Evaluating: 100%|██████████| 16/16 [00:03<00:00,  4.72it/s]\n"
          ]
        },
        {
          "output_type": "stream",
          "name": "stdout",
          "text": [
            "Epoch 5/10:\n",
            "Train Loss: 1.6073 | Val Loss: 1.4841\n"
          ]
        },
        {
          "output_type": "stream",
          "name": "stderr",
          "text": [
            "Training: 100%|██████████| 63/63 [00:39<00:00,  1.61it/s]\n",
            "Evaluating: 100%|██████████| 16/16 [00:03<00:00,  4.67it/s]\n"
          ]
        },
        {
          "output_type": "stream",
          "name": "stdout",
          "text": [
            "Epoch 6/10:\n",
            "Train Loss: 1.4800 | Val Loss: 1.3584\n"
          ]
        },
        {
          "output_type": "stream",
          "name": "stderr",
          "text": [
            "Training: 100%|██████████| 63/63 [00:39<00:00,  1.61it/s]\n",
            "Evaluating: 100%|██████████| 16/16 [00:03<00:00,  4.72it/s]\n"
          ]
        },
        {
          "output_type": "stream",
          "name": "stdout",
          "text": [
            "Epoch 7/10:\n",
            "Train Loss: 1.3447 | Val Loss: 1.2031\n"
          ]
        },
        {
          "output_type": "stream",
          "name": "stderr",
          "text": [
            "Training: 100%|██████████| 63/63 [00:39<00:00,  1.60it/s]\n",
            "Evaluating: 100%|██████████| 16/16 [00:03<00:00,  4.70it/s]\n"
          ]
        },
        {
          "output_type": "stream",
          "name": "stdout",
          "text": [
            "Epoch 8/10:\n",
            "Train Loss: 1.1647 | Val Loss: 0.9905\n"
          ]
        },
        {
          "output_type": "stream",
          "name": "stderr",
          "text": [
            "Training: 100%|██████████| 63/63 [00:39<00:00,  1.61it/s]\n",
            "Evaluating: 100%|██████████| 16/16 [00:03<00:00,  4.68it/s]\n"
          ]
        },
        {
          "output_type": "stream",
          "name": "stdout",
          "text": [
            "Epoch 9/10:\n",
            "Train Loss: 0.8818 | Val Loss: 0.6287\n"
          ]
        },
        {
          "output_type": "stream",
          "name": "stderr",
          "text": [
            "Training: 100%|██████████| 63/63 [00:39<00:00,  1.61it/s]\n",
            "Evaluating: 100%|██████████| 16/16 [00:03<00:00,  4.69it/s]\n",
            "[I 2025-05-09 20:02:02,776] Trial 65 finished with value: 0.44829947873950005 and parameters: {'d_model': 512, 'num_heads': 16, 'num_layers': 6, 'd_ff': 256, 'dropout': 0.1315420336099651, 'learning_rate': 0.00012277474690283982, 'batch_size': 128}. Best is trial 55 with value: 0.08217304898425937.\n"
          ]
        },
        {
          "output_type": "stream",
          "name": "stdout",
          "text": [
            "Epoch 10/10:\n",
            "Train Loss: 0.6386 | Val Loss: 0.4483\n"
          ]
        },
        {
          "output_type": "stream",
          "name": "stderr",
          "text": [
            "Training: 100%|██████████| 63/63 [00:23<00:00,  2.73it/s]\n",
            "Evaluating: 100%|██████████| 16/16 [00:02<00:00,  7.44it/s]\n"
          ]
        },
        {
          "output_type": "stream",
          "name": "stdout",
          "text": [
            "Epoch 1/10:\n",
            "Train Loss: 2.9138 | Val Loss: 2.3684\n"
          ]
        },
        {
          "output_type": "stream",
          "name": "stderr",
          "text": [
            "Training: 100%|██████████| 63/63 [00:23<00:00,  2.73it/s]\n",
            "Evaluating: 100%|██████████| 16/16 [00:02<00:00,  7.47it/s]\n"
          ]
        },
        {
          "output_type": "stream",
          "name": "stdout",
          "text": [
            "Epoch 2/10:\n",
            "Train Loss: 2.2835 | Val Loss: 2.1614\n"
          ]
        },
        {
          "output_type": "stream",
          "name": "stderr",
          "text": [
            "Training: 100%|██████████| 63/63 [00:23<00:00,  2.73it/s]\n",
            "Evaluating: 100%|██████████| 16/16 [00:02<00:00,  7.43it/s]\n"
          ]
        },
        {
          "output_type": "stream",
          "name": "stdout",
          "text": [
            "Epoch 3/10:\n",
            "Train Loss: 2.1259 | Val Loss: 2.0255\n"
          ]
        },
        {
          "output_type": "stream",
          "name": "stderr",
          "text": [
            "Training: 100%|██████████| 63/63 [00:23<00:00,  2.72it/s]\n",
            "Evaluating: 100%|██████████| 16/16 [00:02<00:00,  7.45it/s]\n"
          ]
        },
        {
          "output_type": "stream",
          "name": "stdout",
          "text": [
            "Epoch 4/10:\n",
            "Train Loss: 2.0141 | Val Loss: 1.9259\n"
          ]
        },
        {
          "output_type": "stream",
          "name": "stderr",
          "text": [
            "Training: 100%|██████████| 63/63 [00:23<00:00,  2.72it/s]\n",
            "Evaluating: 100%|██████████| 16/16 [00:02<00:00,  7.44it/s]\n"
          ]
        },
        {
          "output_type": "stream",
          "name": "stdout",
          "text": [
            "Epoch 5/10:\n",
            "Train Loss: 1.9175 | Val Loss: 1.8359\n"
          ]
        },
        {
          "output_type": "stream",
          "name": "stderr",
          "text": [
            "Training: 100%|██████████| 63/63 [00:23<00:00,  2.72it/s]\n",
            "Evaluating: 100%|██████████| 16/16 [00:02<00:00,  7.44it/s]\n"
          ]
        },
        {
          "output_type": "stream",
          "name": "stdout",
          "text": [
            "Epoch 6/10:\n",
            "Train Loss: 1.8399 | Val Loss: 1.7500\n"
          ]
        },
        {
          "output_type": "stream",
          "name": "stderr",
          "text": [
            "Training: 100%|██████████| 63/63 [00:23<00:00,  2.73it/s]\n",
            "Evaluating: 100%|██████████| 16/16 [00:02<00:00,  7.44it/s]\n"
          ]
        },
        {
          "output_type": "stream",
          "name": "stdout",
          "text": [
            "Epoch 7/10:\n",
            "Train Loss: 1.7622 | Val Loss: 1.6861\n"
          ]
        },
        {
          "output_type": "stream",
          "name": "stderr",
          "text": [
            "Training:  84%|████████▍ | 53/63 [00:19<00:03,  2.69it/s]\n",
            "[W 2025-05-09 20:05:19,503] Trial 66 failed with parameters: {'d_model': 128, 'num_heads': 16, 'num_layers': 6, 'd_ff': 256, 'dropout': 0.14189016758343986, 'learning_rate': 0.00032315386363982064, 'batch_size': 128} because of the following error: KeyboardInterrupt().\n",
            "Traceback (most recent call last):\n",
            "  File \"/usr/local/lib/python3.11/dist-packages/optuna/study/_optimize.py\", line 197, in _run_trial\n",
            "    value_or_values = func(trial)\n",
            "                      ^^^^^^^^^^^\n",
            "  File \"<ipython-input-1-9b10502612f3>\", line 338, in objective\n",
            "    current_val_loss = train_model(model, train_loader, val_loader, optimizer, criterion, scheduler, device, epochs=10)\n",
            "                       ^^^^^^^^^^^^^^^^^^^^^^^^^^^^^^^^^^^^^^^^^^^^^^^^^^^^^^^^^^^^^^^^^^^^^^^^^^^^^^^^^^^^^^^^^^^^^^^^\n",
            "  File \"<ipython-input-1-9b10502612f3>\", line 278, in train_model\n",
            "    train_loss = train_epoch(model, train_loader, optimizer, criterion, device)\n",
            "                 ^^^^^^^^^^^^^^^^^^^^^^^^^^^^^^^^^^^^^^^^^^^^^^^^^^^^^^^^^^^^^^\n",
            "  File \"<ipython-input-1-9b10502612f3>\", line 242, in train_epoch\n",
            "    loss.backward()\n",
            "  File \"/usr/local/lib/python3.11/dist-packages/torch/_tensor.py\", line 626, in backward\n",
            "    torch.autograd.backward(\n",
            "  File \"/usr/local/lib/python3.11/dist-packages/torch/autograd/__init__.py\", line 347, in backward\n",
            "    _engine_run_backward(\n",
            "  File \"/usr/local/lib/python3.11/dist-packages/torch/autograd/graph.py\", line 823, in _engine_run_backward\n",
            "    return Variable._execution_engine.run_backward(  # Calls into the C++ engine to run the backward pass\n",
            "           ^^^^^^^^^^^^^^^^^^^^^^^^^^^^^^^^^^^^^^^^^^^^^^^^^^^^^^^^^^^^^^^^^^^^^^^^^^^^^^^^^^^^^^^^^^^^^^\n",
            "KeyboardInterrupt\n",
            "[W 2025-05-09 20:05:19,505] Trial 66 failed with value None.\n"
          ]
        },
        {
          "output_type": "error",
          "ename": "KeyboardInterrupt",
          "evalue": "",
          "traceback": [
            "\u001b[0;31m---------------------------------------------------------------------------\u001b[0m",
            "\u001b[0;31mKeyboardInterrupt\u001b[0m                         Traceback (most recent call last)",
            "\u001b[0;32m<ipython-input-1-9b10502612f3>\u001b[0m in \u001b[0;36m<cell line: 0>\u001b[0;34m()\u001b[0m\n\u001b[1;32m    387\u001b[0m     \u001b[0;31m# Run hyperparameter optimization\u001b[0m\u001b[0;34m\u001b[0m\u001b[0;34m\u001b[0m\u001b[0m\n\u001b[1;32m    388\u001b[0m     \u001b[0mstudy\u001b[0m \u001b[0;34m=\u001b[0m \u001b[0moptuna\u001b[0m\u001b[0;34m.\u001b[0m\u001b[0mcreate_study\u001b[0m\u001b[0;34m(\u001b[0m\u001b[0mdirection\u001b[0m\u001b[0;34m=\u001b[0m\u001b[0;34m\"minimize\"\u001b[0m\u001b[0;34m)\u001b[0m\u001b[0;34m\u001b[0m\u001b[0;34m\u001b[0m\u001b[0m\n\u001b[0;32m--> 389\u001b[0;31m     \u001b[0mstudy\u001b[0m\u001b[0;34m.\u001b[0m\u001b[0moptimize\u001b[0m\u001b[0;34m(\u001b[0m\u001b[0mobjective\u001b[0m\u001b[0;34m,\u001b[0m \u001b[0mn_trials\u001b[0m\u001b[0;34m=\u001b[0m\u001b[0;36m100\u001b[0m\u001b[0;34m)\u001b[0m  \u001b[0;31m# 20 trials or 1 hour\u001b[0m\u001b[0;34m\u001b[0m\u001b[0;34m\u001b[0m\u001b[0m\n\u001b[0m\u001b[1;32m    390\u001b[0m \u001b[0;34m\u001b[0m\u001b[0m\n\u001b[1;32m    391\u001b[0m     \u001b[0mprint\u001b[0m\u001b[0;34m(\u001b[0m\u001b[0;34m\"\\nBest trial:\"\u001b[0m\u001b[0;34m)\u001b[0m\u001b[0;34m\u001b[0m\u001b[0;34m\u001b[0m\u001b[0m\n",
            "\u001b[0;32m/usr/local/lib/python3.11/dist-packages/optuna/study/study.py\u001b[0m in \u001b[0;36moptimize\u001b[0;34m(self, func, n_trials, timeout, n_jobs, catch, callbacks, gc_after_trial, show_progress_bar)\u001b[0m\n\u001b[1;32m    473\u001b[0m                 \u001b[0mIf\u001b[0m \u001b[0mnested\u001b[0m \u001b[0minvocation\u001b[0m \u001b[0mof\u001b[0m \u001b[0mthis\u001b[0m \u001b[0mmethod\u001b[0m \u001b[0moccurs\u001b[0m\u001b[0;34m.\u001b[0m\u001b[0;34m\u001b[0m\u001b[0;34m\u001b[0m\u001b[0m\n\u001b[1;32m    474\u001b[0m         \"\"\"\n\u001b[0;32m--> 475\u001b[0;31m         _optimize(\n\u001b[0m\u001b[1;32m    476\u001b[0m             \u001b[0mstudy\u001b[0m\u001b[0;34m=\u001b[0m\u001b[0mself\u001b[0m\u001b[0;34m,\u001b[0m\u001b[0;34m\u001b[0m\u001b[0;34m\u001b[0m\u001b[0m\n\u001b[1;32m    477\u001b[0m             \u001b[0mfunc\u001b[0m\u001b[0;34m=\u001b[0m\u001b[0mfunc\u001b[0m\u001b[0;34m,\u001b[0m\u001b[0;34m\u001b[0m\u001b[0;34m\u001b[0m\u001b[0m\n",
            "\u001b[0;32m/usr/local/lib/python3.11/dist-packages/optuna/study/_optimize.py\u001b[0m in \u001b[0;36m_optimize\u001b[0;34m(study, func, n_trials, timeout, n_jobs, catch, callbacks, gc_after_trial, show_progress_bar)\u001b[0m\n\u001b[1;32m     61\u001b[0m     \u001b[0;32mtry\u001b[0m\u001b[0;34m:\u001b[0m\u001b[0;34m\u001b[0m\u001b[0;34m\u001b[0m\u001b[0m\n\u001b[1;32m     62\u001b[0m         \u001b[0;32mif\u001b[0m \u001b[0mn_jobs\u001b[0m \u001b[0;34m==\u001b[0m \u001b[0;36m1\u001b[0m\u001b[0;34m:\u001b[0m\u001b[0;34m\u001b[0m\u001b[0;34m\u001b[0m\u001b[0m\n\u001b[0;32m---> 63\u001b[0;31m             _optimize_sequential(\n\u001b[0m\u001b[1;32m     64\u001b[0m                 \u001b[0mstudy\u001b[0m\u001b[0;34m,\u001b[0m\u001b[0;34m\u001b[0m\u001b[0;34m\u001b[0m\u001b[0m\n\u001b[1;32m     65\u001b[0m                 \u001b[0mfunc\u001b[0m\u001b[0;34m,\u001b[0m\u001b[0;34m\u001b[0m\u001b[0;34m\u001b[0m\u001b[0m\n",
            "\u001b[0;32m/usr/local/lib/python3.11/dist-packages/optuna/study/_optimize.py\u001b[0m in \u001b[0;36m_optimize_sequential\u001b[0;34m(study, func, n_trials, timeout, catch, callbacks, gc_after_trial, reseed_sampler_rng, time_start, progress_bar)\u001b[0m\n\u001b[1;32m    158\u001b[0m \u001b[0;34m\u001b[0m\u001b[0m\n\u001b[1;32m    159\u001b[0m         \u001b[0;32mtry\u001b[0m\u001b[0;34m:\u001b[0m\u001b[0;34m\u001b[0m\u001b[0;34m\u001b[0m\u001b[0m\n\u001b[0;32m--> 160\u001b[0;31m             \u001b[0mfrozen_trial\u001b[0m \u001b[0;34m=\u001b[0m \u001b[0m_run_trial\u001b[0m\u001b[0;34m(\u001b[0m\u001b[0mstudy\u001b[0m\u001b[0;34m,\u001b[0m \u001b[0mfunc\u001b[0m\u001b[0;34m,\u001b[0m \u001b[0mcatch\u001b[0m\u001b[0;34m)\u001b[0m\u001b[0;34m\u001b[0m\u001b[0;34m\u001b[0m\u001b[0m\n\u001b[0m\u001b[1;32m    161\u001b[0m         \u001b[0;32mfinally\u001b[0m\u001b[0;34m:\u001b[0m\u001b[0;34m\u001b[0m\u001b[0;34m\u001b[0m\u001b[0m\n\u001b[1;32m    162\u001b[0m             \u001b[0;31m# The following line mitigates memory problems that can be occurred in some\u001b[0m\u001b[0;34m\u001b[0m\u001b[0;34m\u001b[0m\u001b[0m\n",
            "\u001b[0;32m/usr/local/lib/python3.11/dist-packages/optuna/study/_optimize.py\u001b[0m in \u001b[0;36m_run_trial\u001b[0;34m(study, func, catch)\u001b[0m\n\u001b[1;32m    246\u001b[0m         \u001b[0;32mand\u001b[0m \u001b[0;32mnot\u001b[0m \u001b[0misinstance\u001b[0m\u001b[0;34m(\u001b[0m\u001b[0mfunc_err\u001b[0m\u001b[0;34m,\u001b[0m \u001b[0mcatch\u001b[0m\u001b[0;34m)\u001b[0m\u001b[0;34m\u001b[0m\u001b[0;34m\u001b[0m\u001b[0m\n\u001b[1;32m    247\u001b[0m     ):\n\u001b[0;32m--> 248\u001b[0;31m         \u001b[0;32mraise\u001b[0m \u001b[0mfunc_err\u001b[0m\u001b[0;34m\u001b[0m\u001b[0;34m\u001b[0m\u001b[0m\n\u001b[0m\u001b[1;32m    249\u001b[0m     \u001b[0;32mreturn\u001b[0m \u001b[0mfrozen_trial\u001b[0m\u001b[0;34m\u001b[0m\u001b[0;34m\u001b[0m\u001b[0m\n\u001b[1;32m    250\u001b[0m \u001b[0;34m\u001b[0m\u001b[0m\n",
            "\u001b[0;32m/usr/local/lib/python3.11/dist-packages/optuna/study/_optimize.py\u001b[0m in \u001b[0;36m_run_trial\u001b[0;34m(study, func, catch)\u001b[0m\n\u001b[1;32m    195\u001b[0m     \u001b[0;32mwith\u001b[0m \u001b[0mget_heartbeat_thread\u001b[0m\u001b[0;34m(\u001b[0m\u001b[0mtrial\u001b[0m\u001b[0;34m.\u001b[0m\u001b[0m_trial_id\u001b[0m\u001b[0;34m,\u001b[0m \u001b[0mstudy\u001b[0m\u001b[0;34m.\u001b[0m\u001b[0m_storage\u001b[0m\u001b[0;34m)\u001b[0m\u001b[0;34m:\u001b[0m\u001b[0;34m\u001b[0m\u001b[0;34m\u001b[0m\u001b[0m\n\u001b[1;32m    196\u001b[0m         \u001b[0;32mtry\u001b[0m\u001b[0;34m:\u001b[0m\u001b[0;34m\u001b[0m\u001b[0;34m\u001b[0m\u001b[0m\n\u001b[0;32m--> 197\u001b[0;31m             \u001b[0mvalue_or_values\u001b[0m \u001b[0;34m=\u001b[0m \u001b[0mfunc\u001b[0m\u001b[0;34m(\u001b[0m\u001b[0mtrial\u001b[0m\u001b[0;34m)\u001b[0m\u001b[0;34m\u001b[0m\u001b[0;34m\u001b[0m\u001b[0m\n\u001b[0m\u001b[1;32m    198\u001b[0m         \u001b[0;32mexcept\u001b[0m \u001b[0mexceptions\u001b[0m\u001b[0;34m.\u001b[0m\u001b[0mTrialPruned\u001b[0m \u001b[0;32mas\u001b[0m \u001b[0me\u001b[0m\u001b[0;34m:\u001b[0m\u001b[0;34m\u001b[0m\u001b[0;34m\u001b[0m\u001b[0m\n\u001b[1;32m    199\u001b[0m             \u001b[0;31m# TODO(mamu): Handle multi-objective cases.\u001b[0m\u001b[0;34m\u001b[0m\u001b[0;34m\u001b[0m\u001b[0m\n",
            "\u001b[0;32m<ipython-input-1-9b10502612f3>\u001b[0m in \u001b[0;36mobjective\u001b[0;34m(trial)\u001b[0m\n\u001b[1;32m    336\u001b[0m \u001b[0;34m\u001b[0m\u001b[0m\n\u001b[1;32m    337\u001b[0m     \u001b[0;31m# Train and get best validation loss for this configuration\u001b[0m\u001b[0;34m\u001b[0m\u001b[0;34m\u001b[0m\u001b[0m\n\u001b[0;32m--> 338\u001b[0;31m     \u001b[0mcurrent_val_loss\u001b[0m \u001b[0;34m=\u001b[0m \u001b[0mtrain_model\u001b[0m\u001b[0;34m(\u001b[0m\u001b[0mmodel\u001b[0m\u001b[0;34m,\u001b[0m \u001b[0mtrain_loader\u001b[0m\u001b[0;34m,\u001b[0m \u001b[0mval_loader\u001b[0m\u001b[0;34m,\u001b[0m \u001b[0moptimizer\u001b[0m\u001b[0;34m,\u001b[0m \u001b[0mcriterion\u001b[0m\u001b[0;34m,\u001b[0m \u001b[0mscheduler\u001b[0m\u001b[0;34m,\u001b[0m \u001b[0mdevice\u001b[0m\u001b[0;34m,\u001b[0m \u001b[0mepochs\u001b[0m\u001b[0;34m=\u001b[0m\u001b[0;36m10\u001b[0m\u001b[0;34m)\u001b[0m\u001b[0;34m\u001b[0m\u001b[0;34m\u001b[0m\u001b[0m\n\u001b[0m\u001b[1;32m    339\u001b[0m \u001b[0;34m\u001b[0m\u001b[0m\n\u001b[1;32m    340\u001b[0m     \u001b[0;31m# Update overall best model if this one is better\u001b[0m\u001b[0;34m\u001b[0m\u001b[0;34m\u001b[0m\u001b[0m\n",
            "\u001b[0;32m<ipython-input-1-9b10502612f3>\u001b[0m in \u001b[0;36mtrain_model\u001b[0;34m(model, train_loader, val_loader, optimizer, criterion, scheduler, device, epochs, patience)\u001b[0m\n\u001b[1;32m    276\u001b[0m \u001b[0;34m\u001b[0m\u001b[0m\n\u001b[1;32m    277\u001b[0m     \u001b[0;32mfor\u001b[0m \u001b[0mepoch\u001b[0m \u001b[0;32min\u001b[0m \u001b[0mrange\u001b[0m\u001b[0;34m(\u001b[0m\u001b[0mepochs\u001b[0m\u001b[0;34m)\u001b[0m\u001b[0;34m:\u001b[0m\u001b[0;34m\u001b[0m\u001b[0;34m\u001b[0m\u001b[0m\n\u001b[0;32m--> 278\u001b[0;31m         \u001b[0mtrain_loss\u001b[0m \u001b[0;34m=\u001b[0m \u001b[0mtrain_epoch\u001b[0m\u001b[0;34m(\u001b[0m\u001b[0mmodel\u001b[0m\u001b[0;34m,\u001b[0m \u001b[0mtrain_loader\u001b[0m\u001b[0;34m,\u001b[0m \u001b[0moptimizer\u001b[0m\u001b[0;34m,\u001b[0m \u001b[0mcriterion\u001b[0m\u001b[0;34m,\u001b[0m \u001b[0mdevice\u001b[0m\u001b[0;34m)\u001b[0m\u001b[0;34m\u001b[0m\u001b[0;34m\u001b[0m\u001b[0m\n\u001b[0m\u001b[1;32m    279\u001b[0m         \u001b[0mval_loss\u001b[0m \u001b[0;34m=\u001b[0m \u001b[0mevaluate\u001b[0m\u001b[0;34m(\u001b[0m\u001b[0mmodel\u001b[0m\u001b[0;34m,\u001b[0m \u001b[0mval_loader\u001b[0m\u001b[0;34m,\u001b[0m \u001b[0mcriterion\u001b[0m\u001b[0;34m,\u001b[0m \u001b[0mdevice\u001b[0m\u001b[0;34m)\u001b[0m\u001b[0;34m\u001b[0m\u001b[0;34m\u001b[0m\u001b[0m\n\u001b[1;32m    280\u001b[0m         \u001b[0mscheduler\u001b[0m\u001b[0;34m.\u001b[0m\u001b[0mstep\u001b[0m\u001b[0;34m(\u001b[0m\u001b[0mval_loss\u001b[0m\u001b[0;34m)\u001b[0m\u001b[0;34m\u001b[0m\u001b[0;34m\u001b[0m\u001b[0m\n",
            "\u001b[0;32m<ipython-input-1-9b10502612f3>\u001b[0m in \u001b[0;36mtrain_epoch\u001b[0;34m(model, train_loader, optimizer, criterion, device)\u001b[0m\n\u001b[1;32m    240\u001b[0m         loss = criterion(output.contiguous().view(-1, output.size(-1)),\n\u001b[1;32m    241\u001b[0m                         tgt[:, 1:].contiguous().view(-1))\n\u001b[0;32m--> 242\u001b[0;31m         \u001b[0mloss\u001b[0m\u001b[0;34m.\u001b[0m\u001b[0mbackward\u001b[0m\u001b[0;34m(\u001b[0m\u001b[0;34m)\u001b[0m\u001b[0;34m\u001b[0m\u001b[0;34m\u001b[0m\u001b[0m\n\u001b[0m\u001b[1;32m    243\u001b[0m         \u001b[0mtorch\u001b[0m\u001b[0;34m.\u001b[0m\u001b[0mnn\u001b[0m\u001b[0;34m.\u001b[0m\u001b[0mutils\u001b[0m\u001b[0;34m.\u001b[0m\u001b[0mclip_grad_norm_\u001b[0m\u001b[0;34m(\u001b[0m\u001b[0mmodel\u001b[0m\u001b[0;34m.\u001b[0m\u001b[0mparameters\u001b[0m\u001b[0;34m(\u001b[0m\u001b[0;34m)\u001b[0m\u001b[0;34m,\u001b[0m \u001b[0mmax_norm\u001b[0m\u001b[0;34m=\u001b[0m\u001b[0;36m1.0\u001b[0m\u001b[0;34m)\u001b[0m\u001b[0;34m\u001b[0m\u001b[0;34m\u001b[0m\u001b[0m\n\u001b[1;32m    244\u001b[0m         \u001b[0moptimizer\u001b[0m\u001b[0;34m.\u001b[0m\u001b[0mstep\u001b[0m\u001b[0;34m(\u001b[0m\u001b[0;34m)\u001b[0m\u001b[0;34m\u001b[0m\u001b[0;34m\u001b[0m\u001b[0m\n",
            "\u001b[0;32m/usr/local/lib/python3.11/dist-packages/torch/_tensor.py\u001b[0m in \u001b[0;36mbackward\u001b[0;34m(self, gradient, retain_graph, create_graph, inputs)\u001b[0m\n\u001b[1;32m    624\u001b[0m                 \u001b[0minputs\u001b[0m\u001b[0;34m=\u001b[0m\u001b[0minputs\u001b[0m\u001b[0;34m,\u001b[0m\u001b[0;34m\u001b[0m\u001b[0;34m\u001b[0m\u001b[0m\n\u001b[1;32m    625\u001b[0m             )\n\u001b[0;32m--> 626\u001b[0;31m         torch.autograd.backward(\n\u001b[0m\u001b[1;32m    627\u001b[0m             \u001b[0mself\u001b[0m\u001b[0;34m,\u001b[0m \u001b[0mgradient\u001b[0m\u001b[0;34m,\u001b[0m \u001b[0mretain_graph\u001b[0m\u001b[0;34m,\u001b[0m \u001b[0mcreate_graph\u001b[0m\u001b[0;34m,\u001b[0m \u001b[0minputs\u001b[0m\u001b[0;34m=\u001b[0m\u001b[0minputs\u001b[0m\u001b[0;34m\u001b[0m\u001b[0;34m\u001b[0m\u001b[0m\n\u001b[1;32m    628\u001b[0m         )\n",
            "\u001b[0;32m/usr/local/lib/python3.11/dist-packages/torch/autograd/__init__.py\u001b[0m in \u001b[0;36mbackward\u001b[0;34m(tensors, grad_tensors, retain_graph, create_graph, grad_variables, inputs)\u001b[0m\n\u001b[1;32m    345\u001b[0m     \u001b[0;31m# some Python versions print out the first line of a multi-line function\u001b[0m\u001b[0;34m\u001b[0m\u001b[0;34m\u001b[0m\u001b[0m\n\u001b[1;32m    346\u001b[0m     \u001b[0;31m# calls in the traceback and some print out the last line\u001b[0m\u001b[0;34m\u001b[0m\u001b[0;34m\u001b[0m\u001b[0m\n\u001b[0;32m--> 347\u001b[0;31m     _engine_run_backward(\n\u001b[0m\u001b[1;32m    348\u001b[0m         \u001b[0mtensors\u001b[0m\u001b[0;34m,\u001b[0m\u001b[0;34m\u001b[0m\u001b[0;34m\u001b[0m\u001b[0m\n\u001b[1;32m    349\u001b[0m         \u001b[0mgrad_tensors_\u001b[0m\u001b[0;34m,\u001b[0m\u001b[0;34m\u001b[0m\u001b[0;34m\u001b[0m\u001b[0m\n",
            "\u001b[0;32m/usr/local/lib/python3.11/dist-packages/torch/autograd/graph.py\u001b[0m in \u001b[0;36m_engine_run_backward\u001b[0;34m(t_outputs, *args, **kwargs)\u001b[0m\n\u001b[1;32m    821\u001b[0m         \u001b[0munregister_hooks\u001b[0m \u001b[0;34m=\u001b[0m \u001b[0m_register_logging_hooks_on_whole_graph\u001b[0m\u001b[0;34m(\u001b[0m\u001b[0mt_outputs\u001b[0m\u001b[0;34m)\u001b[0m\u001b[0;34m\u001b[0m\u001b[0;34m\u001b[0m\u001b[0m\n\u001b[1;32m    822\u001b[0m     \u001b[0;32mtry\u001b[0m\u001b[0;34m:\u001b[0m\u001b[0;34m\u001b[0m\u001b[0;34m\u001b[0m\u001b[0m\n\u001b[0;32m--> 823\u001b[0;31m         return Variable._execution_engine.run_backward(  # Calls into the C++ engine to run the backward pass\n\u001b[0m\u001b[1;32m    824\u001b[0m             \u001b[0mt_outputs\u001b[0m\u001b[0;34m,\u001b[0m \u001b[0;34m*\u001b[0m\u001b[0margs\u001b[0m\u001b[0;34m,\u001b[0m \u001b[0;34m**\u001b[0m\u001b[0mkwargs\u001b[0m\u001b[0;34m\u001b[0m\u001b[0;34m\u001b[0m\u001b[0m\n\u001b[1;32m    825\u001b[0m         )  # Calls into the C++ engine to run the backward pass\n",
            "\u001b[0;31mKeyboardInterrupt\u001b[0m: "
          ]
        }
      ],
      "source": [
        "import torch\n",
        "import torch.nn as nn\n",
        "import torch.optim as optim\n",
        "import torch.utils.data as data\n",
        "import math\n",
        "import copy\n",
        "import pandas as pd\n",
        "from sklearn.model_selection import train_test_split\n",
        "import string\n",
        "import random\n",
        "import optuna\n",
        "from tqdm import tqdm\n",
        "\n",
        "# Set random seeds for reproducibility\n",
        "torch.manual_seed(42)\n",
        "random.seed(42)\n",
        "\n",
        "# Device configuration\n",
        "device = torch.device('cuda' if torch.cuda.is_available() else 'cpu')\n",
        "print(f\"Using device: {device}\")\n",
        "\n",
        "# Data Preparation\n",
        "\n",
        "def load_data(file_path):\n",
        "    df = pd.read_excel(file_path)\n",
        "\n",
        "    # Filter rows where 'Output' length is <=500\n",
        "    df = df[df['output'].str.len() <= 200]\n",
        "\n",
        "    # Get the count of such rows\n",
        "    count_filtered = len(df)\n",
        "\n",
        "    # Randomly select 250,000 rows (if available)\n",
        "    if count_filtered > 10000:\n",
        "        df = df.sample(n=10000, random_state=42)\n",
        "\n",
        "    inputs = df['input'].tolist()\n",
        "    outputs = df['output'].tolist()\n",
        "\n",
        "    return inputs, outputs\n",
        "\n",
        "# Tokenization and Vocabulary\n",
        "class Vocabulary:\n",
        "    def __init__(self):\n",
        "        self.char2idx = {}\n",
        "        self.idx2char = {}\n",
        "        self.pad_token = 0\n",
        "        self.sos_token = 1\n",
        "        self.eos_token = 2\n",
        "        self.unk_token = 3\n",
        "        self._build_vocab()\n",
        "\n",
        "    def _build_vocab(self):\n",
        "        special_tokens = ['<PAD>', '<SOS>', '<EOS>', '<UNK>']\n",
        "        all_chars = list(string.printable)\n",
        "\n",
        "        self.char2idx = {token: idx for idx, token in enumerate(special_tokens)}\n",
        "        self.char2idx.update({char: idx+len(special_tokens) for idx, char in enumerate(all_chars)})\n",
        "        self.idx2char = {idx: char for char, idx in self.char2idx.items()}\n",
        "\n",
        "    def __len__(self):\n",
        "        return len(self.char2idx)\n",
        "\n",
        "    def encode(self, text):\n",
        "        return [self.char2idx.get(char, self.unk_token) for char in text]\n",
        "\n",
        "    def decode(self, indices):\n",
        "        return ''.join([self.idx2char.get(idx, '<UNK>') for idx in indices if idx not in {self.pad_token, self.sos_token, self.eos_token}])\n",
        "\n",
        "# Dataset Class\n",
        "class CipherDataset(data.Dataset):\n",
        "    def __init__(self, inputs, outputs, vocab, max_length):\n",
        "        self.inputs = inputs\n",
        "        self.outputs = outputs\n",
        "        self.vocab = vocab\n",
        "        self.max_length = max_length\n",
        "\n",
        "    def __len__(self):\n",
        "        return len(self.inputs)\n",
        "\n",
        "    def __getitem__(self, idx):\n",
        "        input_text = str(self.inputs[idx])\n",
        "        output_text = str(self.outputs[idx])\n",
        "\n",
        "        input_encoded = [self.vocab.sos_token] + self.vocab.encode(input_text) + [self.vocab.eos_token]\n",
        "        output_encoded = [self.vocab.sos_token] + self.vocab.encode(output_text) + [self.vocab.eos_token]\n",
        "\n",
        "        input_padded = input_encoded + [self.vocab.pad_token] * (self.max_length - len(input_encoded))\n",
        "        output_padded = output_encoded + [self.vocab.pad_token] * (self.max_length - len(output_encoded))\n",
        "\n",
        "        input_padded = input_padded[:self.max_length]\n",
        "        output_padded = output_padded[:self.max_length]\n",
        "\n",
        "        return torch.tensor(input_padded), torch.tensor(output_padded)\n",
        "\n",
        "# Transformer Model Components\n",
        "class MultiHeadAttention(nn.Module):\n",
        "    def __init__(self, d_model, num_heads):\n",
        "        super().__init__()\n",
        "        assert d_model % num_heads == 0, \"d_model must be divisible by num_heads\"\n",
        "        self.d_model = d_model\n",
        "        self.num_heads = num_heads\n",
        "        self.d_k = d_model // num_heads\n",
        "\n",
        "        self.W_q = nn.Linear(d_model, d_model)\n",
        "        self.W_k = nn.Linear(d_model, d_model)\n",
        "        self.W_v = nn.Linear(d_model, d_model)\n",
        "        self.W_o = nn.Linear(d_model, d_model)\n",
        "\n",
        "    def scaled_dot_product_attention(self, Q, K, V, mask=None):\n",
        "        attn_scores = torch.matmul(Q, K.transpose(-2, -1)) / math.sqrt(self.d_k)\n",
        "        if mask is not None:\n",
        "            attn_scores = attn_scores.masked_fill(mask == 0, -1e9)\n",
        "        attn_probs = torch.softmax(attn_scores, dim=-1)\n",
        "        output = torch.matmul(attn_probs, V)\n",
        "        return output\n",
        "\n",
        "    def split_heads(self, x):\n",
        "        batch_size, seq_length, d_model = x.size()\n",
        "        return x.view(batch_size, seq_length, self.num_heads, self.d_k).transpose(1, 2)\n",
        "\n",
        "    def combine_heads(self, x):\n",
        "        batch_size, _, seq_length, d_k = x.size()\n",
        "        return x.transpose(1, 2).contiguous().view(batch_size, seq_length, self.d_model)\n",
        "\n",
        "    def forward(self, Q, K, V, mask=None):\n",
        "        Q = self.split_heads(self.W_q(Q))\n",
        "        K = self.split_heads(self.W_k(K))\n",
        "        V = self.split_heads(self.W_v(V))\n",
        "\n",
        "        attn_output = self.scaled_dot_product_attention(Q, K, V, mask)\n",
        "        output = self.W_o(self.combine_heads(attn_output))\n",
        "        return output\n",
        "\n",
        "class PositionWiseFeedForward(nn.Module):\n",
        "    def __init__(self, d_model, d_ff):\n",
        "        super().__init__()\n",
        "        self.fc1 = nn.Linear(d_model, d_ff)\n",
        "        self.fc2 = nn.Linear(d_ff, d_model)\n",
        "        self.relu = nn.ReLU()\n",
        "\n",
        "    def forward(self, x):\n",
        "        return self.fc2(self.relu(self.fc1(x)))\n",
        "\n",
        "class PositionalEncoding(nn.Module):\n",
        "    def __init__(self, d_model, max_seq_length):\n",
        "        super().__init__()\n",
        "        pe = torch.zeros(max_seq_length, d_model)\n",
        "        position = torch.arange(0, max_seq_length, dtype=torch.float).unsqueeze(1)\n",
        "        div_term = torch.exp(torch.arange(0, d_model, 2).float() * (-math.log(10000.0) / d_model))\n",
        "\n",
        "        pe[:, 0::2] = torch.sin(position * div_term)\n",
        "        pe[:, 1::2] = torch.cos(position * div_term)\n",
        "        self.register_buffer('pe', pe.unsqueeze(0))\n",
        "\n",
        "    def forward(self, x):\n",
        "        return x + self.pe[:, :x.size(1)]\n",
        "\n",
        "class EncoderLayer(nn.Module):\n",
        "    def __init__(self, d_model, num_heads, d_ff, dropout):\n",
        "        super().__init__()\n",
        "        self.self_attn = MultiHeadAttention(d_model, num_heads)\n",
        "        self.feed_forward = PositionWiseFeedForward(d_model, d_ff)\n",
        "        self.norm1 = nn.LayerNorm(d_model)\n",
        "        self.norm2 = nn.LayerNorm(d_model)\n",
        "        self.dropout = nn.Dropout(dropout)\n",
        "\n",
        "    def forward(self, x, mask):\n",
        "        attn_output = self.self_attn(x, x, x, mask)\n",
        "        x = self.norm1(x + self.dropout(attn_output))\n",
        "        ff_output = self.feed_forward(x)\n",
        "        x = self.norm2(x + self.dropout(ff_output))\n",
        "        return x\n",
        "\n",
        "class DecoderLayer(nn.Module):\n",
        "    def __init__(self, d_model, num_heads, d_ff, dropout):\n",
        "        super().__init__()\n",
        "        self.self_attn = MultiHeadAttention(d_model, num_heads)\n",
        "        self.cross_attn = MultiHeadAttention(d_model, num_heads)\n",
        "        self.feed_forward = PositionWiseFeedForward(d_model, d_ff)\n",
        "        self.norm1 = nn.LayerNorm(d_model)\n",
        "        self.norm2 = nn.LayerNorm(d_model)\n",
        "        self.norm3 = nn.LayerNorm(d_model)\n",
        "        self.dropout = nn.Dropout(dropout)\n",
        "\n",
        "    def forward(self, x, enc_output, src_mask, tgt_mask):\n",
        "        attn_output = self.self_attn(x, x, x, tgt_mask)\n",
        "        x = self.norm1(x + self.dropout(attn_output))\n",
        "        attn_output = self.cross_attn(x, enc_output, enc_output, src_mask)\n",
        "        x = self.norm2(x + self.dropout(attn_output))\n",
        "        ff_output = self.feed_forward(x)\n",
        "        x = self.norm3(x + self.dropout(ff_output))\n",
        "        return x\n",
        "\n",
        "class Transformer(nn.Module):\n",
        "    def __init__(self, src_vocab_size, tgt_vocab_size, d_model, num_heads, num_layers, d_ff, max_seq_length, dropout):\n",
        "        super().__init__()\n",
        "        self.encoder_embedding = nn.Embedding(src_vocab_size, d_model)\n",
        "        self.decoder_embedding = nn.Embedding(tgt_vocab_size, d_model)\n",
        "        self.positional_encoding = PositionalEncoding(d_model, max_seq_length)\n",
        "\n",
        "        self.encoder_layers = nn.ModuleList([EncoderLayer(d_model, num_heads, d_ff, dropout) for _ in range(num_layers)])\n",
        "        self.decoder_layers = nn.ModuleList([DecoderLayer(d_model, num_heads, d_ff, dropout) for _ in range(num_layers)])\n",
        "\n",
        "        self.fc = nn.Linear(d_model, tgt_vocab_size)\n",
        "        self.dropout = nn.Dropout(dropout)\n",
        "\n",
        "    def generate_mask(self, src, tgt):\n",
        "        src_mask = (src != 0).unsqueeze(1).unsqueeze(2)\n",
        "        tgt_pad_mask = (tgt != 0).unsqueeze(1).unsqueeze(2)\n",
        "        tgt_len = tgt.size(1)\n",
        "        tgt_sub_mask = torch.tril(torch.ones((tgt_len, tgt_len), device=device)).bool()\n",
        "        tgt_mask = tgt_pad_mask & tgt_sub_mask\n",
        "        return src_mask, tgt_mask\n",
        "\n",
        "    def forward(self, src, tgt):\n",
        "        src_mask, tgt_mask = self.generate_mask(src, tgt)\n",
        "        src_embedded = self.dropout(self.positional_encoding(self.encoder_embedding(src)))\n",
        "        tgt_embedded = self.dropout(self.positional_encoding(self.decoder_embedding(tgt)))\n",
        "\n",
        "        enc_output = src_embedded\n",
        "        for enc_layer in self.encoder_layers:\n",
        "            enc_output = enc_layer(enc_output, src_mask)\n",
        "\n",
        "        dec_output = tgt_embedded\n",
        "        for dec_layer in self.decoder_layers:\n",
        "            dec_output = dec_layer(dec_output, enc_output, src_mask, tgt_mask)\n",
        "\n",
        "        output = self.fc(dec_output)\n",
        "        return output\n",
        "\n",
        "# Training and Evaluation Functions\n",
        "def train_epoch(model, train_loader, optimizer, criterion, device):\n",
        "    model.train()\n",
        "    total_loss = 0\n",
        "    for src, tgt in tqdm(train_loader, desc=\"Training\"):\n",
        "        src, tgt = src.to(device), tgt.to(device)\n",
        "        optimizer.zero_grad()\n",
        "        output = model(src, tgt[:, :-1])\n",
        "        loss = criterion(output.contiguous().view(-1, output.size(-1)),\n",
        "                        tgt[:, 1:].contiguous().view(-1))\n",
        "        loss.backward()\n",
        "        torch.nn.utils.clip_grad_norm_(model.parameters(), max_norm=1.0)\n",
        "        optimizer.step()\n",
        "        total_loss += loss.item()\n",
        "    return total_loss / len(train_loader)\n",
        "\n",
        "def evaluate(model, val_loader, criterion, device):\n",
        "    model.eval()\n",
        "    total_loss = 0\n",
        "    with torch.no_grad():\n",
        "        for src, tgt in tqdm(val_loader, desc=\"Evaluating\"):\n",
        "            src, tgt = src.to(device), tgt.to(device)\n",
        "            output = model(src, tgt[:, :-1])\n",
        "            loss = criterion(output.contiguous().view(-1, output.size(-1)),\n",
        "                            tgt[:, 1:].contiguous().view(-1))\n",
        "            total_loss += loss.item()\n",
        "    return total_loss / len(val_loader)\n",
        "\n",
        "def calculate_accuracy(model, data_loader, vocab, device):\n",
        "    model.eval()\n",
        "    correct = 0\n",
        "    total = 0\n",
        "    with torch.no_grad():\n",
        "        for src, tgt in data_loader:\n",
        "            src, tgt = src.to(device), tgt.to(device)\n",
        "            output = model(src, tgt[:, :-1])\n",
        "            predictions = output.argmax(dim=-1)\n",
        "            correct += ((predictions == tgt[:, 1:]) & (tgt[:, 1:] != vocab.pad_token)).sum().item()\n",
        "            total += (tgt[:, 1:] != vocab.pad_token).sum().item()\n",
        "    return correct / total if total > 0 else 0\n",
        "\n",
        "def train_model(model, train_loader, val_loader, optimizer, criterion, scheduler, device, epochs, patience=3):\n",
        "    best_val_loss = float('inf')\n",
        "    epochs_no_improve = 0\n",
        "\n",
        "    for epoch in range(epochs):\n",
        "        train_loss = train_epoch(model, train_loader, optimizer, criterion, device)\n",
        "        val_loss = evaluate(model, val_loader, criterion, device)\n",
        "        scheduler.step(val_loss)\n",
        "\n",
        "        print(f\"Epoch {epoch+1}/{epochs}:\")\n",
        "        print(f\"Train Loss: {train_loss:.4f} | Val Loss: {val_loss:.4f}\")\n",
        "\n",
        "\n",
        "\n",
        "\n",
        "        if val_loss < best_val_loss:\n",
        "            best_val_loss = val_loss\n",
        "            epochs_no_improve = 0\n",
        "        else:\n",
        "            epochs_no_improve += 1\n",
        "            if epochs_no_improve == patience:\n",
        "                print(\"Early stopping triggered!\")\n",
        "                break\n",
        "    return best_val_loss  # Return the best validation loss from this training run\n",
        "\n",
        "# Global variables to track best model across all trials\n",
        "best_overall_model = None\n",
        "best_overall_loss = float('inf')\n",
        "best_config = None\n",
        "\n",
        "# Hyperparameter Optimization with Optuna\n",
        "def objective(trial):\n",
        "    global best_overall_model, best_overall_loss, best_config\n",
        "\n",
        "    config = {\n",
        "        \"d_model\": trial.suggest_categorical(\"d_model\", [128, 256, 512]),\n",
        "        \"num_heads\": trial.suggest_categorical(\"num_heads\", [2, 4, 8, 16]),\n",
        "        \"num_layers\": trial.suggest_categorical(\"num_layers\", [6, 8, 10, 12]),\n",
        "        \"d_ff\": trial.suggest_categorical(\"d_ff\", [256, 512, 1024]),\n",
        "        \"dropout\": trial.suggest_float(\"dropout\", 0.1, 0.4),\n",
        "        \"learning_rate\": trial.suggest_float(\"learning_rate\", 1e-4, 1e-2, log=True),\n",
        "        \"batch_size\": trial.suggest_categorical(\"batch_size\", [128]),\n",
        "    }\n",
        "\n",
        "    # Create data loaders with current batch size\n",
        "    train_loader = data.DataLoader(train_dataset, batch_size=config[\"batch_size\"], shuffle=True)\n",
        "    val_loader = data.DataLoader(val_dataset, batch_size=config[\"batch_size\"])\n",
        "\n",
        "    # Initialize model\n",
        "    model = Transformer(\n",
        "        src_vocab_size=len(vocab),\n",
        "        tgt_vocab_size=len(vocab),\n",
        "        d_model=config[\"d_model\"],\n",
        "        num_heads=config[\"num_heads\"],\n",
        "        num_layers=config[\"num_layers\"],\n",
        "        d_ff=config[\"d_ff\"],\n",
        "        max_seq_length=max_length,\n",
        "        dropout=config[\"dropout\"]\n",
        "    ).to(device)\n",
        "\n",
        "    optimizer = optim.Adam(model.parameters(), lr=config[\"learning_rate\"])\n",
        "    criterion = nn.CrossEntropyLoss(ignore_index=vocab.pad_token)\n",
        "    scheduler = optim.lr_scheduler.ReduceLROnPlateau(optimizer, patience=2)\n",
        "\n",
        "    # Train and get best validation loss for this configuration\n",
        "    current_val_loss = train_model(model, train_loader, val_loader, optimizer, criterion, scheduler, device, epochs=10)\n",
        "\n",
        "    # Update overall best model if this one is better\n",
        "    if current_val_loss < best_overall_loss:\n",
        "        best_overall_loss = current_val_loss\n",
        "        best_overall_model = copy.deepcopy(model.state_dict())\n",
        "        best_config = config\n",
        "        torch.save(best_overall_model, '/content/drive/MyDrive/best_vig_key_1.pth')\n",
        "        print(f\"New best model found! Val Loss: {current_val_loss:.4f}\")\n",
        "        print(f\"Config: {config}\")\n",
        "\n",
        "    return current_val_loss\n",
        "\n",
        "# Decryption Function\n",
        "def decrypt_text(model, text, vocab, max_length, device):\n",
        "    model.eval()\n",
        "    with torch.no_grad():\n",
        "        encoded = [vocab.sos_token] + vocab.encode(str(text)) + [vocab.eos_token]\n",
        "        encoded = encoded + [vocab.pad_token] * (max_length - len(encoded))\n",
        "        encoded = torch.tensor(encoded[:max_length]).unsqueeze(0).to(device)\n",
        "\n",
        "        target = torch.tensor([[vocab.sos_token]]).to(device)\n",
        "\n",
        "        for _ in range(max_length - 1):\n",
        "            output = model(encoded, target)\n",
        "            next_token = output.argmax(2)[:, -1].item()\n",
        "            if next_token == vocab.eos_token:\n",
        "                break\n",
        "            target = torch.cat([target, torch.tensor([[next_token]]).to(device)], dim=1)\n",
        "\n",
        "        decrypted = vocab.decode(target[0].cpu().numpy())\n",
        "        return decrypted\n",
        "\n",
        "# Main Execution\n",
        "if __name__ == \"__main__\":\n",
        "    # Load and prepare data\n",
        "    inputs, outputs = load_data('/content/Full_training_vigenere_one.xlsx')\n",
        "    vocab = Vocabulary()\n",
        "    max_length = 256  # Adjusted for longer sentences\n",
        "\n",
        "    # Split data\n",
        "    train_inputs, val_inputs, train_outputs, val_outputs = train_test_split(\n",
        "        inputs, outputs, test_size=0.2, random_state=42\n",
        "    )\n",
        "\n",
        "    # Create datasets\n",
        "    train_dataset = CipherDataset(train_inputs, train_outputs, vocab, max_length)\n",
        "    val_dataset = CipherDataset(val_inputs, val_outputs, vocab, max_length)\n",
        "\n",
        "    # Run hyperparameter optimization\n",
        "    study = optuna.create_study(direction=\"minimize\")\n",
        "    study.optimize(objective, n_trials=100)  # 20 trials or 1 hour\n",
        "\n",
        "    print(\"\\nBest trial:\")\n",
        "    trial = study.best_trial\n",
        "    print(f\"  Validation Loss: {trial.value:.4f}\")\n",
        "    print(\"  Params: \")\n",
        "    for key, value in trial.params.items():\n",
        "        print(f\"    {key}: {value}\")\n",
        "\n",
        "    # Load the best model found during the search\n",
        "    final_model = Transformer(\n",
        "        src_vocab_size=len(vocab),\n",
        "        tgt_vocab_size=len(vocab),\n",
        "        d_model=best_config[\"d_model\"],\n",
        "        num_heads=best_config[\"num_heads\"],\n",
        "        num_layers=best_config[\"num_layers\"],\n",
        "        d_ff=best_config[\"d_ff\"],\n",
        "        max_seq_length=max_length,\n",
        "        dropout=best_config[\"dropout\"]\n",
        "    ).to(device)\n",
        "    final_model.load_state_dict(torch.load('/content/drive/MyDrive/best_vig_key_1.pth'))\n",
        "\n",
        "    # Evaluate on full datasets\n",
        "    full_train_loader = data.DataLoader(train_dataset, batch_size=best_config[\"batch_size\"], shuffle=False)\n",
        "    full_val_loader = data.DataLoader(val_dataset, batch_size=best_config[\"batch_size\"], shuffle=False)\n",
        "\n",
        "    criterion = nn.CrossEntropyLoss(ignore_index=vocab.pad_token)\n",
        "\n",
        "    train_loss = evaluate(final_model, full_train_loader, criterion, device)\n",
        "    val_loss = evaluate(final_model, full_val_loader, criterion, device)\n",
        "\n",
        "    train_acc = calculate_accuracy(final_model, full_train_loader, vocab, device)\n",
        "    val_acc = calculate_accuracy(final_model, full_val_loader, vocab, device)\n",
        "\n",
        "    print(\"\\nFinal Evaluation:\")\n",
        "    print(f\"Train Loss: {train_loss:.4f} | Val Loss: {val_loss:.4f}\")\n",
        "    print(f\"Train Accuracy: {train_acc:.4f} | Val Accuracy: {val_acc:.4f}\")\n",
        "\n",
        "    # Test decryption\n",
        "    test_cases = [\n",
        "        (\"Please decrypt the following using Caesar cipher: gfbs\", \"fear\"),\n",
        "        (\"Please decrypt the following using Caesar cipher: dpnqvufs\", \"computer\"),\n",
        "        (\"Please decrypt the following using Caesar cipher:xibu\", \"what\")\n",
        "    ]\n",
        "\n",
        "    print(\"\\nTest Decryptions:\")\n",
        "    for encrypted, expected in test_cases:\n",
        "        decrypted = decrypt_text(final_model, encrypted, vocab, max_length, device)\n",
        "        print(f\"Input: '{encrypted}' | Output: '{decrypted}' | Expected: '{expected}' | {'✓' if decrypted == expected else '✗'}\")"
      ]
    }
  ]
}